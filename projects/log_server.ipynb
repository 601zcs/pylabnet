{
 "cells": [
  {
   "cell_type": "code",
   "execution_count": 1,
   "metadata": {},
   "outputs": [],
   "source": [
    "from pylabnet.utils.logging.logger import LogService\n",
    "from pylabnet.network.core.generic_server import GenericServer\n",
    "import os\n",
    "import sys"
   ]
  },
  {
   "cell_type": "markdown",
   "metadata": {},
   "source": [
    "# Start Logging Server"
   ]
  },
  {
   "cell_type": "code",
   "execution_count": 2,
   "metadata": {},
   "outputs": [],
   "source": [
    "log_service_name = 'Logger'\n",
    "log_folder = 'logs'\n",
    "\n",
    "dir_path = os.path.join(os.path.abspath(''), log_folder)\n",
    "\n",
    "log_service = LogService(\n",
    "    log_output=False,\n",
    "    name=log_service_name,\n",
    "    dir_path=dir_path,\n",
    ")"
   ]
  },
  {
   "cell_type": "code",
   "execution_count": 3,
   "metadata": {},
   "outputs": [],
   "source": [
    "log_server = GenericServer(\n",
    "    service=log_service, \n",
    "    host='localhost', \n",
    "    port=12351\n",
    ")"
   ]
  },
  {
   "cell_type": "code",
   "execution_count": 4,
   "metadata": {},
   "outputs": [],
   "source": [
    "log_server.start()"
   ]
  },
  {
   "cell_type": "code",
   "execution_count": 5,
   "metadata": {},
   "outputs": [
    {
     "data": {
      "text/plain": [
       "True"
      ]
     },
     "execution_count": 5,
     "metadata": {},
     "output_type": "execute_result"
    }
   ],
   "source": [
    "log_server._server.active"
   ]
  },
  {
   "cell_type": "markdown",
   "metadata": {},
   "source": [
    "# Monitor Clients and Logging Output"
   ]
  },
  {
   "cell_type": "code",
   "execution_count": 6,
   "metadata": {},
   "outputs": [
    {
     "data": {
      "text/plain": [
       "set()"
      ]
     },
     "execution_count": 6,
     "metadata": {},
     "output_type": "execute_result"
    }
   ],
   "source": [
    "log_server._server.clients"
   ]
  },
  {
   "cell_type": "code",
   "execution_count": 7,
   "metadata": {
    "scrolled": true
   },
   "outputs": [
    {
     "name": "stdout",
     "output_type": "stream",
     "text": [
      "Log messages will be displayed below\n",
      "2020-08-07 12:28:44,825 - INFO - Client connected\n",
      "2020-08-07 12:28:44,834 - INFO -  Spectrum Analyser: Started logging\n",
      "2020-08-07 12:28:45,734 - INFO -  Spectrum Analyser: Successfully connected to Hewlett-Packard, E4405B, MY44220484, A.14.01\n",
      ".\n",
      "2020-08-07 12:28:45,737 - INFO -  Spectrum Analyser: Reset to factory settings successfull.\n",
      "2020-08-07 12:29:32,064 - INFO -  Spectrum Analyser: Client connected\n",
      "2020-08-07 12:29:32,175 - INFO -  Spectrum Analyser: Display off.\n",
      "2020-08-07 12:29:32,299 - INFO -  Spectrum Analyser: Display on.\n",
      "2020-08-07 12:29:32,456 - WARNING -  Spectrum Analyser: No background acquired. Run acquire_background_spectrum() to acquire background.\n",
      "2020-08-07 12:29:32,610 - INFO -  Spectrum Analyser: Center frequency set to 12000000000.0 Hz\n",
      "2020-08-07 12:29:32,621 - INFO -  Spectrum Analyser: Frequency span set 1000000000.0 Hz\n",
      "2020-08-07 12:30:48,325 - INFO - Client connected\n",
      "2020-08-07 12:30:48,336 - INFO -  ZI HDAWG dev8227: Started logging\n",
      "2020-08-07 12:30:51,583 - INFO -  ZI HDAWG dev8227: Discovered device `dev8227`: HDAWG8 with options CNT, ME.\n",
      "2020-08-07 12:30:51,597 - INFO -  ZI HDAWG dev8227: Creating an API session for device `dev8227` on `127.0.0.1`, `8004` with apilevel `6`.\n",
      "2020-08-07 12:30:51,601 - INFO -  ZI HDAWG dev8227: Will try to connect device `DEV8227` on interface 1GbE.\n",
      "2020-08-07 12:30:52,448 - INFO -  ZI HDAWG dev8227: Disabled everything.\n",
      "2020-08-07 12:30:52,461 - INFO -  ZI HDAWG dev8227: Set all DIO outputs to low.\n",
      "2020-08-07 12:30:54,488 - INFO -  Spectrum Analyser: Client connected\n",
      "2020-08-07 12:30:55,098 - INFO -  ZI HDAWG dev8227: Enabled wave output 0.\n",
      "2020-08-07 12:30:55,106 - INFO -  ZI HDAWG dev8227: Enabled wave output 1.\n"
     ]
    }
   ],
   "source": [
    "print (\"Log messages will be displayed below\")"
   ]
  },
  {
   "cell_type": "code",
   "execution_count": null,
   "metadata": {},
   "outputs": [],
   "source": []
  }
 ],
 "metadata": {
  "kernelspec": {
   "display_name": "Python 3",
   "language": "python",
   "name": "python3"
  },
  "language_info": {
   "codemirror_mode": {
    "name": "ipython",
    "version": 3
   },
   "file_extension": ".py",
   "mimetype": "text/x-python",
   "name": "python",
   "nbconvert_exporter": "python",
   "pygments_lexer": "ipython3",
   "version": "3.7.8"
  }
 },
 "nbformat": 4,
 "nbformat_minor": 2
}
