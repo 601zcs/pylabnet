{
 "cells": [
  {
   "cell_type": "code",
   "execution_count": 1,
   "metadata": {},
   "outputs": [],
   "source": [
    "import pylabnet.hardware.ZI_HDAWG.zi_hdawg as zi_hdawg\n",
    "from pylabnet.utils.logging.logger import LogClient\n",
    "\n",
    "%matplotlib inline\n",
    "\n",
    "import matplotlib\n",
    "import numpy as np\n",
    "import matplotlib.pyplot as plt\n",
    "import time\n",
    "\n",
    "from IPython.display import clear_output, display\n",
    "\n",
    "import pyvisa\n",
    "from pylabnet.utils.logging.logger import LogClient\n",
    "from pylabnet.network.client_server.agilent_e4405B import Client\n",
    "import pylabnet.hardware.spectrum_analyzer.agilent_e4405B as sa_hardware\n",
    "\n",
    "\n",
    "import itertools as it\n",
    "import pandas as pd\n",
    "import seaborn as sns\n",
    "\n",
    "from pylabnet.utils.logging.logger import LogService\n",
    "from pylabnet.network.core.generic_server import GenericServer\n",
    "import os\n",
    "import sys"
   ]
  },
  {
   "cell_type": "markdown",
   "metadata": {},
   "source": [
    "# Instantiante HDAWG"
   ]
  },
  {
   "cell_type": "code",
   "execution_count": 2,
   "metadata": {},
   "outputs": [],
   "source": [
    "dev_id = 'dev8227'\n",
    "\n",
    "# Instantiate\n",
    "logger = LogClient(\n",
    "    host='localhost',\n",
    "    port=12351,\n",
    "    module_tag=f'ZI HDAWG {dev_id}'\n",
    ")"
   ]
  },
  {
   "cell_type": "code",
   "execution_count": 3,
   "metadata": {},
   "outputs": [],
   "source": [
    "# Instanciate Hardware class\n",
    "hd = zi_hdawg.Driver(dev_id, logger)\n",
    "\n",
    "# Select channel grouping\n",
    "hd.set_channel_grouping(0)"
   ]
  },
  {
   "cell_type": "markdown",
   "metadata": {},
   "source": [
    "# Connect to Spectrum Analyzer"
   ]
  },
  {
   "cell_type": "code",
   "execution_count": 4,
   "metadata": {},
   "outputs": [
    {
     "data": {
      "text/plain": [
       "(6, <StatusCode.success: 0>)"
      ]
     },
     "execution_count": 4,
     "metadata": {},
     "output_type": "execute_result"
    }
   ],
   "source": [
    "sa = Client(\n",
    "    host='localhost',\n",
    "    port=12356\n",
    ")\n",
    "\n",
    "# Reset spectrum analzyer\n",
    "sa.write('*RST')"
   ]
  },
  {
   "cell_type": "markdown",
   "metadata": {},
   "source": [
    "# Setup I/Q Outputs"
   ]
  },
  {
   "cell_type": "markdown",
   "metadata": {},
   "source": [
    "For reference, we're using the following I/Q mixer https://www.markimicrowave.com/Assets/datasheets/MMIQ-0218H.pdf?v=061820. The local oscillator is set to 12 GHz at a power of 24 dBm. "
   ]
  },
  {
   "cell_type": "code",
   "execution_count": 5,
   "metadata": {},
   "outputs": [],
   "source": [
    "carrier = 12*1e9 # 12 GHz\n",
    "signal_freq = 300*1e6 # 300 MHz\n",
    "phase = 0\n",
    "amplitude_i = 650*1e-3\n",
    "amplitude_q = 650*1e-3"
   ]
  },
  {
   "cell_type": "code",
   "execution_count": 6,
   "metadata": {},
   "outputs": [],
   "source": [
    "# Assign oscillator 1 to sine output 2\n",
    "hd.seti('sines/1/oscselect', 0)\n",
    "\n",
    "# Set carrier frequency\n",
    "hd.setd('oscs/0/freq', signal_freq)\n",
    "\n",
    "# Set I and Q amplitude\n",
    "hd.setd('sines/0/amplitudes/0', amplitude_i)\n",
    "hd.setd('sines/1/amplitudes/1', amplitude_q)\n",
    "\n",
    "# Set phase offset between I and Q\n",
    "hd.setd('sines/0/phaseshift', phase)\n",
    "\n",
    "# Enable sine waves\n",
    "hd.seti('sines/0/enables/0', 1)\n",
    "hd.seti('sines/1/enables/1', 1)"
   ]
  },
  {
   "cell_type": "code",
   "execution_count": 7,
   "metadata": {},
   "outputs": [],
   "source": [
    "# Enable wave output on and 2\n",
    "def enable():\n",
    "    hd.enable_output(0)\n",
    "    hd.enable_output(1)\n",
    "    \n",
    "# disable wave output on and 2\n",
    "def disable():\n",
    "    hd.disable_output(0)\n",
    "    hd.disable_output(1)"
   ]
  },
  {
   "cell_type": "code",
   "execution_count": 8,
   "metadata": {},
   "outputs": [],
   "source": [
    "enable()"
   ]
  },
  {
   "cell_type": "code",
   "execution_count": 9,
   "metadata": {},
   "outputs": [
    {
     "ename": "TypeError",
     "evalue": "'float' object cannot be interpreted as an integer\n\n========= Remote Traceback (1) =========\nTraceback (most recent call last):\n  File \"C:\\Users\\pylabnet\\pylabnet\\env\\lib\\site-packages\\rpyc-4.1.5-py3.7.egg\\rpyc\\core\\protocol.py\", line 320, in _dispatch_request\n    res = self._HANDLERS[handler](self, *args)\n  File \"C:\\Users\\pylabnet\\pylabnet\\env\\lib\\site-packages\\rpyc-4.1.5-py3.7.egg\\rpyc\\core\\protocol.py\", line 593, in _handle_call\n    return obj(*args, **dict(kwargs))\n  File \"c:\\users\\pylabnet\\pylabnet\\pylabnet\\pylabnet\\network\\client_server\\agilent_e4405B.py\", line 31, in exposed_read_trace\n    trace = self._module.read_trace()\n  File \"c:\\users\\pylabnet\\pylabnet\\pylabnet\\pylabnet\\hardware\\spectrum_analyzer\\agilent_e4405B.py\", line 142, in read_trace\n    frequencies = self.get_frequency_array()\n  File \"c:\\users\\pylabnet\\pylabnet\\pylabnet\\pylabnet\\hardware\\spectrum_analyzer\\agilent_e4405B.py\", line 109, in get_frequency_array\n    frequencies = np.linspace(start_freq, end_freq, num_sweep_points)\n  File \"<__array_function__ internals>\", line 6, in linspace\n  File \"C:\\Users\\pylabnet\\pylabnet\\env\\lib\\site-packages\\numpy-1.19.0-py3.7-win-amd64.egg\\numpy\\core\\function_base.py\", line 113, in linspace\n    num = operator.index(num)\nTypeError: 'float' object cannot be interpreted as an integer\n",
     "output_type": "error",
     "traceback": [
      "\u001b[1;31m---------------------------------------------------------------------------\u001b[0m",
      "\u001b[1;31mTypeError\u001b[0m                                 Traceback (most recent call last)",
      "\u001b[1;32m<ipython-input-9-3c1e985c1483>\u001b[0m in \u001b[0;36m<module>\u001b[1;34m\u001b[0m\n\u001b[1;32m----> 1\u001b[1;33m \u001b[0msa\u001b[0m\u001b[1;33m.\u001b[0m\u001b[0mplot_trace\u001b[0m\u001b[1;33m(\u001b[0m\u001b[1;33m)\u001b[0m\u001b[1;33m\u001b[0m\u001b[1;33m\u001b[0m\u001b[0m\n\u001b[0m",
      "\u001b[1;32mc:\\users\\pylabnet\\pylabnet\\pylabnet\\pylabnet\\network\\client_server\\agilent_e4405B.py\u001b[0m in \u001b[0;36mplot_trace\u001b[1;34m(self, trace, background_substract)\u001b[0m\n\u001b[0;32m    108\u001b[0m         \u001b[1;31m# If not trace furnished, acquired trace.\u001b[0m\u001b[1;33m\u001b[0m\u001b[1;33m\u001b[0m\u001b[1;33m\u001b[0m\u001b[0m\n\u001b[0;32m    109\u001b[0m         \u001b[1;32mif\u001b[0m \u001b[0mtrace\u001b[0m \u001b[1;32mis\u001b[0m \u001b[1;32mNone\u001b[0m\u001b[1;33m:\u001b[0m\u001b[1;33m\u001b[0m\u001b[1;33m\u001b[0m\u001b[0m\n\u001b[1;32m--> 110\u001b[1;33m             \u001b[0mtrace\u001b[0m \u001b[1;33m=\u001b[0m \u001b[0mself\u001b[0m\u001b[1;33m.\u001b[0m\u001b[0mread_trace\u001b[0m\u001b[1;33m(\u001b[0m\u001b[1;33m)\u001b[0m\u001b[1;33m\u001b[0m\u001b[1;33m\u001b[0m\u001b[0m\n\u001b[0m\u001b[0;32m    111\u001b[0m \u001b[1;33m\u001b[0m\u001b[0m\n\u001b[0;32m    112\u001b[0m         \u001b[1;31m# Substract background\u001b[0m\u001b[1;33m\u001b[0m\u001b[1;33m\u001b[0m\u001b[1;33m\u001b[0m\u001b[0m\n",
      "\u001b[1;32mc:\\users\\pylabnet\\pylabnet\\pylabnet\\pylabnet\\network\\client_server\\agilent_e4405B.py\u001b[0m in \u001b[0;36mread_trace\u001b[1;34m(self)\u001b[0m\n\u001b[0;32m     68\u001b[0m \u001b[1;33m\u001b[0m\u001b[0m\n\u001b[0;32m     69\u001b[0m     \u001b[1;32mdef\u001b[0m \u001b[0mread_trace\u001b[0m\u001b[1;33m(\u001b[0m\u001b[0mself\u001b[0m\u001b[1;33m)\u001b[0m\u001b[1;33m:\u001b[0m\u001b[1;33m\u001b[0m\u001b[1;33m\u001b[0m\u001b[0m\n\u001b[1;32m---> 70\u001b[1;33m         \u001b[0mpickled_trace\u001b[0m \u001b[1;33m=\u001b[0m \u001b[0mself\u001b[0m\u001b[1;33m.\u001b[0m\u001b[0m_service\u001b[0m\u001b[1;33m.\u001b[0m\u001b[0mexposed_read_trace\u001b[0m\u001b[1;33m(\u001b[0m\u001b[1;33m)\u001b[0m\u001b[1;33m\u001b[0m\u001b[1;33m\u001b[0m\u001b[0m\n\u001b[0m\u001b[0;32m     71\u001b[0m         \u001b[1;32mreturn\u001b[0m \u001b[0mpickle\u001b[0m\u001b[1;33m.\u001b[0m\u001b[0mloads\u001b[0m\u001b[1;33m(\u001b[0m\u001b[0mpickled_trace\u001b[0m\u001b[1;33m)\u001b[0m\u001b[1;33m\u001b[0m\u001b[1;33m\u001b[0m\u001b[0m\n\u001b[0;32m     72\u001b[0m \u001b[1;33m\u001b[0m\u001b[0m\n",
      "\u001b[1;32m~\\pylabnet\\env\\lib\\site-packages\\rpyc-4.1.5-py3.7.egg\\rpyc\\core\\netref.py\u001b[0m in \u001b[0;36m__call__\u001b[1;34m(_self, *args, **kwargs)\u001b[0m\n\u001b[0;32m    251\u001b[0m         \u001b[1;32mdef\u001b[0m \u001b[0m__call__\u001b[0m\u001b[1;33m(\u001b[0m\u001b[0m_self\u001b[0m\u001b[1;33m,\u001b[0m \u001b[1;33m*\u001b[0m\u001b[0margs\u001b[0m\u001b[1;33m,\u001b[0m \u001b[1;33m**\u001b[0m\u001b[0mkwargs\u001b[0m\u001b[1;33m)\u001b[0m\u001b[1;33m:\u001b[0m\u001b[1;33m\u001b[0m\u001b[1;33m\u001b[0m\u001b[0m\n\u001b[0;32m    252\u001b[0m             \u001b[0mkwargs\u001b[0m \u001b[1;33m=\u001b[0m \u001b[0mtuple\u001b[0m\u001b[1;33m(\u001b[0m\u001b[0mkwargs\u001b[0m\u001b[1;33m.\u001b[0m\u001b[0mitems\u001b[0m\u001b[1;33m(\u001b[0m\u001b[1;33m)\u001b[0m\u001b[1;33m)\u001b[0m\u001b[1;33m\u001b[0m\u001b[1;33m\u001b[0m\u001b[0m\n\u001b[1;32m--> 253\u001b[1;33m             \u001b[1;32mreturn\u001b[0m \u001b[0msyncreq\u001b[0m\u001b[1;33m(\u001b[0m\u001b[0m_self\u001b[0m\u001b[1;33m,\u001b[0m \u001b[0mconsts\u001b[0m\u001b[1;33m.\u001b[0m\u001b[0mHANDLE_CALL\u001b[0m\u001b[1;33m,\u001b[0m \u001b[0margs\u001b[0m\u001b[1;33m,\u001b[0m \u001b[0mkwargs\u001b[0m\u001b[1;33m)\u001b[0m\u001b[1;33m\u001b[0m\u001b[1;33m\u001b[0m\u001b[0m\n\u001b[0m\u001b[0;32m    254\u001b[0m         \u001b[0m__call__\u001b[0m\u001b[1;33m.\u001b[0m\u001b[0m__doc__\u001b[0m \u001b[1;33m=\u001b[0m \u001b[0mdoc\u001b[0m\u001b[1;33m\u001b[0m\u001b[1;33m\u001b[0m\u001b[0m\n\u001b[0;32m    255\u001b[0m         \u001b[1;32mreturn\u001b[0m \u001b[0m__call__\u001b[0m\u001b[1;33m\u001b[0m\u001b[1;33m\u001b[0m\u001b[0m\n",
      "\u001b[1;32m~\\pylabnet\\env\\lib\\site-packages\\rpyc-4.1.5-py3.7.egg\\rpyc\\core\\netref.py\u001b[0m in \u001b[0;36msyncreq\u001b[1;34m(proxy, handler, *args)\u001b[0m\n\u001b[0;32m     74\u001b[0m     \"\"\"\n\u001b[0;32m     75\u001b[0m     \u001b[0mconn\u001b[0m \u001b[1;33m=\u001b[0m \u001b[0mobject\u001b[0m\u001b[1;33m.\u001b[0m\u001b[0m__getattribute__\u001b[0m\u001b[1;33m(\u001b[0m\u001b[0mproxy\u001b[0m\u001b[1;33m,\u001b[0m \u001b[1;34m\"____conn__\"\u001b[0m\u001b[1;33m)\u001b[0m\u001b[1;33m\u001b[0m\u001b[1;33m\u001b[0m\u001b[0m\n\u001b[1;32m---> 76\u001b[1;33m     \u001b[1;32mreturn\u001b[0m \u001b[0mconn\u001b[0m\u001b[1;33m.\u001b[0m\u001b[0msync_request\u001b[0m\u001b[1;33m(\u001b[0m\u001b[0mhandler\u001b[0m\u001b[1;33m,\u001b[0m \u001b[0mproxy\u001b[0m\u001b[1;33m,\u001b[0m \u001b[1;33m*\u001b[0m\u001b[0margs\u001b[0m\u001b[1;33m)\u001b[0m\u001b[1;33m\u001b[0m\u001b[1;33m\u001b[0m\u001b[0m\n\u001b[0m\u001b[0;32m     77\u001b[0m \u001b[1;33m\u001b[0m\u001b[0m\n\u001b[0;32m     78\u001b[0m \u001b[1;33m\u001b[0m\u001b[0m\n",
      "\u001b[1;32m~\\pylabnet\\env\\lib\\site-packages\\rpyc-4.1.5-py3.7.egg\\rpyc\\core\\protocol.py\u001b[0m in \u001b[0;36msync_request\u001b[1;34m(self, handler, *args)\u001b[0m\n\u001b[0;32m    467\u001b[0m         \"\"\"\n\u001b[0;32m    468\u001b[0m         \u001b[0mtimeout\u001b[0m \u001b[1;33m=\u001b[0m \u001b[0mself\u001b[0m\u001b[1;33m.\u001b[0m\u001b[0m_config\u001b[0m\u001b[1;33m[\u001b[0m\u001b[1;34m\"sync_request_timeout\"\u001b[0m\u001b[1;33m]\u001b[0m\u001b[1;33m\u001b[0m\u001b[1;33m\u001b[0m\u001b[0m\n\u001b[1;32m--> 469\u001b[1;33m         \u001b[1;32mreturn\u001b[0m \u001b[0mself\u001b[0m\u001b[1;33m.\u001b[0m\u001b[0masync_request\u001b[0m\u001b[1;33m(\u001b[0m\u001b[0mhandler\u001b[0m\u001b[1;33m,\u001b[0m \u001b[1;33m*\u001b[0m\u001b[0margs\u001b[0m\u001b[1;33m,\u001b[0m \u001b[0mtimeout\u001b[0m\u001b[1;33m=\u001b[0m\u001b[0mtimeout\u001b[0m\u001b[1;33m)\u001b[0m\u001b[1;33m.\u001b[0m\u001b[0mvalue\u001b[0m\u001b[1;33m\u001b[0m\u001b[1;33m\u001b[0m\u001b[0m\n\u001b[0m\u001b[0;32m    470\u001b[0m \u001b[1;33m\u001b[0m\u001b[0m\n\u001b[0;32m    471\u001b[0m     \u001b[1;32mdef\u001b[0m \u001b[0m_async_request\u001b[0m\u001b[1;33m(\u001b[0m\u001b[0mself\u001b[0m\u001b[1;33m,\u001b[0m \u001b[0mhandler\u001b[0m\u001b[1;33m,\u001b[0m \u001b[0margs\u001b[0m\u001b[1;33m=\u001b[0m\u001b[1;33m(\u001b[0m\u001b[1;33m)\u001b[0m\u001b[1;33m,\u001b[0m \u001b[0mcallback\u001b[0m\u001b[1;33m=\u001b[0m\u001b[1;33m(\u001b[0m\u001b[1;32mlambda\u001b[0m \u001b[0ma\u001b[0m\u001b[1;33m,\u001b[0m \u001b[0mb\u001b[0m\u001b[1;33m:\u001b[0m \u001b[1;32mNone\u001b[0m\u001b[1;33m)\u001b[0m\u001b[1;33m)\u001b[0m\u001b[1;33m:\u001b[0m  \u001b[1;31m# serving\u001b[0m\u001b[1;33m\u001b[0m\u001b[1;33m\u001b[0m\u001b[0m\n",
      "\u001b[1;32m~\\pylabnet\\env\\lib\\site-packages\\rpyc-4.1.5-py3.7.egg\\rpyc\\core\\async_.py\u001b[0m in \u001b[0;36mvalue\u001b[1;34m(self)\u001b[0m\n\u001b[0;32m    100\u001b[0m         \u001b[0mself\u001b[0m\u001b[1;33m.\u001b[0m\u001b[0mwait\u001b[0m\u001b[1;33m(\u001b[0m\u001b[1;33m)\u001b[0m\u001b[1;33m\u001b[0m\u001b[1;33m\u001b[0m\u001b[0m\n\u001b[0;32m    101\u001b[0m         \u001b[1;32mif\u001b[0m \u001b[0mself\u001b[0m\u001b[1;33m.\u001b[0m\u001b[0m_is_exc\u001b[0m\u001b[1;33m:\u001b[0m\u001b[1;33m\u001b[0m\u001b[1;33m\u001b[0m\u001b[0m\n\u001b[1;32m--> 102\u001b[1;33m             \u001b[1;32mraise\u001b[0m \u001b[0mself\u001b[0m\u001b[1;33m.\u001b[0m\u001b[0m_obj\u001b[0m\u001b[1;33m\u001b[0m\u001b[1;33m\u001b[0m\u001b[0m\n\u001b[0m\u001b[0;32m    103\u001b[0m         \u001b[1;32melse\u001b[0m\u001b[1;33m:\u001b[0m\u001b[1;33m\u001b[0m\u001b[1;33m\u001b[0m\u001b[0m\n\u001b[0;32m    104\u001b[0m             \u001b[1;32mreturn\u001b[0m \u001b[0mself\u001b[0m\u001b[1;33m.\u001b[0m\u001b[0m_obj\u001b[0m\u001b[1;33m\u001b[0m\u001b[1;33m\u001b[0m\u001b[0m\n",
      "\u001b[1;31mTypeError\u001b[0m: 'float' object cannot be interpreted as an integer\n\n========= Remote Traceback (1) =========\nTraceback (most recent call last):\n  File \"C:\\Users\\pylabnet\\pylabnet\\env\\lib\\site-packages\\rpyc-4.1.5-py3.7.egg\\rpyc\\core\\protocol.py\", line 320, in _dispatch_request\n    res = self._HANDLERS[handler](self, *args)\n  File \"C:\\Users\\pylabnet\\pylabnet\\env\\lib\\site-packages\\rpyc-4.1.5-py3.7.egg\\rpyc\\core\\protocol.py\", line 593, in _handle_call\n    return obj(*args, **dict(kwargs))\n  File \"c:\\users\\pylabnet\\pylabnet\\pylabnet\\pylabnet\\network\\client_server\\agilent_e4405B.py\", line 31, in exposed_read_trace\n    trace = self._module.read_trace()\n  File \"c:\\users\\pylabnet\\pylabnet\\pylabnet\\pylabnet\\hardware\\spectrum_analyzer\\agilent_e4405B.py\", line 142, in read_trace\n    frequencies = self.get_frequency_array()\n  File \"c:\\users\\pylabnet\\pylabnet\\pylabnet\\pylabnet\\hardware\\spectrum_analyzer\\agilent_e4405B.py\", line 109, in get_frequency_array\n    frequencies = np.linspace(start_freq, end_freq, num_sweep_points)\n  File \"<__array_function__ internals>\", line 6, in linspace\n  File \"C:\\Users\\pylabnet\\pylabnet\\env\\lib\\site-packages\\numpy-1.19.0-py3.7-win-amd64.egg\\numpy\\core\\function_base.py\", line 113, in linspace\n    num = operator.index(num)\nTypeError: 'float' object cannot be interpreted as an integer\n"
     ]
    }
   ],
   "source": [
    "sa.plot_trace()"
   ]
  },
  {
   "cell_type": "code",
   "execution_count": null,
   "metadata": {},
   "outputs": [],
   "source": [
    "# Center frequency at carrier frequency\n",
    "sa.set_center_frequency(carrier)\n",
    "sa.set_frequency_span(6*signal_freq)"
   ]
  },
  {
   "cell_type": "code",
   "execution_count": null,
   "metadata": {},
   "outputs": [],
   "source": [
    "sa.plot_trace()"
   ]
  },
  {
   "cell_type": "markdown",
   "metadata": {},
   "source": [
    "# Set markers"
   ]
  },
  {
   "cell_type": "code",
   "execution_count": null,
   "metadata": {},
   "outputs": [],
   "source": [
    "# Marker for upper sideband.\n",
    "upp_sb_marker = sa_hardware.E4405BMarker(sa,'Upper Sideband',1)\n",
    "lower_sb_marker = sa_hardware.E4405BMarker(sa,'Lower Sideband',2)\n",
    "carrier_marker = sa_hardware.E4405BMarker(sa,'Carrier',3)"
   ]
  },
  {
   "cell_type": "code",
   "execution_count": null,
   "metadata": {},
   "outputs": [],
   "source": [
    "upp_sb_marker.look_right()"
   ]
  },
  {
   "cell_type": "code",
   "execution_count": null,
   "metadata": {},
   "outputs": [],
   "source": [
    "lower_sb_marker.look_left()"
   ]
  },
  {
   "cell_type": "code",
   "execution_count": null,
   "metadata": {},
   "outputs": [],
   "source": [
    "# define target frequencies\n",
    "markers = [upp_sb_marker, lower_sb_marker, carrier_marker]\n",
    "target_freqs = np.array([12.3, 11.7, 12])*1e9\n",
    "max_deviation = 1e6 # How much "
   ]
  },
  {
   "cell_type": "code",
   "execution_count": null,
   "metadata": {},
   "outputs": [],
   "source": [
    "for marker, target_freq in zip(markers, target_freqs):\n",
    "    marker_freq = marker.read_freq()\n",
    "    \n",
    "    assert abs(marker_freq - target_freq) < max_deviation, f\"{marker.name} has wrong frequecy: {marker_freq / 1e9} GHz\"\n",
    "    print(f\"Marker '{marker.name}' parked at {marker_freq / 1e9:.4f} GHz reads {marker.get_power():.2f} dbm.\")"
   ]
  },
  {
   "cell_type": "markdown",
   "metadata": {},
   "source": [
    "## Calibrate Phase"
   ]
  },
  {
   "cell_type": "markdown",
   "metadata": {},
   "source": [
    "Let's now follow the same appraoch to suppress the lower sideband by performing a 2D sweep over the phase / amplitude imbalance space. We will impose that the sum of I and Q amplitudes is fixed: $A_I + A_Q = 2A_0$, and we sweep the ratio $q$ between the two amplitudes: $\\frac{A_I}{A_Q} = q$. We thus get: $A_Q = 2  A_0 \\frac{1}{1+q}$ and  $A_I = 2  A_0 \\frac{q}{1+q}$ "
   ]
  },
  {
   "cell_type": "code",
   "execution_count": null,
   "metadata": {},
   "outputs": [],
   "source": [
    "def sweep_phase_amp_imbalance():\n",
    "    \n",
    "    carrier_power = np.zeros((num_points, num_points))\n",
    "\n",
    "    for i, j in it.product(range(num_points), repeat=2):\n",
    "            \n",
    "        phase = phases[i]\n",
    "        q = qs[j]\n",
    "        \n",
    "        # Calculate amplitudes\n",
    "        amp_i = 2 * q / (1 + q) * a0\n",
    "        amp_q = 2 * a0 / (1 + q)\n",
    "        \n",
    "        # Set I and Q amplitudes\n",
    "        hd.setd('sines/0/amplitudes/0', amp_i)\n",
    "        hd.setd('sines/1/amplitudes/1', amp_q)\n",
    "        \n",
    "        # Set phaseshift\n",
    "        hd.setd('sines/0/phaseshift', phase)\n",
    "\n",
    "        # Read lower sideband power\n",
    "        lower_sideband_power[i,j] = lower_sb_marker.get_power()\n",
    "        \n",
    "        print(f'{i/num_points * 100} % done')\n",
    "        clear_output(wait=True)"
   ]
  },
  {
   "cell_type": "code",
   "execution_count": null,
   "metadata": {},
   "outputs": [],
   "source": [
    "# Sweep phase offset\n",
    "phase_min = 55\n",
    "phase_max = 70\n",
    "\n",
    "# Sweep amplitude imbalance \n",
    "q_min = 0.7\n",
    "q_max = 1\n",
    "a0 = 650*1e-3\n",
    "\n",
    "num_points = 20\n",
    "\n",
    "# Instantiate arrays\n",
    "phases = np.linspace(phase_min, phase_max, num_points)\n",
    "qs = np.linspace(q_min, q_max, num_points)\n",
    "lower_sideband_power = np.zeros((num_points, num_points))\n",
    "\n",
    "sweep_phase_amp_imbalance()"
   ]
  },
  {
   "cell_type": "code",
   "execution_count": null,
   "metadata": {},
   "outputs": [],
   "source": [
    "# Create heatmap from sweep data\n",
    "\n",
    "# Store results in dataframe for easy plotting\n",
    "lower_sideband_data = pd.DataFrame(lower_sideband_power,\n",
    "                   index=np.round(phases, 1),\n",
    "                   columns=np.round(qs, 2))\n",
    "\n",
    "fig1, ax1 = plt.subplots(figsize=(8, 5))    \n",
    "ax1 = sns.heatmap(lower_sideband_data, xticklabels=5,  yticklabels=5,  cbar_kws={'label': 'lower sideband power [dBm]'})\n",
    "ax1.set(ylabel='Phase shift', xlabel='Amplitude imbalance')"
   ]
  },
  {
   "cell_type": "code",
   "execution_count": null,
   "metadata": {},
   "outputs": [],
   "source": [
    "def set_optimal_point(opt_phase, opt_q):\n",
    "\n",
    "    amp_i_opt = 2 * opt_q / (1 + opt_q) * a0 \n",
    "    amp_q_opt = 2 * a0 / (1 + opt_q) \n",
    "\n",
    "    # Set optimal I and Q amplitudes\n",
    "    hd.setd('sines/0/amplitudes/0', amp_i_opt)\n",
    "    hd.setd('sines/1/amplitudes/1', amp_q_opt)\n",
    "\n",
    "    # Set optimal phaseshift\n",
    "    hd.setd('sines/0/phaseshift', opt_phase)"
   ]
  },
  {
   "cell_type": "code",
   "execution_count": null,
   "metadata": {},
   "outputs": [],
   "source": [
    "# Read off optimal values\n",
    "opt_phase = phases[np.where(lower_sideband_power == np.amin(lower_sideband_power))[0][0]]\n",
    "opt_q = qs[np.where(lower_sideband_power == np.amin(lower_sideband_power))[1][0]]\n",
    "\n",
    "set_optimal_point(opt_phase, opt_q)\n",
    "sa.plot_trace()\n",
    "print(opt_phase, opt_q)"
   ]
  },
  {
   "cell_type": "code",
   "execution_count": null,
   "metadata": {},
   "outputs": [],
   "source": [
    "# Finer sweep over portion of phase-amplitude-imbalance space to obtain more accurate minimum\n",
    "\n",
    "cushion_param = 2\n",
    "q_cushion = cushion_param*(q_max-q_min)/num_points\n",
    "phase_cushion = cushion_param*(phase_max-phase_min)/num_points\n",
    "\n",
    "# Reset sweep window to zoom in on minimum\n",
    "q_max = opt_q + q_cushion\n",
    "q_min = opt_q - q_cushion\n",
    "phase_max = opt_phase + phase_cushion\n",
    "phase_min = opt_phase - phase_cushion\n",
    "\n",
    "num_points = 30\n",
    "\n",
    "# Instantiate arrays\n",
    "phases = np.linspace(phase_min, phase_max, num_points)\n",
    "qs = np.linspace(q_min, q_max, num_points)\n",
    "lower_sideband_power = np.zeros((num_points, num_points))\n",
    "\n",
    "sweep_phase_amp_imbalance()"
   ]
  },
  {
   "cell_type": "code",
   "execution_count": null,
   "metadata": {},
   "outputs": [],
   "source": [
    "# Create heatmap for finer sweep\n",
    "\n",
    "# Store results in dataframe for easy plotting\n",
    "lower_sideband_data = pd.DataFrame(lower_sideband_power,\n",
    "                   index=np.round(phases, 1),\n",
    "                   columns=np.round(qs, 2))\n",
    "\n",
    "\n",
    "fig1, ax1 = plt.subplots(figsize=(8, 5))    \n",
    "ax1 = sns.heatmap(lower_sideband_data, xticklabels=5,  yticklabels=5,  cbar_kws={'label': 'lower sideband power [dBm]'})\n",
    "ax1.set(ylabel='Phase shift', xlabel='Amplitude imbalance')"
   ]
  },
  {
   "cell_type": "code",
   "execution_count": null,
   "metadata": {},
   "outputs": [],
   "source": [
    "# Reset optimum values\n",
    "opt_phase = phases[np.where(lower_sideband_power == np.amin(lower_sideband_power))[0][0]]\n",
    "opt_q = qs[np.where(lower_sideband_power == np.amin(lower_sideband_power))[1][0]]\n",
    "\n",
    "set_optimal_point(opt_phase, opt_q)\n",
    "sa.plot_trace()\n",
    "print(opt_phase, opt_q)"
   ]
  },
  {
   "cell_type": "markdown",
   "metadata": {},
   "source": [
    "## DC Offset Calibration"
   ]
  },
  {
   "cell_type": "code",
   "execution_count": null,
   "metadata": {},
   "outputs": [],
   "source": [
    "def sweep_dc_offsets(dc_min_i, dc_max_i, dc_min_q, dc_max_q, num_points):\n",
    "    \n",
    "    # Sweep 2D parameter space of DC offsets and record carrier power\n",
    "    voltages_i = np.linspace(dc_min_i, dc_max_i, num_points)\n",
    "    voltages_q = np.linspace(dc_min_q, dc_max_q, num_points)\n",
    "\n",
    "    carrier_power = np.zeros((num_points, num_points))\n",
    "\n",
    "    for i, j in it.product(range(num_points), repeat=2):\n",
    "\n",
    "        # Set I DC-offset\n",
    "        hd.setd('sigouts/0/offset', voltages_i[i])\n",
    "\n",
    "        # Set Q DC-offset\n",
    "        hd.setd('sigouts/1/offset', voltages_q[j])\n",
    "\n",
    "        # Read carrier power\n",
    "        carrier_power[i,j] = carrier_marker.get_power()\n",
    "        print(f'{i/num_points * 100} % done')\n",
    "        clear_output(wait=True)\n",
    "        \n",
    "    return carrier_power, voltages_i, voltages_q"
   ]
  },
  {
   "cell_type": "code",
   "execution_count": null,
   "metadata": {},
   "outputs": [],
   "source": [
    "# Define sweep window for carrier minimization\n",
    "\n",
    "dc_min_i = -5e-3\n",
    "dc_max_i = 15e-3\n",
    "dc_min_q = -5e-3\n",
    "dc_max_q = 15e-3\n",
    "\n",
    "num_points = 30\n",
    "\n",
    "carrier_power, voltages_i, voltages_q = sweep_dc_offsets(dc_min_i, dc_max_i, dc_min_q, dc_max_q, num_points)"
   ]
  },
  {
   "cell_type": "code",
   "execution_count": null,
   "metadata": {},
   "outputs": [],
   "source": [
    "# Create heatmap from data\n",
    "\n",
    "# Store results in dataframe for easy plotting\n",
    "dc_sweep_data = pd.DataFrame(carrier_power,\n",
    "                   columns=np.round(voltages_q/1e-3, 1),\n",
    "                   index=np.round(voltages_i/1e-3, 1))\n",
    "\n",
    "fig, ax = plt.subplots(figsize=(8, 5))    \n",
    "ax = sns.heatmap(dc_sweep_data, xticklabels=5,  yticklabels=5,  cbar_kws={'label': 'carrier power [dBm]'})\n",
    "ax.set(xlabel='DC offset Q signal [mV]', ylabel='DC offset I signal [mV]')"
   ]
  },
  {
   "cell_type": "code",
   "execution_count": null,
   "metadata": {},
   "outputs": [],
   "source": [
    "# Retrieve optimal DC offsets\n",
    "dc_offset_i_opt = voltages_i[np.where(carrier_power == np.amin(carrier_power))[0][0]]\n",
    "dc_offset_q_opt = voltages_q[np.where(carrier_power == np.amin(carrier_power))[1][0]]\n",
    "\n",
    "# Set optimal offset\n",
    "hd.setd('sigouts/0/offset', dc_offset_i_opt)\n",
    "hd.setd('sigouts/1/offset', dc_offset_q_opt)\n",
    "\n",
    "sa.plot_trace()\n",
    "print(dc_offset_i_opt, dc_offset_q_opt)"
   ]
  }
 ],
 "metadata": {
  "kernelspec": {
   "display_name": "Python 3",
   "language": "python",
   "name": "python3"
  },
  "language_info": {
   "codemirror_mode": {
    "name": "ipython",
    "version": 3
   },
   "file_extension": ".py",
   "mimetype": "text/x-python",
   "name": "python",
   "nbconvert_exporter": "python",
   "pygments_lexer": "ipython3",
   "version": "3.7.8"
  }
 },
 "nbformat": 4,
 "nbformat_minor": 2
}
