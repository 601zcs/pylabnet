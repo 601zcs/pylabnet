{
 "cells": [
  {
   "cell_type": "code",
   "execution_count": null,
   "metadata": {},
   "outputs": [],
   "source": [
    "from pylabnet.utils.helper_methods import unpack_launcher\n",
    "from pylabnet.utils.helper_methods import show_console, hide_console, load_config\n",
    "import paramiko\n",
    "from decouple import config\n",
    "import time\n",
    "import numpy as np\n",
    "\n",
    "LOCALHOST_PW = config('LOCALHOST_PW')"
   ]
  },
  {
   "cell_type": "code",
   "execution_count": null,
   "metadata": {},
   "outputs": [],
   "source": []
  },
  {
   "cell_type": "code",
   "execution_count": null,
   "metadata": {},
   "outputs": [],
   "source": []
  },
  {
   "cell_type": "markdown",
   "metadata": {},
   "source": [
    "# Playback Sawthooth Waveform"
   ]
  },
  {
   "cell_type": "code",
   "execution_count": 12,
   "metadata": {},
   "outputs": [],
   "source": [
    "# AOM Switch \n",
    "import pylabnet.hardware.ni_daqs.nidaqmx_card as nidaqmx\n",
    "import pylabnet.network.client_server.nidaqmx_card as nidaqmx_card_server\n",
    "import numpy as np\n",
    "import time"
   ]
  },
  {
   "cell_type": "code",
   "execution_count": 13,
   "metadata": {
    "tags": []
   },
   "outputs": [],
   "source": [
    "aom_daq = nidaqmx_card_server.Client(\n",
    "    host='140.247.189.82',\n",
    "    port=24195\n",
    ")"
   ]
  },
  {
   "cell_type": "code",
   "execution_count": 28,
   "metadata": {},
   "outputs": [],
   "source": [
    "amplitude = 1 # in V\n",
    "offset = 0 # in V\n",
    "num_points = 50\n",
    "frequency = 0.02 # in Hz"
   ]
  },
  {
   "cell_type": "code",
   "execution_count": 29,
   "metadata": {},
   "outputs": [],
   "source": [
    "period = 1/frequency\n",
    "scanning_range_up = np.linspace(offset, offset+amplitude, num_points)\n",
    "scanning_range_down = scanning_range_up[::-1]"
   ]
  },
  {
   "cell_type": "code",
   "execution_count": 30,
   "metadata": {},
   "outputs": [],
   "source": [
    "\n",
    "for voltage in np.concatenate((scanning_range_up,scanning_range_down)):\n",
    "    aom_daq.set_ao_voltage('ao4', voltage)\n",
    "    time.sleep(period / (2 * num_points))\n"
   ]
  },
  {
   "cell_type": "code",
   "execution_count": 27,
   "metadata": {},
   "outputs": [],
   "source": [
    "aom_daq.set_ao_voltage('ao4', 0)\n"
   ]
  },
  {
   "cell_type": "code",
   "execution_count": null,
   "metadata": {},
   "outputs": [],
   "source": []
  }
 ],
 "metadata": {
  "kernelspec": {
   "display_name": "Python 3.8.3 64-bit ('dev': venv)",
   "language": "python",
   "name": "python_defaultSpec_1600208984705"
  },
  "language_info": {
   "codemirror_mode": {
    "name": "ipython",
    "version": 3
   },
   "file_extension": ".py",
   "mimetype": "text/x-python",
   "name": "python",
   "nbconvert_exporter": "python",
   "pygments_lexer": "ipython3",
   "version": "3.6.5-final"
  }
 },
 "nbformat": 4,
 "nbformat_minor": 2
}