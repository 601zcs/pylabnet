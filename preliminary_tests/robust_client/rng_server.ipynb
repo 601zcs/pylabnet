{
 "cells": [
  {
   "cell_type": "code",
   "execution_count": 1,
   "metadata": {},
   "outputs": [],
   "source": [
    "import sys\n",
    "sys.path.append(r'C:\\Users\\Lukin SiV\\pylabnet')"
   ]
  },
  {
   "cell_type": "code",
   "execution_count": 2,
   "metadata": {},
   "outputs": [],
   "source": [
    "from core.generic_server import GenericServer\n",
    "from hardware.rng import RNG, RNGService"
   ]
  },
  {
   "cell_type": "markdown",
   "metadata": {},
   "source": [
    "### Create device"
   ]
  },
  {
   "cell_type": "code",
   "execution_count": 3,
   "metadata": {},
   "outputs": [],
   "source": [
    "rng = RNG()"
   ]
  },
  {
   "cell_type": "code",
   "execution_count": 17,
   "metadata": {},
   "outputs": [
    {
     "data": {
      "text/plain": [
       "0"
      ]
     },
     "execution_count": 17,
     "metadata": {},
     "output_type": "execute_result"
    }
   ],
   "source": [
    "rng.set_params(mean=0, amp=1)"
   ]
  },
  {
   "cell_type": "code",
   "execution_count": 6,
   "metadata": {
    "collapsed": true
   },
   "outputs": [
    {
     "data": {
      "text/plain": [
       "array([[-0.29572553,  0.01102179, -0.42486844, -0.05601232,  0.40001033,\n",
       "        -0.12879756,  0.05759742,  0.46650963,  0.01580019, -0.49448678],\n",
       "       [-0.20653747, -0.23095605, -0.25697713, -0.14250457,  0.07703905,\n",
       "         0.16312016,  0.49520825, -0.28045277,  0.30397749, -0.01455208],\n",
       "       [-0.24601975, -0.20813309, -0.34283375, -0.44909176,  0.30671074,\n",
       "        -0.08030409,  0.05081594,  0.05559021, -0.35871469, -0.26695249],\n",
       "       [ 0.20145941, -0.27005894, -0.07459516, -0.26905265,  0.08034116,\n",
       "        -0.0770173 ,  0.28649906, -0.32580837,  0.27144852,  0.42946795],\n",
       "       [-0.24544997, -0.2627802 ,  0.23989599, -0.37187411,  0.10180844,\n",
       "        -0.04429634, -0.23358977, -0.22723456, -0.49830815,  0.24750166],\n",
       "       [-0.18693732,  0.16443316,  0.4312849 ,  0.41424199,  0.0676438 ,\n",
       "        -0.19810709,  0.23306999, -0.24954594,  0.21756215,  0.48961956],\n",
       "       [ 0.40575983,  0.170156  ,  0.29647471, -0.24528446, -0.18032741,\n",
       "        -0.27185515,  0.34812605, -0.29541562,  0.14647447, -0.35463689],\n",
       "       [-0.30635948,  0.39333169,  0.36801459,  0.30472419, -0.09398406,\n",
       "         0.31961003, -0.13128369,  0.35740908, -0.13425699,  0.4781298 ],\n",
       "       [ 0.09908414, -0.1800381 ,  0.48672115, -0.12736776, -0.45273027,\n",
       "         0.13032515, -0.24545659,  0.29776032,  0.21016843,  0.47846124],\n",
       "       [ 0.44703281, -0.05107961,  0.12869379,  0.14623656,  0.32743108,\n",
       "        -0.48903894, -0.10093816, -0.25397609,  0.24597541,  0.25811407]])"
      ]
     },
     "execution_count": 6,
     "metadata": {},
     "output_type": "execute_result"
    }
   ],
   "source": [
    "rng.get_value((10, 10))"
   ]
  },
  {
   "cell_type": "markdown",
   "metadata": {},
   "source": [
    "### Create and start server "
   ]
  },
  {
   "cell_type": "code",
   "execution_count": 5,
   "metadata": {},
   "outputs": [],
   "source": [
    "rng_service = RNGService()\n",
    "rng_service.assign_module(module=rng)"
   ]
  },
  {
   "cell_type": "code",
   "execution_count": 6,
   "metadata": {},
   "outputs": [
    {
     "data": {
      "text/plain": [
       "<hardware.rng.RNGService at 0x2995b929048>"
      ]
     },
     "execution_count": 6,
     "metadata": {},
     "output_type": "execute_result"
    }
   ],
   "source": [
    "rng_service"
   ]
  },
  {
   "cell_type": "code",
   "execution_count": 7,
   "metadata": {},
   "outputs": [],
   "source": [
    "rng_server = GenericServer(\n",
    "    service=rng_service, \n",
    "    host='localhost', \n",
    "    port=18890\n",
    ")"
   ]
  },
  {
   "cell_type": "code",
   "execution_count": 8,
   "metadata": {},
   "outputs": [],
   "source": [
    "rng_server.start()"
   ]
  },
  {
   "cell_type": "code",
   "execution_count": 9,
   "metadata": {},
   "outputs": [
    {
     "data": {
      "text/plain": [
       "True"
      ]
     },
     "execution_count": 9,
     "metadata": {},
     "output_type": "execute_result"
    }
   ],
   "source": [
    "rng_server._server.active"
   ]
  },
  {
   "cell_type": "code",
   "execution_count": 38,
   "metadata": {},
   "outputs": [
    {
     "data": {
      "text/plain": [
       "set()"
      ]
     },
     "execution_count": 38,
     "metadata": {},
     "output_type": "execute_result"
    }
   ],
   "source": [
    "rng_server._server.clients"
   ]
  },
  {
   "cell_type": "code",
   "execution_count": 15,
   "metadata": {},
   "outputs": [],
   "source": [
    "rng_server._server.close()"
   ]
  },
  {
   "cell_type": "code",
   "execution_count": 16,
   "metadata": {
    "scrolled": false
   },
   "outputs": [
    {
     "data": {
      "text/plain": [
       "<core.generic_server.GenericServer at 0x22f2a1872e8>"
      ]
     },
     "execution_count": 16,
     "metadata": {},
     "output_type": "execute_result"
    }
   ],
   "source": [
    "rng_server"
   ]
  },
  {
   "cell_type": "markdown",
   "metadata": {},
   "source": [
    "### Control device"
   ]
  },
  {
   "cell_type": "code",
   "execution_count": 15,
   "metadata": {},
   "outputs": [
    {
     "data": {
      "text/plain": [
       "{'mean': 10, 'amp': 1.5}"
      ]
     },
     "execution_count": 15,
     "metadata": {},
     "output_type": "execute_result"
    }
   ],
   "source": [
    "rng.get_params()"
   ]
  },
  {
   "cell_type": "code",
   "execution_count": 20,
   "metadata": {},
   "outputs": [
    {
     "data": {
      "text/plain": [
       "0"
      ]
     },
     "execution_count": 20,
     "metadata": {},
     "output_type": "execute_result"
    }
   ],
   "source": [
    "rng.set_params(mean=15, amp=1.5)"
   ]
  },
  {
   "cell_type": "code",
   "execution_count": 36,
   "metadata": {},
   "outputs": [
    {
     "data": {
      "text/plain": [
       "1000000"
      ]
     },
     "execution_count": 36,
     "metadata": {},
     "output_type": "execute_result"
    }
   ],
   "source": [
    "len(rng.test_array_dict['2'])"
   ]
  },
  {
   "cell_type": "code",
   "execution_count": null,
   "metadata": {},
   "outputs": [],
   "source": []
  }
 ],
 "metadata": {
  "kernelspec": {
   "display_name": "Python 3",
   "language": "python",
   "name": "python3"
  },
  "language_info": {
   "codemirror_mode": {
    "name": "ipython",
    "version": 3
   },
   "file_extension": ".py",
   "mimetype": "text/x-python",
   "name": "python",
   "nbconvert_exporter": "python",
   "pygments_lexer": "ipython3",
   "version": "3.7.0"
  }
 },
 "nbformat": 4,
 "nbformat_minor": 2
}
