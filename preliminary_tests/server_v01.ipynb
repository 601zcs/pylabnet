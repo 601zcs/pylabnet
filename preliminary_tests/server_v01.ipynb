{
 "cells": [
  {
   "cell_type": "code",
   "execution_count": 2,
   "metadata": {},
   "outputs": [],
   "source": [
    "import client_server\n",
    "import rng"
   ]
  },
  {
   "cell_type": "markdown",
   "metadata": {},
   "source": [
    "### Create device"
   ]
  },
  {
   "cell_type": "code",
   "execution_count": 3,
   "metadata": {},
   "outputs": [],
   "source": [
    "my_rng = rng.RNG()"
   ]
  },
  {
   "cell_type": "code",
   "execution_count": 19,
   "metadata": {},
   "outputs": [],
   "source": [
    "my_rng.set_params(mean=2, amp=1)"
   ]
  },
  {
   "cell_type": "code",
   "execution_count": 31,
   "metadata": {
    "collapsed": true
   },
   "outputs": [
    {
     "data": {
      "text/plain": [
       "array([[1.73203897, 1.51076036, 2.49744735, 1.87345045, 2.17611474,\n",
       "        2.30510795, 1.96266034, 1.69859729, 2.0579699 , 2.35978828],\n",
       "       [1.79266588, 1.66117668, 2.49488664, 2.32699053, 1.80427204,\n",
       "        2.33426255, 2.25093835, 1.96295274, 1.64815244, 2.13838716],\n",
       "       [1.58010725, 1.77701541, 1.73836576, 2.17710299, 2.07077833,\n",
       "        1.62372857, 1.86278462, 2.41879812, 1.91376836, 1.99448045],\n",
       "       [2.08954514, 2.42211592, 1.7348919 , 2.07829298, 2.42648197,\n",
       "        1.67702977, 2.1245808 , 2.12271866, 1.71362909, 1.69169724],\n",
       "       [2.15927504, 2.16985682, 2.07952249, 1.73862097, 1.82937614,\n",
       "        2.25466658, 1.5225325 , 2.26239878, 2.14536551, 1.69097257],\n",
       "       [2.22797735, 1.51185253, 1.89029849, 1.81539392, 2.00832923,\n",
       "        1.61117654, 1.79343246, 2.43697216, 1.79959762, 2.20609468],\n",
       "       [1.70464894, 1.86715799, 1.52549139, 1.93714517, 2.0103736 ,\n",
       "        2.05232208, 2.1341207 , 2.0340998 , 2.39092594, 2.24018936],\n",
       "       [2.38239996, 2.18088415, 1.66249323, 1.82375407, 1.63700345,\n",
       "        2.32215375, 2.08899007, 1.73544061, 2.07659719, 1.67443364],\n",
       "       [1.85009099, 2.38041478, 2.31250597, 1.53154469, 2.0893743 ,\n",
       "        2.01311173, 1.90264234, 1.50401188, 1.73704931, 2.0084477 ],\n",
       "       [1.62539231, 1.65704206, 1.58459491, 1.56177369, 2.11615784,\n",
       "        2.29938345, 1.62572429, 2.40721843, 2.31927585, 2.38265351]])"
      ]
     },
     "execution_count": 31,
     "metadata": {},
     "output_type": "execute_result"
    }
   ],
   "source": [
    "my_rng.get_value((10, 10))"
   ]
  },
  {
   "cell_type": "markdown",
   "metadata": {},
   "source": [
    "### Create and start server "
   ]
  },
  {
   "cell_type": "code",
   "execution_count": 33,
   "metadata": {},
   "outputs": [],
   "source": [
    "rng_service = rng.RNGService()\n",
    "rng_service.assign_module(my_rng)"
   ]
  },
  {
   "cell_type": "code",
   "execution_count": 39,
   "metadata": {},
   "outputs": [],
   "source": [
    "rng_server = client_server.Server(\n",
    "    service=rng_service, \n",
    "    hostname='localhost', \n",
    "    port=18800\n",
    ")"
   ]
  },
  {
   "cell_type": "code",
   "execution_count": 40,
   "metadata": {},
   "outputs": [],
   "source": [
    "rng_server.start()"
   ]
  },
  {
   "cell_type": "code",
   "execution_count": null,
   "metadata": {},
   "outputs": [],
   "source": []
  },
  {
   "cell_type": "code",
   "execution_count": 42,
   "metadata": {},
   "outputs": [],
   "source": [
    "my_rng._mean = 0"
   ]
  },
  {
   "cell_type": "code",
   "execution_count": 47,
   "metadata": {},
   "outputs": [
    {
     "data": {
      "text/plain": [
       "-20"
      ]
     },
     "execution_count": 47,
     "metadata": {},
     "output_type": "execute_result"
    }
   ],
   "source": [
    "my_rng._mean"
   ]
  },
  {
   "cell_type": "code",
   "execution_count": 49,
   "metadata": {},
   "outputs": [],
   "source": [
    "my_rng._amp = 0"
   ]
  },
  {
   "cell_type": "code",
   "execution_count": null,
   "metadata": {},
   "outputs": [],
   "source": []
  }
 ],
 "metadata": {
  "kernelspec": {
   "display_name": "Python 3",
   "language": "python",
   "name": "python3"
  },
  "language_info": {
   "codemirror_mode": {
    "name": "ipython",
    "version": 3
   },
   "file_extension": ".py",
   "mimetype": "text/x-python",
   "name": "python",
   "nbconvert_exporter": "python",
   "pygments_lexer": "ipython3",
   "version": "3.7.0"
  }
 },
 "nbformat": 4,
 "nbformat_minor": 2
}
