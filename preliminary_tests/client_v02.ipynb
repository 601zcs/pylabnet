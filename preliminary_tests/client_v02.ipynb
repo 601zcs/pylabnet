{
 "cells": [
  {
   "cell_type": "code",
   "execution_count": 1,
   "metadata": {},
   "outputs": [],
   "source": [
    "import client_server"
   ]
  },
  {
   "cell_type": "markdown",
   "metadata": {},
   "source": [
    "### Create client "
   ]
  },
  {
   "cell_type": "code",
   "execution_count": 2,
   "metadata": {},
   "outputs": [],
   "source": [
    "client = client_server.Client(host='localhost', port=18890)"
   ]
  },
  {
   "cell_type": "code",
   "execution_count": 3,
   "metadata": {},
   "outputs": [],
   "source": [
    "rng = client.get_module()"
   ]
  },
  {
   "cell_type": "markdown",
   "metadata": {},
   "source": [
    "### Interact with device"
   ]
  },
  {
   "cell_type": "code",
   "execution_count": 13,
   "metadata": {},
   "outputs": [
    {
     "data": {
      "text/plain": [
       "array([[3.40982311, 3.48931762, 3.21451274, 3.71527682, 3.62489488,\n",
       "        3.73308712, 3.19186561, 3.70010589, 3.01722353, 3.47668733],\n",
       "       [3.62161119, 3.22325808, 3.74657205, 3.48008199, 3.49683063,\n",
       "        3.41630793, 3.42116682, 3.48763487, 3.82374924, 3.0002874 ],\n",
       "       [3.29654878, 3.55112952, 3.29781067, 3.15387922, 3.09952238,\n",
       "        3.1198402 , 3.45225741, 3.47013253, 3.30506849, 3.14690585],\n",
       "       [3.92100274, 3.83616487, 3.2499519 , 3.15079327, 3.82157945,\n",
       "        3.39493474, 3.34024955, 3.64748111, 3.13686997, 3.11998767],\n",
       "       [3.4128486 , 3.48028642, 3.81684067, 3.29259936, 3.0131301 ,\n",
       "        3.85917616, 3.87100898, 3.37421811, 3.59305752, 3.23411983],\n",
       "       [3.57896987, 3.90438938, 3.75901702, 3.22553968, 3.34314801,\n",
       "        3.49081374, 3.62389979, 3.60297269, 3.20227715, 3.08442691],\n",
       "       [3.51750678, 3.78960614, 3.85673756, 3.56778819, 3.54926644,\n",
       "        3.1991168 , 3.95253009, 3.97530706, 3.56427317, 3.17962689],\n",
       "       [3.55686412, 3.13812635, 3.98641748, 3.30483428, 3.44452599,\n",
       "        3.3707725 , 3.92414463, 3.88460571, 3.58454028, 3.63496009],\n",
       "       [3.48449144, 3.40582339, 3.86146993, 3.46640203, 3.60084754,\n",
       "        3.20965217, 3.72907363, 3.04041425, 3.08628258, 3.63838546],\n",
       "       [3.34140916, 3.86222235, 3.30758744, 3.26834421, 3.69164436,\n",
       "        3.9328995 , 3.95135549, 3.06025437, 3.95748451, 3.98800617]])"
      ]
     },
     "execution_count": 13,
     "metadata": {},
     "output_type": "execute_result"
    }
   ],
   "source": [
    "rng.get_value((10, 10))"
   ]
  },
  {
   "cell_type": "code",
   "execution_count": 31,
   "metadata": {},
   "outputs": [
    {
     "data": {
      "text/plain": [
       "{'mean': 0, 'amp': 1}"
      ]
     },
     "execution_count": 31,
     "metadata": {},
     "output_type": "execute_result"
    }
   ],
   "source": [
    "rng.get_params()"
   ]
  },
  {
   "cell_type": "code",
   "execution_count": 30,
   "metadata": {},
   "outputs": [],
   "source": [
    "rng.set_params(mean=0, amp=1)"
   ]
  },
  {
   "cell_type": "markdown",
   "metadata": {},
   "source": [
    "### numpy.array timing test"
   ]
  },
  {
   "cell_type": "code",
   "execution_count": 65,
   "metadata": {},
   "outputs": [],
   "source": [
    "n_values = 10000\n",
    "\n",
    "ar = rng.get_value(n_values)\n",
    "\n",
    "ar_sum = 0\n",
    "for i in ar:\n",
    "    ar_sum += i\n",
    "\n",
    "ar_sum /= n_values"
   ]
  },
  {
   "cell_type": "code",
   "execution_count": 66,
   "metadata": {},
   "outputs": [
    {
     "data": {
      "text/plain": [
       "0.001432334071313225"
      ]
     },
     "execution_count": 66,
     "metadata": {},
     "output_type": "execute_result"
    }
   ],
   "source": [
    "ar_sum"
   ]
  },
  {
   "cell_type": "code",
   "execution_count": null,
   "metadata": {},
   "outputs": [],
   "source": []
  }
 ],
 "metadata": {
  "kernelspec": {
   "display_name": "Python 3",
   "language": "python",
   "name": "python3"
  },
  "language_info": {
   "codemirror_mode": {
    "name": "ipython",
    "version": 3
   },
   "file_extension": ".py",
   "mimetype": "text/x-python",
   "name": "python",
   "nbconvert_exporter": "python",
   "pygments_lexer": "ipython3",
   "version": "3.7.0"
  }
 },
 "nbformat": 4,
 "nbformat_minor": 2
}
