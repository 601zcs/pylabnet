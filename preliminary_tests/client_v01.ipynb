{
 "cells": [
  {
   "cell_type": "code",
   "execution_count": 1,
   "metadata": {},
   "outputs": [],
   "source": [
    "import rpyc"
   ]
  },
  {
   "cell_type": "markdown",
   "metadata": {},
   "source": [
    "### Create client "
   ]
  },
  {
   "cell_type": "code",
   "execution_count": 2,
   "metadata": {},
   "outputs": [],
   "source": [
    "client = rpyc.connect(host='localhost', port=18800)"
   ]
  },
  {
   "cell_type": "code",
   "execution_count": 3,
   "metadata": {},
   "outputs": [
    {
     "data": {
      "text/plain": [
       "<rng.RNGService object at 0x000001A8C5512358>"
      ]
     },
     "execution_count": 3,
     "metadata": {},
     "output_type": "execute_result"
    }
   ],
   "source": [
    "client.root"
   ]
  },
  {
   "cell_type": "code",
   "execution_count": 4,
   "metadata": {},
   "outputs": [],
   "source": [
    "rng = client.root"
   ]
  },
  {
   "cell_type": "markdown",
   "metadata": {},
   "source": [
    "### Interact with device"
   ]
  },
  {
   "cell_type": "code",
   "execution_count": 16,
   "metadata": {},
   "outputs": [
    {
     "data": {
      "text/plain": [
       "array([[24.35884678, 15.12289696, 18.12999519, 24.23661952, 24.69732209,\n",
       "        20.47013961, 18.85278802, 22.48988103, 22.52860834, 22.49448575],\n",
       "       [19.36249182, 21.67005263, 21.04937287, 16.63739708, 15.57134675,\n",
       "        19.87937374, 21.74075078, 19.83300209, 23.58995279, 21.53175957],\n",
       "       [23.45059794, 22.06483831, 23.50142241, 15.85848059, 20.43457361,\n",
       "        17.8743935 , 16.75264575, 16.82133681, 15.7001635 , 21.65775207],\n",
       "       [23.79226737, 23.39277675, 15.87105658, 21.7722885 , 22.37528886,\n",
       "        18.4549374 , 17.93001422, 24.24322858, 18.80469155, 21.66457515],\n",
       "       [17.04819619, 21.10393478, 22.51494114, 18.30819471, 24.22968736,\n",
       "        19.54529223, 16.73448387, 23.36869924, 17.23701632, 16.39935191],\n",
       "       [16.49546893, 15.68281049, 20.64943514, 18.62699358, 24.0147199 ,\n",
       "        20.62436117, 21.42100691, 16.34446012, 19.59138463, 22.42456938],\n",
       "       [16.19612146, 22.79547773, 17.21740607, 22.40172906, 23.38985586,\n",
       "        23.37895404, 21.39638483, 23.76304345, 20.65966178, 24.32681239],\n",
       "       [24.11180165, 19.80956704, 18.91919932, 20.74520713, 22.84870502,\n",
       "        21.01623573, 18.52054466, 15.56036633, 15.04770497, 18.25804541],\n",
       "       [22.87503507, 15.68623925, 20.62378159, 16.65525874, 16.43158015,\n",
       "        21.64171009, 19.37973993, 19.37577623, 17.33941369, 21.00414938],\n",
       "       [23.75101613, 17.95148473, 21.6320537 , 18.89814233, 24.76256639,\n",
       "        24.41528539, 17.35138778, 20.42215643, 17.86023177, 17.96590584]])"
      ]
     },
     "execution_count": 16,
     "metadata": {},
     "output_type": "execute_result"
    }
   ],
   "source": [
    "rng.get_value((10, 10))"
   ]
  },
  {
   "cell_type": "code",
   "execution_count": 19,
   "metadata": {},
   "outputs": [],
   "source": [
    "rng.set_params(mean=20, amp=0)"
   ]
  },
  {
   "cell_type": "code",
   "execution_count": null,
   "metadata": {},
   "outputs": [],
   "source": []
  }
 ],
 "metadata": {
  "kernelspec": {
   "display_name": "Python 3",
   "language": "python",
   "name": "python3"
  },
  "language_info": {
   "codemirror_mode": {
    "name": "ipython",
    "version": 3
   },
   "file_extension": ".py",
   "mimetype": "text/x-python",
   "name": "python",
   "nbconvert_exporter": "python",
   "pygments_lexer": "ipython3",
   "version": "3.7.0"
  }
 },
 "nbformat": 4,
 "nbformat_minor": 2
}
