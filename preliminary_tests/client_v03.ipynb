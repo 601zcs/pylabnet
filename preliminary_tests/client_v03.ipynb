{
 "cells": [
  {
   "cell_type": "code",
   "execution_count": 1,
   "metadata": {},
   "outputs": [],
   "source": [
    "from rng import RNGClient"
   ]
  },
  {
   "cell_type": "markdown",
   "metadata": {},
   "source": [
    "### Create client "
   ]
  },
  {
   "cell_type": "code",
   "execution_count": 48,
   "metadata": {},
   "outputs": [],
   "source": [
    "remote_rng = RNGClient(host='localhost', port=18890)"
   ]
  },
  {
   "cell_type": "code",
   "execution_count": 50,
   "metadata": {},
   "outputs": [
    {
     "data": {
      "text/plain": [
       "<rng.RNGClient at 0x1e7600feb38>"
      ]
     },
     "execution_count": 50,
     "metadata": {},
     "output_type": "execute_result"
    }
   ],
   "source": [
    "remote_rng"
   ]
  },
  {
   "cell_type": "markdown",
   "metadata": {},
   "source": [
    "### Interact with device"
   ]
  },
  {
   "cell_type": "code",
   "execution_count": 53,
   "metadata": {},
   "outputs": [
    {
     "data": {
      "text/plain": [
       "{'mean': 10, 'amp': 1.1}"
      ]
     },
     "execution_count": 53,
     "metadata": {},
     "output_type": "execute_result"
    }
   ],
   "source": [
    "remote_rng.get_params()"
   ]
  },
  {
   "cell_type": "code",
   "execution_count": 60,
   "metadata": {},
   "outputs": [],
   "source": [
    "remote_rng.set_params(mean=10, amp=1.0)"
   ]
  },
  {
   "cell_type": "code",
   "execution_count": 61,
   "metadata": {},
   "outputs": [
    {
     "data": {
      "text/plain": [
       "array([[10.4559006 ,  9.54986846,  9.91471678, ..., 10.34849639,\n",
       "        10.07111718, 10.32130901],\n",
       "       [10.37097424,  9.95066035,  9.85826277, ..., 10.25727852,\n",
       "         9.52659429,  9.72843936],\n",
       "       [ 9.96191352, 10.47984193,  9.86884085, ...,  9.52436088,\n",
       "        10.251469  ,  9.7164714 ],\n",
       "       ...,\n",
       "       [ 9.76014163, 10.03823557,  9.70235359, ..., 10.49151676,\n",
       "         9.53031649,  9.67072477],\n",
       "       [ 9.80747298,  9.52904965, 10.21592445, ..., 10.01983355,\n",
       "        10.40232641, 10.26546766],\n",
       "       [ 9.83909941,  9.67757927, 10.003008  , ...,  9.86159544,\n",
       "        10.2649216 ,  9.83727276]])"
      ]
     },
     "execution_count": 61,
     "metadata": {},
     "output_type": "execute_result"
    }
   ],
   "source": [
    "remote_rng.get_value((1000, 1000))"
   ]
  },
  {
   "cell_type": "code",
   "execution_count": 55,
   "metadata": {},
   "outputs": [
    {
     "data": {
      "text/plain": [
       "array([0.18685973, 0.15469207, 0.95272305, ..., 0.77535147, 0.85620661,\n",
       "       0.4561415 ])"
      ]
     },
     "execution_count": 55,
     "metadata": {},
     "output_type": "execute_result"
    }
   ],
   "source": [
    "remote_rng.get_test_array()"
   ]
  },
  {
   "cell_type": "code",
   "execution_count": 43,
   "metadata": {},
   "outputs": [],
   "source": [
    "remote_rng.generate_test_array(size=int(1e6))"
   ]
  },
  {
   "cell_type": "code",
   "execution_count": 44,
   "metadata": {},
   "outputs": [
    {
     "data": {
      "text/plain": [
       "array([0.18685973, 0.15469207, 0.95272305, ..., 0.77535147, 0.85620661,\n",
       "       0.4561415 ])"
      ]
     },
     "execution_count": 44,
     "metadata": {},
     "output_type": "execute_result"
    }
   ],
   "source": [
    "remote_rng.get_test_array()"
   ]
  },
  {
   "cell_type": "code",
   "execution_count": 45,
   "metadata": {},
   "outputs": [],
   "source": [
    "remote_rng._connection.ping()"
   ]
  },
  {
   "cell_type": "code",
   "execution_count": 46,
   "metadata": {},
   "outputs": [],
   "source": [
    "remote_rng._connection.close()"
   ]
  },
  {
   "cell_type": "code",
   "execution_count": null,
   "metadata": {},
   "outputs": [],
   "source": []
  }
 ],
 "metadata": {
  "kernelspec": {
   "display_name": "Python 3",
   "language": "python",
   "name": "python3"
  },
  "language_info": {
   "codemirror_mode": {
    "name": "ipython",
    "version": 3
   },
   "file_extension": ".py",
   "mimetype": "text/x-python",
   "name": "python",
   "nbconvert_exporter": "python",
   "pygments_lexer": "ipython3",
   "version": "3.7.0"
  }
 },
 "nbformat": 4,
 "nbformat_minor": 2
}
