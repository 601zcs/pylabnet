{
 "cells": [
  {
   "cell_type": "code",
   "execution_count": 1,
   "metadata": {},
   "outputs": [],
   "source": [
    "import client_server\n",
    "import rng"
   ]
  },
  {
   "cell_type": "markdown",
   "metadata": {},
   "source": [
    "### Create device"
   ]
  },
  {
   "cell_type": "code",
   "execution_count": 2,
   "metadata": {},
   "outputs": [],
   "source": [
    "rng = rng.RNG()"
   ]
  },
  {
   "cell_type": "code",
   "execution_count": 3,
   "metadata": {},
   "outputs": [],
   "source": [
    "rng.set_params(mean=1.5, amp=2.5)"
   ]
  },
  {
   "cell_type": "code",
   "execution_count": 4,
   "metadata": {
    "collapsed": true
   },
   "outputs": [
    {
     "data": {
      "text/plain": [
       "array([[0.64060743, 0.59210521, 1.42723884, 1.05094607, 1.6452166 ,\n",
       "        1.70624326, 0.89223931, 1.57608019, 2.48928704, 1.14094624],\n",
       "       [2.50563576, 1.1860154 , 2.04940509, 0.61958214, 1.96579673,\n",
       "        2.49875306, 0.44119886, 1.70802859, 2.15019149, 1.67679021],\n",
       "       [0.5143915 , 1.90617532, 2.00260158, 0.88774977, 1.28285576,\n",
       "        1.51485299, 2.23135913, 1.64560339, 1.01441522, 1.80810714],\n",
       "       [1.21021797, 2.5711968 , 2.70545927, 2.36258735, 1.98415756,\n",
       "        1.9898958 , 0.81538222, 1.73334619, 0.94032744, 0.59516962],\n",
       "       [0.41163948, 2.70261648, 1.27010032, 0.68602935, 0.32771197,\n",
       "        2.16584582, 0.36069863, 2.59554484, 1.19161636, 2.7362467 ],\n",
       "       [1.79711729, 1.14567633, 2.6847532 , 1.72466816, 2.14702266,\n",
       "        2.45050837, 1.22634715, 0.48082421, 0.9665956 , 0.62688146],\n",
       "       [1.16312283, 0.25494664, 1.34153659, 0.655742  , 1.88815376,\n",
       "        2.62860134, 0.38121558, 1.94636016, 0.83577556, 1.45249542],\n",
       "       [2.61429385, 2.55717812, 1.24736187, 2.6932698 , 1.43566359,\n",
       "        2.69937803, 0.43312266, 2.30155224, 1.1917518 , 1.50073664],\n",
       "       [1.55457369, 1.46507294, 1.89690327, 0.387656  , 2.32185091,\n",
       "        1.11392805, 0.38526933, 1.46307845, 0.71658005, 2.32467337],\n",
       "       [2.18609183, 0.72271827, 1.99198202, 1.09134166, 1.2297281 ,\n",
       "        1.9261848 , 0.92277156, 1.98357628, 1.20905321, 1.25865877]])"
      ]
     },
     "execution_count": 4,
     "metadata": {},
     "output_type": "execute_result"
    }
   ],
   "source": [
    "rng.get_value((10, 10))"
   ]
  },
  {
   "cell_type": "code",
   "execution_count": 5,
   "metadata": {},
   "outputs": [],
   "source": [
    "rng.generate_test_array(100)"
   ]
  },
  {
   "cell_type": "code",
   "execution_count": 6,
   "metadata": {
    "collapsed": true
   },
   "outputs": [
    {
     "data": {
      "text/plain": [
       "array([0.86590294, 0.87342418, 0.44266281, 0.49423842, 0.10949357,\n",
       "       0.26131254, 0.27294448, 0.44398981, 0.2404992 , 0.86624868,\n",
       "       0.67101216, 0.60242112, 0.52494017, 0.14601541, 0.54663305,\n",
       "       0.4702951 , 0.53630367, 0.70326435, 0.17076992, 0.70037057,\n",
       "       0.65663665, 0.49456751, 0.13383383, 0.25535824, 0.15434457,\n",
       "       0.88366267, 0.35221875, 0.27568457, 0.79947459, 0.99993691,\n",
       "       0.91615475, 0.65733399, 0.84837039, 0.01597871, 0.21403851,\n",
       "       0.471125  , 0.43022724, 0.83566195, 0.62670826, 0.16558576,\n",
       "       0.2165692 , 0.50028478, 0.57450906, 0.87034156, 0.5708791 ,\n",
       "       0.71310119, 0.19804897, 0.37065674, 0.04483494, 0.86430911,\n",
       "       0.99921628, 0.00197881, 0.95484465, 0.17065647, 0.56702252,\n",
       "       0.4383046 , 0.30498855, 0.0091488 , 0.98756631, 0.90430098,\n",
       "       0.14979589, 0.63225737, 0.62906474, 0.96993289, 0.51082962,\n",
       "       0.08057571, 0.08207526, 0.44464277, 0.75048121, 0.77837099,\n",
       "       0.07695029, 0.9283835 , 0.76107198, 0.52703921, 0.72647438,\n",
       "       0.6826874 , 0.70153749, 0.14557243, 0.52896441, 0.63212905,\n",
       "       0.29640394, 0.53016196, 0.60506237, 0.184415  , 0.10800167,\n",
       "       0.92600703, 0.20342452, 0.20546847, 0.62508669, 0.79158023,\n",
       "       0.19310193, 0.99750702, 0.5894458 , 0.66950427, 0.55127858,\n",
       "       0.95509292, 0.52512345, 0.08455154, 0.8884239 , 0.55773242])"
      ]
     },
     "execution_count": 6,
     "metadata": {},
     "output_type": "execute_result"
    }
   ],
   "source": [
    "rng.test_array"
   ]
  },
  {
   "cell_type": "code",
   "execution_count": 7,
   "metadata": {
    "collapsed": true
   },
   "outputs": [
    {
     "data": {
      "text/plain": [
       "(0.8659029430333672,\n",
       " 0.8734241784071445,\n",
       " 0.44266281048029654,\n",
       " 0.4942384211744303,\n",
       " 0.10949357045577057,\n",
       " 0.2613125446457568,\n",
       " 0.272944478853421,\n",
       " 0.4439898113736185,\n",
       " 0.24049919635349593,\n",
       " 0.8662486759941614,\n",
       " 0.6710121631734648,\n",
       " 0.6024211201609742,\n",
       " 0.5249401661418815,\n",
       " 0.14601541271475216,\n",
       " 0.5466330467483722,\n",
       " 0.47029510425644805,\n",
       " 0.5363036682354493,\n",
       " 0.7032643528808326,\n",
       " 0.17076992192321616,\n",
       " 0.7003705651869774,\n",
       " 0.6566366470972607,\n",
       " 0.4945675133546318,\n",
       " 0.13383382963512647,\n",
       " 0.25535823671283187,\n",
       " 0.15434457090623688,\n",
       " 0.8836626691225723,\n",
       " 0.35221874975743905,\n",
       " 0.27568456628746263,\n",
       " 0.7994745947039016,\n",
       " 0.9999369137262574,\n",
       " 0.9161547501051168,\n",
       " 0.6573339872624868,\n",
       " 0.8483703860403807,\n",
       " 0.015978710253850892,\n",
       " 0.21403850751310594,\n",
       " 0.47112499558295273,\n",
       " 0.43022723648198047,\n",
       " 0.8356619464654614,\n",
       " 0.6267082557070275,\n",
       " 0.16558575914247697,\n",
       " 0.21656919785527828,\n",
       " 0.5002847838259576,\n",
       " 0.5745090622351808,\n",
       " 0.8703415555353644,\n",
       " 0.570879096161562,\n",
       " 0.7131011857588001,\n",
       " 0.19804896834117602,\n",
       " 0.3706567420621104,\n",
       " 0.044834936838725525,\n",
       " 0.8643091121500879,\n",
       " 0.999216284117723,\n",
       " 0.0019788072321402783,\n",
       " 0.9548446482546925,\n",
       " 0.17065646888945918,\n",
       " 0.5670225211497006,\n",
       " 0.4383046047404089,\n",
       " 0.3049885502694125,\n",
       " 0.009148801248410332,\n",
       " 0.9875663070750388,\n",
       " 0.904300982991807,\n",
       " 0.14979589104752322,\n",
       " 0.6322573747377966,\n",
       " 0.6290647400949094,\n",
       " 0.9699328900945802,\n",
       " 0.5108296178382339,\n",
       " 0.08057571244329864,\n",
       " 0.0820752586743756,\n",
       " 0.44464276982405504,\n",
       " 0.7504812086093714,\n",
       " 0.7783709912284188,\n",
       " 0.07695029332410575,\n",
       " 0.9283834969640932,\n",
       " 0.7610719797979509,\n",
       " 0.5270392142372116,\n",
       " 0.7264743797941153,\n",
       " 0.6826874045522684,\n",
       " 0.7015374904261787,\n",
       " 0.1455724323619355,\n",
       " 0.5289644084951791,\n",
       " 0.6321290475354316,\n",
       " 0.29640394036347073,\n",
       " 0.5301619550334451,\n",
       " 0.6050623653657679,\n",
       " 0.18441500481137918,\n",
       " 0.10800166865848537,\n",
       " 0.9260070333270423,\n",
       " 0.20342452021458868,\n",
       " 0.2054684714573275,\n",
       " 0.6250866904751555,\n",
       " 0.7915802259245934,\n",
       " 0.19310192561175177,\n",
       " 0.9975070219611872,\n",
       " 0.5894457965641229,\n",
       " 0.6695042698367842,\n",
       " 0.551278580210276,\n",
       " 0.9550929156699174,\n",
       " 0.5251234518049795,\n",
       " 0.0845515435055546,\n",
       " 0.8884238982613529,\n",
       " 0.557732420834248)"
      ]
     },
     "execution_count": 7,
     "metadata": {},
     "output_type": "execute_result"
    }
   ],
   "source": [
    "rng.get_test_array_tuple()"
   ]
  },
  {
   "cell_type": "code",
   "execution_count": 8,
   "metadata": {
    "collapsed": true
   },
   "outputs": [
    {
     "data": {
      "text/plain": [
       "b'\\xb1\\xd4\\xba\\x16z\\xb5\\xeb?[k9C\\x17\\xf3\\xeb?\\xc0\\xc5\\x8ae\\x96T\\xdc?\\n\\xbc\\xd7/\\x9a\\xa1\\xdf?\\x98\\xd4:H\\xc5\\x07\\xbc?\\xaaoR@X\\xb9\\xd0?4&\\x93\\x1e\\xecw\\xd1?t\\xd7\\xe6=Tj\\xdc?\\xe0\\xb9\\x86{\\xad\\xc8\\xce?\\xa6$\\xb3$O\\xb8\\xeb?=\\x8b\\x01\\x80\\xeex\\xe5?\\xb0Z0\\xa8\\x08G\\xe3?@\\xf5\\xbdQO\\xcc\\xe0?\\xd80)\\x0f\\xa2\\xb0\\xc2?\\xa0NV\\x96\\x04~\\xe1?\\xd0\\x05\\x10\\xa3P\\x19\\xde?\\x8fyyOf)\\xe1?\\xdd\\x1a\\x82>$\\x81\\xe6?\\xe8|\\xe6\\xee\\xc9\\xdb\\xc5?.\\xe4\\x11\\x88oi\\xe6?\\x16i\\x94\\xdb*\\x03\\xe5?\\x82k\\xe1\\x7f\\xfe\\xa6\\xdf?\\x90\\xce\\xb0\\x88w!\\xc1?\\xa2\\x88\\xdc\\x12\\xcaW\\xd0?\\x9c\\xc0-\\x1a\\x90\\xc1\\xc3?\\x05{\\x12\\xef\\xf6F\\xec?\\xe2\\xc1\\xcf\\x82\\xc0\\x8a\\xd6?\\xb6\\xdc\\r\\xe1\\xd0\\xa4\\xd1?;\\x8e\\xc7\\xbeK\\x95\\xe9?\\xf1\\x8e\\xd0\\xb2{\\xff\\xef?T\\xd98\\xc4#Q\\xed?\\xe4\\xee:I\\xe1\\x08\\xe5?\\xcd\\x06\\xde\\xa6\\xd9%\\xeb?\\x00\\xe4\\xe3\\x17\\xb9\\\\\\x90?\\x88=\\xed\"\\x9de\\xcb?\\xe2\\xd7\\x16t\\xe9&\\xde?\\xd6w\\xa2\\xd1\\xd7\\x88\\xdb?g\\x96R\\x1f\\xbe\\xbd\\xea?\\xed\\xa2\\xccx\\xfe\\r\\xe4?\\x80\\xa2\\x19\\x06\\xea1\\xc5?\\xf4\\xff\\r\\x1b\\x8a\\xb8\\xcb?`\\x01\\'<U\\x02\\xe0?\\x8b\\xc81\\xd4`b\\xe2?\\x1a\\xf9\\xab\\x88\\xd6\\xd9\\xeb?\\x80|\\xff<\\xa4D\\xe2?\\xeeT\\xf2\\x93\\xb9\\xd1\\xe6?\\xfc\\x14\\x04)\\xabY\\xc9?\\n\\xb7L\\x0e\\xd7\\xb8\\xd7?\\x00\\x90\\xe1\\xd6\\x9a\\xf4\\xa6?\\xb88J\\x95k\\xa8\\xeb?\\nR\\xbdm\\x94\\xf9\\xef?\\x00\\xb2\\x1b\\x0b\\xdc5`?\\x03w ]\\x16\\x8e\\xee?\\xa8\\x93]8\\x12\\xd8\\xc5?\\xae\\xde\\rj\\x0c%\\xe2?\\xf8\\xf5\\xc2\\xc1.\\r\\xdc?\\xe8\\xf0C\\xb2\\xee\\x84\\xd3?\\xc0\\xb5FQ\\x9b\\xbc\\x82?\\xe3\\x99\\xf0\\xa7$\\x9a\\xef?F\\x18v\\x9d\\x08\\xf0\\xec?\\xc8\\xe8\\x8f\\x02\\x83,\\xc3?\\xba\\xead\\xd1s;\\xe4?\\xb0\\xc7\\xb8`L!\\xe4?\\xe7\\xabH\\xb3\\xb0\\t\\xef?F0\\xceZ\\xb7X\\xe0?\\x00\\xbe\\xcb!\\x9c\\xa0\\xb4?\\xf02\\xd1W\\xe2\\x02\\xb5?\\xde\\x04\\xb3\\xf2\\x06u\\xdc?y\\xac\\xe7*\\xf1\\x03\\xe8?\\xade\\xefGj\\xe8\\xe8?\\xd0\\xa0>\\xb1\\x03\\xb3\\xb3?\\xb0k\\xb3NQ\\xb5\\xed?#K\\xe4\\x9f\\xb3Z\\xe8?\\xb2w\\x9bW\\x81\\xdd\\xe0?\\x9c\\x1f\\xd32G?\\xe7?\\xfe-~A\\x93\\xd8\\xe5?\\x17\\x8cI\\xc0\\xfer\\xe6?\\xac\\xca\\x18\\x12\\x1e\\xa2\\xc2?O\\x83g\\xc4F\\xed\\xe0?\\x99\\x85@\\xb2f:\\xe4?\\xa6\\x10\\x91;H\\xf8\\xd2?ZwN4\\x16\\xf7\\xe0?\\xfe)\\xe9\\xbf\\xab\\\\\\xe3?<=G/\\xe9\\x9a\\xc7?(7\\xcdR\\xff\\xa5\\xbb?\\x1c.\\x80\\x80\\xd9\\xa1\\xed?\\xdcX\\xc3\\x8e\\xd0\\t\\xca?\\xacX\\xa2v\\xcaL\\xca?n.\\x98\\xcd\\xb5\\x00\\xe4?\\x984\\xd0\\r\\xa0T\\xe9?T\\x07\\xa6[\\x90\\xb7\\xc8? Q\\x9b\\xd8\\x93\\xeb\\xef?\\x12>`n\\xbd\\xdc\\xe2?3g\\xef7\\x94l\\xe5?^\\xa1\\x1f\\xfa\\x12\\xa4\\xe1?\\xd11\\xae\\x04\\x1f\\x90\\xee?=\\xae{\\xb2\\xcf\\xcd\\xe0?\\x00\\xc4.\\x82+\\xa5\\xb5?\\x11\\x8e\\x80\\xf4\\xf7m\\xec?8\\xddl\\xa9\\xf1\\xd8\\xe1?'"
      ]
     },
     "execution_count": 8,
     "metadata": {},
     "output_type": "execute_result"
    }
   ],
   "source": [
    "rng.get_test_array_tostring()"
   ]
  },
  {
   "cell_type": "code",
   "execution_count": 9,
   "metadata": {
    "collapsed": true
   },
   "outputs": [
    {
     "data": {
      "text/plain": [
       "b'\\x80\\x03cnumpy.core.multiarray\\n_reconstruct\\nq\\x00cnumpy\\nndarray\\nq\\x01K\\x00\\x85q\\x02C\\x01bq\\x03\\x87q\\x04Rq\\x05(K\\x01Kd\\x85q\\x06cnumpy\\ndtype\\nq\\x07X\\x02\\x00\\x00\\x00f8q\\x08K\\x00K\\x01\\x87q\\tRq\\n(K\\x03X\\x01\\x00\\x00\\x00<q\\x0bNNNJ\\xff\\xff\\xff\\xffJ\\xff\\xff\\xff\\xffK\\x00tq\\x0cb\\x89B \\x03\\x00\\x00\\xb1\\xd4\\xba\\x16z\\xb5\\xeb?[k9C\\x17\\xf3\\xeb?\\xc0\\xc5\\x8ae\\x96T\\xdc?\\n\\xbc\\xd7/\\x9a\\xa1\\xdf?\\x98\\xd4:H\\xc5\\x07\\xbc?\\xaaoR@X\\xb9\\xd0?4&\\x93\\x1e\\xecw\\xd1?t\\xd7\\xe6=Tj\\xdc?\\xe0\\xb9\\x86{\\xad\\xc8\\xce?\\xa6$\\xb3$O\\xb8\\xeb?=\\x8b\\x01\\x80\\xeex\\xe5?\\xb0Z0\\xa8\\x08G\\xe3?@\\xf5\\xbdQO\\xcc\\xe0?\\xd80)\\x0f\\xa2\\xb0\\xc2?\\xa0NV\\x96\\x04~\\xe1?\\xd0\\x05\\x10\\xa3P\\x19\\xde?\\x8fyyOf)\\xe1?\\xdd\\x1a\\x82>$\\x81\\xe6?\\xe8|\\xe6\\xee\\xc9\\xdb\\xc5?.\\xe4\\x11\\x88oi\\xe6?\\x16i\\x94\\xdb*\\x03\\xe5?\\x82k\\xe1\\x7f\\xfe\\xa6\\xdf?\\x90\\xce\\xb0\\x88w!\\xc1?\\xa2\\x88\\xdc\\x12\\xcaW\\xd0?\\x9c\\xc0-\\x1a\\x90\\xc1\\xc3?\\x05{\\x12\\xef\\xf6F\\xec?\\xe2\\xc1\\xcf\\x82\\xc0\\x8a\\xd6?\\xb6\\xdc\\r\\xe1\\xd0\\xa4\\xd1?;\\x8e\\xc7\\xbeK\\x95\\xe9?\\xf1\\x8e\\xd0\\xb2{\\xff\\xef?T\\xd98\\xc4#Q\\xed?\\xe4\\xee:I\\xe1\\x08\\xe5?\\xcd\\x06\\xde\\xa6\\xd9%\\xeb?\\x00\\xe4\\xe3\\x17\\xb9\\\\\\x90?\\x88=\\xed\"\\x9de\\xcb?\\xe2\\xd7\\x16t\\xe9&\\xde?\\xd6w\\xa2\\xd1\\xd7\\x88\\xdb?g\\x96R\\x1f\\xbe\\xbd\\xea?\\xed\\xa2\\xccx\\xfe\\r\\xe4?\\x80\\xa2\\x19\\x06\\xea1\\xc5?\\xf4\\xff\\r\\x1b\\x8a\\xb8\\xcb?`\\x01\\'<U\\x02\\xe0?\\x8b\\xc81\\xd4`b\\xe2?\\x1a\\xf9\\xab\\x88\\xd6\\xd9\\xeb?\\x80|\\xff<\\xa4D\\xe2?\\xeeT\\xf2\\x93\\xb9\\xd1\\xe6?\\xfc\\x14\\x04)\\xabY\\xc9?\\n\\xb7L\\x0e\\xd7\\xb8\\xd7?\\x00\\x90\\xe1\\xd6\\x9a\\xf4\\xa6?\\xb88J\\x95k\\xa8\\xeb?\\nR\\xbdm\\x94\\xf9\\xef?\\x00\\xb2\\x1b\\x0b\\xdc5`?\\x03w ]\\x16\\x8e\\xee?\\xa8\\x93]8\\x12\\xd8\\xc5?\\xae\\xde\\rj\\x0c%\\xe2?\\xf8\\xf5\\xc2\\xc1.\\r\\xdc?\\xe8\\xf0C\\xb2\\xee\\x84\\xd3?\\xc0\\xb5FQ\\x9b\\xbc\\x82?\\xe3\\x99\\xf0\\xa7$\\x9a\\xef?F\\x18v\\x9d\\x08\\xf0\\xec?\\xc8\\xe8\\x8f\\x02\\x83,\\xc3?\\xba\\xead\\xd1s;\\xe4?\\xb0\\xc7\\xb8`L!\\xe4?\\xe7\\xabH\\xb3\\xb0\\t\\xef?F0\\xceZ\\xb7X\\xe0?\\x00\\xbe\\xcb!\\x9c\\xa0\\xb4?\\xf02\\xd1W\\xe2\\x02\\xb5?\\xde\\x04\\xb3\\xf2\\x06u\\xdc?y\\xac\\xe7*\\xf1\\x03\\xe8?\\xade\\xefGj\\xe8\\xe8?\\xd0\\xa0>\\xb1\\x03\\xb3\\xb3?\\xb0k\\xb3NQ\\xb5\\xed?#K\\xe4\\x9f\\xb3Z\\xe8?\\xb2w\\x9bW\\x81\\xdd\\xe0?\\x9c\\x1f\\xd32G?\\xe7?\\xfe-~A\\x93\\xd8\\xe5?\\x17\\x8cI\\xc0\\xfer\\xe6?\\xac\\xca\\x18\\x12\\x1e\\xa2\\xc2?O\\x83g\\xc4F\\xed\\xe0?\\x99\\x85@\\xb2f:\\xe4?\\xa6\\x10\\x91;H\\xf8\\xd2?ZwN4\\x16\\xf7\\xe0?\\xfe)\\xe9\\xbf\\xab\\\\\\xe3?<=G/\\xe9\\x9a\\xc7?(7\\xcdR\\xff\\xa5\\xbb?\\x1c.\\x80\\x80\\xd9\\xa1\\xed?\\xdcX\\xc3\\x8e\\xd0\\t\\xca?\\xacX\\xa2v\\xcaL\\xca?n.\\x98\\xcd\\xb5\\x00\\xe4?\\x984\\xd0\\r\\xa0T\\xe9?T\\x07\\xa6[\\x90\\xb7\\xc8? Q\\x9b\\xd8\\x93\\xeb\\xef?\\x12>`n\\xbd\\xdc\\xe2?3g\\xef7\\x94l\\xe5?^\\xa1\\x1f\\xfa\\x12\\xa4\\xe1?\\xd11\\xae\\x04\\x1f\\x90\\xee?=\\xae{\\xb2\\xcf\\xcd\\xe0?\\x00\\xc4.\\x82+\\xa5\\xb5?\\x11\\x8e\\x80\\xf4\\xf7m\\xec?8\\xddl\\xa9\\xf1\\xd8\\xe1?q\\rtq\\x0eb.'"
      ]
     },
     "execution_count": 9,
     "metadata": {},
     "output_type": "execute_result"
    }
   ],
   "source": [
    "rng.get_test_array_pickle()"
   ]
  },
  {
   "cell_type": "markdown",
   "metadata": {},
   "source": [
    "### Create and start server "
   ]
  },
  {
   "cell_type": "code",
   "execution_count": 10,
   "metadata": {},
   "outputs": [],
   "source": [
    "rng_server = client_server.Server(\n",
    "    module_ref=rng, \n",
    "    host='localhost', \n",
    "    port=18890\n",
    ")"
   ]
  },
  {
   "cell_type": "code",
   "execution_count": 11,
   "metadata": {},
   "outputs": [],
   "source": [
    "rng_server.start()"
   ]
  },
  {
   "cell_type": "code",
   "execution_count": 12,
   "metadata": {},
   "outputs": [
    {
     "data": {
      "text/plain": [
       "<client_server.Server at 0x2167b51f208>"
      ]
     },
     "execution_count": 12,
     "metadata": {},
     "output_type": "execute_result"
    }
   ],
   "source": [
    "rng_server"
   ]
  },
  {
   "cell_type": "code",
   "execution_count": 22,
   "metadata": {},
   "outputs": [
    {
     "data": {
      "text/plain": [
       "(100000,)"
      ]
     },
     "execution_count": 22,
     "metadata": {},
     "output_type": "execute_result"
    },
    {
     "name": "stderr",
     "output_type": "stream",
     "text": [
      "C:\\Anaconda\\lib\\site-packages\\rpyc\\core\\protocol.py:590: RuntimeWarning: divide by zero encountered in true_divide\n",
      "  return obj(*args, **dict(kwargs))\n"
     ]
    }
   ],
   "source": [
    "rng.test_array.shape"
   ]
  },
  {
   "cell_type": "code",
   "execution_count": 16,
   "metadata": {},
   "outputs": [
    {
     "data": {
      "text/plain": [
       "1000"
      ]
     },
     "execution_count": 16,
     "metadata": {},
     "output_type": "execute_result"
    }
   ],
   "source": [
    "len(rng.test_array)"
   ]
  },
  {
   "cell_type": "code",
   "execution_count": 11,
   "metadata": {},
   "outputs": [],
   "source": [
    "rng._mean = 3.5"
   ]
  },
  {
   "cell_type": "code",
   "execution_count": 12,
   "metadata": {},
   "outputs": [],
   "source": [
    "rng._amp = 4.5"
   ]
  },
  {
   "cell_type": "code",
   "execution_count": 26,
   "metadata": {},
   "outputs": [
    {
     "data": {
      "text/plain": [
       "{'mean': 1.5, 'amp': 2.5}"
      ]
     },
     "execution_count": 26,
     "metadata": {},
     "output_type": "execute_result"
    }
   ],
   "source": [
    "rng.get_params()"
   ]
  },
  {
   "cell_type": "code",
   "execution_count": 19,
   "metadata": {},
   "outputs": [
    {
     "data": {
      "text/plain": [
       "array([1.93198863, 5.35982638, 1.83790444, 4.57233581, 2.1681187 ,\n",
       "       1.84905056, 4.42055605, 3.89569589, 4.1030336 , 3.12608331])"
      ]
     },
     "execution_count": 19,
     "metadata": {},
     "output_type": "execute_result"
    }
   ],
   "source": [
    "rng.get_value(10)"
   ]
  },
  {
   "cell_type": "code",
   "execution_count": null,
   "metadata": {},
   "outputs": [],
   "source": []
  }
 ],
 "metadata": {
  "kernelspec": {
   "display_name": "Python 3",
   "language": "python",
   "name": "python3"
  },
  "language_info": {
   "codemirror_mode": {
    "name": "ipython",
    "version": 3
   },
   "file_extension": ".py",
   "mimetype": "text/x-python",
   "name": "python",
   "nbconvert_exporter": "python",
   "pygments_lexer": "ipython3",
   "version": "3.7.0"
  }
 },
 "nbformat": 4,
 "nbformat_minor": 2
}
