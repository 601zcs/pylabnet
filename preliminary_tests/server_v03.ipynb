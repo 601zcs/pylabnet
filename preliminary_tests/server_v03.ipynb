{
 "cells": [
  {
   "cell_type": "code",
   "execution_count": 1,
   "metadata": {},
   "outputs": [],
   "source": [
    "from generic_server import GenericServer\n",
    "from rng import RNG, RNGService, RNGClient"
   ]
  },
  {
   "cell_type": "markdown",
   "metadata": {},
   "source": [
    "### Create device"
   ]
  },
  {
   "cell_type": "code",
   "execution_count": 2,
   "metadata": {},
   "outputs": [],
   "source": [
    "rng = RNG()"
   ]
  },
  {
   "cell_type": "code",
   "execution_count": 3,
   "metadata": {},
   "outputs": [],
   "source": [
    "rng.set_params(mean=1.5, amp=2.5)"
   ]
  },
  {
   "cell_type": "code",
   "execution_count": 4,
   "metadata": {
    "collapsed": true
   },
   "outputs": [
    {
     "data": {
      "text/plain": [
       "array([[0.85836989, 2.44681764, 0.39409959, 0.30843113, 1.09097493,\n",
       "        2.39067657, 2.49982974, 0.96399042, 1.89629987, 1.53595397],\n",
       "       [1.66208684, 0.89198959, 0.50763439, 0.3870868 , 1.26927637,\n",
       "        1.79459481, 0.69552177, 1.97482534, 0.70914388, 0.61774857],\n",
       "       [1.15006715, 0.50887982, 1.1630812 , 1.10531676, 2.20994619,\n",
       "        1.64045771, 0.37084991, 1.7413361 , 2.50369989, 0.56808268],\n",
       "       [1.12580769, 0.43874989, 0.35379749, 0.86808788, 0.43713938,\n",
       "        1.00941237, 2.18677515, 0.34292421, 0.31077933, 0.9703311 ],\n",
       "       [2.68487431, 1.42529258, 0.6375788 , 0.75915117, 0.62024143,\n",
       "        0.43176178, 1.45886457, 1.79756688, 0.88607844, 1.36857484],\n",
       "       [1.05509508, 0.90437914, 2.11430323, 0.94482482, 0.51968332,\n",
       "        1.75244688, 0.28660587, 2.3702525 , 2.74383494, 0.77432807],\n",
       "       [1.57399618, 0.6276854 , 0.78116266, 1.68557686, 1.38464912,\n",
       "        1.57911045, 1.22560825, 1.39504604, 0.33338545, 1.78633117],\n",
       "       [1.54844864, 0.92212713, 1.52562005, 2.73452001, 0.98644895,\n",
       "        2.07011695, 1.56563626, 2.72350111, 1.5052331 , 1.84122499],\n",
       "       [1.0133343 , 1.0027655 , 1.60277821, 2.16913046, 1.2196984 ,\n",
       "        2.43739705, 1.37056405, 1.63586832, 0.28685747, 1.71713174],\n",
       "       [1.44221251, 0.88870128, 1.27244351, 1.36792431, 2.41419786,\n",
       "        1.7428596 , 0.82722357, 0.70407307, 1.46638506, 0.59945466]])"
      ]
     },
     "execution_count": 4,
     "metadata": {},
     "output_type": "execute_result"
    }
   ],
   "source": [
    "rng.get_value((10, 10))"
   ]
  },
  {
   "cell_type": "markdown",
   "metadata": {},
   "source": [
    "### Create and start server "
   ]
  },
  {
   "cell_type": "code",
   "execution_count": 5,
   "metadata": {},
   "outputs": [],
   "source": [
    "rng_service = RNGService()\n",
    "rng_service.assign_module(module=rng)"
   ]
  },
  {
   "cell_type": "code",
   "execution_count": 6,
   "metadata": {},
   "outputs": [],
   "source": [
    "rng_server = GenericServer(\n",
    "    service=rng_service, \n",
    "    host='localhost', \n",
    "    port=18890\n",
    ")"
   ]
  },
  {
   "cell_type": "code",
   "execution_count": 7,
   "metadata": {},
   "outputs": [],
   "source": [
    "rng_server.start()"
   ]
  },
  {
   "cell_type": "code",
   "execution_count": 8,
   "metadata": {},
   "outputs": [
    {
     "data": {
      "text/plain": [
       "<generic_server.GenericServer at 0x2b87c513748>"
      ]
     },
     "execution_count": 8,
     "metadata": {},
     "output_type": "execute_result"
    }
   ],
   "source": [
    "rng_server"
   ]
  },
  {
   "cell_type": "markdown",
   "metadata": {},
   "source": [
    "### Control device"
   ]
  },
  {
   "cell_type": "code",
   "execution_count": 11,
   "metadata": {},
   "outputs": [
    {
     "data": {
      "text/plain": [
       "100000"
      ]
     },
     "execution_count": 11,
     "metadata": {},
     "output_type": "execute_result"
    }
   ],
   "source": [
    "len(rng.test_array)"
   ]
  },
  {
   "cell_type": "code",
   "execution_count": 9,
   "metadata": {},
   "outputs": [
    {
     "data": {
      "text/plain": [
       "array([0.18685973, 0.15469207, 0.95272305, ..., 0.77535147, 0.85620661,\n",
       "       0.4561415 ])"
      ]
     },
     "execution_count": 9,
     "metadata": {},
     "output_type": "execute_result"
    }
   ],
   "source": [
    "rng.test_array"
   ]
  },
  {
   "cell_type": "code",
   "execution_count": 12,
   "metadata": {},
   "outputs": [
    {
     "data": {
      "text/plain": [
       "{'mean': 1.5, 'amp': 1.0}"
      ]
     },
     "execution_count": 12,
     "metadata": {},
     "output_type": "execute_result"
    }
   ],
   "source": [
    "rng.get_params()"
   ]
  },
  {
   "cell_type": "code",
   "execution_count": null,
   "metadata": {},
   "outputs": [],
   "source": []
  }
 ],
 "metadata": {
  "kernelspec": {
   "display_name": "Python 3",
   "language": "python",
   "name": "python3"
  },
  "language_info": {
   "codemirror_mode": {
    "name": "ipython",
    "version": 3
   },
   "file_extension": ".py",
   "mimetype": "text/x-python",
   "name": "python",
   "nbconvert_exporter": "python",
   "pygments_lexer": "ipython3",
   "version": "3.7.0"
  }
 },
 "nbformat": 4,
 "nbformat_minor": 2
}
