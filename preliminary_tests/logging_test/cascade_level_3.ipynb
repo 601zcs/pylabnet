{
 "cells": [
  {
   "cell_type": "code",
   "execution_count": 1,
   "metadata": {},
   "outputs": [],
   "source": [
    "import sys\n",
    "sys.path.append(r'C:\\Users\\Lukin SiV\\pylabnet')"
   ]
  },
  {
   "cell_type": "code",
   "execution_count": 2,
   "metadata": {},
   "outputs": [],
   "source": [
    "import rpyc\n",
    "from hardware.rng import RNGClient"
   ]
  },
  {
   "cell_type": "markdown",
   "metadata": {},
   "source": [
    "### Create client "
   ]
  },
  {
   "cell_type": "code",
   "execution_count": 3,
   "metadata": {},
   "outputs": [],
   "source": [
    "remote_rng = RNGClient(host='localhost', port=18891)"
   ]
  },
  {
   "cell_type": "markdown",
   "metadata": {},
   "source": [
    "#### Reconnect"
   ]
  },
  {
   "cell_type": "code",
   "execution_count": 25,
   "metadata": {},
   "outputs": [
    {
     "data": {
      "text/plain": [
       "0"
      ]
     },
     "execution_count": 25,
     "metadata": {},
     "output_type": "execute_result"
    }
   ],
   "source": [
    "remote_rng.connect()"
   ]
  },
  {
   "cell_type": "markdown",
   "metadata": {},
   "source": [
    "### Interact with device"
   ]
  },
  {
   "cell_type": "code",
   "execution_count": 84,
   "metadata": {},
   "outputs": [
    {
     "data": {
      "text/plain": [
       "{'mean': 5.8, 'amp': 0.59}"
      ]
     },
     "execution_count": 84,
     "metadata": {},
     "output_type": "execute_result"
    }
   ],
   "source": [
    "remote_rng.get_params()"
   ]
  },
  {
   "cell_type": "code",
   "execution_count": 83,
   "metadata": {},
   "outputs": [
    {
     "data": {
      "text/plain": [
       "0"
      ]
     },
     "execution_count": 83,
     "metadata": {},
     "output_type": "execute_result"
    }
   ],
   "source": [
    "remote_rng.set_params(mean=5.8, amp=0.59)"
   ]
  },
  {
   "cell_type": "code",
   "execution_count": 85,
   "metadata": {},
   "outputs": [
    {
     "data": {
      "text/plain": [
       "array([[5.88057979, 5.51803831, 5.99623665, ..., 5.63704539, 5.72817104,\n",
       "        5.89818516],\n",
       "       [5.97120258, 5.62180679, 5.89637777, ..., 5.64231353, 5.6822855 ,\n",
       "        5.69036235],\n",
       "       [5.52536426, 5.86830884, 5.67812177, ..., 6.08890533, 5.94400489,\n",
       "        6.02510628],\n",
       "       ...,\n",
       "       [6.0244983 , 5.9916849 , 6.04296653, ..., 5.67588015, 6.03080003,\n",
       "        5.87424911],\n",
       "       [5.60799298, 5.95218707, 5.78995133, ..., 5.76094261, 5.65150911,\n",
       "        5.99518755],\n",
       "       [5.86185286, 5.51246705, 5.9141614 , ..., 5.94395819, 5.98457505,\n",
       "        5.60553287]])"
      ]
     },
     "execution_count": 85,
     "metadata": {},
     "output_type": "execute_result"
    }
   ],
   "source": [
    "remote_rng.get_value((1000, 1000))"
   ]
  },
  {
   "cell_type": "code",
   "execution_count": 62,
   "metadata": {},
   "outputs": [
    {
     "ename": "ZeroDivisionError",
     "evalue": "division by zero\n\n========= Remote Traceback (2) =========\nTraceback (most recent call last):\n  File \"C:\\Anaconda\\lib\\site-packages\\rpyc\\core\\protocol.py\", line 329, in _dispatch_request\n    res = self._HANDLERS[handler](self, *args)\n  File \"C:\\Anaconda\\lib\\site-packages\\rpyc\\core\\protocol.py\", line 590, in _handle_call\n    return obj(*args, **dict(kwargs))\n  File \"C:\\Users\\Lukin SiV\\pylabnet\\hardware\\rng.py\", line 108, in exposed_divide\n    return self._module.divide(a=a, b=b)\n  File \"C:\\Users\\Lukin SiV\\pylabnet\\hardware\\rng.py\", line 201, in divide\n    return self._service.exposed_divide(a=a, b=b)\n  File \"C:\\Anaconda\\lib\\site-packages\\rpyc\\core\\netref.py\", line 199, in __call__\n    return syncreq(_self, consts.HANDLE_CALL, args, kwargs)\n  File \"C:\\Anaconda\\lib\\site-packages\\rpyc\\core\\netref.py\", line 75, in syncreq\n    return conn.sync_request(handler, proxy, *args)\n  File \"C:\\Anaconda\\lib\\site-packages\\rpyc\\core\\protocol.py\", line 471, in sync_request\n    return self.async_request(handler, *args, timeout=timeout).value\n  File \"C:\\Anaconda\\lib\\site-packages\\rpyc\\core\\async_.py\", line 97, in value\n    raise self._obj\n_get_exception_class.<locals>.Derived: division by zero\n\n========= Remote Traceback (1) =========\nTraceback (most recent call last):\n  File \"C:\\Anaconda\\lib\\site-packages\\rpyc\\core\\protocol.py\", line 329, in _dispatch_request\n    res = self._HANDLERS[handler](self, *args)\n  File \"C:\\Anaconda\\lib\\site-packages\\rpyc\\core\\protocol.py\", line 590, in _handle_call\n    return obj(*args, **dict(kwargs))\n  File \"C:\\Users\\Lukin SiV\\pylabnet\\hardware\\rng.py\", line 108, in exposed_divide\n    return self._module.divide(a=a, b=b)\n  File \"C:\\Users\\Lukin SiV\\pylabnet\\hardware\\rng.py\", line 55, in divide\n    return a / b\nZeroDivisionError: division by zero\n\n",
     "output_type": "error",
     "traceback": [
      "\u001b[1;31m---------------------------------------------------------------------------\u001b[0m",
      "\u001b[1;31mZeroDivisionError\u001b[0m                         Traceback (most recent call last)",
      "\u001b[1;32m<ipython-input-62-3862f102e24f>\u001b[0m in \u001b[0;36m<module>\u001b[1;34m()\u001b[0m\n\u001b[1;32m----> 1\u001b[1;33m \u001b[0mremote_rng\u001b[0m\u001b[1;33m.\u001b[0m\u001b[0mdivide\u001b[0m\u001b[1;33m(\u001b[0m\u001b[1;36m12\u001b[0m\u001b[1;33m,\u001b[0m \u001b[1;36m0\u001b[0m\u001b[1;33m)\u001b[0m\u001b[1;33m\u001b[0m\u001b[0m\n\u001b[0m",
      "\u001b[1;32m~\\pylabnet\\hardware\\rng.py\u001b[0m in \u001b[0;36mdivide\u001b[1;34m(self, a, b)\u001b[0m\n\u001b[0;32m    199\u001b[0m     \u001b[1;31m# Multi-level traceback/stability test\u001b[0m\u001b[1;33m\u001b[0m\u001b[1;33m\u001b[0m\u001b[0m\n\u001b[0;32m    200\u001b[0m     \u001b[1;32mdef\u001b[0m \u001b[0mdivide\u001b[0m\u001b[1;33m(\u001b[0m\u001b[0mself\u001b[0m\u001b[1;33m,\u001b[0m \u001b[0ma\u001b[0m\u001b[1;33m,\u001b[0m \u001b[0mb\u001b[0m\u001b[1;33m)\u001b[0m\u001b[1;33m:\u001b[0m\u001b[1;33m\u001b[0m\u001b[0m\n\u001b[1;32m--> 201\u001b[1;33m         \u001b[1;32mreturn\u001b[0m \u001b[0mself\u001b[0m\u001b[1;33m.\u001b[0m\u001b[0m_service\u001b[0m\u001b[1;33m.\u001b[0m\u001b[0mexposed_divide\u001b[0m\u001b[1;33m(\u001b[0m\u001b[0ma\u001b[0m\u001b[1;33m=\u001b[0m\u001b[0ma\u001b[0m\u001b[1;33m,\u001b[0m \u001b[0mb\u001b[0m\u001b[1;33m=\u001b[0m\u001b[0mb\u001b[0m\u001b[1;33m)\u001b[0m\u001b[1;33m\u001b[0m\u001b[0m\n\u001b[0m",
      "\u001b[1;32mC:\\Anaconda\\lib\\site-packages\\rpyc\\core\\netref.py\u001b[0m in \u001b[0;36m__call__\u001b[1;34m(_self, *args, **kwargs)\u001b[0m\n\u001b[0;32m    197\u001b[0m         \u001b[1;32mdef\u001b[0m \u001b[0m__call__\u001b[0m\u001b[1;33m(\u001b[0m\u001b[0m_self\u001b[0m\u001b[1;33m,\u001b[0m \u001b[1;33m*\u001b[0m\u001b[0margs\u001b[0m\u001b[1;33m,\u001b[0m \u001b[1;33m**\u001b[0m\u001b[0mkwargs\u001b[0m\u001b[1;33m)\u001b[0m\u001b[1;33m:\u001b[0m\u001b[1;33m\u001b[0m\u001b[0m\n\u001b[0;32m    198\u001b[0m             \u001b[0mkwargs\u001b[0m \u001b[1;33m=\u001b[0m \u001b[0mtuple\u001b[0m\u001b[1;33m(\u001b[0m\u001b[0mkwargs\u001b[0m\u001b[1;33m.\u001b[0m\u001b[0mitems\u001b[0m\u001b[1;33m(\u001b[0m\u001b[1;33m)\u001b[0m\u001b[1;33m)\u001b[0m\u001b[1;33m\u001b[0m\u001b[0m\n\u001b[1;32m--> 199\u001b[1;33m             \u001b[1;32mreturn\u001b[0m \u001b[0msyncreq\u001b[0m\u001b[1;33m(\u001b[0m\u001b[0m_self\u001b[0m\u001b[1;33m,\u001b[0m \u001b[0mconsts\u001b[0m\u001b[1;33m.\u001b[0m\u001b[0mHANDLE_CALL\u001b[0m\u001b[1;33m,\u001b[0m \u001b[0margs\u001b[0m\u001b[1;33m,\u001b[0m \u001b[0mkwargs\u001b[0m\u001b[1;33m)\u001b[0m\u001b[1;33m\u001b[0m\u001b[0m\n\u001b[0m\u001b[0;32m    200\u001b[0m         \u001b[0m__call__\u001b[0m\u001b[1;33m.\u001b[0m\u001b[0m__doc__\u001b[0m \u001b[1;33m=\u001b[0m \u001b[0mdoc\u001b[0m\u001b[1;33m\u001b[0m\u001b[0m\n\u001b[0;32m    201\u001b[0m         \u001b[1;32mreturn\u001b[0m \u001b[0m__call__\u001b[0m\u001b[1;33m\u001b[0m\u001b[0m\n",
      "\u001b[1;32mC:\\Anaconda\\lib\\site-packages\\rpyc\\core\\netref.py\u001b[0m in \u001b[0;36msyncreq\u001b[1;34m(proxy, handler, *args)\u001b[0m\n\u001b[0;32m     73\u001b[0m     \"\"\"\n\u001b[0;32m     74\u001b[0m     \u001b[0mconn\u001b[0m \u001b[1;33m=\u001b[0m \u001b[0mobject\u001b[0m\u001b[1;33m.\u001b[0m\u001b[0m__getattribute__\u001b[0m\u001b[1;33m(\u001b[0m\u001b[0mproxy\u001b[0m\u001b[1;33m,\u001b[0m \u001b[1;34m\"____conn__\"\u001b[0m\u001b[1;33m)\u001b[0m\u001b[1;33m\u001b[0m\u001b[0m\n\u001b[1;32m---> 75\u001b[1;33m     \u001b[1;32mreturn\u001b[0m \u001b[0mconn\u001b[0m\u001b[1;33m.\u001b[0m\u001b[0msync_request\u001b[0m\u001b[1;33m(\u001b[0m\u001b[0mhandler\u001b[0m\u001b[1;33m,\u001b[0m \u001b[0mproxy\u001b[0m\u001b[1;33m,\u001b[0m \u001b[1;33m*\u001b[0m\u001b[0margs\u001b[0m\u001b[1;33m)\u001b[0m\u001b[1;33m\u001b[0m\u001b[0m\n\u001b[0m\u001b[0;32m     76\u001b[0m \u001b[1;33m\u001b[0m\u001b[0m\n\u001b[0;32m     77\u001b[0m \u001b[1;32mdef\u001b[0m \u001b[0masyncreq\u001b[0m\u001b[1;33m(\u001b[0m\u001b[0mproxy\u001b[0m\u001b[1;33m,\u001b[0m \u001b[0mhandler\u001b[0m\u001b[1;33m,\u001b[0m \u001b[1;33m*\u001b[0m\u001b[0margs\u001b[0m\u001b[1;33m)\u001b[0m\u001b[1;33m:\u001b[0m\u001b[1;33m\u001b[0m\u001b[0m\n",
      "\u001b[1;32mC:\\Anaconda\\lib\\site-packages\\rpyc\\core\\protocol.py\u001b[0m in \u001b[0;36msync_request\u001b[1;34m(self, handler, *args)\u001b[0m\n\u001b[0;32m    469\u001b[0m         \"\"\"\n\u001b[0;32m    470\u001b[0m         \u001b[0mtimeout\u001b[0m \u001b[1;33m=\u001b[0m \u001b[0mself\u001b[0m\u001b[1;33m.\u001b[0m\u001b[0m_config\u001b[0m\u001b[1;33m[\u001b[0m\u001b[1;34m\"sync_request_timeout\"\u001b[0m\u001b[1;33m]\u001b[0m\u001b[1;33m\u001b[0m\u001b[0m\n\u001b[1;32m--> 471\u001b[1;33m         \u001b[1;32mreturn\u001b[0m \u001b[0mself\u001b[0m\u001b[1;33m.\u001b[0m\u001b[0masync_request\u001b[0m\u001b[1;33m(\u001b[0m\u001b[0mhandler\u001b[0m\u001b[1;33m,\u001b[0m \u001b[1;33m*\u001b[0m\u001b[0margs\u001b[0m\u001b[1;33m,\u001b[0m \u001b[0mtimeout\u001b[0m\u001b[1;33m=\u001b[0m\u001b[0mtimeout\u001b[0m\u001b[1;33m)\u001b[0m\u001b[1;33m.\u001b[0m\u001b[0mvalue\u001b[0m\u001b[1;33m\u001b[0m\u001b[0m\n\u001b[0m\u001b[0;32m    472\u001b[0m \u001b[1;33m\u001b[0m\u001b[0m\n\u001b[0;32m    473\u001b[0m     \u001b[1;32mdef\u001b[0m \u001b[0m_async_request\u001b[0m\u001b[1;33m(\u001b[0m\u001b[0mself\u001b[0m\u001b[1;33m,\u001b[0m \u001b[0mhandler\u001b[0m\u001b[1;33m,\u001b[0m \u001b[0margs\u001b[0m \u001b[1;33m=\u001b[0m \u001b[1;33m(\u001b[0m\u001b[1;33m)\u001b[0m\u001b[1;33m,\u001b[0m \u001b[0mcallback\u001b[0m \u001b[1;33m=\u001b[0m \u001b[1;33m(\u001b[0m\u001b[1;32mlambda\u001b[0m \u001b[0ma\u001b[0m\u001b[1;33m,\u001b[0m \u001b[0mb\u001b[0m\u001b[1;33m:\u001b[0m \u001b[1;32mNone\u001b[0m\u001b[1;33m)\u001b[0m\u001b[1;33m)\u001b[0m\u001b[1;33m:\u001b[0m\u001b[1;33m\u001b[0m\u001b[0m\n",
      "\u001b[1;32mC:\\Anaconda\\lib\\site-packages\\rpyc\\core\\async_.py\u001b[0m in \u001b[0;36mvalue\u001b[1;34m(self)\u001b[0m\n\u001b[0;32m     95\u001b[0m         \u001b[0mself\u001b[0m\u001b[1;33m.\u001b[0m\u001b[0mwait\u001b[0m\u001b[1;33m(\u001b[0m\u001b[1;33m)\u001b[0m\u001b[1;33m\u001b[0m\u001b[0m\n\u001b[0;32m     96\u001b[0m         \u001b[1;32mif\u001b[0m \u001b[0mself\u001b[0m\u001b[1;33m.\u001b[0m\u001b[0m_is_exc\u001b[0m\u001b[1;33m:\u001b[0m\u001b[1;33m\u001b[0m\u001b[0m\n\u001b[1;32m---> 97\u001b[1;33m             \u001b[1;32mraise\u001b[0m \u001b[0mself\u001b[0m\u001b[1;33m.\u001b[0m\u001b[0m_obj\u001b[0m\u001b[1;33m\u001b[0m\u001b[0m\n\u001b[0m\u001b[0;32m     98\u001b[0m         \u001b[1;32melse\u001b[0m\u001b[1;33m:\u001b[0m\u001b[1;33m\u001b[0m\u001b[0m\n\u001b[0;32m     99\u001b[0m             \u001b[1;32mreturn\u001b[0m \u001b[0mself\u001b[0m\u001b[1;33m.\u001b[0m\u001b[0m_obj\u001b[0m\u001b[1;33m\u001b[0m\u001b[0m\n",
      "\u001b[1;31mZeroDivisionError\u001b[0m: division by zero\n\n========= Remote Traceback (2) =========\nTraceback (most recent call last):\n  File \"C:\\Anaconda\\lib\\site-packages\\rpyc\\core\\protocol.py\", line 329, in _dispatch_request\n    res = self._HANDLERS[handler](self, *args)\n  File \"C:\\Anaconda\\lib\\site-packages\\rpyc\\core\\protocol.py\", line 590, in _handle_call\n    return obj(*args, **dict(kwargs))\n  File \"C:\\Users\\Lukin SiV\\pylabnet\\hardware\\rng.py\", line 108, in exposed_divide\n    return self._module.divide(a=a, b=b)\n  File \"C:\\Users\\Lukin SiV\\pylabnet\\hardware\\rng.py\", line 201, in divide\n    return self._service.exposed_divide(a=a, b=b)\n  File \"C:\\Anaconda\\lib\\site-packages\\rpyc\\core\\netref.py\", line 199, in __call__\n    return syncreq(_self, consts.HANDLE_CALL, args, kwargs)\n  File \"C:\\Anaconda\\lib\\site-packages\\rpyc\\core\\netref.py\", line 75, in syncreq\n    return conn.sync_request(handler, proxy, *args)\n  File \"C:\\Anaconda\\lib\\site-packages\\rpyc\\core\\protocol.py\", line 471, in sync_request\n    return self.async_request(handler, *args, timeout=timeout).value\n  File \"C:\\Anaconda\\lib\\site-packages\\rpyc\\core\\async_.py\", line 97, in value\n    raise self._obj\n_get_exception_class.<locals>.Derived: division by zero\n\n========= Remote Traceback (1) =========\nTraceback (most recent call last):\n  File \"C:\\Anaconda\\lib\\site-packages\\rpyc\\core\\protocol.py\", line 329, in _dispatch_request\n    res = self._HANDLERS[handler](self, *args)\n  File \"C:\\Anaconda\\lib\\site-packages\\rpyc\\core\\protocol.py\", line 590, in _handle_call\n    return obj(*args, **dict(kwargs))\n  File \"C:\\Users\\Lukin SiV\\pylabnet\\hardware\\rng.py\", line 108, in exposed_divide\n    return self._module.divide(a=a, b=b)\n  File \"C:\\Users\\Lukin SiV\\pylabnet\\hardware\\rng.py\", line 55, in divide\n    return a / b\nZeroDivisionError: division by zero\n\n"
     ]
    }
   ],
   "source": [
    "remote_rng.divide(12, 0)"
   ]
  },
  {
   "cell_type": "code",
   "execution_count": 67,
   "metadata": {},
   "outputs": [
    {
     "data": {
      "text/plain": [
       "2.4489795918367343"
      ]
     },
     "execution_count": 67,
     "metadata": {},
     "output_type": "execute_result"
    }
   ],
   "source": [
    "remote_rng.divide(12, 4.9)"
   ]
  },
  {
   "cell_type": "code",
   "execution_count": 70,
   "metadata": {},
   "outputs": [
    {
     "data": {
      "text/plain": [
       "{'mean': 1.2, 'amp': 100}"
      ]
     },
     "execution_count": 70,
     "metadata": {},
     "output_type": "execute_result"
    }
   ],
   "source": [
    "remote_rng.get_params()"
   ]
  },
  {
   "cell_type": "code",
   "execution_count": 43,
   "metadata": {},
   "outputs": [
    {
     "data": {
      "text/plain": [
       "{'mean': 1.2, 'amp': 1}"
      ]
     },
     "execution_count": 43,
     "metadata": {},
     "output_type": "execute_result"
    }
   ],
   "source": [
    "remote_rng.get_params()"
   ]
  },
  {
   "cell_type": "code",
   "execution_count": 69,
   "metadata": {},
   "outputs": [
    {
     "data": {
      "text/plain": [
       "0"
      ]
     },
     "execution_count": 69,
     "metadata": {},
     "output_type": "execute_result"
    }
   ],
   "source": [
    "remote_rng.set_params(mean=1.2)"
   ]
  },
  {
   "cell_type": "code",
   "execution_count": null,
   "metadata": {},
   "outputs": [],
   "source": []
  }
 ],
 "metadata": {
  "kernelspec": {
   "display_name": "Python 3",
   "language": "python",
   "name": "python3"
  },
  "language_info": {
   "codemirror_mode": {
    "name": "ipython",
    "version": 3
   },
   "file_extension": ".py",
   "mimetype": "text/x-python",
   "name": "python",
   "nbconvert_exporter": "python",
   "pygments_lexer": "ipython3",
   "version": "3.7.0"
  }
 },
 "nbformat": 4,
 "nbformat_minor": 2
}
