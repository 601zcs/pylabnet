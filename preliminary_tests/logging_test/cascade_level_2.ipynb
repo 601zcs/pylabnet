{
 "cells": [
  {
   "cell_type": "code",
   "execution_count": 1,
   "metadata": {},
   "outputs": [],
   "source": [
    "import sys\n",
    "sys.path.append(r'C:\\Users\\Lukin SiV\\pylabnet')"
   ]
  },
  {
   "cell_type": "code",
   "execution_count": 2,
   "metadata": {},
   "outputs": [],
   "source": [
    "from core.generic_server import GenericServer\n",
    "from hardware.rng import RNG, RNGService, RNGClient"
   ]
  },
  {
   "cell_type": "markdown",
   "metadata": {},
   "source": [
    "### Connect to RNG at level 1"
   ]
  },
  {
   "cell_type": "code",
   "execution_count": 3,
   "metadata": {},
   "outputs": [],
   "source": [
    "remote_rng = RNGClient(host='localhost', port=18890)"
   ]
  },
  {
   "cell_type": "code",
   "execution_count": 17,
   "metadata": {},
   "outputs": [
    {
     "data": {
      "text/plain": [
       "0"
      ]
     },
     "execution_count": 17,
     "metadata": {},
     "output_type": "execute_result"
    }
   ],
   "source": [
    "remote_rng.connect()"
   ]
  },
  {
   "cell_type": "code",
   "execution_count": 4,
   "metadata": {},
   "outputs": [
    {
     "data": {
      "text/plain": [
       "array([[18.9978949 , 18.95701968, 19.0330678 , 18.92883766, 19.00611271,\n",
       "        18.99110384, 19.07526583, 19.02898017, 19.0251454 , 19.06441644],\n",
       "       [19.01011783, 19.00025811, 18.93445624, 19.07030609, 18.96298848,\n",
       "        19.05482594, 18.96335192, 18.98829336, 19.01581174, 19.06823407],\n",
       "       [18.93905993, 19.06759144, 18.99805147, 18.98770563, 18.96393041,\n",
       "        19.03633054, 18.96907463, 19.00592057, 18.98928894, 18.92935302],\n",
       "       [19.03514491, 19.07653178, 18.97723304, 18.96078605, 19.02972939,\n",
       "        18.97562286, 19.0001839 , 18.92073123, 18.92776138, 18.97974474],\n",
       "       [19.03857815, 18.94153799, 18.94038471, 19.0637624 , 19.01992588,\n",
       "        18.92084828, 18.93970993, 19.00344378, 19.07419968, 19.03728414],\n",
       "       [18.93555572, 19.02300789, 18.96110893, 19.06650335, 18.96217789,\n",
       "        18.98609446, 18.9988415 , 18.92106547, 19.03227327, 19.03101412],\n",
       "       [19.07354373, 19.05501333, 19.06156506, 18.98910763, 19.01688842,\n",
       "        19.00770444, 18.96010076, 18.92122905, 18.92326708, 18.96913659],\n",
       "       [19.07843283, 19.03680413, 19.00636717, 19.02678831, 19.03676962,\n",
       "        18.97724444, 18.95032988, 19.0605535 , 18.99116598, 18.98927745],\n",
       "       [18.96828316, 18.93821347, 18.98067614, 18.94911565, 19.01042151,\n",
       "        18.9302028 , 19.06140223, 18.93634443, 18.92769399, 19.05100475],\n",
       "       [18.95928605, 19.05311302, 18.96159971, 19.05759884, 19.06727292,\n",
       "        19.02890705, 19.03429142, 18.99857772, 18.99423317, 18.92517543]])"
      ]
     },
     "execution_count": 4,
     "metadata": {},
     "output_type": "execute_result"
    }
   ],
   "source": [
    "remote_rng.get_value((10, 10))"
   ]
  },
  {
   "cell_type": "code",
   "execution_count": null,
   "metadata": {},
   "outputs": [],
   "source": [
    "remote_rng.set_params(mean=-10, amp=2.2)"
   ]
  },
  {
   "cell_type": "markdown",
   "metadata": {},
   "source": [
    "### Create and start server "
   ]
  },
  {
   "cell_type": "code",
   "execution_count": 5,
   "metadata": {},
   "outputs": [],
   "source": [
    "rng_service = RNGService()\n",
    "rng_service.assign_module(module=remote_rng)"
   ]
  },
  {
   "cell_type": "code",
   "execution_count": 6,
   "metadata": {},
   "outputs": [
    {
     "data": {
      "text/plain": [
       "<hardware.rng.RNGService at 0x11d043574a8>"
      ]
     },
     "execution_count": 6,
     "metadata": {},
     "output_type": "execute_result"
    }
   ],
   "source": [
    "rng_service"
   ]
  },
  {
   "cell_type": "code",
   "execution_count": 7,
   "metadata": {},
   "outputs": [],
   "source": [
    "rng_server = GenericServer(\n",
    "    service=rng_service, \n",
    "    host='localhost', \n",
    "    port=18891\n",
    ")"
   ]
  },
  {
   "cell_type": "code",
   "execution_count": 8,
   "metadata": {},
   "outputs": [],
   "source": [
    "rng_server.start()"
   ]
  },
  {
   "cell_type": "code",
   "execution_count": 9,
   "metadata": {},
   "outputs": [
    {
     "data": {
      "text/plain": [
       "True"
      ]
     },
     "execution_count": 9,
     "metadata": {},
     "output_type": "execute_result"
    }
   ],
   "source": [
    "rng_server._server.active"
   ]
  },
  {
   "cell_type": "code",
   "execution_count": 20,
   "metadata": {},
   "outputs": [
    {
     "data": {
      "text/plain": [
       "{<socket.socket fd=1160, family=AddressFamily.AF_INET, type=SocketKind.SOCK_STREAM, proto=0, laddr=('127.0.0.1', 18891), raddr=('127.0.0.1', 57773)>}"
      ]
     },
     "execution_count": 20,
     "metadata": {},
     "output_type": "execute_result"
    }
   ],
   "source": [
    "rng_server._server.clients"
   ]
  },
  {
   "cell_type": "code",
   "execution_count": null,
   "metadata": {},
   "outputs": [],
   "source": [
    "# rng_server._server.close()"
   ]
  },
  {
   "cell_type": "markdown",
   "metadata": {},
   "source": [
    "### Control device"
   ]
  },
  {
   "cell_type": "code",
   "execution_count": null,
   "metadata": {},
   "outputs": [],
   "source": [
    "remote_rng.get_params()"
   ]
  },
  {
   "cell_type": "code",
   "execution_count": 13,
   "metadata": {},
   "outputs": [
    {
     "data": {
      "text/plain": [
       "0"
      ]
     },
     "execution_count": 13,
     "metadata": {},
     "output_type": "execute_result"
    }
   ],
   "source": [
    "remote_rng.set_params(mean=5.1, amp=0.16)"
   ]
  },
  {
   "cell_type": "code",
   "execution_count": 24,
   "metadata": {},
   "outputs": [
    {
     "data": {
      "text/plain": [
       "array([19.05091145, 18.92600535, 19.06028648, 19.04094594, 19.01034232,\n",
       "       19.07082131, 18.97172389, 18.99247254, 18.96138784, 18.99121727,\n",
       "       18.99730655, 18.97576306, 19.07455786, 19.04861608, 19.02254769,\n",
       "       18.95112497, 18.96406489, 18.92437671, 18.94997307, 18.93057619])"
      ]
     },
     "execution_count": 24,
     "metadata": {},
     "output_type": "execute_result"
    }
   ],
   "source": [
    "remote_rng.get_value(20)"
   ]
  },
  {
   "cell_type": "markdown",
   "metadata": {},
   "source": [
    "### Remote treaceback test"
   ]
  },
  {
   "cell_type": "code",
   "execution_count": 25,
   "metadata": {},
   "outputs": [
    {
     "data": {
      "text/plain": [
       "50.0"
      ]
     },
     "execution_count": 25,
     "metadata": {},
     "output_type": "execute_result"
    }
   ],
   "source": [
    "remote_rng.divide(5, 0.1)"
   ]
  },
  {
   "cell_type": "code",
   "execution_count": null,
   "metadata": {},
   "outputs": [],
   "source": [
    "remote_rng.divide(5, 4)"
   ]
  },
  {
   "cell_type": "code",
   "execution_count": 18,
   "metadata": {},
   "outputs": [
    {
     "data": {
      "text/plain": [
       "{'mean': 0, 'amp': 1}"
      ]
     },
     "execution_count": 18,
     "metadata": {},
     "output_type": "execute_result"
    }
   ],
   "source": [
    "remote_rng.get_params()"
   ]
  },
  {
   "cell_type": "code",
   "execution_count": 15,
   "metadata": {},
   "outputs": [
    {
     "data": {
      "text/plain": [
       "1"
      ]
     },
     "execution_count": 15,
     "metadata": {},
     "output_type": "execute_result"
    },
    {
     "name": "stdout",
     "output_type": "stream",
     "text": [
      "[ERROR] get_params(): connection lost\n"
     ]
    }
   ],
   "source": [
    "1"
   ]
  },
  {
   "cell_type": "code",
   "execution_count": null,
   "metadata": {},
   "outputs": [],
   "source": []
  }
 ],
 "metadata": {
  "kernelspec": {
   "display_name": "Python 3",
   "language": "python",
   "name": "python3"
  },
  "language_info": {
   "codemirror_mode": {
    "name": "ipython",
    "version": 3
   },
   "file_extension": ".py",
   "mimetype": "text/x-python",
   "name": "python",
   "nbconvert_exporter": "python",
   "pygments_lexer": "ipython3",
   "version": "3.7.0"
  }
 },
 "nbformat": 4,
 "nbformat_minor": 2
}
