{
 "cells": [
  {
   "cell_type": "code",
   "execution_count": 1,
   "metadata": {},
   "outputs": [],
   "source": [
    "import sys\n",
    "sys.path.append(r'C:\\Users\\Lukin SiV\\pylabnet')"
   ]
  },
  {
   "cell_type": "code",
   "execution_count": 2,
   "metadata": {},
   "outputs": [],
   "source": [
    "from core.generic_server import GenericServer\n",
    "from core.logger import LogService"
   ]
  },
  {
   "cell_type": "code",
   "execution_count": 3,
   "metadata": {},
   "outputs": [],
   "source": [
    "log_service = LogService()"
   ]
  },
  {
   "cell_type": "code",
   "execution_count": 4,
   "metadata": {},
   "outputs": [],
   "source": [
    "log_server = GenericServer(service=log_service, host='localhost', port=18893)"
   ]
  },
  {
   "cell_type": "code",
   "execution_count": 5,
   "metadata": {},
   "outputs": [],
   "source": [
    "log_server.start()"
   ]
  },
  {
   "cell_type": "code",
   "execution_count": 6,
   "metadata": {},
   "outputs": [
    {
     "data": {
      "text/plain": [
       "True"
      ]
     },
     "execution_count": 6,
     "metadata": {},
     "output_type": "execute_result"
    }
   ],
   "source": [
    "log_server._server.active"
   ]
  },
  {
   "cell_type": "code",
   "execution_count": 7,
   "metadata": {},
   "outputs": [
    {
     "data": {
      "text/plain": [
       "set()"
      ]
     },
     "execution_count": 7,
     "metadata": {},
     "output_type": "execute_result"
    },
    {
     "name": "stdout",
     "output_type": "stream",
     "text": [
      "[LOG INFO] Client connected\n",
      "[DEBUG] test_client: The message\n",
      "[LOG INFO] Client disconnected\n",
      "[LOG INFO] Client connected\n",
      "[INFO] test_client: Started logging\n",
      "[DEBUG] test_client: The message\n",
      "[INFO] test_client: Hey\n",
      "[ERROR] test_client: Attempt to break softTraceback (most recent call last):\n",
      "  File \"<ipython-input-6-3c4f77f93070>\", line 2, in <module>\n",
      "    1/0\n",
      "ZeroDivisionError: division by zero\n",
      "\n",
      "[ERROR] test_client: Attempt to break soft\n",
      "Traceback (most recent call last):\n",
      "  File \"<ipython-input-7-ac14476d4282>\", line 2, in <module>\n",
      "    1/0\n",
      "ZeroDivisionError: division by zero\n",
      "\n",
      "[LOG INFO] Client disconnected\n"
     ]
    }
   ],
   "source": [
    "log_server._server.clients"
   ]
  },
  {
   "cell_type": "code",
   "execution_count": null,
   "metadata": {},
   "outputs": [],
   "source": []
  }
 ],
 "metadata": {
  "kernelspec": {
   "display_name": "Python 3",
   "language": "python",
   "name": "python3"
  },
  "language_info": {
   "codemirror_mode": {
    "name": "ipython",
    "version": 3
   },
   "file_extension": ".py",
   "mimetype": "text/x-python",
   "name": "python",
   "nbconvert_exporter": "python",
   "pygments_lexer": "ipython3",
   "version": "3.7.0"
  }
 },
 "nbformat": 4,
 "nbformat_minor": 2
}
