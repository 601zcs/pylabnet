{
 "cells": [
  {
   "cell_type": "code",
   "execution_count": 1,
   "metadata": {},
   "outputs": [],
   "source": [
    "import sys\n",
    "sys.path.append(r'C:\\Users\\Lukin SiV\\pylabnet')"
   ]
  },
  {
   "cell_type": "code",
   "execution_count": 2,
   "metadata": {},
   "outputs": [],
   "source": [
    "from core.generic_server import GenericServer\n",
    "from hardware.rng import RNG, RNGService"
   ]
  },
  {
   "cell_type": "markdown",
   "metadata": {},
   "source": [
    "### Create device"
   ]
  },
  {
   "cell_type": "code",
   "execution_count": 3,
   "metadata": {},
   "outputs": [],
   "source": [
    "rng = RNG()"
   ]
  },
  {
   "cell_type": "code",
   "execution_count": 4,
   "metadata": {},
   "outputs": [
    {
     "data": {
      "text/plain": [
       "0"
      ]
     },
     "execution_count": 4,
     "metadata": {},
     "output_type": "execute_result"
    }
   ],
   "source": [
    "rng.set_params(mean=0, amp=1)"
   ]
  },
  {
   "cell_type": "code",
   "execution_count": 5,
   "metadata": {
    "collapsed": true
   },
   "outputs": [
    {
     "data": {
      "text/plain": [
       "array([[ 0.42099155,  0.10042949,  0.44617548,  0.42494107,  0.34736588,\n",
       "         0.13923145, -0.00050946, -0.19477082, -0.41566286,  0.35095342],\n",
       "       [ 0.13181316,  0.3998611 , -0.07052685,  0.16361377,  0.11136778,\n",
       "         0.38348659,  0.3524564 ,  0.35848234,  0.47481473, -0.15456117],\n",
       "       [-0.22852257,  0.15444809, -0.2326875 , -0.27381687,  0.10735404,\n",
       "        -0.13006171, -0.05736546,  0.24533002,  0.2763465 , -0.24167267],\n",
       "       [ 0.34824355, -0.44505742,  0.20077501, -0.11448439,  0.39675151,\n",
       "         0.46347654, -0.35957997, -0.12943762,  0.26610419,  0.39601231],\n",
       "       [ 0.06474652, -0.29329821,  0.43937057,  0.39065184, -0.0358326 ,\n",
       "        -0.14178893,  0.09324963,  0.28583764, -0.03273038,  0.05024231],\n",
       "       [ 0.23406624, -0.14227437,  0.44536881, -0.28666293, -0.17983316,\n",
       "        -0.45288682,  0.39600279, -0.39732563,  0.10076664,  0.03199923],\n",
       "       [ 0.20362518, -0.3630462 ,  0.27545925,  0.13719498,  0.08782033,\n",
       "        -0.25253769,  0.42964321, -0.39243155,  0.02903908,  0.11900157],\n",
       "       [-0.11608593, -0.34694196,  0.08729979, -0.48236641, -0.22751726,\n",
       "         0.49665698,  0.32257328,  0.3819116 ,  0.11599452,  0.45962185],\n",
       "       [ 0.17497653,  0.33924177, -0.23391172, -0.0644152 , -0.17750863,\n",
       "         0.22670897,  0.34546248, -0.38978481, -0.05087976,  0.31539056],\n",
       "       [ 0.05414997,  0.16197312,  0.02166377, -0.43569854,  0.1386837 ,\n",
       "         0.0729116 ,  0.00301172, -0.3913658 , -0.39092016,  0.30239279]])"
      ]
     },
     "execution_count": 5,
     "metadata": {},
     "output_type": "execute_result"
    }
   ],
   "source": [
    "rng.get_value((10, 10))"
   ]
  },
  {
   "cell_type": "markdown",
   "metadata": {},
   "source": [
    "### Create and start server "
   ]
  },
  {
   "cell_type": "code",
   "execution_count": 6,
   "metadata": {},
   "outputs": [],
   "source": [
    "rng_service = RNGService()\n",
    "rng_service.assign_module(module=rng)"
   ]
  },
  {
   "cell_type": "code",
   "execution_count": 7,
   "metadata": {},
   "outputs": [
    {
     "data": {
      "text/plain": [
       "<hardware.rng.RNGService at 0x1a12de27358>"
      ]
     },
     "execution_count": 7,
     "metadata": {},
     "output_type": "execute_result"
    }
   ],
   "source": [
    "rng_service"
   ]
  },
  {
   "cell_type": "code",
   "execution_count": 8,
   "metadata": {},
   "outputs": [],
   "source": [
    "rng_server = GenericServer(\n",
    "    service=rng_service, \n",
    "    host='localhost', \n",
    "    port=18890\n",
    ")"
   ]
  },
  {
   "cell_type": "code",
   "execution_count": 9,
   "metadata": {},
   "outputs": [],
   "source": [
    "rng_server.start()"
   ]
  },
  {
   "cell_type": "code",
   "execution_count": 10,
   "metadata": {},
   "outputs": [
    {
     "data": {
      "text/plain": [
       "True"
      ]
     },
     "execution_count": 10,
     "metadata": {},
     "output_type": "execute_result"
    }
   ],
   "source": [
    "rng_server._server.active"
   ]
  },
  {
   "cell_type": "code",
   "execution_count": 13,
   "metadata": {},
   "outputs": [
    {
     "data": {
      "text/plain": [
       "{<socket.socket fd=1016, family=AddressFamily.AF_INET, type=SocketKind.SOCK_STREAM, proto=0, laddr=('127.0.0.1', 18890), raddr=('127.0.0.1', 58146)>}"
      ]
     },
     "execution_count": 13,
     "metadata": {},
     "output_type": "execute_result"
    }
   ],
   "source": [
    "rng_server._server.clients"
   ]
  },
  {
   "cell_type": "code",
   "execution_count": null,
   "metadata": {},
   "outputs": [],
   "source": [
    "# rng_server._server.close()"
   ]
  },
  {
   "cell_type": "markdown",
   "metadata": {},
   "source": [
    "### Control device"
   ]
  },
  {
   "cell_type": "code",
   "execution_count": 15,
   "metadata": {},
   "outputs": [
    {
     "data": {
      "text/plain": [
       "{'mean': 0.1, 'amp': 0.3}"
      ]
     },
     "execution_count": 15,
     "metadata": {},
     "output_type": "execute_result"
    }
   ],
   "source": [
    "rng.get_params()"
   ]
  },
  {
   "cell_type": "code",
   "execution_count": 18,
   "metadata": {},
   "outputs": [
    {
     "data": {
      "text/plain": [
       "0"
      ]
     },
     "execution_count": 18,
     "metadata": {},
     "output_type": "execute_result"
    }
   ],
   "source": [
    "rng.set_params(mean=15, amp=1.5)"
   ]
  },
  {
   "cell_type": "code",
   "execution_count": 26,
   "metadata": {},
   "outputs": [
    {
     "data": {
      "text/plain": [
       "array([5.87175131, 5.15683534, 5.77277718, 5.1157859 , 6.2615482 ,\n",
       "       5.77483994, 6.3499897 , 6.13848015, 4.97012893, 4.80345776,\n",
       "       5.82985684, 5.96101491, 5.68826317, 6.11547701, 6.39402847,\n",
       "       5.52920329, 4.97040802, 5.04876085, 6.11854229, 4.82103327,\n",
       "       5.42750223, 5.78301107, 6.31523214, 5.89377631, 6.31222528,\n",
       "       6.29871407, 5.94372207, 5.93494951, 6.0330729 , 5.66789316,\n",
       "       6.11425082, 6.13420337, 5.33256927, 5.80885749, 4.88353036,\n",
       "       6.16465293, 5.87479664, 5.93472628, 5.47276357, 6.38576483,\n",
       "       4.80636845, 5.18779512, 5.11635967, 5.11239016, 5.85366363,\n",
       "       6.08264124, 5.87117277, 4.91857321, 5.58173428, 4.94581877])"
      ]
     },
     "execution_count": 26,
     "metadata": {},
     "output_type": "execute_result"
    }
   ],
   "source": [
    "rng.get_value(50)"
   ]
  },
  {
   "cell_type": "code",
   "execution_count": null,
   "metadata": {},
   "outputs": [],
   "source": []
  }
 ],
 "metadata": {
  "kernelspec": {
   "display_name": "Python 3",
   "language": "python",
   "name": "python3"
  },
  "language_info": {
   "codemirror_mode": {
    "name": "ipython",
    "version": 3
   },
   "file_extension": ".py",
   "mimetype": "text/x-python",
   "name": "python",
   "nbconvert_exporter": "python",
   "pygments_lexer": "ipython3",
   "version": "3.7.0"
  }
 },
 "nbformat": 4,
 "nbformat_minor": 2
}
