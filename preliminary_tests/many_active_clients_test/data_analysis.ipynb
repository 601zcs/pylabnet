{
 "cells": [
  {
   "cell_type": "code",
   "execution_count": 1,
   "metadata": {},
   "outputs": [
    {
     "data": {
      "text/html": [
       "        <script type=\"text/javascript\">\n",
       "        window.PlotlyConfig = {MathJaxConfig: 'local'};\n",
       "        if (window.MathJax) {MathJax.Hub.Config({SVG: {font: \"STIX-Web\"}});}\n",
       "        if (typeof require !== 'undefined') {\n",
       "        require.undef(\"plotly\");\n",
       "        requirejs.config({\n",
       "            paths: {\n",
       "                'plotly': ['https://cdn.plot.ly/plotly-latest.min']\n",
       "            }\n",
       "        });\n",
       "        require(['plotly'], function(Plotly) {\n",
       "            window._Plotly = Plotly;\n",
       "        });\n",
       "        }\n",
       "        </script>\n",
       "        "
      ]
     },
     "metadata": {},
     "output_type": "display_data"
    }
   ],
   "source": [
    "import numpy as np\n",
    "import plotly\n",
    "import plotly.graph_objs as graph_objs\n",
    "plotly.offline.init_notebook_mode(connected=True)\n",
    "\n",
    "import matplotlib.pyplot as plt"
   ]
  },
  {
   "cell_type": "markdown",
   "metadata": {},
   "source": [
    "## Arrays of different size"
   ]
  },
  {
   "cell_type": "code",
   "execution_count": 52,
   "metadata": {},
   "outputs": [],
   "source": [
    "n_pnts = np.array([1, 10, 100, 1e3, 10e3, 20e3, 30e3, 40e3, 50e3, 60e3, 1e5, 2e5, 3e5, 4e5, 5e5, 6e5, 7e5, 8e5, 9e5, 1e6, 1.5e6, 2e6, 4e6])\n",
    "call_t = np.array([0.34, 0.35, 0.38, 0.67, 3.0, 5.65, 8.46, 11.8, 14.8, 17.5, 31.4, 88.6, 179, 292, 434, 608, 800, 1035, 1290, 1576, 3420, 5930, 23246])"
   ]
  },
  {
   "cell_type": "markdown",
   "metadata": {},
   "source": [
    "5e6 - `TimeoutError: result expired`\n",
    "\n",
    "8e6 - `TimeoutError: result expired`"
   ]
  },
  {
   "cell_type": "code",
   "execution_count": 75,
   "metadata": {},
   "outputs": [],
   "source": [
    "point_t = np.array([call_t[i]/n_pnts[i] for i in range(len(n_pnts))])"
   ]
  },
  {
   "cell_type": "code",
   "execution_count": 74,
   "metadata": {},
   "outputs": [
    {
     "data": {
      "application/vnd.plotly.v1+json": {
       "config": {
        "linkText": "Export to plot.ly",
        "plotlyServerURL": "https://plot.ly",
        "responsive": true,
        "showLink": false
       },
       "data": [
        {
         "mode": "lines+markers",
         "type": "scatter",
         "uid": "cd240c04-3d1d-4ddf-9039-8fc4f5a7e728",
         "x": [
          1,
          10,
          100,
          1000,
          10000,
          20000,
          30000,
          40000,
          50000,
          60000,
          100000,
          200000,
          300000,
          400000,
          500000,
          600000,
          700000,
          800000,
          900000,
          1000000,
          1500000,
          2000000,
          4000000
         ],
         "y": [
          0.34,
          0.35,
          0.38,
          0.67,
          3,
          5.65,
          8.46,
          11.8,
          14.8,
          17.5,
          31.4,
          88.6,
          179,
          292,
          434,
          608,
          800,
          1035,
          1290,
          1576,
          3420,
          5930,
          23246
         ]
        }
       ],
       "layout": {
        "title": {
         "text": "Total call time"
        },
        "xaxis": {
         "title": {
          "text": "array size"
         }
        },
        "yaxis": {
         "title": {
          "text": "call time [ms]"
         }
        }
       }
      },
      "text/html": [
       "<div>\n",
       "        \n",
       "        \n",
       "            <div id=\"ece58e8d-c480-45b7-ac36-06ccded0e72e\" class=\"plotly-graph-div\" style=\"height:525px; width:100%;\"></div>\n",
       "            <script type=\"text/javascript\">\n",
       "                require([\"plotly\"], function(Plotly) {\n",
       "                    window.PLOTLYENV=window.PLOTLYENV || {};\n",
       "                    window.PLOTLYENV.BASE_URL='https://plot.ly';\n",
       "                    \n",
       "                if (document.getElementById(\"ece58e8d-c480-45b7-ac36-06ccded0e72e\")) {\n",
       "                    Plotly.newPlot(\n",
       "                        'ece58e8d-c480-45b7-ac36-06ccded0e72e',\n",
       "                        [{\"mode\": \"lines+markers\", \"type\": \"scatter\", \"uid\": \"6be7cac7-016f-43f3-afec-3087b59e2097\", \"x\": [1.0, 10.0, 100.0, 1000.0, 10000.0, 20000.0, 30000.0, 40000.0, 50000.0, 60000.0, 100000.0, 200000.0, 300000.0, 400000.0, 500000.0, 600000.0, 700000.0, 800000.0, 900000.0, 1000000.0, 1500000.0, 2000000.0, 4000000.0], \"y\": [0.34, 0.35, 0.38, 0.67, 3.0, 5.65, 8.46, 11.8, 14.8, 17.5, 31.4, 88.6, 179.0, 292.0, 434.0, 608.0, 800.0, 1035.0, 1290.0, 1576.0, 3420.0, 5930.0, 23246.0]}],\n",
       "                        {\"title\": {\"text\": \"Total call time\"}, \"xaxis\": {\"title\": {\"text\": \"array size\"}}, \"yaxis\": {\"title\": {\"text\": \"call time [ms]\"}}},\n",
       "                        {\"showLink\": false, \"linkText\": \"Export to plot.ly\", \"plotlyServerURL\": \"https://plot.ly\", \"responsive\": true}\n",
       "                    ).then(function(){\n",
       "                            \n",
       "var gd = document.getElementById('ece58e8d-c480-45b7-ac36-06ccded0e72e');\n",
       "var x = new MutationObserver(function (mutations, observer) {{\n",
       "        var display = window.getComputedStyle(gd).display;\n",
       "        if (!display || display === 'none') {{\n",
       "            console.log([gd, 'removed!']);\n",
       "            Plotly.purge(gd);\n",
       "            observer.disconnect();\n",
       "        }}\n",
       "}});\n",
       "\n",
       "// Listen for the removal of the full notebook cells\n",
       "var notebookContainer = gd.closest('#notebook-container');\n",
       "if (notebookContainer) {{\n",
       "    x.observe(notebookContainer, {childList: true});\n",
       "}}\n",
       "\n",
       "// Listen for the clearing of the current output cell\n",
       "var outputEl = gd.closest('.output');\n",
       "if (outputEl) {{\n",
       "    x.observe(outputEl, {childList: true});\n",
       "}}\n",
       "\n",
       "                        })\n",
       "                };\n",
       "                });\n",
       "            </script>\n",
       "        </div>"
      ]
     },
     "metadata": {},
     "output_type": "display_data"
    }
   ],
   "source": [
    "layout = graph_objs.Layout(\n",
    "    title='Total call time', \n",
    "    xaxis=dict(title='array size'), \n",
    "    yaxis=dict(title='call time [ms]')\n",
    ")\n",
    "\n",
    "trace1= graph_objs.Scatter(x=n_pnts, y=call_t, mode='lines+markers')\n",
    "\n",
    "fig = graph_objs.Figure(data=[trace1], layout=layout)\n",
    "plotly.offline.iplot(fig)"
   ]
  },
  {
   "cell_type": "code",
   "execution_count": 77,
   "metadata": {},
   "outputs": [
    {
     "data": {
      "application/vnd.plotly.v1+json": {
       "config": {
        "linkText": "Export to plot.ly",
        "plotlyServerURL": "https://plot.ly",
        "responsive": true,
        "showLink": false
       },
       "data": [
        {
         "mode": "lines+markers",
         "type": "scatter",
         "uid": "4d1f40ac-544c-4325-8c8a-839e9caff37f",
         "x": [
          1,
          10,
          100,
          1000,
          10000,
          20000,
          30000,
          40000,
          50000,
          60000,
          100000,
          200000,
          300000,
          400000,
          500000,
          600000,
          700000,
          800000,
          900000,
          1000000,
          1500000,
          2000000,
          4000000
         ],
         "y": [
          340,
          34.99999999999999,
          3.8,
          0.67,
          0.3,
          0.28250000000000003,
          0.28200000000000003,
          0.29500000000000004,
          0.29600000000000004,
          0.2916666666666667,
          0.314,
          0.443,
          0.5966666666666667,
          0.73,
          0.868,
          1.0133333333333334,
          1.142857142857143,
          1.29375,
          1.4333333333333333,
          1.5759999999999998,
          2.28,
          2.9650000000000003,
          5.8115
         ]
        }
       ],
       "layout": {
        "title": {
         "text": "Call time per point"
        },
        "xaxis": {
         "title": {
          "text": "array size"
         }
        },
        "yaxis": {
         "title": {
          "text": "per point [us]"
         }
        }
       }
      },
      "text/html": [
       "<div>\n",
       "        \n",
       "        \n",
       "            <div id=\"b6c1bb4e-7bd2-41dc-a489-f6ecc57f6685\" class=\"plotly-graph-div\" style=\"height:525px; width:100%;\"></div>\n",
       "            <script type=\"text/javascript\">\n",
       "                require([\"plotly\"], function(Plotly) {\n",
       "                    window.PLOTLYENV=window.PLOTLYENV || {};\n",
       "                    window.PLOTLYENV.BASE_URL='https://plot.ly';\n",
       "                    \n",
       "                if (document.getElementById(\"b6c1bb4e-7bd2-41dc-a489-f6ecc57f6685\")) {\n",
       "                    Plotly.newPlot(\n",
       "                        'b6c1bb4e-7bd2-41dc-a489-f6ecc57f6685',\n",
       "                        [{\"mode\": \"lines+markers\", \"type\": \"scatter\", \"uid\": \"01d31f53-ccd2-4fe7-a734-364abf3100e2\", \"x\": [1.0, 10.0, 100.0, 1000.0, 10000.0, 20000.0, 30000.0, 40000.0, 50000.0, 60000.0, 100000.0, 200000.0, 300000.0, 400000.0, 500000.0, 600000.0, 700000.0, 800000.0, 900000.0, 1000000.0, 1500000.0, 2000000.0, 4000000.0], \"y\": [340.0, 34.99999999999999, 3.8, 0.67, 0.3, 0.28250000000000003, 0.28200000000000003, 0.29500000000000004, 0.29600000000000004, 0.2916666666666667, 0.314, 0.443, 0.5966666666666667, 0.73, 0.868, 1.0133333333333334, 1.142857142857143, 1.29375, 1.4333333333333333, 1.5759999999999998, 2.28, 2.9650000000000003, 5.8115]}],\n",
       "                        {\"title\": {\"text\": \"Call time per point\"}, \"xaxis\": {\"title\": {\"text\": \"array size\"}}, \"yaxis\": {\"title\": {\"text\": \"per point [us]\"}}},\n",
       "                        {\"showLink\": false, \"linkText\": \"Export to plot.ly\", \"plotlyServerURL\": \"https://plot.ly\", \"responsive\": true}\n",
       "                    ).then(function(){\n",
       "                            \n",
       "var gd = document.getElementById('b6c1bb4e-7bd2-41dc-a489-f6ecc57f6685');\n",
       "var x = new MutationObserver(function (mutations, observer) {{\n",
       "        var display = window.getComputedStyle(gd).display;\n",
       "        if (!display || display === 'none') {{\n",
       "            console.log([gd, 'removed!']);\n",
       "            Plotly.purge(gd);\n",
       "            observer.disconnect();\n",
       "        }}\n",
       "}});\n",
       "\n",
       "// Listen for the removal of the full notebook cells\n",
       "var notebookContainer = gd.closest('#notebook-container');\n",
       "if (notebookContainer) {{\n",
       "    x.observe(notebookContainer, {childList: true});\n",
       "}}\n",
       "\n",
       "// Listen for the clearing of the current output cell\n",
       "var outputEl = gd.closest('.output');\n",
       "if (outputEl) {{\n",
       "    x.observe(outputEl, {childList: true});\n",
       "}}\n",
       "\n",
       "                        })\n",
       "                };\n",
       "                });\n",
       "            </script>\n",
       "        </div>"
      ]
     },
     "metadata": {},
     "output_type": "display_data"
    }
   ],
   "source": [
    "layout = graph_objs.Layout(\n",
    "    title='Call time per point', \n",
    "    xaxis=dict(title='array size'), \n",
    "    yaxis=dict(title='per point [us]')\n",
    ")\n",
    "\n",
    "trace1= graph_objs.Scatter(x=n_pnts, y=point_t*1e3, mode='lines+markers')\n",
    "\n",
    "fig = graph_objs.Figure(data=[trace1], layout=layout)\n",
    "plotly.offline.iplot(fig)"
   ]
  },
  {
   "cell_type": "markdown",
   "metadata": {},
   "source": [
    "## Many clients"
   ]
  },
  {
   "cell_type": "code",
   "execution_count": 19,
   "metadata": {},
   "outputs": [],
   "source": [
    "n_clients = np.array([1, 2, 3, 4, 5, 6, 7, 8, 9, 10, 11, 12, 13, 14, 15, 16, 17, 18, 19, 20])\n",
    "call_t = np.array([3.0, 3.15, 3.25, 3.7, 3.9, 4.4, 4.78, 5.5, 6.2, 7, 7.8, 8.2, 8.8, 9.5, 10.5, 11.0, 12.0, 12.5, 13.5, 14.05])"
   ]
  },
  {
   "cell_type": "code",
   "execution_count": 20,
   "metadata": {},
   "outputs": [
    {
     "data": {
      "application/vnd.plotly.v1+json": {
       "config": {
        "linkText": "Export to plot.ly",
        "plotlyServerURL": "https://plot.ly",
        "responsive": true,
        "showLink": false
       },
       "data": [
        {
         "mode": "lines+markers",
         "type": "scatter",
         "uid": "7939637f-fc2c-46bc-8cde-797dce71604c",
         "x": [
          1,
          2,
          3,
          4,
          5,
          6,
          7,
          8,
          9,
          10,
          11,
          12,
          13,
          14,
          15,
          16,
          17,
          18,
          19,
          20
         ],
         "y": [
          3,
          3.15,
          3.25,
          3.7,
          3.9,
          4.4,
          4.78,
          5.5,
          6.2,
          7,
          7.8,
          8.2,
          8.8,
          9.5,
          10.5,
          11,
          12,
          12.5,
          13.5,
          14.05
         ]
        }
       ],
       "layout": {
        "title": {
         "text": "Many active clients [10k numpy float array per call]"
        },
        "xaxis": {
         "title": {
          "text": "Number of clients"
         }
        },
        "yaxis": {
         "title": {
          "text": "Call duration [ms]"
         }
        }
       }
      },
      "text/html": [
       "<div>\n",
       "        \n",
       "        \n",
       "            <div id=\"9a0971c6-9ced-444a-9d7a-651a347a89a1\" class=\"plotly-graph-div\" style=\"height:525px; width:100%;\"></div>\n",
       "            <script type=\"text/javascript\">\n",
       "                require([\"plotly\"], function(Plotly) {\n",
       "                    window.PLOTLYENV=window.PLOTLYENV || {};\n",
       "                    window.PLOTLYENV.BASE_URL='https://plot.ly';\n",
       "                    \n",
       "                if (document.getElementById(\"9a0971c6-9ced-444a-9d7a-651a347a89a1\")) {\n",
       "                    Plotly.newPlot(\n",
       "                        '9a0971c6-9ced-444a-9d7a-651a347a89a1',\n",
       "                        [{\"mode\": \"lines+markers\", \"type\": \"scatter\", \"uid\": \"aa17ba0d-b400-4f73-bce9-175ec70d7a15\", \"x\": [1, 2, 3, 4, 5, 6, 7, 8, 9, 10, 11, 12, 13, 14, 15, 16, 17, 18, 19, 20], \"y\": [3.0, 3.15, 3.25, 3.7, 3.9, 4.4, 4.78, 5.5, 6.2, 7.0, 7.8, 8.2, 8.8, 9.5, 10.5, 11.0, 12.0, 12.5, 13.5, 14.05]}],\n",
       "                        {\"title\": {\"text\": \"Many active clients [10k numpy float array per call]\"}, \"xaxis\": {\"title\": {\"text\": \"Number of clients\"}}, \"yaxis\": {\"title\": {\"text\": \"Call duration [ms]\"}}},\n",
       "                        {\"showLink\": false, \"linkText\": \"Export to plot.ly\", \"plotlyServerURL\": \"https://plot.ly\", \"responsive\": true}\n",
       "                    ).then(function(){\n",
       "                            \n",
       "var gd = document.getElementById('9a0971c6-9ced-444a-9d7a-651a347a89a1');\n",
       "var x = new MutationObserver(function (mutations, observer) {{\n",
       "        var display = window.getComputedStyle(gd).display;\n",
       "        if (!display || display === 'none') {{\n",
       "            console.log([gd, 'removed!']);\n",
       "            Plotly.purge(gd);\n",
       "            observer.disconnect();\n",
       "        }}\n",
       "}});\n",
       "\n",
       "// Listen for the removal of the full notebook cells\n",
       "var notebookContainer = gd.closest('#notebook-container');\n",
       "if (notebookContainer) {{\n",
       "    x.observe(notebookContainer, {childList: true});\n",
       "}}\n",
       "\n",
       "// Listen for the clearing of the current output cell\n",
       "var outputEl = gd.closest('.output');\n",
       "if (outputEl) {{\n",
       "    x.observe(outputEl, {childList: true});\n",
       "}}\n",
       "\n",
       "                        })\n",
       "                };\n",
       "                });\n",
       "            </script>\n",
       "        </div>"
      ]
     },
     "metadata": {},
     "output_type": "display_data"
    }
   ],
   "source": [
    "layout = graph_objs.Layout(\n",
    "    title='Many active clients [10k numpy float array per call]', \n",
    "    xaxis=dict(title='Number of clients'), \n",
    "    yaxis=dict(title='Call duration [ms]')\n",
    ")\n",
    "\n",
    "trace1= graph_objs.Scatter(x=n_clients, y=call_t, mode='lines+markers')\n",
    "\n",
    "fig = graph_objs.Figure(data=[trace1], layout=layout)\n",
    "plotly.offline.iplot(fig)"
   ]
  },
  {
   "cell_type": "markdown",
   "metadata": {},
   "source": [
    "![title](Capture.png)"
   ]
  },
  {
   "cell_type": "markdown",
   "metadata": {},
   "source": [
    "![title](task_manager.png)"
   ]
  },
  {
   "cell_type": "code",
   "execution_count": null,
   "metadata": {},
   "outputs": [],
   "source": []
  }
 ],
 "metadata": {
  "kernelspec": {
   "display_name": "Python 3",
   "language": "python",
   "name": "python3"
  },
  "language_info": {
   "codemirror_mode": {
    "name": "ipython",
    "version": 3
   },
   "file_extension": ".py",
   "mimetype": "text/x-python",
   "name": "python",
   "nbconvert_exporter": "python",
   "pygments_lexer": "ipython3",
   "version": "3.7.0"
  }
 },
 "nbformat": 4,
 "nbformat_minor": 2
}
