{
 "cells": [
  {
   "cell_type": "code",
   "execution_count": 1,
   "metadata": {},
   "outputs": [],
   "source": [
    "import sys\n",
    "sys.path.append(r'C:\\Users\\Lukin SiV\\pylabnet')"
   ]
  },
  {
   "cell_type": "code",
   "execution_count": 3,
   "metadata": {},
   "outputs": [],
   "source": [
    "from pylabnet.utils.logging.logger import LogService\n",
    "from pylabnet.core.generic_server import GenericServer"
   ]
  },
  {
   "cell_type": "code",
   "execution_count": 4,
   "metadata": {},
   "outputs": [],
   "source": [
    "log_service = LogService()"
   ]
  },
  {
   "cell_type": "code",
   "execution_count": 5,
   "metadata": {},
   "outputs": [],
   "source": [
    "log_server = GenericServer(\n",
    "    service=log_service, \n",
    "    host='localhost', \n",
    "    port=1234\n",
    ")"
   ]
  },
  {
   "cell_type": "code",
   "execution_count": 6,
   "metadata": {},
   "outputs": [],
   "source": [
    "log_server.start()"
   ]
  },
  {
   "cell_type": "code",
   "execution_count": 7,
   "metadata": {},
   "outputs": [
    {
     "data": {
      "text/plain": [
       "True"
      ]
     },
     "execution_count": 7,
     "metadata": {},
     "output_type": "execute_result"
    }
   ],
   "source": [
    "log_server._server.active"
   ]
  },
  {
   "cell_type": "code",
   "execution_count": 8,
   "metadata": {
    "scrolled": false
   },
   "outputs": [
    {
     "data": {
      "text/plain": [
       "set()"
      ]
     },
     "execution_count": 8,
     "metadata": {},
     "output_type": "execute_result"
    },
    {
     "name": "stdout",
     "output_type": "stream",
     "text": [
      "[LOG INFO] Client connected\n",
      "[INFO] ni654x: Started logging\n",
      "[INFO] ni654x: Connected to NI HSDIO card PXI-6542. Serial number: EFA8FE. Session handle: c_ulong(1)\n",
      "[INFO] ni654x: write_wfm(): sampled PulseBlock \"WfmName\". \n",
      "Sample array has 270 points. 0 samples were added to match hardware wfm len step\n",
      "[INFO] ni654x: write_wfm(): sampled PulseBlock \"RabiPB\". \n",
      "Sample array has 20432 points. 1 samples were added to match hardware wfm len step\n",
      "[INFO] ni654x: write_wfm(): sampled PulseBlock \"RabiPB\". \n",
      "Sample array has 20432 points. 1 samples were added to match hardware wfm len step\n",
      "[INFO] ni654x: write_wfm(): sampled PulseBlock \"RabiPB\". \n",
      "Sample array has 20452 points. 1 samples were added to match hardware wfm len step\n",
      "[INFO] ni654x: write_wfm(): sampled PulseBlock \"RabiPB\". \n",
      "Sample array has 21432 points. 1 samples were added to match hardware wfm len step\n",
      "[INFO] ni654x: write_wfm(): sampled PulseBlock \"PB1\". \n",
      "Sample array has 102 points. 0 samples were added to match hardware wfm len step\n",
      "[INFO] ni654x: write_wfm(): sampled PulseBlock \"PB2\". \n",
      "Sample array has 60 points. 0 samples were added to match hardware wfm len step\n",
      "[LOG INFO] Client disconnected\n",
      "[LOG INFO] Client connected\n",
      "[INFO] ni654x: Started logging\n",
      "[ERROR] ni654x: DLL loading failed. \n",
      "Ensure that niHSDIO DLL path is correct: \n",
      "it should be specified in pylabnet.hardware.p_gen.ni_hsdio.__init__ \n",
      "Current value is: \n",
      "\"C:/Program Files/IVI Foundation/IVI/Bin/niHSDIO_64v.dll\"\n",
      "[LOG INFO] Client disconnected\n",
      "[LOG INFO] Client connected\n",
      "[INFO] ni654x: Started logging\n",
      "[INFO] ni654x: Connected to NI HSDIO card PXI-6542. Serial number: EFA8FE. Session handle: c_ulong(1)\n",
      "[INFO] ni654x: write_wfm(): sampled PulseBlock \"WfmName\". \n",
      "Sample array has 270 points. 0 samples were added to match hardware wfm len step\n",
      "[LOG INFO] Client disconnected\n"
     ]
    }
   ],
   "source": [
    "log_server._server.clients"
   ]
  },
  {
   "cell_type": "code",
   "execution_count": null,
   "metadata": {},
   "outputs": [],
   "source": []
  },
  {
   "cell_type": "code",
   "execution_count": null,
   "metadata": {},
   "outputs": [],
   "source": []
  }
 ],
 "metadata": {
  "kernelspec": {
   "display_name": "Python 3",
   "language": "python",
   "name": "python3"
  },
  "language_info": {
   "codemirror_mode": {
    "name": "ipython",
    "version": 3
   },
   "file_extension": ".py",
   "mimetype": "text/x-python",
   "name": "python",
   "nbconvert_exporter": "python",
   "pygments_lexer": "ipython3",
   "version": "3.7.0"
  },
  "toc": {
   "base_numbering": 1,
   "nav_menu": {},
   "number_sections": true,
   "sideBar": true,
   "skip_h1_title": false,
   "title_cell": "Table of Contents",
   "title_sidebar": "Contents",
   "toc_cell": false,
   "toc_position": {},
   "toc_section_display": true,
   "toc_window_display": false
  }
 },
 "nbformat": 4,
 "nbformat_minor": 2
}
