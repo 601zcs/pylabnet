{
 "cells": [
  {
   "cell_type": "code",
   "execution_count": 1,
   "metadata": {},
   "outputs": [],
   "source": [
    "import sys\n",
    "sys.path.append(r'C:\\Users\\Lukin SiV\\pylabnet')"
   ]
  },
  {
   "cell_type": "code",
   "execution_count": 2,
   "metadata": {},
   "outputs": [],
   "source": [
    "from pylabnet.utils.logging.logger import LogService\n",
    "from pylabnet.core.generic_server import GenericServer"
   ]
  },
  {
   "cell_type": "code",
   "execution_count": 3,
   "metadata": {},
   "outputs": [],
   "source": [
    "log_service = LogService()"
   ]
  },
  {
   "cell_type": "code",
   "execution_count": 4,
   "metadata": {},
   "outputs": [],
   "source": [
    "log_server = GenericServer(\n",
    "    service=log_service, \n",
    "    host='localhost', \n",
    "    port=1234\n",
    ")"
   ]
  },
  {
   "cell_type": "code",
   "execution_count": 5,
   "metadata": {},
   "outputs": [],
   "source": [
    "log_server.start()"
   ]
  },
  {
   "cell_type": "code",
   "execution_count": 6,
   "metadata": {},
   "outputs": [
    {
     "data": {
      "text/plain": [
       "True"
      ]
     },
     "execution_count": 6,
     "metadata": {},
     "output_type": "execute_result"
    }
   ],
   "source": [
    "log_server._server.active"
   ]
  },
  {
   "cell_type": "code",
   "execution_count": 7,
   "metadata": {
    "scrolled": false
   },
   "outputs": [
    {
     "data": {
      "text/plain": [
       "set()"
      ]
     },
     "execution_count": 7,
     "metadata": {},
     "output_type": "execute_result"
    },
    {
     "name": "stdout",
     "output_type": "stream",
     "text": [
      "[LOG INFO] Client connected\n",
      "[INFO] : Started logging\n",
      "[INFO] : Got reference to Swabian Instruments TimeTagger device \n",
      "Serial number: 1634000FX0, Model: Time Tagger 20\n",
      "[LOG INFO] Client disconnected\n",
      "[LOG INFO] Client connected\n",
      "[INFO] : Started logging\n",
      "[INFO] : Got reference to Swabian Instruments TimeTagger device \n",
      "Serial number: 1634000FX0, Model: Time Tagger 20\n",
      "[WARN] : get_count_ar(): operation timed out, but counter is still running. \n",
      "Try calling get_count_ar() later or terminate process by terminate_counting().\n",
      "[ERROR] : get_count_ar(): counter broke and was deleted \n",
      "Re-initialize it by calling init_ctr()\n",
      "[WARN] : get_count_ar(): counter is \"idle\" - nothing to read\n",
      "[WARN] : get_count_ar(): operation timed out, but counter is still running. \n",
      "Try calling get_count_ar() later or terminate process by terminate_counting().\n",
      "[ERROR] : _set_status(): transition to new_status=1 from self._status=-1 is impossible. \n",
      "Counter status was not changed.\n",
      "[ERROR] : _set_status(): transition to new_status=2 from self._status=0 is impossible. \n",
      "Counter status was not changed.\n",
      "[ERROR] : _set_status(): transition to new_status=2 from self._status=0 is impossible. \n",
      "Counter status was not changed.\n",
      "[ERROR] : _set_status(): transition to new_status=0 from self._status=2 is impossible. \n",
      "Counter status was not changed.\n",
      "[ERROR] : set_ch_assignment(): click_ch=10 - this channel is not available on the device\n",
      "[ERROR] : set_ch_assignment(): gate_ch=10 - this channel is not available on the device\n",
      "[LOG INFO] Client disconnected\n",
      "[LOG INFO] Client connected\n",
      "[INFO] : Started logging\n",
      "[INFO] : Got reference to Swabian Instruments TimeTagger device \n",
      "Serial number: 1634000FX0, Model: Time Tagger 20\n",
      "[INFO] : Client connected\n",
      "[ERROR] : start_counting(): counter is in \"void\" state - it ether was not initialized or was closed. \n",
      "Initialize it by calling init_ctr()\n",
      "[WARN] : get_count_ar(): operation timed out, but counter is still running. \n",
      "Try calling get_count_ar() later or terminate process by terminate_counting().\n",
      "[WARN] : get_count_ar(): counter is \"idle\" - nothing to read\n",
      "[WARN] : get_count_ar(): counter is \"idle\" - nothing to read\n",
      "[WARN] : get_count_ar(): operation timed out, but counter is still running. \n",
      "Try calling get_count_ar() later or terminate process by terminate_counting().\n",
      "[INFO] : Client disconnected\n",
      "[LOG INFO] Client disconnected\n"
     ]
    }
   ],
   "source": [
    "log_server._server.clients"
   ]
  },
  {
   "cell_type": "code",
   "execution_count": null,
   "metadata": {},
   "outputs": [],
   "source": []
  },
  {
   "cell_type": "code",
   "execution_count": null,
   "metadata": {},
   "outputs": [],
   "source": []
  }
 ],
 "metadata": {
  "kernelspec": {
   "display_name": "Python 3",
   "language": "python",
   "name": "python3"
  },
  "language_info": {
   "codemirror_mode": {
    "name": "ipython",
    "version": 3
   },
   "file_extension": ".py",
   "mimetype": "text/x-python",
   "name": "python",
   "nbconvert_exporter": "python",
   "pygments_lexer": "ipython3",
   "version": "3.7.0"
  },
  "toc": {
   "base_numbering": 1,
   "nav_menu": {},
   "number_sections": true,
   "sideBar": true,
   "skip_h1_title": false,
   "title_cell": "Table of Contents",
   "title_sidebar": "Contents",
   "toc_cell": false,
   "toc_position": {},
   "toc_section_display": true,
   "toc_window_display": false
  }
 },
 "nbformat": 4,
 "nbformat_minor": 2
}
