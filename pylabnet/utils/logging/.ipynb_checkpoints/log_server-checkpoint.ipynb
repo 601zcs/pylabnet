{
 "cells": [
  {
   "cell_type": "code",
   "execution_count": 1,
   "metadata": {},
   "outputs": [],
   "source": [
    "import sys\n",
    "sys.path.append(r'C:\\Users\\Lukin SiV\\pylabnet')"
   ]
  },
  {
   "cell_type": "code",
   "execution_count": 2,
   "metadata": {},
   "outputs": [],
   "source": [
    "from utils.logging.logger import LogService\n",
    "from core.generic_server import GenericServer"
   ]
  },
  {
   "cell_type": "code",
   "execution_count": 3,
   "metadata": {},
   "outputs": [],
   "source": [
    "log_service = LogService()"
   ]
  },
  {
   "cell_type": "code",
   "execution_count": 4,
   "metadata": {},
   "outputs": [],
   "source": [
    "log_server = GenericServer(\n",
    "    service=log_service, \n",
    "    host='###.###.###.###', \n",
    "    port=1234\n",
    ")"
   ]
  },
  {
   "cell_type": "code",
   "execution_count": 5,
   "metadata": {},
   "outputs": [],
   "source": [
    "log_server.start()"
   ]
  },
  {
   "cell_type": "code",
   "execution_count": 6,
   "metadata": {},
   "outputs": [
    {
     "data": {
      "text/plain": [
       "True"
      ]
     },
     "execution_count": 6,
     "metadata": {},
     "output_type": "execute_result"
    }
   ],
   "source": [
    "log_server._server.active"
   ]
  },
  {
   "cell_type": "code",
   "execution_count": 7,
   "metadata": {
    "scrolled": false
   },
   "outputs": [
    {
     "data": {
      "text/plain": [
       "set()"
      ]
     },
     "execution_count": 7,
     "metadata": {},
     "output_type": "execute_result"
    },
    {
     "name": "stdout",
     "output_type": "stream",
     "text": [
      "[LOG INFO] Client connected\n",
      "[INFO] RNG: set_params(mean=12.1, amp=0.5) called\n",
      "[INFO] RNG: Client disconnected\n",
      "[INFO] RNG: Client connected\n",
      "[ERROR] RNG: divide(a=1, b=0)\n",
      "Traceback (most recent call last):\n",
      "  File \"C:\\Users\\Lukin SiV\\pylabnet\\hardware\\rng.py\", line 77, in divide\n",
      "    c = a / b\n",
      "ZeroDivisionError: division by zero\n",
      "\n",
      "[INFO] RNG: set_params(mean=12.1, amp=0.5) called\n",
      "[INFO] RNG: set_params(mean=12.1, amp=0.5) called\n",
      "[ERROR] RNG: divide(a=1, b=0)\n",
      "Traceback (most recent call last):\n",
      "  File \"C:\\Users\\Lukin SiV\\pylabnet\\hardware\\rng.py\", line 77, in divide\n",
      "    c = a / b\n",
      "ZeroDivisionError: division by zero\n",
      "\n",
      "[INFO] RNG: Successfully built test_array. \n",
      "client_number=1, size=1000000\n"
     ]
    }
   ],
   "source": [
    "log_server._server.clients"
   ]
  },
  {
   "cell_type": "code",
   "execution_count": null,
   "metadata": {},
   "outputs": [],
   "source": []
  },
  {
   "cell_type": "code",
   "execution_count": null,
   "metadata": {},
   "outputs": [],
   "source": []
  }
 ],
 "metadata": {
  "kernelspec": {
   "display_name": "Python 3",
   "language": "python",
   "name": "python3"
  },
  "language_info": {
   "codemirror_mode": {
    "name": "ipython",
    "version": 3
   },
   "file_extension": ".py",
   "mimetype": "text/x-python",
   "name": "python",
   "nbconvert_exporter": "python",
   "pygments_lexer": "ipython3",
   "version": "3.7.4"
  },
  "toc": {
   "base_numbering": 1,
   "nav_menu": {},
   "number_sections": true,
   "sideBar": true,
   "skip_h1_title": false,
   "title_cell": "Table of Contents",
   "title_sidebar": "Contents",
   "toc_cell": false,
   "toc_position": {},
   "toc_section_display": true,
   "toc_window_display": false
  }
 },
 "nbformat": 4,
 "nbformat_minor": 2
}
