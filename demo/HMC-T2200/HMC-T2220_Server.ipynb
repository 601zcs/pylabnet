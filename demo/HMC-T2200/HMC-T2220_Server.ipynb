{
 "cells": [
  {
   "cell_type": "code",
   "execution_count": 1,
   "metadata": {},
   "outputs": [],
   "source": [
    "import pyvisa\n",
    "from pylabnet.utils.logging.logger import LogClient\n",
    "from pylabnet.network.client_server.HMC_T2220 import Service\n",
    "from pylabnet.network.core.generic_server import GenericServer\n",
    "import pylabnet.hardware.cw_mw.hittite.HMC_T2220 as ht"
   ]
  },
  {
   "cell_type": "markdown",
   "metadata": {},
   "source": [
    "# Connect to Logger"
   ]
  },
  {
   "cell_type": "code",
   "execution_count": 2,
   "metadata": {},
   "outputs": [],
   "source": [
    "# Connect to logger\n",
    "logger = LogClient(\n",
    "    host='localhost',\n",
    "    port=12351,\n",
    "    module_tag='Hittite T2220'\n",
    ")"
   ]
  },
  {
   "cell_type": "markdown",
   "metadata": {},
   "source": [
    "# Instanciate Microwave Source Driver"
   ]
  },
  {
   "cell_type": "markdown",
   "metadata": {},
   "source": [
    "Make sure the relevant drivers for the USB interface are installed. They can be found here https://www.analog.com/en/design-center/evaluation-hardware-and-software/hmc-t2200-family-utilities-v2dot6.html. This device uses a serial interface which is not discoverable by the pyvisa ressource manager. The COM-port address must be found using the Windows device manager."
   ]
  },
  {
   "cell_type": "code",
   "execution_count": 3,
   "metadata": {},
   "outputs": [],
   "source": [
    "# COM-port from Windows device manager.\n",
    "com_port='COM8'"
   ]
  },
  {
   "cell_type": "code",
   "execution_count": 4,
   "metadata": {},
   "outputs": [],
   "source": [
    "mw_source = ht.Driver(\n",
    "    logger=logger,\n",
    "    gpib_address=com_port\n",
    ")"
   ]
  },
  {
   "cell_type": "markdown",
   "metadata": {},
   "source": [
    "# Start up Server"
   ]
  },
  {
   "cell_type": "code",
   "execution_count": 5,
   "metadata": {},
   "outputs": [],
   "source": [
    "ht_service = Service()\n",
    "ht_service.assign_module(module=mw_source)\n",
    "ht_service.assign_logger(logger=logger)\n",
    "ht_service_server = GenericServer(\n",
    "    service=ht_service, \n",
    "    host='localhost', \n",
    "    port=12378\n",
    ")"
   ]
  },
  {
   "cell_type": "code",
   "execution_count": 6,
   "metadata": {},
   "outputs": [],
   "source": [
    "# Start Server\n",
    "ht_service_server.start()"
   ]
  },
  {
   "cell_type": "code",
   "execution_count": null,
   "metadata": {},
   "outputs": [],
   "source": []
  }
 ],
 "metadata": {
  "kernelspec": {
   "display_name": "Python 3",
   "language": "python",
   "name": "python3"
  },
  "language_info": {
   "codemirror_mode": {
    "name": "ipython",
    "version": 3
   },
   "file_extension": ".py",
   "mimetype": "text/x-python",
   "name": "python",
   "nbconvert_exporter": "python",
   "pygments_lexer": "ipython3",
   "version": "3.7.8"
  }
 },
 "nbformat": 4,
 "nbformat_minor": 4
}
