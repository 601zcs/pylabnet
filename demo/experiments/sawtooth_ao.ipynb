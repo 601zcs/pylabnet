{
 "cells": [
  {
   "cell_type": "code",
   "execution_count": 31,
   "metadata": {},
   "outputs": [],
   "source": [
    "from decouple import config\n",
    "from pylabnet.utils.logging.logger import LogClient\n",
    "import paramiko\n",
    "from decouple import config\n",
    "import time\n",
    "import numpy as np\n"
   ]
  },
  {
   "cell_type": "code",
   "execution_count": 32,
   "metadata": {},
   "outputs": [],
   "source": [
    "LOCALHOST_PW = config('LOCALHOST_PW')\n"
   ]
  },
  {
   "cell_type": "code",
   "execution_count": 33,
   "metadata": {},
   "outputs": [],
   "source": [
    "# Instantiate\n",
    "\n",
    "loghost = '140.247.189.94'\n",
    "logport = 28381\n",
    "logger = LogClient(\n",
    "    host=loghost,\n",
    "    port=logport,\n",
    "    module_tag='Test'\n",
    ")"
   ]
  },
  {
   "cell_type": "code",
   "execution_count": 34,
   "metadata": {},
   "outputs": [],
   "source": [
    "from pylabnet.utils.helper_methods import show_console, hide_console, load_config\n",
    "hosts = load_config('ssh_config', logger=logger)['hosts']"
   ]
  },
  {
   "cell_type": "code",
   "execution_count": 39,
   "metadata": {
    "tags": []
   },
   "outputs": [],
   "source": [
    "for host in hosts:\n",
    "\n",
    "        # Initiate SSH connection\n",
    "        hostname = host['hostname']\n",
    "        host_ip = host['ip']\n",
    "\n",
    "        logger.info(f\"Starting SSH connection to {hostname}@{host_ip}\")\n",
    "\n",
    "        ssh = paramiko.SSHClient()\n",
    "        ssh.load_system_host_keys()\n",
    "\n",
    "        try:\n",
    "            ssh.connect(host_ip, username=hostname, password=LOCALHOST_PW)\n",
    "        except TimeoutError:\n",
    "            logger.warn(f\"Failed to setup SSH connection to {hostname}@{host_ip}\")\n",
    "\n",
    "        logger.warn(f\"Connected via SSH to {hostname}@{host_ip}\")\n",
    "\n",
    "        python_path = host['python_path']\n",
    "        script_path = host['script_path']\n",
    "        venv_path =  host['venv_path']\n",
    "        servers = host['servers']\n",
    "\n",
    "        for server in servers:\n",
    "\n",
    "            servername = server['servername']\n",
    "            server_port = np.random.randint(1, 9999)\n",
    "\n",
    "            # Activate virtual env\n",
    "            ssh.exec_command(venv_path)\n",
    "        \n",
    "    \n",
    "            cmd = '\"{}\" \"{}\" --logip {} --logport {} --serverport {} --server {} --debug {}'.format(\n",
    "                        python_path,\n",
    "                        script_path,\n",
    "                        loghost,\n",
    "                        logport,\n",
    "                        server_port,\n",
    "                        servername,\n",
    "                        False\n",
    "                    )\n",
    "\n",
    "            ssh.exec_command(cmd)   \n",
    "\n",
    "        \n",
    "        ssh.close()"
   ]
  },
  {
   "cell_type": "code",
   "execution_count": null,
   "metadata": {},
   "outputs": [],
   "source": [
    "C:\\Users\\Dolores\\pylabnet\\venv\\dev\\Scripts activate\n"
   ]
  },
  {
   "cell_type": "code",
   "execution_count": 17,
   "metadata": {},
   "outputs": [],
   "source": [
    "stdin, stdout, stderr = ssh.exec_command(\"ls -l ~\")\n",
    "time.sleep(2)    # Previously, I had to sleep for some time.\n",
    "stdout_.channel.recv_exit_status()\n",
    "lines = stdout_.readlines()\n",
    "for line in lines:\n",
    "    print line"
   ]
  },
  {
   "cell_type": "code",
   "execution_count": 23,
   "metadata": {},
   "outputs": [],
   "source": [
    "\n",
    "ssh.close()"
   ]
  },
  {
   "cell_type": "code",
   "execution_count": 22,
   "metadata": {},
   "outputs": [
    {
     "output_type": "execute_result",
     "data": {
      "text/plain": "<paramiko.ChannelFile from <paramiko.Channel 2 (closed) -> <paramiko.Transport at 0x26e6bda0 (cipher aes128-ctr, 128 bits) (active; 0 open channel(s))>>>"
     },
     "metadata": {},
     "execution_count": 22
    }
   ],
   "source": [
    "stdout"
   ]
  },
  {
   "cell_type": "markdown",
   "metadata": {},
   "source": [
    "# Playback Sawthooth Waveform"
   ]
  },
  {
   "cell_type": "code",
   "execution_count": 12,
   "metadata": {},
   "outputs": [],
   "source": [
    "# AOM Switch \n",
    "import pylabnet.hardware.ni_daqs.nidaqmx_card as nidaqmx\n",
    "import pylabnet.network.client_server.nidaqmx_card as nidaqmx_card_server\n",
    "import numpy as np\n",
    "import time"
   ]
  },
  {
   "cell_type": "code",
   "execution_count": 13,
   "metadata": {
    "tags": []
   },
   "outputs": [],
   "source": [
    "aom_daq = nidaqmx_card_server.Client(\n",
    "    host='140.247.189.82',\n",
    "    port=24195\n",
    ")"
   ]
  },
  {
   "cell_type": "code",
   "execution_count": 28,
   "metadata": {},
   "outputs": [],
   "source": [
    "amplitude = 1 # in V\n",
    "offset = 0 # in V\n",
    "num_points = 50\n",
    "frequency = 0.02 # in Hz"
   ]
  },
  {
   "cell_type": "code",
   "execution_count": 29,
   "metadata": {},
   "outputs": [],
   "source": [
    "period = 1/frequency\n",
    "scanning_range_up = np.linspace(offset, offset+amplitude, num_points)\n",
    "scanning_range_down = scanning_range_up[::-1]"
   ]
  },
  {
   "cell_type": "code",
   "execution_count": 30,
   "metadata": {},
   "outputs": [],
   "source": [
    "\n",
    "for voltage in np.concatenate((scanning_range_up,scanning_range_down)):\n",
    "    aom_daq.set_ao_voltage('ao4', voltage)\n",
    "    time.sleep(period / (2 * num_points))\n"
   ]
  },
  {
   "cell_type": "code",
   "execution_count": 27,
   "metadata": {},
   "outputs": [],
   "source": [
    "aom_daq.set_ao_voltage('ao4', 0)\n"
   ]
  },
  {
   "cell_type": "code",
   "execution_count": null,
   "metadata": {},
   "outputs": [],
   "source": []
  }
 ],
 "metadata": {
  "kernelspec": {
   "display_name": "Python 3.8.3 64-bit ('dev': venv)",
   "language": "python",
   "name": "python_defaultSpec_1600212082937"
  },
  "language_info": {
   "codemirror_mode": {
    "name": "ipython",
    "version": 3
   },
   "file_extension": ".py",
   "mimetype": "text/x-python",
   "name": "python",
   "nbconvert_exporter": "python",
   "pygments_lexer": "ipython3",
   "version": "3.6.5-final"
  }
 },
 "nbformat": 4,
 "nbformat_minor": 2
}