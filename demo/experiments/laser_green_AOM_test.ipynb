{
 "cells": [
  {
   "cell_type": "markdown",
   "metadata": {},
   "source": [
    "## Imports"
   ]
  },
  {
   "cell_type": "code",
   "execution_count": 2,
   "metadata": {},
   "outputs": [],
   "source": [
    "import numpy as np\n",
    "\n",
    "from pylabnet.utils.logging.logger import LogClient\n",
    "from pylabnet.utils.helper_methods import load_config\n",
    "import pylabnet.utils.pulseblock.pulse as po\n",
    "import pylabnet.utils.pulseblock.pulse_block as pb\n",
    "from pylabnet.utils.pulseblock.pb_iplot import iplot\n",
    "from pylabnet.utils.pulseblock.pb_sample import pb_sample\n",
    "from pylabnet.hardware.awg.zi_hdawg import Driver, Sequence, AWGModule\n",
    "from pylabnet.hardware.staticline import staticline\n",
    "from pylabnet.utils.zi_hdawg_pulseblock_handler.zi_hdawg_pb_handler import DIOPulseBlockHandler\n",
    "from pylabnet.network.client_server import dio_breakout\n",
    "from pylabnet.network.client_server import si_tt\n",
    "\n",
    "from pyvisa import VisaIOError, ResourceManager\n",
    "\n",
    "\n",
    "from pylabnet.gui.igui.iplot import SingleTraceFig, MultiTraceFig, StaggeredTraceFig\n"
   ]
  },
  {
   "cell_type": "markdown",
   "metadata": {},
   "source": [
    "# Digital pulse playback using `pulseblock` and the DIO output of a ZI HDWAG"
   ]
  },
  {
   "cell_type": "code",
   "execution_count": 3,
   "metadata": {
    "tags": []
   },
   "outputs": [],
   "source": [
    "dev_id = 'dev8227'\n",
    "\n",
    "# Instantiate logger.\n",
    "logger = LogClient(\n",
    "    host='140.247.189.94',\n",
    "    port=1491,\n",
    "    module_tag=f'ZI HDAWG {dev_id}'\n",
    ")\n",
    "\n",
    "# Instanciate HDAWG driver.\n",
    "hd = Driver(dev_id, logger=logger)"
   ]
  },
  {
   "cell_type": "markdown",
   "metadata": {},
   "source": [
    "Let's start with defining the digital part of a typical rabi-sequence. We use the `rabi_element` function as defined in the `pulseblock` demo notebook:"
   ]
  },
  {
   "cell_type": "code",
   "execution_count": 4,
   "metadata": {},
   "outputs": [
    {
     "output_type": "display_data",
     "data": {
      "application/vnd.plotly.v1+json": {
       "config": {
        "displaylogo": false,
        "linkText": "Export to plot.ly",
        "plotlyServerURL": "https://plot.ly",
        "showLink": false
       },
       "data": [
        {
         "hoverinfo": "text",
         "mode": "lines",
         "name": "fake_counts",
         "text": [
          "False",
          "2.10e-06",
          "2.10e-06",
          "True",
          "2.15e-06",
          "2.15e-06",
          "2.63e-06",
          "2.63e-06",
          "True",
          "2.68e-06",
          "2.68e-06",
          "3.17e-06",
          "3.17e-06",
          "True",
          "3.22e-06",
          "3.22e-06",
          "3.70e-06",
          "3.70e-06",
          "True",
          "3.75e-06",
          "3.75e-06",
          "4.23e-06",
          "4.23e-06",
          "True",
          "4.28e-06",
          "4.28e-06",
          "4.77e-06",
          "4.77e-06",
          "True",
          "4.82e-06",
          "4.82e-06",
          "5.30e-06",
          "5.30e-06",
          "True",
          "5.35e-06",
          "5.35e-06",
          "5.83e-06",
          "5.83e-06",
          "True",
          "5.88e-06",
          "5.88e-06",
          "6.37e-06",
          "6.37e-06",
          "True",
          "6.42e-06",
          "6.42e-06",
          "6.90e-06",
          "6.90e-06",
          "True",
          "6.95e-06",
          "6.95e-06",
          "7.00e-06"
         ],
         "type": "scatter",
         "x": [
          0,
          0.0000021,
          0.0000021,
          0.000002125,
          0.0000021499999999999997,
          0.0000021499999999999997,
          0.0000026333333333333332,
          0.0000026333333333333332,
          0.000002658333333333333,
          0.000002683333333333333,
          0.000002683333333333333,
          0.0000031666666666666663,
          0.0000031666666666666663,
          0.000003191666666666666,
          0.0000032166666666666662,
          0.0000032166666666666662,
          0.0000036999999999999997,
          0.0000036999999999999997,
          0.000003725,
          0.0000037499999999999997,
          0.0000037499999999999997,
          0.000004233333333333333,
          0.000004233333333333333,
          0.000004258333333333333,
          0.0000042833333333333335,
          0.0000042833333333333335,
          0.000004766666666666666,
          0.000004766666666666666,
          0.000004791666666666667,
          0.0000048166666666666666,
          0.0000048166666666666666,
          0.0000053,
          0.0000053,
          0.000005325000000000001,
          0.0000053500000000000004,
          0.0000053500000000000004,
          0.000005833333333333333,
          0.000005833333333333333,
          0.000005858333333333333,
          0.0000058833333333333335,
          0.0000058833333333333335,
          0.000006366666666666666,
          0.000006366666666666666,
          0.000006391666666666667,
          0.0000064166666666666665,
          0.0000064166666666666665,
          0.0000069,
          0.0000069,
          0.000006925000000000001,
          0.00000695,
          0.00000695,
          0.000007
         ],
         "y": [
          0,
          0,
          0.8,
          0.8,
          0.8,
          0,
          0,
          0.8,
          0.8,
          0.8,
          0,
          0,
          0.8,
          0.8,
          0.8,
          0,
          0,
          0.8,
          0.8,
          0.8,
          0,
          0,
          0.8,
          0.8,
          0.8,
          0,
          0,
          0.8,
          0.8,
          0.8,
          0,
          0,
          0.8,
          0.8,
          0.8,
          0,
          0,
          0.8,
          0.8,
          0.8,
          0,
          0,
          0.8,
          0.8,
          0.8,
          0,
          0,
          0.8,
          0.8,
          0.8,
          0,
          0
         ]
        },
        {
         "hoverinfo": "text",
         "mode": "lines",
         "name": "gate",
         "text": [
          "False",
          "1.90e-06",
          "1.90e-06",
          "True",
          "2.00e-06",
          "2.00e-06",
          "7.00e-06"
         ],
         "type": "scatter",
         "x": [
          0,
          0.0000019,
          0.0000019,
          0.00000195,
          0.000002,
          0.000002,
          0.000007
         ],
         "y": [
          1,
          1,
          1.8,
          1.8,
          1.8,
          1,
          1
         ]
        },
        {
         "hoverinfo": "text",
         "mode": "lines",
         "name": "toptica",
         "text": [
          "False",
          "0.00e+00",
          "True",
          "7.00e-06",
          "7.00e-06",
          "7.00e-06"
         ],
         "type": "scatter",
         "x": [
          0,
          0,
          0.0000035,
          0.000007,
          0.000007,
          0.000007
         ],
         "y": [
          2,
          2.8,
          2.8,
          2.8,
          2,
          2
         ]
        }
       ],
       "layout": {
        "height": 400,
        "hovermode": "closest",
        "legend": {
         "traceorder": "reversed"
        },
        "template": {
         "data": {
          "bar": [
           {
            "error_x": {
             "color": "#2a3f5f"
            },
            "error_y": {
             "color": "#2a3f5f"
            },
            "marker": {
             "line": {
              "color": "#E5ECF6",
              "width": 0.5
             }
            },
            "type": "bar"
           }
          ],
          "barpolar": [
           {
            "marker": {
             "line": {
              "color": "#E5ECF6",
              "width": 0.5
             }
            },
            "type": "barpolar"
           }
          ],
          "carpet": [
           {
            "aaxis": {
             "endlinecolor": "#2a3f5f",
             "gridcolor": "white",
             "linecolor": "white",
             "minorgridcolor": "white",
             "startlinecolor": "#2a3f5f"
            },
            "baxis": {
             "endlinecolor": "#2a3f5f",
             "gridcolor": "white",
             "linecolor": "white",
             "minorgridcolor": "white",
             "startlinecolor": "#2a3f5f"
            },
            "type": "carpet"
           }
          ],
          "choropleth": [
           {
            "colorbar": {
             "outlinewidth": 0,
             "ticks": ""
            },
            "type": "choropleth"
           }
          ],
          "contour": [
           {
            "colorbar": {
             "outlinewidth": 0,
             "ticks": ""
            },
            "colorscale": [
             [
              0,
              "#0d0887"
             ],
             [
              0.1111111111111111,
              "#46039f"
             ],
             [
              0.2222222222222222,
              "#7201a8"
             ],
             [
              0.3333333333333333,
              "#9c179e"
             ],
             [
              0.4444444444444444,
              "#bd3786"
             ],
             [
              0.5555555555555556,
              "#d8576b"
             ],
             [
              0.6666666666666666,
              "#ed7953"
             ],
             [
              0.7777777777777778,
              "#fb9f3a"
             ],
             [
              0.8888888888888888,
              "#fdca26"
             ],
             [
              1,
              "#f0f921"
             ]
            ],
            "type": "contour"
           }
          ],
          "contourcarpet": [
           {
            "colorbar": {
             "outlinewidth": 0,
             "ticks": ""
            },
            "type": "contourcarpet"
           }
          ],
          "heatmap": [
           {
            "colorbar": {
             "outlinewidth": 0,
             "ticks": ""
            },
            "colorscale": [
             [
              0,
              "#0d0887"
             ],
             [
              0.1111111111111111,
              "#46039f"
             ],
             [
              0.2222222222222222,
              "#7201a8"
             ],
             [
              0.3333333333333333,
              "#9c179e"
             ],
             [
              0.4444444444444444,
              "#bd3786"
             ],
             [
              0.5555555555555556,
              "#d8576b"
             ],
             [
              0.6666666666666666,
              "#ed7953"
             ],
             [
              0.7777777777777778,
              "#fb9f3a"
             ],
             [
              0.8888888888888888,
              "#fdca26"
             ],
             [
              1,
              "#f0f921"
             ]
            ],
            "type": "heatmap"
           }
          ],
          "heatmapgl": [
           {
            "colorbar": {
             "outlinewidth": 0,
             "ticks": ""
            },
            "colorscale": [
             [
              0,
              "#0d0887"
             ],
             [
              0.1111111111111111,
              "#46039f"
             ],
             [
              0.2222222222222222,
              "#7201a8"
             ],
             [
              0.3333333333333333,
              "#9c179e"
             ],
             [
              0.4444444444444444,
              "#bd3786"
             ],
             [
              0.5555555555555556,
              "#d8576b"
             ],
             [
              0.6666666666666666,
              "#ed7953"
             ],
             [
              0.7777777777777778,
              "#fb9f3a"
             ],
             [
              0.8888888888888888,
              "#fdca26"
             ],
             [
              1,
              "#f0f921"
             ]
            ],
            "type": "heatmapgl"
           }
          ],
          "histogram": [
           {
            "marker": {
             "colorbar": {
              "outlinewidth": 0,
              "ticks": ""
             }
            },
            "type": "histogram"
           }
          ],
          "histogram2d": [
           {
            "colorbar": {
             "outlinewidth": 0,
             "ticks": ""
            },
            "colorscale": [
             [
              0,
              "#0d0887"
             ],
             [
              0.1111111111111111,
              "#46039f"
             ],
             [
              0.2222222222222222,
              "#7201a8"
             ],
             [
              0.3333333333333333,
              "#9c179e"
             ],
             [
              0.4444444444444444,
              "#bd3786"
             ],
             [
              0.5555555555555556,
              "#d8576b"
             ],
             [
              0.6666666666666666,
              "#ed7953"
             ],
             [
              0.7777777777777778,
              "#fb9f3a"
             ],
             [
              0.8888888888888888,
              "#fdca26"
             ],
             [
              1,
              "#f0f921"
             ]
            ],
            "type": "histogram2d"
           }
          ],
          "histogram2dcontour": [
           {
            "colorbar": {
             "outlinewidth": 0,
             "ticks": ""
            },
            "colorscale": [
             [
              0,
              "#0d0887"
             ],
             [
              0.1111111111111111,
              "#46039f"
             ],
             [
              0.2222222222222222,
              "#7201a8"
             ],
             [
              0.3333333333333333,
              "#9c179e"
             ],
             [
              0.4444444444444444,
              "#bd3786"
             ],
             [
              0.5555555555555556,
              "#d8576b"
             ],
             [
              0.6666666666666666,
              "#ed7953"
             ],
             [
              0.7777777777777778,
              "#fb9f3a"
             ],
             [
              0.8888888888888888,
              "#fdca26"
             ],
             [
              1,
              "#f0f921"
             ]
            ],
            "type": "histogram2dcontour"
           }
          ],
          "mesh3d": [
           {
            "colorbar": {
             "outlinewidth": 0,
             "ticks": ""
            },
            "type": "mesh3d"
           }
          ],
          "parcoords": [
           {
            "line": {
             "colorbar": {
              "outlinewidth": 0,
              "ticks": ""
             }
            },
            "type": "parcoords"
           }
          ],
          "pie": [
           {
            "automargin": true,
            "type": "pie"
           }
          ],
          "scatter": [
           {
            "marker": {
             "colorbar": {
              "outlinewidth": 0,
              "ticks": ""
             }
            },
            "type": "scatter"
           }
          ],
          "scatter3d": [
           {
            "line": {
             "colorbar": {
              "outlinewidth": 0,
              "ticks": ""
             }
            },
            "marker": {
             "colorbar": {
              "outlinewidth": 0,
              "ticks": ""
             }
            },
            "type": "scatter3d"
           }
          ],
          "scattercarpet": [
           {
            "marker": {
             "colorbar": {
              "outlinewidth": 0,
              "ticks": ""
             }
            },
            "type": "scattercarpet"
           }
          ],
          "scattergeo": [
           {
            "marker": {
             "colorbar": {
              "outlinewidth": 0,
              "ticks": ""
             }
            },
            "type": "scattergeo"
           }
          ],
          "scattergl": [
           {
            "marker": {
             "colorbar": {
              "outlinewidth": 0,
              "ticks": ""
             }
            },
            "type": "scattergl"
           }
          ],
          "scattermapbox": [
           {
            "marker": {
             "colorbar": {
              "outlinewidth": 0,
              "ticks": ""
             }
            },
            "type": "scattermapbox"
           }
          ],
          "scatterpolar": [
           {
            "marker": {
             "colorbar": {
              "outlinewidth": 0,
              "ticks": ""
             }
            },
            "type": "scatterpolar"
           }
          ],
          "scatterpolargl": [
           {
            "marker": {
             "colorbar": {
              "outlinewidth": 0,
              "ticks": ""
             }
            },
            "type": "scatterpolargl"
           }
          ],
          "scatterternary": [
           {
            "marker": {
             "colorbar": {
              "outlinewidth": 0,
              "ticks": ""
             }
            },
            "type": "scatterternary"
           }
          ],
          "surface": [
           {
            "colorbar": {
             "outlinewidth": 0,
             "ticks": ""
            },
            "colorscale": [
             [
              0,
              "#0d0887"
             ],
             [
              0.1111111111111111,
              "#46039f"
             ],
             [
              0.2222222222222222,
              "#7201a8"
             ],
             [
              0.3333333333333333,
              "#9c179e"
             ],
             [
              0.4444444444444444,
              "#bd3786"
             ],
             [
              0.5555555555555556,
              "#d8576b"
             ],
             [
              0.6666666666666666,
              "#ed7953"
             ],
             [
              0.7777777777777778,
              "#fb9f3a"
             ],
             [
              0.8888888888888888,
              "#fdca26"
             ],
             [
              1,
              "#f0f921"
             ]
            ],
            "type": "surface"
           }
          ],
          "table": [
           {
            "cells": {
             "fill": {
              "color": "#EBF0F8"
             },
             "line": {
              "color": "white"
             }
            },
            "header": {
             "fill": {
              "color": "#C8D4E3"
             },
             "line": {
              "color": "white"
             }
            },
            "type": "table"
           }
          ]
         },
         "layout": {
          "annotationdefaults": {
           "arrowcolor": "#2a3f5f",
           "arrowhead": 0,
           "arrowwidth": 1
          },
          "coloraxis": {
           "colorbar": {
            "outlinewidth": 0,
            "ticks": ""
           }
          },
          "colorscale": {
           "diverging": [
            [
             0,
             "#8e0152"
            ],
            [
             0.1,
             "#c51b7d"
            ],
            [
             0.2,
             "#de77ae"
            ],
            [
             0.3,
             "#f1b6da"
            ],
            [
             0.4,
             "#fde0ef"
            ],
            [
             0.5,
             "#f7f7f7"
            ],
            [
             0.6,
             "#e6f5d0"
            ],
            [
             0.7,
             "#b8e186"
            ],
            [
             0.8,
             "#7fbc41"
            ],
            [
             0.9,
             "#4d9221"
            ],
            [
             1,
             "#276419"
            ]
           ],
           "sequential": [
            [
             0,
             "#0d0887"
            ],
            [
             0.1111111111111111,
             "#46039f"
            ],
            [
             0.2222222222222222,
             "#7201a8"
            ],
            [
             0.3333333333333333,
             "#9c179e"
            ],
            [
             0.4444444444444444,
             "#bd3786"
            ],
            [
             0.5555555555555556,
             "#d8576b"
            ],
            [
             0.6666666666666666,
             "#ed7953"
            ],
            [
             0.7777777777777778,
             "#fb9f3a"
            ],
            [
             0.8888888888888888,
             "#fdca26"
            ],
            [
             1,
             "#f0f921"
            ]
           ],
           "sequentialminus": [
            [
             0,
             "#0d0887"
            ],
            [
             0.1111111111111111,
             "#46039f"
            ],
            [
             0.2222222222222222,
             "#7201a8"
            ],
            [
             0.3333333333333333,
             "#9c179e"
            ],
            [
             0.4444444444444444,
             "#bd3786"
            ],
            [
             0.5555555555555556,
             "#d8576b"
            ],
            [
             0.6666666666666666,
             "#ed7953"
            ],
            [
             0.7777777777777778,
             "#fb9f3a"
            ],
            [
             0.8888888888888888,
             "#fdca26"
            ],
            [
             1,
             "#f0f921"
            ]
           ]
          },
          "colorway": [
           "#636efa",
           "#EF553B",
           "#00cc96",
           "#ab63fa",
           "#FFA15A",
           "#19d3f3",
           "#FF6692",
           "#B6E880",
           "#FF97FF",
           "#FECB52"
          ],
          "font": {
           "color": "#2a3f5f"
          },
          "geo": {
           "bgcolor": "white",
           "lakecolor": "white",
           "landcolor": "#E5ECF6",
           "showlakes": true,
           "showland": true,
           "subunitcolor": "white"
          },
          "hoverlabel": {
           "align": "left"
          },
          "hovermode": "closest",
          "mapbox": {
           "style": "light"
          },
          "paper_bgcolor": "white",
          "plot_bgcolor": "#E5ECF6",
          "polar": {
           "angularaxis": {
            "gridcolor": "white",
            "linecolor": "white",
            "ticks": ""
           },
           "bgcolor": "#E5ECF6",
           "radialaxis": {
            "gridcolor": "white",
            "linecolor": "white",
            "ticks": ""
           }
          },
          "scene": {
           "xaxis": {
            "backgroundcolor": "#E5ECF6",
            "gridcolor": "white",
            "gridwidth": 2,
            "linecolor": "white",
            "showbackground": true,
            "ticks": "",
            "zerolinecolor": "white"
           },
           "yaxis": {
            "backgroundcolor": "#E5ECF6",
            "gridcolor": "white",
            "gridwidth": 2,
            "linecolor": "white",
            "showbackground": true,
            "ticks": "",
            "zerolinecolor": "white"
           },
           "zaxis": {
            "backgroundcolor": "#E5ECF6",
            "gridcolor": "white",
            "gridwidth": 2,
            "linecolor": "white",
            "showbackground": true,
            "ticks": "",
            "zerolinecolor": "white"
           }
          },
          "shapedefaults": {
           "line": {
            "color": "#2a3f5f"
           }
          },
          "ternary": {
           "aaxis": {
            "gridcolor": "white",
            "linecolor": "white",
            "ticks": ""
           },
           "baxis": {
            "gridcolor": "white",
            "linecolor": "white",
            "ticks": ""
           },
           "bgcolor": "#E5ECF6",
           "caxis": {
            "gridcolor": "white",
            "linecolor": "white",
            "ticks": ""
           }
          },
          "title": {
           "x": 0.05
          },
          "xaxis": {
           "automargin": true,
           "gridcolor": "white",
           "linecolor": "white",
           "ticks": "",
           "title": {
            "standoff": 15
           },
           "zerolinecolor": "white",
           "zerolinewidth": 2
          },
          "yaxis": {
           "automargin": true,
           "gridcolor": "white",
           "linecolor": "white",
           "ticks": "",
           "title": {
            "standoff": 15
           },
           "zerolinecolor": "white",
           "zerolinewidth": 2
          }
         }
        },
        "title": {
         "text": ""
        },
        "width": 800,
        "yaxis": {
         "showticklabels": false
        }
       }
      },
      "text/html": "<div>\n        \n        \n            <div id=\"81dcbe51-6b6b-4dfb-9605-a11c8461f040\" class=\"plotly-graph-div\" style=\"height:400px; width:800px;\"></div>\n            <script type=\"text/javascript\">\n                require([\"plotly\"], function(Plotly) {\n                    window.PLOTLYENV=window.PLOTLYENV || {};\n                    \n                if (document.getElementById(\"81dcbe51-6b6b-4dfb-9605-a11c8461f040\")) {\n                    Plotly.newPlot(\n                        '81dcbe51-6b6b-4dfb-9605-a11c8461f040',\n                        [{\"hoverinfo\": \"text\", \"mode\": \"lines\", \"name\": \"fake_counts\", \"text\": [\"False\", \"2.10e-06\", \"2.10e-06\", \"True\", \"2.15e-06\", \"2.15e-06\", \"2.63e-06\", \"2.63e-06\", \"True\", \"2.68e-06\", \"2.68e-06\", \"3.17e-06\", \"3.17e-06\", \"True\", \"3.22e-06\", \"3.22e-06\", \"3.70e-06\", \"3.70e-06\", \"True\", \"3.75e-06\", \"3.75e-06\", \"4.23e-06\", \"4.23e-06\", \"True\", \"4.28e-06\", \"4.28e-06\", \"4.77e-06\", \"4.77e-06\", \"True\", \"4.82e-06\", \"4.82e-06\", \"5.30e-06\", \"5.30e-06\", \"True\", \"5.35e-06\", \"5.35e-06\", \"5.83e-06\", \"5.83e-06\", \"True\", \"5.88e-06\", \"5.88e-06\", \"6.37e-06\", \"6.37e-06\", \"True\", \"6.42e-06\", \"6.42e-06\", \"6.90e-06\", \"6.90e-06\", \"True\", \"6.95e-06\", \"6.95e-06\", \"7.00e-06\"], \"type\": \"scatter\", \"x\": [0, 2.1e-06, 2.1e-06, 2.125e-06, 2.1499999999999997e-06, 2.1499999999999997e-06, 2.6333333333333332e-06, 2.6333333333333332e-06, 2.658333333333333e-06, 2.683333333333333e-06, 2.683333333333333e-06, 3.1666666666666663e-06, 3.1666666666666663e-06, 3.191666666666666e-06, 3.2166666666666662e-06, 3.2166666666666662e-06, 3.6999999999999997e-06, 3.6999999999999997e-06, 3.725e-06, 3.7499999999999997e-06, 3.7499999999999997e-06, 4.233333333333333e-06, 4.233333333333333e-06, 4.258333333333333e-06, 4.2833333333333335e-06, 4.2833333333333335e-06, 4.766666666666666e-06, 4.766666666666666e-06, 4.791666666666667e-06, 4.8166666666666666e-06, 4.8166666666666666e-06, 5.3e-06, 5.3e-06, 5.325000000000001e-06, 5.3500000000000004e-06, 5.3500000000000004e-06, 5.833333333333333e-06, 5.833333333333333e-06, 5.858333333333333e-06, 5.8833333333333335e-06, 5.8833333333333335e-06, 6.366666666666666e-06, 6.366666666666666e-06, 6.391666666666667e-06, 6.4166666666666665e-06, 6.4166666666666665e-06, 6.9e-06, 6.9e-06, 6.925000000000001e-06, 6.95e-06, 6.95e-06, 7e-06], \"y\": [0, 0, 0.8, 0.8, 0.8, 0, 0, 0.8, 0.8, 0.8, 0, 0, 0.8, 0.8, 0.8, 0, 0, 0.8, 0.8, 0.8, 0, 0, 0.8, 0.8, 0.8, 0, 0, 0.8, 0.8, 0.8, 0, 0, 0.8, 0.8, 0.8, 0, 0, 0.8, 0.8, 0.8, 0, 0, 0.8, 0.8, 0.8, 0, 0, 0.8, 0.8, 0.8, 0, 0]}, {\"hoverinfo\": \"text\", \"mode\": \"lines\", \"name\": \"gate\", \"text\": [\"False\", \"1.90e-06\", \"1.90e-06\", \"True\", \"2.00e-06\", \"2.00e-06\", \"7.00e-06\"], \"type\": \"scatter\", \"x\": [0, 1.9e-06, 1.9e-06, 1.95e-06, 2e-06, 2e-06, 7e-06], \"y\": [1, 1, 1.8, 1.8, 1.8, 1, 1]}, {\"hoverinfo\": \"text\", \"mode\": \"lines\", \"name\": \"toptica\", \"text\": [\"False\", \"0.00e+00\", \"True\", \"7.00e-06\", \"7.00e-06\", \"7.00e-06\"], \"type\": \"scatter\", \"x\": [0, 0, 3.5e-06, 7e-06, 7e-06, 7e-06], \"y\": [2, 2.8, 2.8, 2.8, 2, 2]}],\n                        {\"height\": 400, \"hovermode\": \"closest\", \"legend\": {\"traceorder\": \"reversed\"}, \"template\": {\"data\": {\"bar\": [{\"error_x\": {\"color\": \"#2a3f5f\"}, \"error_y\": {\"color\": \"#2a3f5f\"}, \"marker\": {\"line\": {\"color\": \"#E5ECF6\", \"width\": 0.5}}, \"type\": \"bar\"}], \"barpolar\": [{\"marker\": {\"line\": {\"color\": \"#E5ECF6\", \"width\": 0.5}}, \"type\": \"barpolar\"}], \"carpet\": [{\"aaxis\": {\"endlinecolor\": \"#2a3f5f\", \"gridcolor\": \"white\", \"linecolor\": \"white\", \"minorgridcolor\": \"white\", \"startlinecolor\": \"#2a3f5f\"}, \"baxis\": {\"endlinecolor\": \"#2a3f5f\", \"gridcolor\": \"white\", \"linecolor\": \"white\", \"minorgridcolor\": \"white\", \"startlinecolor\": \"#2a3f5f\"}, \"type\": \"carpet\"}], \"choropleth\": [{\"colorbar\": {\"outlinewidth\": 0, \"ticks\": \"\"}, \"type\": \"choropleth\"}], \"contour\": [{\"colorbar\": {\"outlinewidth\": 0, \"ticks\": \"\"}, \"colorscale\": [[0.0, \"#0d0887\"], [0.1111111111111111, \"#46039f\"], [0.2222222222222222, \"#7201a8\"], [0.3333333333333333, \"#9c179e\"], [0.4444444444444444, \"#bd3786\"], [0.5555555555555556, \"#d8576b\"], [0.6666666666666666, \"#ed7953\"], [0.7777777777777778, \"#fb9f3a\"], [0.8888888888888888, \"#fdca26\"], [1.0, \"#f0f921\"]], \"type\": \"contour\"}], \"contourcarpet\": [{\"colorbar\": {\"outlinewidth\": 0, \"ticks\": \"\"}, \"type\": \"contourcarpet\"}], \"heatmap\": [{\"colorbar\": {\"outlinewidth\": 0, \"ticks\": \"\"}, \"colorscale\": [[0.0, \"#0d0887\"], [0.1111111111111111, \"#46039f\"], [0.2222222222222222, \"#7201a8\"], [0.3333333333333333, \"#9c179e\"], [0.4444444444444444, \"#bd3786\"], [0.5555555555555556, \"#d8576b\"], [0.6666666666666666, \"#ed7953\"], [0.7777777777777778, \"#fb9f3a\"], [0.8888888888888888, \"#fdca26\"], [1.0, \"#f0f921\"]], \"type\": \"heatmap\"}], \"heatmapgl\": [{\"colorbar\": {\"outlinewidth\": 0, \"ticks\": \"\"}, \"colorscale\": [[0.0, \"#0d0887\"], [0.1111111111111111, \"#46039f\"], [0.2222222222222222, \"#7201a8\"], [0.3333333333333333, \"#9c179e\"], [0.4444444444444444, \"#bd3786\"], [0.5555555555555556, \"#d8576b\"], [0.6666666666666666, \"#ed7953\"], [0.7777777777777778, \"#fb9f3a\"], [0.8888888888888888, \"#fdca26\"], [1.0, \"#f0f921\"]], \"type\": \"heatmapgl\"}], \"histogram\": [{\"marker\": {\"colorbar\": {\"outlinewidth\": 0, \"ticks\": \"\"}}, \"type\": \"histogram\"}], \"histogram2d\": [{\"colorbar\": {\"outlinewidth\": 0, \"ticks\": \"\"}, \"colorscale\": [[0.0, \"#0d0887\"], [0.1111111111111111, \"#46039f\"], [0.2222222222222222, \"#7201a8\"], [0.3333333333333333, \"#9c179e\"], [0.4444444444444444, \"#bd3786\"], [0.5555555555555556, \"#d8576b\"], [0.6666666666666666, \"#ed7953\"], [0.7777777777777778, \"#fb9f3a\"], [0.8888888888888888, \"#fdca26\"], [1.0, \"#f0f921\"]], \"type\": \"histogram2d\"}], \"histogram2dcontour\": [{\"colorbar\": {\"outlinewidth\": 0, \"ticks\": \"\"}, \"colorscale\": [[0.0, \"#0d0887\"], [0.1111111111111111, \"#46039f\"], [0.2222222222222222, \"#7201a8\"], [0.3333333333333333, \"#9c179e\"], [0.4444444444444444, \"#bd3786\"], [0.5555555555555556, \"#d8576b\"], [0.6666666666666666, \"#ed7953\"], [0.7777777777777778, \"#fb9f3a\"], [0.8888888888888888, \"#fdca26\"], [1.0, \"#f0f921\"]], \"type\": \"histogram2dcontour\"}], \"mesh3d\": [{\"colorbar\": {\"outlinewidth\": 0, \"ticks\": \"\"}, \"type\": \"mesh3d\"}], \"parcoords\": [{\"line\": {\"colorbar\": {\"outlinewidth\": 0, \"ticks\": \"\"}}, \"type\": \"parcoords\"}], \"pie\": [{\"automargin\": true, \"type\": \"pie\"}], \"scatter\": [{\"marker\": {\"colorbar\": {\"outlinewidth\": 0, \"ticks\": \"\"}}, \"type\": \"scatter\"}], \"scatter3d\": [{\"line\": {\"colorbar\": {\"outlinewidth\": 0, \"ticks\": \"\"}}, \"marker\": {\"colorbar\": {\"outlinewidth\": 0, \"ticks\": \"\"}}, \"type\": \"scatter3d\"}], \"scattercarpet\": [{\"marker\": {\"colorbar\": {\"outlinewidth\": 0, \"ticks\": \"\"}}, \"type\": \"scattercarpet\"}], \"scattergeo\": [{\"marker\": {\"colorbar\": {\"outlinewidth\": 0, \"ticks\": \"\"}}, \"type\": \"scattergeo\"}], \"scattergl\": [{\"marker\": {\"colorbar\": {\"outlinewidth\": 0, \"ticks\": \"\"}}, \"type\": \"scattergl\"}], \"scattermapbox\": [{\"marker\": {\"colorbar\": {\"outlinewidth\": 0, \"ticks\": \"\"}}, \"type\": \"scattermapbox\"}], \"scatterpolar\": [{\"marker\": {\"colorbar\": {\"outlinewidth\": 0, \"ticks\": \"\"}}, \"type\": \"scatterpolar\"}], \"scatterpolargl\": [{\"marker\": {\"colorbar\": {\"outlinewidth\": 0, \"ticks\": \"\"}}, \"type\": \"scatterpolargl\"}], \"scatterternary\": [{\"marker\": {\"colorbar\": {\"outlinewidth\": 0, \"ticks\": \"\"}}, \"type\": \"scatterternary\"}], \"surface\": [{\"colorbar\": {\"outlinewidth\": 0, \"ticks\": \"\"}, \"colorscale\": [[0.0, \"#0d0887\"], [0.1111111111111111, \"#46039f\"], [0.2222222222222222, \"#7201a8\"], [0.3333333333333333, \"#9c179e\"], [0.4444444444444444, \"#bd3786\"], [0.5555555555555556, \"#d8576b\"], [0.6666666666666666, \"#ed7953\"], [0.7777777777777778, \"#fb9f3a\"], [0.8888888888888888, \"#fdca26\"], [1.0, \"#f0f921\"]], \"type\": \"surface\"}], \"table\": [{\"cells\": {\"fill\": {\"color\": \"#EBF0F8\"}, \"line\": {\"color\": \"white\"}}, \"header\": {\"fill\": {\"color\": \"#C8D4E3\"}, \"line\": {\"color\": \"white\"}}, \"type\": \"table\"}]}, \"layout\": {\"annotationdefaults\": {\"arrowcolor\": \"#2a3f5f\", \"arrowhead\": 0, \"arrowwidth\": 1}, \"coloraxis\": {\"colorbar\": {\"outlinewidth\": 0, \"ticks\": \"\"}}, \"colorscale\": {\"diverging\": [[0, \"#8e0152\"], [0.1, \"#c51b7d\"], [0.2, \"#de77ae\"], [0.3, \"#f1b6da\"], [0.4, \"#fde0ef\"], [0.5, \"#f7f7f7\"], [0.6, \"#e6f5d0\"], [0.7, \"#b8e186\"], [0.8, \"#7fbc41\"], [0.9, \"#4d9221\"], [1, \"#276419\"]], \"sequential\": [[0.0, \"#0d0887\"], [0.1111111111111111, \"#46039f\"], [0.2222222222222222, \"#7201a8\"], [0.3333333333333333, \"#9c179e\"], [0.4444444444444444, \"#bd3786\"], [0.5555555555555556, \"#d8576b\"], [0.6666666666666666, \"#ed7953\"], [0.7777777777777778, \"#fb9f3a\"], [0.8888888888888888, \"#fdca26\"], [1.0, \"#f0f921\"]], \"sequentialminus\": [[0.0, \"#0d0887\"], [0.1111111111111111, \"#46039f\"], [0.2222222222222222, \"#7201a8\"], [0.3333333333333333, \"#9c179e\"], [0.4444444444444444, \"#bd3786\"], [0.5555555555555556, \"#d8576b\"], [0.6666666666666666, \"#ed7953\"], [0.7777777777777778, \"#fb9f3a\"], [0.8888888888888888, \"#fdca26\"], [1.0, \"#f0f921\"]]}, \"colorway\": [\"#636efa\", \"#EF553B\", \"#00cc96\", \"#ab63fa\", \"#FFA15A\", \"#19d3f3\", \"#FF6692\", \"#B6E880\", \"#FF97FF\", \"#FECB52\"], \"font\": {\"color\": \"#2a3f5f\"}, \"geo\": {\"bgcolor\": \"white\", \"lakecolor\": \"white\", \"landcolor\": \"#E5ECF6\", \"showlakes\": true, \"showland\": true, \"subunitcolor\": \"white\"}, \"hoverlabel\": {\"align\": \"left\"}, \"hovermode\": \"closest\", \"mapbox\": {\"style\": \"light\"}, \"paper_bgcolor\": \"white\", \"plot_bgcolor\": \"#E5ECF6\", \"polar\": {\"angularaxis\": {\"gridcolor\": \"white\", \"linecolor\": \"white\", \"ticks\": \"\"}, \"bgcolor\": \"#E5ECF6\", \"radialaxis\": {\"gridcolor\": \"white\", \"linecolor\": \"white\", \"ticks\": \"\"}}, \"scene\": {\"xaxis\": {\"backgroundcolor\": \"#E5ECF6\", \"gridcolor\": \"white\", \"gridwidth\": 2, \"linecolor\": \"white\", \"showbackground\": true, \"ticks\": \"\", \"zerolinecolor\": \"white\"}, \"yaxis\": {\"backgroundcolor\": \"#E5ECF6\", \"gridcolor\": \"white\", \"gridwidth\": 2, \"linecolor\": \"white\", \"showbackground\": true, \"ticks\": \"\", \"zerolinecolor\": \"white\"}, \"zaxis\": {\"backgroundcolor\": \"#E5ECF6\", \"gridcolor\": \"white\", \"gridwidth\": 2, \"linecolor\": \"white\", \"showbackground\": true, \"ticks\": \"\", \"zerolinecolor\": \"white\"}}, \"shapedefaults\": {\"line\": {\"color\": \"#2a3f5f\"}}, \"ternary\": {\"aaxis\": {\"gridcolor\": \"white\", \"linecolor\": \"white\", \"ticks\": \"\"}, \"baxis\": {\"gridcolor\": \"white\", \"linecolor\": \"white\", \"ticks\": \"\"}, \"bgcolor\": \"#E5ECF6\", \"caxis\": {\"gridcolor\": \"white\", \"linecolor\": \"white\", \"ticks\": \"\"}}, \"title\": {\"x\": 0.05}, \"xaxis\": {\"automargin\": true, \"gridcolor\": \"white\", \"linecolor\": \"white\", \"ticks\": \"\", \"title\": {\"standoff\": 15}, \"zerolinecolor\": \"white\", \"zerolinewidth\": 2}, \"yaxis\": {\"automargin\": true, \"gridcolor\": \"white\", \"linecolor\": \"white\", \"ticks\": \"\", \"title\": {\"standoff\": 15}, \"zerolinecolor\": \"white\", \"zerolinewidth\": 2}}}, \"title\": {\"text\": \"\"}, \"width\": 800, \"yaxis\": {\"showticklabels\": false}},\n                        {\"displaylogo\": false, \"responsive\": true}\n                    ).then(function(){\n                            \nvar gd = document.getElementById('81dcbe51-6b6b-4dfb-9605-a11c8461f040');\nvar x = new MutationObserver(function (mutations, observer) {{\n        var display = window.getComputedStyle(gd).display;\n        if (!display || display === 'none') {{\n            console.log([gd, 'removed!']);\n            Plotly.purge(gd);\n            observer.disconnect();\n        }}\n}});\n\n// Listen for the removal of the full notebook cells\nvar notebookContainer = gd.closest('#notebook-container');\nif (notebookContainer) {{\n    x.observe(notebookContainer, {childList: true});\n}}\n\n// Listen for the clearing of the current output cell\nvar outputEl = gd.closest('.output');\nif (outputEl) {{\n    x.observe(outputEl, {childList: true});\n}}\n\n                        })\n                };\n                });\n            </script>\n        </div>"
     },
     "metadata": {}
    }
   ],
   "source": [
    "# Can be used to slow things down\n",
    "scaling = 1\n",
    "\n",
    "# Define the pulse sequence\n",
    "test_pulse = pb.PulseBlock(\n",
    "    p_obj_list=[\n",
    "        po.PTrue(ch='toptica', dur=7e-6*scaling),\n",
    "        po.PTrue(ch='gate', t0=1.9e-6*scaling, dur=0.1e-6*scaling)\n",
    "    ]\n",
    ")\n",
    "\n",
    "# Add some fake pulses in the \"readout\" window\n",
    "count_t0s = np.linspace(2.1*10**-6, 6.9*10**-6, 10)*scaling\n",
    "for count_t0 in count_t0s:\n",
    "    test_pulse.insert(\n",
    "        po.PTrue(\n",
    "            ch='fake_counts',\n",
    "            dur=50*10**-9*scaling,\n",
    "            t0=count_t0\n",
    "        )\n",
    "    )\n",
    "\n",
    "# Default states (in future, module should auto default to False)\n",
    "test_pulse.dflt_dict = dict(\n",
    "    gate=po.DFalse(),\n",
    "    toptica=po.DFalse(),\n",
    "    fake_counts=po.DFalse()\n",
    ")\n",
    "\n",
    "# Plot\n",
    "iplot(test_pulse)"
   ]
  },
  {
   "cell_type": "markdown",
   "metadata": {},
   "source": [
    "Now, let's turn this `pulseblock` instance into an intruction set for the DIO outputs of the HDAWG. We want to get a series on `setDIO()` and `wait()` commands, which reproduce the pulse sequence."
   ]
  },
  {
   "cell_type": "code",
   "execution_count": 5,
   "metadata": {
    "tags": []
   },
   "outputs": [
    {
     "output_type": "stream",
     "name": "stdout",
     "text": "{'green': 31, 'toptica': 30, 'gate': 29, 'fake_counts': 28}\n"
    }
   ],
   "source": [
    "# Load and verify assignment dict\n",
    "assignment_dict = load_config('dio_assignment', logger=logger)\n",
    "print(assignment_dict)"
   ]
  },
  {
   "cell_type": "code",
   "execution_count": 6,
   "metadata": {
    "scrolled": true
   },
   "outputs": [],
   "source": [
    "# Instanciate pulseblock handler.\n",
    "pb_handler = DIOPulseBlockHandler(\n",
    "    pb = test_pulse,\n",
    "    assignment_dict=assignment_dict,\n",
    "    hd=hd\n",
    ")"
   ]
  },
  {
   "cell_type": "code",
   "execution_count": 7,
   "metadata": {},
   "outputs": [],
   "source": [
    "# Generate .seqc instruction set which represents pulse sequence.\n",
    "dig_pulse_sequence = pb_handler.get_dio_sequence()"
   ]
  },
  {
   "cell_type": "code",
   "execution_count": 8,
   "metadata": {
    "tags": []
   },
   "outputs": [
    {
     "output_type": "stream",
     "name": "stdout",
     "text": "setDIO(1073741824);wait(564);setDIO(1610612736);wait(27);setDIO(1073741824);wait(25);setDIO(1342177280);wait(12);setDIO(1073741824);wait(140);setDIO(1342177280);wait(12);setDIO(1073741824);wait(140);setDIO(1342177280);wait(12);setDIO(1073741824);wait(140);setDIO(1342177280);wait(12);setDIO(1073741824);wait(140);setDIO(1342177280);wait(13);setDIO(1073741824);wait(139);setDIO(1342177280);wait(12);setDIO(1073741824);wait(140);setDIO(1342177280);wait(13);setDIO(1073741824);wait(139);setDIO(1342177280);wait(13);setDIO(1073741824);wait(139);setDIO(1342177280);wait(12);setDIO(1073741824);wait(140);setDIO(1342177280);wait(13);setDIO(1073741824);wait(9);setDIO(0);wait(0);\n"
    }
   ],
   "source": [
    "# Let's have a look.\n",
    "print(dig_pulse_sequence)"
   ]
  },
  {
   "cell_type": "markdown",
   "metadata": {},
   "source": [
    "This `.seqc` snippet can now be used in any sequence to reproduce the pulse sequence above. Let's try to write a simple sequence which outputs the digital pulse sequence as well as a trigger signal, and let's look at the results on the scope. \n",
    "\n",
    "To do so, connect marker output 1 of the HDWAG to the scope and use it as scope trigger, end then connect DIO pins 15, 17, and 31 each to one scope channel."
   ]
  },
  {
   "cell_type": "code",
   "execution_count": 9,
   "metadata": {},
   "outputs": [],
   "source": [
    "# This sequence will send out a trigger and execute the commands  dig_pulse (yet to be specified).\n",
    "sequence_txt = \"\"\"\\\n",
    "\n",
    "        while (1) {\n",
    "\n",
    "          _dig_pulse_\n",
    "          \n",
    "          \n",
    "          // Wait\n",
    "          wait(1000);\n",
    "\n",
    "        }\n",
    "        \"\"\"\n",
    "\n",
    "# Create Sequence instance.\n",
    "seq = Sequence(hd, sequence_txt, ['dig_pulse'])\n",
    "\n",
    "# Replace dig_pulse placeholder by digital pulse sequence instruction set.\n",
    "seq.replace_placeholder('dig_pulse', dig_pulse_sequence)"
   ]
  },
  {
   "cell_type": "code",
   "execution_count": 10,
   "metadata": {},
   "outputs": [],
   "source": [
    "# Create an instance of the AWG Module.\n",
    "awg = AWGModule(hd, 3)\n",
    "awg.set_sampling_rate('2.4 GHz') # Set 2.4 GHz sampling rate.\n",
    "\n",
    "# Upload sequence.\n",
    "if awg is not None:\n",
    "    awg.compile_upload_sequence(seq)"
   ]
  },
  {
   "cell_type": "code",
   "execution_count": 11,
   "metadata": {},
   "outputs": [],
   "source": [
    "# Now we're almost ready, we only have to make sure that the 8 bit buses for bits 15, 17, and 31 are driven. \n",
    "# This can be done automatically by calling the following:\n",
    "\n",
    "pb_handler.setup_hd()"
   ]
  },
  {
   "source": [
    "## DIO breakout config"
   ],
   "cell_type": "markdown",
   "metadata": {}
  },
  {
   "cell_type": "code",
   "execution_count": 10,
   "metadata": {},
   "outputs": [],
   "source": [
    "# Connect to DIO breakout server (launched via launch control)\n",
    "dio_ip = '140.247.189.82'\n",
    "dio_port = 30508\n",
    "dio_breakout_client = dio_breakout.Client(\n",
    "    host = dio_ip,\n",
    "    port = dio_port\n",
    ")"
   ]
  },
  {
   "cell_type": "code",
   "execution_count": 12,
   "metadata": {},
   "outputs": [],
   "source": [
    "# target_voltage = 0.3\n",
    "# dio_breakout_client.set_high_voltage(1, 3, target_voltage)"
   ]
  },
  {
   "cell_type": "code",
   "execution_count": 11,
   "metadata": {
    "tags": []
   },
   "outputs": [
    {
     "output_type": "stream",
     "name": "stdout",
     "text": "Channel 0, low voltage: 0.0, high voltage: 5.0000762951094835\nChannel 1, low voltage: 0.0, high voltage: 5.0000762951094835\nChannel 2, low voltage: 0.0, high voltage: 5.0000762951094835\nChannel 3, low voltage: 0.0, high voltage: 0.29999237048905164\n"
    }
   ],
   "source": [
    "for channel in range(4):\n",
    "    print(f'Channel {channel}, low voltage: {dio_breakout_client.get_low_voltage(1, channel)}, '\n",
    "          f'high voltage: {dio_breakout_client.get_high_voltage(1, channel)}')"
   ]
  },
  {
   "cell_type": "code",
   "execution_count": 12,
   "metadata": {
    "tags": []
   },
   "outputs": [
    {
     "output_type": "stream",
     "name": "stdout",
     "text": "Channel 0, low voltage: 0.0, high voltage: 4.0\nChannel 1, low voltage: 0.0, high voltage: 5.0000762951094835\nChannel 2, low voltage: 0.0, high voltage: 5.0000762951094835\nChannel 3, low voltage: 0.0, high voltage: 4.0\n"
    }
   ],
   "source": [
    "for channel in range(4):\n",
    "    print(f'Channel {channel}, low voltage: {dio_breakout_client.get_low_voltage(0, channel)}, '\n",
    "          f'high voltage: {dio_breakout_client.get_high_voltage(0, channel)}')"
   ]
  },
  {
   "cell_type": "code",
   "execution_count": 121,
   "metadata": {},
   "outputs": [
    {
     "output_type": "execute_result",
     "data": {
      "text/plain": "0"
     },
     "metadata": {},
     "execution_count": 121
    }
   ],
   "source": [
    "target_voltage = 3\n",
    "dio_breakout_client.set_high_voltage(0, 0, target_voltage)"
   ]
  },
  {
   "source": [
    "## Setup histogram"
   ],
   "cell_type": "markdown",
   "metadata": {}
  },
  {
   "cell_type": "code",
   "execution_count": 13,
   "metadata": {},
   "outputs": [],
   "source": [
    "ctr = si_tt.Client(\n",
    "    host='140.247.189.82',\n",
    "    port=42135\n",
    ")"
   ]
  },
  {
   "cell_type": "code",
   "execution_count": 14,
   "metadata": {},
   "outputs": [],
   "source": [
    "h_name = 'histogram'\n",
    "ctr.start_histogram(\n",
    "    name=h_name,\n",
    "    start_ch=2,\n",
    "    click_ch=1,\n",
    "    binwidth=1000,\n",
    "    n_bins=10000\n",
    ")"
   ]
  },
  {
   "cell_type": "code",
   "execution_count": 32,
   "metadata": {},
   "outputs": [
    {
     "output_type": "execute_result",
     "data": {
      "text/plain": "array([      0,       0,       0,       0,       0,       0,       0,\n             0,       0,       0,       0,       0,       0,       0,\n             0,       0,       0,       0,       0,       0,       0,\n             0,       0,       0,       0,       0,       0,       0,\n             0,       0,       0,       0,       0,       0,       0,\n             0,       0,       0,       0,       0,       0,       0,\n             0,       0,       0,       0,       0,       0,       0,\n             0,       0,       0,       0,       0,       0,       0,\n             0,       0,       0,       0,       0,       0,       0,\n             0,       0,       0,       0,       0,       0,       0,\n             0,       0,       0,       0,       0,       0,       0,\n             0,       0,       0,       0,       0,       0,       0,\n             0,       0,       0,       0,       0,       0,       0,\n             0,       0,       0,       0,       0,       0,       0,\n             0,       0,       0,       0,       0,       0,       0,\n             0,       0,       0,       0,       0,       0,       0,\n             0,       0,       0,       0,       0,       0,       0,\n             0,       0,       0,       0,       0,       0,       0,\n             0,       0,       0,       0,       0,       0,       0,\n             0,       0,       0,       0,       0,       0,       0,\n             0,       0,       0,       0,       0,       0,       0,\n             0,       0,       0,       0,       0,       0,       0,\n             0,       0,       0,       0,       0,       0,       0,\n             0,       0,       0,       0,       0,       0,       0,\n             0,       0,       0,       0,       0,       0,       0,\n             0,       0,       0,       0,       0,       0,       0,\n             0,       0,       0,       0,       0,       0,       0,\n             0,       0,       0,     180, 6521578,       0,       0,\n             0,       0,       0,       0,       0,       0,       0,\n             0,       0,       0,       0,       0,       0,       0,\n             0,       0,       0,       0,       0,       0,       0,\n             0,       0,       0,       0,       0,       0,       0,\n             0,       0,       0,       0,       0,       0,       0,\n             0,       0,       0,       0,       0,       0,       0,\n             0,       0,       0,       0,       0,       0,       0,\n             0,       0,       0,       0,       0,       0,       0,\n             0,       0,       0,       0,       0,       0,       0,\n             0,       0,       0,       0,       0,       0,       0,\n             0,       0,       0,       0,       0,       0,       0,\n             0,       0,       0,       0,       0,       0,       0,\n             0,       0,       0,       0,       0,       0,       0,\n             0,       0,       0,       0,       0,       0,       0,\n             0,       0,       0,       0,       0,       0,       0,\n             0,       0,       0,       0,       0,       0,       0,\n             0,       0,       0,       0,       0,       0,       0,\n             0,       0,       0,       0,       0,       0,       0,\n             0,       0,       0,       0,       0,       0,       0,\n             0,       0,       0,       0,       0,       0,       0,\n             0,       0,       0,       0,       0,       0,       0,\n             0,       0,       0,       0,       0,       0,       0,\n             0,       0,       0,       0,       0,       0,       0,\n             0,       0,       0,       0,       0,       0,       0,\n             0,       0,       0,       0,       0,       0,       0,\n             0,       0,       0,       0,       0,       0,       0,\n             0,       0,       0,       0,       0,       0,       0,\n             0,       0,       0,       0,       0,       0,       0,\n             0,       0,       0,       0,       0,       0,       0,\n             0,       0,       0,       0,       0,       0,       0,\n             0,       0,       0,       0,       0,       0,       0,\n             0,       0,       0,       0,       0,       0,       0,\n             0,       0,       0,       0,       0,       0,       0,\n             0,       0,       0,       0,       0,       0,       0,\n             0,       0,       0,       0,       0,       0,       0,\n             0,       0,       0,       0,       0,       0,       0,\n             0,       0,       0,       0,       0,       0,       0,\n             0,       0,       0,       0,       0,       0,       0,\n             0,       0,       0,       0,       0,       0,       0,\n             0,       0,       0,       0,       0,       0,       0,\n             0,       0,       0,       0,       0,       0,       0,\n             0,       0,       0,       0,       0,       0,       0,\n             0,       0,       0,       0,       0,       0,       0,\n             0,       0,       0,       0,       0,       0,       0,\n             0,       0,       0,       0,       0,       0,       0,\n             0,       0,       0,       0,       0,       0,       0,\n             0,       0,       0,       0,       0,       0,       0,\n             0,       0,       0,       0,       0,       0,       0,\n             0,       0,       0,       0,       0,       0,       0,\n             0,       0,       0,       0,       0,       0,       0,\n             0,       0,       0,       0,       0,       0,       0,\n             0,       0,       0,       0,       0,       0,       0,\n             0,       0,       0,       0,       0,       0,       0,\n             0,       0,       0,       0,       0,       0,       0,\n             0,       0,       0,       0,       0,       0,       0,\n             0,       0,       0,       0,       0,       0,       0,\n             0,       0,       0,       0,       0,       0,       0,\n             0,       0,       0,       0,       0,       0,       0,\n             0,       0,       0,       0,       0,       0,       0,\n             0,       0,       0,       0,       0,       0,       0,\n             0,       0,       0,       0,       0,       0,       0,\n             0,       0,       0,       0,       0,       0,       0,\n             0,       0,       0,       0,       0,       0,       0,\n             0,       0,       0,       0,       0,       0,       0,\n             0,       0,       0,       0,       0,       0,       0,\n             0,       0,       0,       0,       0,       0,       0,\n             0,       0,       0,       0,       0,       0,       0,\n             0,       0,       0,       0,       0,       0,       0,\n             0,       0,       0,       0,       0,       0,       0,\n             0,       0,       0,       0,       0,       0,       0,\n             0,       0,       0,       0,       0,       0,       0,\n             0,       0,       0,       0,       0,       0,       0,\n             0,       0,       0,       0,       0,       0,       0,\n             0,       0,       0,       0,       0,       0,       0,\n             0,       0,       0,       0,       0,       0,       0,\n             0,       0,       0,       0,       0, 6521758,       0,\n             0,       0,       0,       0,       0,       0,       0,\n             0,       0,       0,       0,       0,       0,       0,\n             0,       0,       0,       0,       0,       0,       0,\n             0,       0,       0,       0,       0,       0,       0,\n             0,       0,       0,       0,       0,       0,       0,\n             0,       0,       0,       0,       0,       0,       0,\n             0,       0,       0,       0,       0,       0,       0,\n             0,       0,       0,       0,       0,       0,       0,\n             0,       0,       0,       0,       0,       0,       0,\n             0,       0,       0,       0,       0,       0,       0,\n             0,       0,       0,       0,       0,       0,       0,\n             0,       0,       0,       0,       0,       0,       0,\n             0,       0,       0,       0,       0,       0,       0,\n             0,       0,       0,       0,       0,       0,       0,\n             0,       0,       0,       0,       0,       0,       0,\n             0,       0,       0,       0,       0,       0,       0,\n             0,       0,       0,       0,       0,       0,       0,\n             0,       0,       0,       0,       0,       0,       0,\n             0,       0,       0,       0,       0,       0,       0,\n             0,       0,       0,       0,       0,       0,       0,\n             0,       0,       0,       0,       0,       0,       0,\n             0,       0,       0,       0,       0,       0,       0,\n             0,       0,       0,       0,       0,       0,       0,\n             0,       0,       0,       0,       0,       0,       0,\n             0,       0,       0,       0,       0,       0,       0,\n             0,       0,       0,       0,       0,       0,       0,\n             0,       0,       0,       0,       0,       0,       0,\n             0,       0,       0,       0,       0,       0,       0,\n             0,       0,       0,       0,       0,       0,       0,\n             0,       0,       0,       0,       0,       0,       0,\n             0,       0,       0,       0,       0,       0,       0,\n             0,       0,       0,       0,       0,       0,       0,\n             0,       0,       0,       0,       0,       0,       0,\n             0,       0,       0,       0,       0,       0,       0,\n             0,       0,       0,       0,       0,       0,       0,\n             0,       0,       0,       0,       0,       0,       0,\n             0,       0,       0,       0,       0,       0,       0,\n             0,       0,       0,       0,       0,       0,       0,\n             0,       0,       0,       0,       0,       0])"
     },
     "metadata": {},
     "execution_count": 32
    }
   ],
   "source": [
    "ctr.get_counts(name=h_name)[0]"
   ]
  },
  {
   "source": [
    "## Setup gated counter"
   ],
   "cell_type": "markdown",
   "metadata": {}
  },
  {
   "cell_type": "code",
   "execution_count": 11,
   "metadata": {},
   "outputs": [],
   "source": [
    "from pylabnet.network.client_server import si_tt_cnt_monitor"
   ]
  },
  {
   "cell_type": "code",
   "execution_count": 12,
   "metadata": {
    "tags": []
   },
   "outputs": [],
   "source": [
    "ctr = si_tt_cnt_monitor.Client(\n",
    "    host='140.247.189.82',\n",
    "    port=4616\n",
    ")"
   ]
  },
  {
   "cell_type": "code",
   "execution_count": 13,
   "metadata": {},
   "outputs": [],
   "source": [
    "c_name = 'gated_ctr'\n",
    "ctr.set_channels(name=c_name, ch_list=[1], gates=[2])"
   ]
  },
  {
   "cell_type": "code",
   "execution_count": 14,
   "metadata": {},
   "outputs": [],
   "source": [
    "ctr.setup_gated_counter(name=c_name)"
   ]
  },
  {
   "cell_type": "code",
   "execution_count": 17,
   "metadata": {},
   "outputs": [
    {
     "output_type": "execute_result",
     "data": {
      "text/plain": "array([10, 10, 10, 10, 10, 10, 10, 10, 10, 10, 10, 10, 10, 10, 10, 10, 10,\n       10, 10, 10, 10, 10, 10, 10, 10, 10, 10, 10, 10, 10, 10, 10, 10, 10,\n       10, 10, 10, 10, 10, 10, 10, 10, 10, 10, 10, 10, 10, 10, 10, 10, 10,\n       10, 10, 10, 10, 10, 10, 10, 10, 10, 10, 10, 10, 10, 10, 10, 10, 10,\n       10, 10, 10, 10, 10, 10, 10, 10, 10, 10, 10, 10, 10, 10, 10, 10, 10,\n       10, 10, 10, 10, 10, 10, 10, 10, 10, 10, 10, 10, 10, 10, 10, 10, 10,\n       10, 10, 10, 10, 10, 10, 10, 10, 10, 10, 10, 10, 10, 10, 10, 10, 10,\n       10, 10, 10, 10, 10, 10, 10, 10, 10, 10, 10, 10, 10, 10, 10, 10, 10,\n       10, 10, 10, 10, 10, 10, 10, 10, 10, 10, 10, 10, 10, 10, 10, 10, 10,\n       10, 10, 10, 10, 10, 10, 10, 10, 10, 10, 10, 10, 10, 10, 10, 10, 10,\n       10, 10, 10, 10, 10, 10, 10, 10, 10, 10, 10, 10, 10, 10, 10, 10, 10,\n       10, 10, 10, 10, 10, 10, 10, 10, 10, 10, 10, 10, 10, 10, 10, 10, 10,\n       10, 10, 10, 10, 10, 10, 10, 10, 10, 10, 10, 10, 10, 10, 10, 10, 10,\n       10, 10, 10, 10, 10, 10, 10, 10, 10, 10, 10, 10, 10, 10, 10, 10, 10,\n       10, 10, 10, 10, 10, 10, 10, 10, 10, 10, 10, 10, 10, 10, 10, 10, 10,\n       10, 10, 10, 10, 10, 10, 10, 10, 10, 10, 10, 10, 10, 10, 10, 10, 10,\n       10, 10, 10, 10, 10, 10, 10, 10, 10, 10, 10, 10, 10, 10, 10, 10, 10,\n       10, 10, 10, 10, 10, 10, 10, 10, 10, 10, 10, 10, 10, 10, 10, 10, 10,\n       10, 10, 10, 10, 10, 10, 10, 10, 10, 10, 10, 10, 10, 10, 10, 10, 10,\n       10, 10, 10, 10, 10, 10, 10, 10, 10, 10, 10, 10, 10, 10, 10, 10, 10,\n       10, 10, 10, 10, 10, 10, 10, 10, 10, 10, 10, 10, 10, 10, 10, 10, 10,\n       10, 10, 10, 10, 10, 10, 10, 10, 10, 10, 10, 10, 10, 10, 10, 10, 10,\n       10, 10, 10, 10, 10, 10, 10, 10, 10, 10, 10, 10, 10, 10, 10, 10, 10,\n       10, 10, 10, 10, 10, 10, 10, 10, 10, 10, 10, 10, 10, 10, 10, 10, 10,\n       10, 10, 10, 10, 10, 10, 10, 10, 10, 10, 10, 10, 10, 10, 10, 10, 10,\n       10, 10, 10, 10, 10, 10, 10, 10, 10, 10, 10, 10, 10, 10, 10, 10, 10,\n       10, 10, 10, 10, 10, 10, 10, 10, 10, 10, 10, 10, 10, 10, 10, 10, 10,\n       10, 10, 10, 10, 10, 10, 10, 10, 10, 10, 10, 10, 10, 10, 10, 10, 10,\n       10, 10, 10, 10, 10, 10, 10, 10, 10, 10, 10, 10, 10, 10, 10, 10, 10,\n       10, 10, 10, 10, 10, 10, 10, 10, 10, 10, 10, 10, 10, 10, 10, 10, 10,\n       10, 10, 10, 10, 10, 10, 10, 10, 10, 10, 10, 10, 10, 10, 10, 10, 10,\n       10, 10, 10, 10, 10, 10, 10, 10, 10, 10, 10, 10, 10, 10, 10, 10, 10,\n       10, 10, 10, 10, 10, 10, 10, 10, 10, 10, 10, 10, 10, 10, 10, 10, 10,\n       10, 10, 10, 10, 10, 10, 10, 10, 10, 10, 10, 10, 10, 10, 10, 10, 10,\n       10, 10, 10, 10, 10, 10, 10, 10, 10, 10, 10, 10, 10, 10, 10, 10, 10,\n       10, 10, 10, 10, 10, 10, 10, 10, 10, 10, 10, 10, 10, 10, 10, 10, 10,\n       10, 10, 10, 10, 10, 10, 10, 10, 10, 10, 10, 10, 10, 10, 10, 10, 10,\n       10, 10, 10, 10, 10, 10, 10, 10, 10, 10, 10, 10, 10, 10, 10, 10, 10,\n       10, 10, 10, 10, 10, 10, 10, 10, 10, 10, 10, 10, 10, 10, 10, 10, 10,\n       10, 10, 10, 10, 10, 10, 10, 10, 10, 10, 10, 10, 10, 10, 10, 10, 10,\n       10, 10, 10, 10, 10, 10, 10, 10, 10, 10, 10, 10, 10, 10, 10, 10, 10,\n       10, 10, 10, 10, 10, 10, 10, 10, 10, 10, 10, 10, 10, 10, 10, 10, 10,\n       10, 10, 10, 10, 10, 10, 10, 10, 10, 10, 10, 10, 10, 10, 10, 10, 10,\n       10, 10, 10, 10, 10, 10, 10, 10, 10, 10, 10, 10, 10, 10, 10, 10, 10,\n       10, 10, 10, 10, 10, 10, 10, 10, 10, 10, 10, 10, 10, 10, 10, 10, 10,\n       10, 10, 10, 10, 10, 10, 10, 10, 10, 10, 10, 10, 10, 10, 10, 10, 10,\n       10, 10, 10, 10, 10, 10, 10, 10, 10, 10, 10, 10, 10, 10, 10, 10, 10,\n       10, 10, 10, 10, 10, 10, 10, 10, 10, 10, 10, 10, 10, 10, 10, 10, 10,\n       10, 10, 10, 10, 10, 10, 10, 10, 10, 10, 10, 10, 10, 10, 10, 10, 10,\n       10, 10, 10, 10, 10, 10, 10, 10, 10, 10, 10, 10, 10, 10, 10, 10, 10,\n       10, 10, 10, 10, 10, 10, 10, 10, 10, 10, 10, 10, 10, 10, 10, 10, 10,\n       10, 10, 10, 10, 10, 10, 10, 10, 10, 10, 10, 10, 10, 10, 10, 10, 10,\n       10, 10, 10, 10, 10, 10, 10, 10, 10, 10, 10, 10, 10, 10, 10, 10, 10,\n       10, 10, 10, 10, 10, 10, 10, 10, 10, 10, 10, 10, 10, 10, 10, 10, 10,\n       10, 10, 10, 10, 10, 10, 10, 10, 10, 10, 10, 10, 10, 10, 10, 10, 10,\n       10, 10, 10, 10, 10, 10, 10, 10, 10, 10, 10, 10, 10, 10, 10, 10, 10,\n       10, 10, 10, 10, 10, 10, 10, 10, 10, 10, 10, 10, 10, 10, 10, 10, 10,\n       10, 10, 10, 10, 10, 10, 10, 10, 10, 10, 10, 10, 10, 10, 10, 10, 10,\n       10, 10, 10, 10, 10, 10, 10, 10, 10, 10, 10, 10, 10, 10])"
     },
     "metadata": {},
     "execution_count": 17
    }
   ],
   "source": [
    "ctr.get_counts(name=c_name)"
   ]
  },
  {
   "source": [
    "## Run AWG"
   ],
   "cell_type": "markdown",
   "metadata": {}
  },
  {
   "cell_type": "code",
   "execution_count": 17,
   "metadata": {
    "tags": []
   },
   "outputs": [],
   "source": [
    "# Now we're ready, start the Start the AWG\n",
    "awg.start()"
   ]
  },
  {
   "cell_type": "code",
   "execution_count": null,
   "metadata": {},
   "outputs": [],
   "source": [
    "# TODO: TEST COUNTERS"
   ]
  },
  {
   "cell_type": "code",
   "execution_count": 29,
   "metadata": {},
   "outputs": [],
   "source": [
    "awg.stop()"
   ]
  },
  {
   "cell_type": "markdown",
   "metadata": {},
   "source": [
    "# Staticline stuff"
   ]
  },
  {
   "cell_type": "code",
   "execution_count": 3,
   "metadata": {},
   "outputs": [],
   "source": [
    "\n",
    "snspd1 = staticline.Driver(\n",
    "    name='snspd1',\n",
    "    logger=logger,\n",
    "    hardware_module=hd,\n",
    "    DIO_bit=24,\n",
    ") \n",
    "\n",
    "\n",
    "snspd2 = staticline.Driver(\n",
    "    name='snspd1',\n",
    "    logger=logger,\n",
    "    hardware_module=hd,\n",
    "    DIO_bit=27,\n",
    ") "
   ]
  },
  {
   "cell_type": "code",
   "execution_count": 5,
   "metadata": {},
   "outputs": [
    {
     "output_type": "execute_result",
     "data": {
      "text/plain": "'dev8227'"
     },
     "metadata": {},
     "execution_count": 5
    }
   ],
   "source": []
  },
  {
   "cell_type": "code",
   "execution_count": 37,
   "metadata": {},
   "outputs": [],
   "source": [
    "snspd1.up()"
   ]
  },
  {
   "cell_type": "code",
   "execution_count": 16,
   "metadata": {},
   "outputs": [],
   "source": [
    "snspd1.down()"
   ]
  },
  {
   "cell_type": "code",
   "execution_count": 177,
   "metadata": {},
   "outputs": [],
   "source": [
    "snspd2.up()"
   ]
  },
  {
   "cell_type": "code",
   "execution_count": 17,
   "metadata": {},
   "outputs": [],
   "source": [
    "snspd2.down()"
   ]
  },
  {
   "cell_type": "code",
   "execution_count": 13,
   "metadata": {},
   "outputs": [
    {
     "output_type": "execute_result",
     "data": {
      "text/plain": "0"
     },
     "metadata": {},
     "execution_count": 13
    }
   ],
   "source": [
    "target_voltage = 0\n",
    "dio_breakout_client.set_high_voltage(0, 0, target_voltage)"
   ]
  },
  {
   "cell_type": "code",
   "execution_count": 14,
   "metadata": {},
   "outputs": [
    {
     "output_type": "execute_result",
     "data": {
      "text/plain": "0"
     },
     "metadata": {},
     "execution_count": 14
    }
   ],
   "source": [
    "target_voltage = 0\n",
    "dio_breakout_client.set_high_voltage(0, 3, target_voltage)"
   ]
  },
  {
   "cell_type": "code",
   "execution_count": 15,
   "metadata": {},
   "outputs": [
    {
     "output_type": "execute_result",
     "data": {
      "text/plain": "0.0"
     },
     "metadata": {},
     "execution_count": 15
    }
   ],
   "source": [
    "dio_breakout_client.get_high_voltage(0, 0)"
   ]
  },
  {
   "cell_type": "code",
   "execution_count": null,
   "metadata": {},
   "outputs": [],
   "source": [
    "\n",
    "scope = Client(\n",
    "    host='localhost',\n",
    "    port=2253\n",
    ")"
   ]
  },
  {
   "cell_type": "code",
   "execution_count": null,
   "metadata": {},
   "outputs": [],
   "source": []
  },
  {
   "cell_type": "code",
   "execution_count": 8,
   "metadata": {},
   "outputs": [],
   "source": [
    "# Let assume we have a shutter connected to the HDAWG DIO-pin 1 which \n",
    "# is open if the pin voltage is high and closed otherwise.\n",
    "\n",
    "aom = staticline.Driver(\n",
    "    name='AOM',\n",
    "    logger=logger,\n",
    "    hardware_module=hd,\n",
    "    DIO_bit=30,\n",
    ") "
   ]
  },
  {
   "cell_type": "code",
   "execution_count": 11,
   "metadata": {},
   "outputs": [],
   "source": [
    "aom.up()\n"
   ]
  },
  {
   "cell_type": "code",
   "execution_count": 12,
   "metadata": {},
   "outputs": [],
   "source": [
    "aom.down()"
   ]
  },
  {
   "cell_type": "code",
   "execution_count": 16,
   "metadata": {},
   "outputs": [],
   "source": [
    "# AOM Switch \n",
    "import pylabnet.hardware.ni_daqs.nidaqmx_card as nidaqmx\n",
    "import pylabnet.network.client_server.nidaqmx_card as nidaqmx_card_server"
   ]
  },
  {
   "cell_type": "code",
   "execution_count": 23,
   "metadata": {
    "tags": []
   },
   "outputs": [],
   "source": [
    "aom_daq = nidaqmx_card_server.Client(\n",
    "    host='140.247.189.82',\n",
    "    port=38676\n",
    ")"
   ]
  },
  {
   "cell_type": "code",
   "execution_count": 24,
   "metadata": {},
   "outputs": [],
   "source": [
    "aom_daq.set_ao_voltage('ao2', 0)"
   ]
  },
  {
   "cell_type": "code",
   "execution_count": 55,
   "metadata": {
    "tags": []
   },
   "outputs": [],
   "source": [
    "aom_daq.set_ao_voltage('ao2', 0.05)"
   ]
  },
  {
   "cell_type": "code",
   "execution_count": 54,
   "metadata": {},
   "outputs": [],
   "source": [
    "aom.down()"
   ]
  },
  {
   "cell_type": "code",
   "execution_count": 56,
   "metadata": {},
   "outputs": [],
   "source": [
    "aom.up()"
   ]
  },
  {
   "cell_type": "code",
   "execution_count": null,
   "metadata": {},
   "outputs": [],
   "source": []
  },
  {
   "cell_type": "code",
   "execution_count": 188,
   "metadata": {},
   "outputs": [],
   "source": [
    "daq.set_ao_voltage('ao0',6.92)"
   ]
  },
  {
   "cell_type": "code",
   "execution_count": 92,
   "metadata": {},
   "outputs": [],
   "source": [
    "aom_daq.set_ao_voltage('ao3',0)"
   ]
  },
  {
   "cell_type": "code",
   "execution_count": 77,
   "metadata": {},
   "outputs": [],
   "source": [
    "import pylabnet.network.client_server.thorlabs_pm320e as pm"
   ]
  },
  {
   "cell_type": "code",
   "execution_count": 80,
   "metadata": {},
   "outputs": [],
   "source": [
    "powermeter = pm.Client(\n",
    "    host = \"140.247.189.94\",\n",
    "    port=4373\n",
    ")"
   ]
  },
  {
   "cell_type": "code",
   "execution_count": 82,
   "metadata": {},
   "outputs": [
    {
     "output_type": "error",
     "ename": "pyvisa.errors.VisaIOError",
     "evalue": "VI_ERROR_TMO (-1073807339): Timeout expired before operation completed.\n\n========= Remote Traceback (1) =========\nTraceback (most recent call last):\n  File \"C:\\Users\\Roger\\pylabnet\\venv\\dev\\lib\\site-packages\\rpyc-4.1.5-py3.6.egg\\rpyc\\core\\protocol.py\", line 320, in _dispatch_request\n    res = self._HANDLERS[handler](self, *args)\n  File \"C:\\Users\\Roger\\pylabnet\\venv\\dev\\lib\\site-packages\\rpyc-4.1.5-py3.6.egg\\rpyc\\core\\protocol.py\", line 593, in _handle_call\n    return obj(*args, **dict(kwargs))\n  File \"C:\\Users\\Roger\\pylabnet\\pylabnet\\network\\client_server\\thorlabs_pm320e.py\", line 7, in exposed_get_power\n    return self._module.get_power(channel)\n  File \"C:\\Users\\Roger\\pylabnet\\pylabnet\\hardware\\power_meter\\thorlabs_pm320e.py\", line 41, in get_power\n    power = self.device.query(f':POW{channel}:VAL?')\n  File \"C:\\Users\\Roger\\pylabnet\\venv\\dev\\lib\\site-packages\\pyvisa-1.10.1-py3.6.egg\\pyvisa\\resources\\messagebased.py\", line 613, in query\n    return self.read()\n  File \"C:\\Users\\Roger\\pylabnet\\venv\\dev\\lib\\site-packages\\pyvisa-1.10.1-py3.6.egg\\pyvisa\\resources\\messagebased.py\", line 427, in read\n    message = self._read_raw().decode(enco)\n  File \"C:\\Users\\Roger\\pylabnet\\venv\\dev\\lib\\site-packages\\pyvisa-1.10.1-py3.6.egg\\pyvisa\\resources\\messagebased.py\", line 400, in _read_raw\n    chunk, status = self.visalib.read(self.session, size)\n  File \"C:\\Users\\Roger\\pylabnet\\venv\\dev\\lib\\site-packages\\pyvisa-1.10.1-py3.6.egg\\pyvisa\\ctwrapper\\functions.py\", line 1584, in read\n    ret = library.viRead(session, buffer, count, byref(return_count))\n  File \"C:\\Users\\Roger\\pylabnet\\venv\\dev\\lib\\site-packages\\pyvisa-1.10.1-py3.6.egg\\pyvisa\\ctwrapper\\highlevel.py\", line 193, in _return_handler\n    raise errors.VisaIOError(ret_value)\npyvisa.errors.VisaIOError: VI_ERROR_TMO (-1073807339): Timeout expired before operation completed.\n",
     "traceback": [
      "\u001b[1;31m---------------------------------------------------------------------------\u001b[0m",
      "\u001b[1;31mpyvisa.errors.VisaIOError\u001b[0m                 Traceback (most recent call last)",
      "\u001b[1;32m<ipython-input-82-00f782195042>\u001b[0m in \u001b[0;36m<module>\u001b[1;34m\u001b[0m\n\u001b[1;32m----> 1\u001b[1;33m \u001b[0mpowermeter\u001b[0m\u001b[1;33m.\u001b[0m\u001b[0mget_power\u001b[0m\u001b[1;33m(\u001b[0m\u001b[1;36m0\u001b[0m\u001b[1;33m)\u001b[0m\u001b[1;33m\u001b[0m\u001b[0m\n\u001b[0m",
      "\u001b[1;32m~\\pylabnet\\pylabnet\\network\\client_server\\thorlabs_pm320e.py\u001b[0m in \u001b[0;36mget_power\u001b[1;34m(self, channel)\u001b[0m\n\u001b[0;32m     23\u001b[0m \u001b[1;33m\u001b[0m\u001b[0m\n\u001b[0;32m     24\u001b[0m     \u001b[1;32mdef\u001b[0m \u001b[0mget_power\u001b[0m\u001b[1;33m(\u001b[0m\u001b[0mself\u001b[0m\u001b[1;33m,\u001b[0m \u001b[0mchannel\u001b[0m\u001b[1;33m)\u001b[0m\u001b[1;33m:\u001b[0m\u001b[1;33m\u001b[0m\u001b[0m\n\u001b[1;32m---> 25\u001b[1;33m         \u001b[1;32mreturn\u001b[0m \u001b[0mself\u001b[0m\u001b[1;33m.\u001b[0m\u001b[0m_service\u001b[0m\u001b[1;33m.\u001b[0m\u001b[0mexposed_get_power\u001b[0m\u001b[1;33m(\u001b[0m\u001b[0mchannel\u001b[0m\u001b[1;33m)\u001b[0m\u001b[1;33m\u001b[0m\u001b[0m\n\u001b[0m\u001b[0;32m     26\u001b[0m \u001b[1;33m\u001b[0m\u001b[0m\n\u001b[0;32m     27\u001b[0m     \u001b[1;32mdef\u001b[0m \u001b[0mget_wavelength\u001b[0m\u001b[1;33m(\u001b[0m\u001b[0mself\u001b[0m\u001b[1;33m,\u001b[0m \u001b[0mchannel\u001b[0m\u001b[1;33m)\u001b[0m\u001b[1;33m:\u001b[0m\u001b[1;33m\u001b[0m\u001b[0m\n",
      "\u001b[1;32mc:\\Users\\Roger\\pylabnet\\venv\\dev\\lib\\site-packages\\rpyc-4.1.5-py3.6.egg\\rpyc\\core\\netref.py\u001b[0m in \u001b[0;36m__call__\u001b[1;34m(_self, *args, **kwargs)\u001b[0m\n\u001b[0;32m    251\u001b[0m         \u001b[1;32mdef\u001b[0m \u001b[0m__call__\u001b[0m\u001b[1;33m(\u001b[0m\u001b[0m_self\u001b[0m\u001b[1;33m,\u001b[0m \u001b[1;33m*\u001b[0m\u001b[0margs\u001b[0m\u001b[1;33m,\u001b[0m \u001b[1;33m**\u001b[0m\u001b[0mkwargs\u001b[0m\u001b[1;33m)\u001b[0m\u001b[1;33m:\u001b[0m\u001b[1;33m\u001b[0m\u001b[0m\n\u001b[0;32m    252\u001b[0m             \u001b[0mkwargs\u001b[0m \u001b[1;33m=\u001b[0m \u001b[0mtuple\u001b[0m\u001b[1;33m(\u001b[0m\u001b[0mkwargs\u001b[0m\u001b[1;33m.\u001b[0m\u001b[0mitems\u001b[0m\u001b[1;33m(\u001b[0m\u001b[1;33m)\u001b[0m\u001b[1;33m)\u001b[0m\u001b[1;33m\u001b[0m\u001b[0m\n\u001b[1;32m--> 253\u001b[1;33m             \u001b[1;32mreturn\u001b[0m \u001b[0msyncreq\u001b[0m\u001b[1;33m(\u001b[0m\u001b[0m_self\u001b[0m\u001b[1;33m,\u001b[0m \u001b[0mconsts\u001b[0m\u001b[1;33m.\u001b[0m\u001b[0mHANDLE_CALL\u001b[0m\u001b[1;33m,\u001b[0m \u001b[0margs\u001b[0m\u001b[1;33m,\u001b[0m \u001b[0mkwargs\u001b[0m\u001b[1;33m)\u001b[0m\u001b[1;33m\u001b[0m\u001b[0m\n\u001b[0m\u001b[0;32m    254\u001b[0m         \u001b[0m__call__\u001b[0m\u001b[1;33m.\u001b[0m\u001b[0m__doc__\u001b[0m \u001b[1;33m=\u001b[0m \u001b[0mdoc\u001b[0m\u001b[1;33m\u001b[0m\u001b[0m\n\u001b[0;32m    255\u001b[0m         \u001b[1;32mreturn\u001b[0m \u001b[0m__call__\u001b[0m\u001b[1;33m\u001b[0m\u001b[0m\n",
      "\u001b[1;32mc:\\Users\\Roger\\pylabnet\\venv\\dev\\lib\\site-packages\\rpyc-4.1.5-py3.6.egg\\rpyc\\core\\netref.py\u001b[0m in \u001b[0;36msyncreq\u001b[1;34m(proxy, handler, *args)\u001b[0m\n\u001b[0;32m     74\u001b[0m     \"\"\"\n\u001b[0;32m     75\u001b[0m     \u001b[0mconn\u001b[0m \u001b[1;33m=\u001b[0m \u001b[0mobject\u001b[0m\u001b[1;33m.\u001b[0m\u001b[0m__getattribute__\u001b[0m\u001b[1;33m(\u001b[0m\u001b[0mproxy\u001b[0m\u001b[1;33m,\u001b[0m \u001b[1;34m\"____conn__\"\u001b[0m\u001b[1;33m)\u001b[0m\u001b[1;33m\u001b[0m\u001b[0m\n\u001b[1;32m---> 76\u001b[1;33m     \u001b[1;32mreturn\u001b[0m \u001b[0mconn\u001b[0m\u001b[1;33m.\u001b[0m\u001b[0msync_request\u001b[0m\u001b[1;33m(\u001b[0m\u001b[0mhandler\u001b[0m\u001b[1;33m,\u001b[0m \u001b[0mproxy\u001b[0m\u001b[1;33m,\u001b[0m \u001b[1;33m*\u001b[0m\u001b[0margs\u001b[0m\u001b[1;33m)\u001b[0m\u001b[1;33m\u001b[0m\u001b[0m\n\u001b[0m\u001b[0;32m     77\u001b[0m \u001b[1;33m\u001b[0m\u001b[0m\n\u001b[0;32m     78\u001b[0m \u001b[1;33m\u001b[0m\u001b[0m\n",
      "\u001b[1;32mc:\\Users\\Roger\\pylabnet\\venv\\dev\\lib\\site-packages\\rpyc-4.1.5-py3.6.egg\\rpyc\\core\\protocol.py\u001b[0m in \u001b[0;36msync_request\u001b[1;34m(self, handler, *args)\u001b[0m\n\u001b[0;32m    467\u001b[0m         \"\"\"\n\u001b[0;32m    468\u001b[0m         \u001b[0mtimeout\u001b[0m \u001b[1;33m=\u001b[0m \u001b[0mself\u001b[0m\u001b[1;33m.\u001b[0m\u001b[0m_config\u001b[0m\u001b[1;33m[\u001b[0m\u001b[1;34m\"sync_request_timeout\"\u001b[0m\u001b[1;33m]\u001b[0m\u001b[1;33m\u001b[0m\u001b[0m\n\u001b[1;32m--> 469\u001b[1;33m         \u001b[1;32mreturn\u001b[0m \u001b[0mself\u001b[0m\u001b[1;33m.\u001b[0m\u001b[0masync_request\u001b[0m\u001b[1;33m(\u001b[0m\u001b[0mhandler\u001b[0m\u001b[1;33m,\u001b[0m \u001b[1;33m*\u001b[0m\u001b[0margs\u001b[0m\u001b[1;33m,\u001b[0m \u001b[0mtimeout\u001b[0m\u001b[1;33m=\u001b[0m\u001b[0mtimeout\u001b[0m\u001b[1;33m)\u001b[0m\u001b[1;33m.\u001b[0m\u001b[0mvalue\u001b[0m\u001b[1;33m\u001b[0m\u001b[0m\n\u001b[0m\u001b[0;32m    470\u001b[0m \u001b[1;33m\u001b[0m\u001b[0m\n\u001b[0;32m    471\u001b[0m     \u001b[1;32mdef\u001b[0m \u001b[0m_async_request\u001b[0m\u001b[1;33m(\u001b[0m\u001b[0mself\u001b[0m\u001b[1;33m,\u001b[0m \u001b[0mhandler\u001b[0m\u001b[1;33m,\u001b[0m \u001b[0margs\u001b[0m\u001b[1;33m=\u001b[0m\u001b[1;33m(\u001b[0m\u001b[1;33m)\u001b[0m\u001b[1;33m,\u001b[0m \u001b[0mcallback\u001b[0m\u001b[1;33m=\u001b[0m\u001b[1;33m(\u001b[0m\u001b[1;32mlambda\u001b[0m \u001b[0ma\u001b[0m\u001b[1;33m,\u001b[0m \u001b[0mb\u001b[0m\u001b[1;33m:\u001b[0m \u001b[1;32mNone\u001b[0m\u001b[1;33m)\u001b[0m\u001b[1;33m)\u001b[0m\u001b[1;33m:\u001b[0m  \u001b[1;31m# serving\u001b[0m\u001b[1;33m\u001b[0m\u001b[0m\n",
      "\u001b[1;32mc:\\Users\\Roger\\pylabnet\\venv\\dev\\lib\\site-packages\\rpyc-4.1.5-py3.6.egg\\rpyc\\core\\async_.py\u001b[0m in \u001b[0;36mvalue\u001b[1;34m(self)\u001b[0m\n\u001b[0;32m    100\u001b[0m         \u001b[0mself\u001b[0m\u001b[1;33m.\u001b[0m\u001b[0mwait\u001b[0m\u001b[1;33m(\u001b[0m\u001b[1;33m)\u001b[0m\u001b[1;33m\u001b[0m\u001b[0m\n\u001b[0;32m    101\u001b[0m         \u001b[1;32mif\u001b[0m \u001b[0mself\u001b[0m\u001b[1;33m.\u001b[0m\u001b[0m_is_exc\u001b[0m\u001b[1;33m:\u001b[0m\u001b[1;33m\u001b[0m\u001b[0m\n\u001b[1;32m--> 102\u001b[1;33m             \u001b[1;32mraise\u001b[0m \u001b[0mself\u001b[0m\u001b[1;33m.\u001b[0m\u001b[0m_obj\u001b[0m\u001b[1;33m\u001b[0m\u001b[0m\n\u001b[0m\u001b[0;32m    103\u001b[0m         \u001b[1;32melse\u001b[0m\u001b[1;33m:\u001b[0m\u001b[1;33m\u001b[0m\u001b[0m\n\u001b[0;32m    104\u001b[0m             \u001b[1;32mreturn\u001b[0m \u001b[0mself\u001b[0m\u001b[1;33m.\u001b[0m\u001b[0m_obj\u001b[0m\u001b[1;33m\u001b[0m\u001b[0m\n",
      "\u001b[1;31mpyvisa.errors.VisaIOError\u001b[0m: VI_ERROR_TMO (-1073807339): Timeout expired before operation completed.\n\n========= Remote Traceback (1) =========\nTraceback (most recent call last):\n  File \"C:\\Users\\Roger\\pylabnet\\venv\\dev\\lib\\site-packages\\rpyc-4.1.5-py3.6.egg\\rpyc\\core\\protocol.py\", line 320, in _dispatch_request\n    res = self._HANDLERS[handler](self, *args)\n  File \"C:\\Users\\Roger\\pylabnet\\venv\\dev\\lib\\site-packages\\rpyc-4.1.5-py3.6.egg\\rpyc\\core\\protocol.py\", line 593, in _handle_call\n    return obj(*args, **dict(kwargs))\n  File \"C:\\Users\\Roger\\pylabnet\\pylabnet\\network\\client_server\\thorlabs_pm320e.py\", line 7, in exposed_get_power\n    return self._module.get_power(channel)\n  File \"C:\\Users\\Roger\\pylabnet\\pylabnet\\hardware\\power_meter\\thorlabs_pm320e.py\", line 41, in get_power\n    power = self.device.query(f':POW{channel}:VAL?')\n  File \"C:\\Users\\Roger\\pylabnet\\venv\\dev\\lib\\site-packages\\pyvisa-1.10.1-py3.6.egg\\pyvisa\\resources\\messagebased.py\", line 613, in query\n    return self.read()\n  File \"C:\\Users\\Roger\\pylabnet\\venv\\dev\\lib\\site-packages\\pyvisa-1.10.1-py3.6.egg\\pyvisa\\resources\\messagebased.py\", line 427, in read\n    message = self._read_raw().decode(enco)\n  File \"C:\\Users\\Roger\\pylabnet\\venv\\dev\\lib\\site-packages\\pyvisa-1.10.1-py3.6.egg\\pyvisa\\resources\\messagebased.py\", line 400, in _read_raw\n    chunk, status = self.visalib.read(self.session, size)\n  File \"C:\\Users\\Roger\\pylabnet\\venv\\dev\\lib\\site-packages\\pyvisa-1.10.1-py3.6.egg\\pyvisa\\ctwrapper\\functions.py\", line 1584, in read\n    ret = library.viRead(session, buffer, count, byref(return_count))\n  File \"C:\\Users\\Roger\\pylabnet\\venv\\dev\\lib\\site-packages\\pyvisa-1.10.1-py3.6.egg\\pyvisa\\ctwrapper\\highlevel.py\", line 193, in _return_handler\n    raise errors.VisaIOError(ret_value)\npyvisa.errors.VisaIOError: VI_ERROR_TMO (-1073807339): Timeout expired before operation completed.\n"
     ]
    }
   ],
   "source": [
    "powermeter.get_power(0)"
   ]
  },
  {
   "cell_type": "code",
   "execution_count": 84,
   "metadata": {},
   "outputs": [],
   "source": [
    "import numpy as np\n",
    "\n",
    "num_sweeps = 10\n",
    "voltages = np.linspace(0, 2, num_sweeps)\n",
    "powers = np.zeros_like((voltages))\n",
    "\n",
    "for i, voltage in enumerate(voltages):\n",
    "    power = 1\n",
    "    powers[i] = power"
   ]
  },
  {
   "cell_type": "code",
   "execution_count": null,
   "metadata": {},
   "outputs": [],
   "source": []
  }
 ],
 "metadata": {
  "kernelspec": {
   "display_name": "Python 3.8.3 64-bit ('dev': venv)",
   "language": "python",
   "name": "python_defaultSpec_1600168780821"
  },
  "language_info": {
   "codemirror_mode": {
    "name": "ipython",
    "version": 3
   },
   "file_extension": ".py",
   "mimetype": "text/x-python",
   "name": "python",
   "nbconvert_exporter": "python",
   "pygments_lexer": "ipython3",
   "version": "3.8.3-final"
  }
 },
 "nbformat": 4,
 "nbformat_minor": 2
}