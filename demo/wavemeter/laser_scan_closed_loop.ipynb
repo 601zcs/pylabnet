{
 "cells": [
  {
   "cell_type": "markdown",
   "metadata": {},
   "source": [
    "# Closed loop laser scan with NI-DAQmx"
   ]
  },
  {
   "cell_type": "markdown",
   "metadata": {},
   "source": [
    "## Setup"
   ]
  },
  {
   "cell_type": "code",
   "execution_count": 1,
   "metadata": {},
   "outputs": [],
   "source": [
    "import time\n",
    "import numpy as np\n",
    "\n",
    "from pylabnet.utils.logging.logger import LogClient\n",
    "from pylabnet.scripts.wavemeter import wlm_monitor\n",
    "from pylabnet.network.client_server import nidaqmx_card\n",
    "from pylabnet.utils.sweeper import Sweep1D, MultiChSweep1D"
   ]
  },
  {
   "cell_type": "markdown",
   "metadata": {},
   "source": [
    "Enter host and port parameters here:"
   ]
  },
  {
   "cell_type": "code",
   "execution_count": 2,
   "metadata": {},
   "outputs": [],
   "source": [
    "logger_host = '192.168.0.106'\n",
    "logger_port = 4658\n",
    "# wavemeter_host = '140.247.189.125'\n",
    "# wavemeter_port = 1477\n",
    "# nidaqmx_host = '140.247.189.125'\n",
    "# nidaqmx_port = 3604"
   ]
  },
  {
   "cell_type": "markdown",
   "metadata": {},
   "source": [
    "Instantiate all clients"
   ]
  },
  {
   "cell_type": "code",
   "execution_count": 3,
   "metadata": {},
   "outputs": [],
   "source": [
    "log = LogClient(\n",
    "    host=logger_host,\n",
    "    port=logger_port,\n",
    "    module_tag='laser_scan_closed_loop'\n",
    ")\n",
    "# wm = wlm_monitor.Client(\n",
    "#     host=wavemeter_host,\n",
    "#     port=wavemeter_port,\n",
    "# )\n",
    "# ni = nidaqmx_card.Client(\n",
    "#     host=nidaqmx_host,\n",
    "#     port=nidaqmx_port\n",
    "# )\n",
    "exp = Sweep1D(logger=log)"
   ]
  },
  {
   "cell_type": "markdown",
   "metadata": {},
   "source": [
    "## Experiment"
   ]
  },
  {
   "cell_type": "markdown",
   "metadata": {},
   "source": [
    "Parameters, setup"
   ]
  },
  {
   "cell_type": "code",
   "execution_count": 4,
   "metadata": {},
   "outputs": [],
   "source": [
    "f0 = 406.693\n",
    "f1 = 406.695\n",
    "pts = 101\n",
    "exp.set_parameters(min=f0, max=f1, pts=pts, reps=4)\n",
    "# counter = ni.create_timed_counter(\n",
    "#     counter_channel='Dev1/Ctr0',\n",
    "#     physical_channel='/Dev1/PFI0'\n",
    "# )"
   ]
  },
  {
   "cell_type": "markdown",
   "metadata": {},
   "source": [
    "Experiment script"
   ]
  },
  {
   "cell_type": "code",
   "execution_count": 5,
   "metadata": {},
   "outputs": [],
   "source": [
    "def experiment(frequency):\n",
    "\n",
    "    # Set frequency\n",
    "    # wm.update_parameters([{\n",
    "    #     'channel': 1, 'setpoint': frequency\n",
    "    # }])\n",
    "\n",
    "    # Activate counter\n",
    "    # ni.start_timed_counter(counter)\n",
    "    # time.sleep(0.1)\n",
    "\n",
    "    # Get counts/sec\n",
    "    # return ni.get_count(counter)*10\n",
    "    time.sleep(0.02)\n",
    "    diffusion = 0.0002*np.sin(2*np.pi*time.time()/50)\n",
    "    return 100 + 0.01/((frequency-406.694+diffusion)**2+(0.0001)**2)\n",
    "    "
   ]
  },
  {
   "cell_type": "code",
   "execution_count": 6,
   "metadata": {},
   "outputs": [],
   "source": [
    "exp.configure_experiment(experiment)"
   ]
  },
  {
   "cell_type": "code",
   "execution_count": 7,
   "metadata": {
    "tags": []
   },
   "outputs": [
    {
     "output_type": "display_data",
     "data": {
      "text/plain": "FigureWidget({\n    'data': [{'mode': 'lines',\n              'name': 'Single',\n              'type': 'scatter',…",
      "application/vnd.jupyter.widget-view+json": {
       "version_major": 2,
       "version_minor": 0,
       "model_id": "e49e0cede9224b3fa8941d1fb392f22d"
      }
     },
     "metadata": {}
    },
    {
     "output_type": "display_data",
     "data": {
      "text/plain": "FigureWidget({\n    'data': [{'type': 'heatmap',\n              'uid': '8aa5da71-525d-465e-9416-a63dc7d77512',\n …",
      "application/vnd.jupyter.widget-view+json": {
       "version_major": 2,
       "version_minor": 0,
       "model_id": "86bef3b0bf494dffa653a29e5be7ce59"
      }
     },
     "metadata": {}
    },
    {
     "output_type": "display_data",
     "data": {
      "text/plain": "FigureWidget({\n    'data': [{'mode': 'lines',\n              'name': 'Single',\n              'type': 'scatter',…",
      "application/vnd.jupyter.widget-view+json": {
       "version_major": 2,
       "version_minor": 0,
       "model_id": "876b856c3a8246ffa312ad6cd6054e32"
      }
     },
     "metadata": {}
    },
    {
     "output_type": "display_data",
     "data": {
      "text/plain": "FigureWidget({\n    'data': [{'type': 'heatmap',\n              'uid': 'd8e93d8d-a63a-416f-aa58-4dd8682670f2',\n …",
      "application/vnd.jupyter.widget-view+json": {
       "version_major": 2,
       "version_minor": 0,
       "model_id": "3bcb8c7e148a4f788232119b0a999050"
      }
     },
     "metadata": {}
    }
   ],
   "source": [
    "exp.run(plot=True)"
   ]
  },
  {
   "cell_type": "markdown",
   "metadata": {},
   "source": [
    "## Multi-channel sweep"
   ]
  },
  {
   "cell_type": "code",
   "execution_count": 5,
   "metadata": {},
   "outputs": [],
   "source": [
    "m_exp = MultiChSweep1D(logger=log, channels=['Transmission', 'Reflection'])"
   ]
  },
  {
   "cell_type": "code",
   "execution_count": 6,
   "metadata": {},
   "outputs": [],
   "source": [
    "m_exp.set_parameters(min=f0, max=f1, pts=pts, reps=4)"
   ]
  },
  {
   "cell_type": "code",
   "execution_count": 9,
   "metadata": {},
   "outputs": [],
   "source": [
    "def multi_experiment(frequency):\n",
    "    time.sleep(0.02)\n",
    "    diffusion = 0.0002*np.sin(2*np.pi*time.time()/50)\n",
    "    return [\n",
    "        100 + 0.01/((frequency-406.694+diffusion)**2+(0.0001)**2),\n",
    "        100 - 0.01/((frequency-406.694+diffusion)**2+(0.0001)**2)\n",
    "    ]\n",
    "m_exp.configure_experiment(multi_experiment)"
   ]
  },
  {
   "cell_type": "code",
   "execution_count": 10,
   "metadata": {},
   "outputs": [
    {
     "output_type": "display_data",
     "data": {
      "text/plain": "FigureWidget({\n    'data': [{'mode': 'lines',\n              'name': 'Transmission Single',\n              'type…",
      "application/vnd.jupyter.widget-view+json": {
       "version_major": 2,
       "version_minor": 0,
       "model_id": "5f69eded23264e5386b96a97c3f3684c"
      }
     },
     "metadata": {}
    },
    {
     "output_type": "display_data",
     "data": {
      "text/plain": "FigureWidget({\n    'data': [{'type': 'heatmap',\n              'uid': '05f2f32a-6f61-4671-bccc-1ce0657371f1',\n …",
      "application/vnd.jupyter.widget-view+json": {
       "version_major": 2,
       "version_minor": 0,
       "model_id": "82ce31ce68034952b7a712635c8eed67"
      }
     },
     "metadata": {}
    },
    {
     "output_type": "display_data",
     "data": {
      "text/plain": "FigureWidget({\n    'data': [{'mode': 'lines',\n              'name': 'Transmission Single',\n              'type…",
      "application/vnd.jupyter.widget-view+json": {
       "version_major": 2,
       "version_minor": 0,
       "model_id": "f2527d9dd48a4dcba53bdc13827ebd00"
      }
     },
     "metadata": {}
    },
    {
     "output_type": "display_data",
     "data": {
      "text/plain": "FigureWidget({\n    'data': [{'type': 'heatmap',\n              'uid': '773c32c1-25b0-4c02-ac82-063f314bb641',\n …",
      "application/vnd.jupyter.widget-view+json": {
       "version_major": 2,
       "version_minor": 0,
       "model_id": "9c1fa08d78f746e992d3734e6bb00250"
      }
     },
     "metadata": {}
    },
    {
     "output_type": "display_data",
     "data": {
      "text/plain": "FigureWidget({\n    'data': [{'mode': 'lines',\n              'name': 'Reflection Single',\n              'type':…",
      "application/vnd.jupyter.widget-view+json": {
       "version_major": 2,
       "version_minor": 0,
       "model_id": "f0c0a374f4ce436680a941c3f19a8571"
      }
     },
     "metadata": {}
    },
    {
     "output_type": "display_data",
     "data": {
      "text/plain": "FigureWidget({\n    'data': [{'type': 'heatmap',\n              'uid': '2df2134c-4c9f-4753-87ea-ee310b548e26',\n …",
      "application/vnd.jupyter.widget-view+json": {
       "version_major": 2,
       "version_minor": 0,
       "model_id": "c6e24bcdb7b54fd5833211ac905c078f"
      }
     },
     "metadata": {}
    },
    {
     "output_type": "display_data",
     "data": {
      "text/plain": "FigureWidget({\n    'data': [{'mode': 'lines',\n              'name': 'Reflection Single',\n              'type':…",
      "application/vnd.jupyter.widget-view+json": {
       "version_major": 2,
       "version_minor": 0,
       "model_id": "59df0303b8f340638c9fec45abd6c89c"
      }
     },
     "metadata": {}
    },
    {
     "output_type": "display_data",
     "data": {
      "text/plain": "FigureWidget({\n    'data': [{'type': 'heatmap',\n              'uid': '05223c3f-8688-4ca7-8eb2-9ffad5811097',\n …",
      "application/vnd.jupyter.widget-view+json": {
       "version_major": 2,
       "version_minor": 0,
       "model_id": "5b4227c39dc54a6d86feef1fc4c0925a"
      }
     },
     "metadata": {}
    }
   ],
   "source": [
    "m_exp.run(plot=True)"
   ]
  },
  {
   "cell_type": "markdown",
   "metadata": {},
   "source": [
    "## Close counter"
   ]
  },
  {
   "cell_type": "code",
   "execution_count": 5,
   "metadata": {},
   "outputs": [],
   "source": [
    "#ni.close_timed_counter('counter_0')"
   ]
  },
  {
   "cell_type": "code",
   "execution_count": null,
   "metadata": {},
   "outputs": [],
   "source": []
  }
 ],
 "metadata": {
  "language_info": {
   "codemirror_mode": {
    "name": "ipython",
    "version": 3
   },
   "file_extension": ".py",
   "mimetype": "text/x-python",
   "name": "python",
   "nbconvert_exporter": "python",
   "pygments_lexer": "ipython3",
   "version": "3.7.6-final"
  },
  "orig_nbformat": 2,
  "kernelspec": {
   "name": "python37664bitdevvenv25325bfafe5d4d14943fc294a2bf516f",
   "display_name": "Python 3.7.6 64-bit ('dev': venv)"
  }
 },
 "nbformat": 4,
 "nbformat_minor": 2
}