{
 "cells": [
  {
   "cell_type": "markdown",
   "metadata": {},
   "source": [
    "# Closed loop laser scan with NI-DAQmx"
   ]
  },
  {
   "cell_type": "markdown",
   "metadata": {},
   "source": [
    "## Setup"
   ]
  },
  {
   "cell_type": "code",
   "execution_count": 1,
   "metadata": {},
   "outputs": [],
   "source": [
    "import time\n",
    "\n",
    "from pylabnet.utils.logging.logger import LogClient\n",
    "from pylabnet.scripts.wavemeter import wlm_monitor\n",
    "from pylabnet.network.client_server import nidaqmx_card\n",
    "from pylabnet.utils.sweeper import Sweep1D"
   ]
  },
  {
   "cell_type": "markdown",
   "metadata": {},
   "source": [
    "Enter host and port parameters here:"
   ]
  },
  {
   "cell_type": "code",
   "execution_count": 2,
   "metadata": {},
   "outputs": [],
   "source": [
    "logger_host = '192.168.0.106'\n",
    "logger_port = 8267\n",
    "wavemeter_host = '140.247.189.125'\n",
    "wavemeter_port = 1477\n",
    "nidaqmx_host = '140.247.189.125'\n",
    "nidaqmx_port = 3604"
   ]
  },
  {
   "cell_type": "markdown",
   "metadata": {},
   "source": [
    "Instantiate all clients"
   ]
  },
  {
   "cell_type": "code",
   "execution_count": 3,
   "metadata": {},
   "outputs": [],
   "source": [
    "log = LogClient(\n",
    "    host=logger_host,\n",
    "    port=logger_port,\n",
    "    module_tag='laser_scan_closed_loop'\n",
    ")\n",
    "# wm = wlm_monitor.Client(\n",
    "#     host=wavemeter_host,\n",
    "#     port=wavemeter_port,\n",
    "# )\n",
    "# ni = nidaqmx_card.Client(\n",
    "#     host=nidaqmx_host,\n",
    "#     port=nidaqmx_port\n",
    "# )\n",
    "exp = Sweep1D(logger=log)"
   ]
  },
  {
   "cell_type": "markdown",
   "metadata": {},
   "source": [
    "## Experiment"
   ]
  },
  {
   "cell_type": "markdown",
   "metadata": {},
   "source": [
    "Parameters, setup"
   ]
  },
  {
   "cell_type": "code",
   "execution_count": 4,
   "metadata": {},
   "outputs": [],
   "source": [
    "f0 = 406.693\n",
    "f1 = 406.695\n",
    "pts = 101\n",
    "exp.set_parameters(min=f0, max=f1, pts=pts)\n",
    "# counter = ni.create_timed_counter(\n",
    "#     counter_channel='Dev1/Ctr0',\n",
    "#     physical_channel='/Dev1/PFI0'\n",
    "# )"
   ]
  },
  {
   "cell_type": "markdown",
   "metadata": {},
   "source": [
    "Experiment script"
   ]
  },
  {
   "cell_type": "code",
   "execution_count": 10,
   "metadata": {},
   "outputs": [],
   "source": [
    "def experiment(frequency):\n",
    "\n",
    "    # Set frequency\n",
    "    # wm.update_parameters([{\n",
    "    #     'channel': 1, 'setpoint': frequency\n",
    "    # }])\n",
    "\n",
    "    # Activate counter\n",
    "    # ni.start_timed_counter(counter)\n",
    "    # time.sleep(0.1)\n",
    "\n",
    "    # Get counts/sec\n",
    "    # return ni.get_count(counter)*10\n",
    "    time.sleep(0.5)\n",
    "    return frequency\n",
    "    "
   ]
  },
  {
   "cell_type": "code",
   "execution_count": 11,
   "metadata": {},
   "outputs": [],
   "source": [
    "exp.configure_experiment(experiment)"
   ]
  },
  {
   "cell_type": "code",
   "execution_count": 12,
   "metadata": {},
   "outputs": [
    {
     "output_type": "display_data",
     "data": {
      "text/plain": "FigureWidget({\n    'data': [{'mode': 'lines', 'type': 'scatter', 'uid': 'cedfc8e0-ab47-4bfc-b60d-e548d0075531'…",
      "application/vnd.jupyter.widget-view+json": {
       "version_major": 2,
       "version_minor": 0,
       "model_id": "22ddfff1cb7a4b4b969acb59794d6c54"
      }
     },
     "metadata": {}
    }
   ],
   "source": [
    "exp.run(plot=True)"
   ]
  },
  {
   "cell_type": "markdown",
   "metadata": {},
   "source": [
    "## Analyze data"
   ]
  },
  {
   "cell_type": "code",
   "execution_count": 8,
   "metadata": {},
   "outputs": [
    {
     "output_type": "execute_result",
     "data": {
      "text/plain": "array([406.693  , 406.69302, 406.69304, 406.69306, 406.69308, 406.6931 ,\n       406.69312, 406.69314, 406.69316, 406.69318, 406.6932 , 406.69322,\n       406.69324, 406.69326, 406.69328, 406.6933 , 406.69332, 406.69334,\n       406.69336, 406.69338, 406.6934 , 406.69342, 406.69344, 406.69346,\n       406.69348, 406.6935 , 406.69352, 406.69354, 406.69356, 406.69358,\n       406.6936 , 406.69362, 406.69364, 406.69366, 406.69368, 406.6937 ,\n       406.69372, 406.69374, 406.69376, 406.69378, 406.6938 , 406.69382,\n       406.69384, 406.69386, 406.69388, 406.6939 , 406.69392, 406.69394,\n       406.69396, 406.69398, 406.694  , 406.69402, 406.69404, 406.69406,\n       406.69408, 406.6941 , 406.69412, 406.69414, 406.69416, 406.69418,\n       406.6942 , 406.69422, 406.69424, 406.69426, 406.69428, 406.6943 ,\n       406.69432, 406.69434, 406.69436, 406.69438, 406.6944 , 406.69442,\n       406.69444, 406.69446, 406.69448, 406.6945 , 406.69452, 406.69454,\n       406.69456, 406.69458, 406.6946 , 406.69462, 406.69464, 406.69466,\n       406.69468, 406.6947 , 406.69472, 406.69474, 406.69476, 406.69478,\n       406.6948 , 406.69482, 406.69484, 406.69486, 406.69488, 406.6949 ,\n       406.69492, 406.69494, 406.69496, 406.69498, 406.695  ])"
     },
     "metadata": {},
     "execution_count": 8
    }
   ],
   "source": [
    "exp.y_data"
   ]
  },
  {
   "cell_type": "markdown",
   "metadata": {},
   "source": [
    "## Close counter"
   ]
  },
  {
   "cell_type": "code",
   "execution_count": 5,
   "metadata": {},
   "outputs": [],
   "source": [
    "ni.close_timed_counter('counter_0')"
   ]
  },
  {
   "cell_type": "code",
   "execution_count": null,
   "metadata": {},
   "outputs": [],
   "source": []
  }
 ],
 "metadata": {
  "language_info": {
   "codemirror_mode": {
    "name": "ipython",
    "version": 3
   },
   "file_extension": ".py",
   "mimetype": "text/x-python",
   "name": "python",
   "nbconvert_exporter": "python",
   "pygments_lexer": "ipython3",
   "version": "3.7.6-final"
  },
  "orig_nbformat": 2,
  "kernelspec": {
   "name": "python37664bitdevvenv25325bfafe5d4d14943fc294a2bf516f",
   "display_name": "Python 3.7.6 64-bit ('dev': venv)"
  }
 },
 "nbformat": 4,
 "nbformat_minor": 2
}