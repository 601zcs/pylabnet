{
 "cells": [
  {
   "cell_type": "markdown",
   "metadata": {},
   "source": [
    "# Closed loop laser scan with NI-DAQmx"
   ]
  },
  {
   "cell_type": "markdown",
   "metadata": {},
   "source": [
    "## Setup"
   ]
  },
  {
   "cell_type": "code",
   "execution_count": 1,
   "metadata": {},
   "outputs": [],
   "source": [
    "import time\n",
    "\n",
    "from pylabnet.utils.logging.logger import LogClient\n",
    "from pylabnet.scripts.wavemeter import wlm_monitor\n",
    "from pylabnet.network.client_server import nidaqmx_card\n",
    "from pylabnet.utils.sweeper import Sweep1D"
   ]
  },
  {
   "cell_type": "markdown",
   "metadata": {},
   "source": [
    "Enter host and port parameters here:"
   ]
  },
  {
   "cell_type": "code",
   "execution_count": 2,
   "metadata": {},
   "outputs": [],
   "source": [
    "logger_host = '140.247.189.125'\n",
    "logger_port = 6067\n",
    "wavemeter_host = '140.247.189.125'\n",
    "wavemeter_port = 1477\n",
    "nidaqmx_host = '140.247.189.125'\n",
    "nidaqmx_port = 3604"
   ]
  },
  {
   "cell_type": "markdown",
   "metadata": {},
   "source": [
    "Instantiate all clients"
   ]
  },
  {
   "cell_type": "code",
   "execution_count": 3,
   "metadata": {},
   "outputs": [],
   "source": [
    "log = LogClient(\n",
    "    host=logger_host,\n",
    "    port=logger_port,\n",
    "    module_tag='laser_scan_closed_loop'\n",
    ")\n",
    "wm = wlm_monitor.Client(\n",
    "    host=wavemeter_host,\n",
    "    port=wavemeter_port,\n",
    ")\n",
    "ni = nidaqmx_card.Client(\n",
    "    host=nidaqmx_host,\n",
    "    port=nidaqmx_port\n",
    ")\n",
    "exp = Sweep1D(logger=log)"
   ]
  },
  {
   "cell_type": "markdown",
   "metadata": {},
   "source": [
    "## Experiment"
   ]
  },
  {
   "cell_type": "markdown",
   "metadata": {},
   "source": [
    "Parameters, setup"
   ]
  },
  {
   "cell_type": "code",
   "execution_count": 4,
   "metadata": {},
   "outputs": [],
   "source": [
    "f0 = 406.693\n",
    "f1 = 406.695\n",
    "pts = 101\n",
    "exp.set_parameters(min=f0, max=f1, pts=pts)\n",
    "counter = ni.create_timed_counter(\n",
    "    counter_channel='Dev1/Ctr0',\n",
    "    physical_channel='/Dev1/PFI0'\n",
    ")"
   ]
  },
  {
   "cell_type": "markdown",
   "metadata": {},
   "source": [
    "Experiment script"
   ]
  },
  {
   "cell_type": "code",
   "execution_count": 5,
   "metadata": {},
   "outputs": [],
   "source": [
    "def experiment(frequency):\n",
    "\n",
    "    # Set frequency\n",
    "    wm.update_parameters([{\n",
    "        'channel': 1, 'setpoint': frequency\n",
    "    }])\n",
    "\n",
    "    # Activate counter\n",
    "    ni.start_timed_counter(counter)\n",
    "    time.sleep(0.1)\n",
    "\n",
    "    # Get counts/sec\n",
    "    return ni.get_count(counter)*10\n",
    "    "
   ]
  },
  {
   "cell_type": "code",
   "execution_count": 6,
   "metadata": {},
   "outputs": [],
   "source": [
    "exp.configure_experiment(experiment)"
   ]
  },
  {
   "cell_type": "code",
   "execution_count": 7,
   "metadata": {},
   "outputs": [],
   "source": [
    "exp.run()"
   ]
  },
  {
   "cell_type": "markdown",
   "metadata": {},
   "source": [
    "## Analyze data"
   ]
  },
  {
   "cell_type": "code",
   "execution_count": 9,
   "metadata": {},
   "outputs": [
    {
     "output_type": "execute_result",
     "data": {
      "text/plain": "array([296610., 296610., 296620., 296610., 296620., 296610., 296610.,\n       296580., 296620., 296610., 296610., 296620., 296580., 296620.,\n       296590., 296600., 296600., 296620., 296610., 296610., 364190.,\n       296600., 296590., 296610., 296600., 296610., 296610., 296620.,\n       296600., 296590., 364180., 296620., 364210., 296600., 296610.,\n       296620., 296620., 364200., 296590., 296600., 296620., 296590.,\n       296600., 296590., 296620., 364190., 364190., 296590., 364200.,\n       296610., 296600., 296600., 296600., 296620., 296590., 296620.,\n       296590., 296610., 296600., 296600., 296580., 296600., 296610.,\n       296610., 296610., 296600., 296590., 296610., 364220., 296620.,\n       296610., 296610., 296600., 364190., 296600., 296600., 296600.,\n       296600., 296620., 296590., 296590., 296610., 296600., 296590.,\n       364210., 296590., 296600., 296610., 296610., 296590., 296590.,\n       296600., 364210., 296620., 296630., 296590., 296580., 296590.,\n       296590., 296600., 364180.])"
     },
     "metadata": {},
     "execution_count": 9
    }
   ],
   "source": [
    "exp.y_data"
   ]
  },
  {
   "cell_type": "markdown",
   "metadata": {},
   "source": [
    "## Close counter"
   ]
  },
  {
   "cell_type": "code",
   "execution_count": 5,
   "metadata": {},
   "outputs": [],
   "source": [
    "ni.close_timed_counter('counter_0')"
   ]
  },
  {
   "cell_type": "code",
   "execution_count": null,
   "metadata": {},
   "outputs": [],
   "source": []
  }
 ],
 "metadata": {
  "language_info": {
   "codemirror_mode": {
    "name": "ipython",
    "version": 3
   },
   "file_extension": ".py",
   "mimetype": "text/x-python",
   "name": "python",
   "nbconvert_exporter": "python",
   "pygments_lexer": "ipython3",
   "version": "3.7.4-final"
  },
  "orig_nbformat": 2,
  "kernelspec": {
   "name": "python37464bitdevvenv06e01b528bca4065a0489a4c6e2c93eb",
   "display_name": "Python 3.7.4 64-bit ('dev': venv)"
  }
 },
 "nbformat": 4,
 "nbformat_minor": 2
}