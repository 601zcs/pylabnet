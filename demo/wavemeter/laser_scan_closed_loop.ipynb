{
 "cells": [
  {
   "cell_type": "markdown",
   "metadata": {},
   "source": [
    "# Closed loop laser scan with NI-DAQmx"
   ]
  },
  {
   "cell_type": "markdown",
   "metadata": {},
   "source": [
    "## Setup"
   ]
  },
  {
   "cell_type": "code",
   "execution_count": 1,
   "metadata": {},
   "outputs": [],
   "source": [
    "import time\n",
    "import numpy as np\n",
    "\n",
    "from pylabnet.utils.logging.logger import LogClient\n",
    "from pylabnet.scripts.wavemeter import wlm_monitor\n",
    "from pylabnet.network.client_server import nidaqmx_card, sweeper\n",
    "from pylabnet.utils.sweeper import Sweep1D, MultiChSweep1D\n",
    "from pylabnet.utils.helper_methods import create_server"
   ]
  },
  {
   "cell_type": "markdown",
   "metadata": {},
   "source": [
    "Enter host and port parameters here:"
   ]
  },
  {
   "cell_type": "code",
   "execution_count": 2,
   "metadata": {},
   "outputs": [],
   "source": [
    "logger_host = 'localhost'\n",
    "logger_port = 12351\n",
    "# wavemeter_host = '140.247.189.125'\n",
    "# wavemeter_port = 1477\n",
    "# nidaqmx_host = '140.247.189.125'\n",
    "# nidaqmx_port = 3604"
   ]
  },
  {
   "cell_type": "markdown",
   "metadata": {},
   "source": [
    "Instantiate all clients"
   ]
  },
  {
   "cell_type": "code",
   "execution_count": 3,
   "metadata": {},
   "outputs": [],
   "source": [
    "exp_log = LogClient(\n",
    "    host=logger_host,\n",
    "    port=logger_port,\n",
    "    module_tag='laser_scan_closed_loop'\n",
    ")\n",
    "# wm = wlm_monitor.Client(\n",
    "#     host=wavemeter_host,\n",
    "#     port=wavemeter_port,\n",
    "# )\n",
    "# ni = nidaqmx_card.Client(\n",
    "#     host=nidaqmx_host,\n",
    "#     port=nidaqmx_port\n",
    "# )\n",
    "exp = Sweep1D(logger=exp_log)"
   ]
  },
  {
   "cell_type": "code",
   "execution_count": 4,
   "metadata": {},
   "outputs": [],
   "source": [
    "update_log = LogClient(\n",
    "    host=logger_host,\n",
    "    port=logger_port,\n",
    "    module_tag='1D_update_server'\n",
    ")\n",
    "pause_1d_service = sweeper.Service()\n",
    "pause_1d_service.assign_module(module=exp)\n",
    "pause_1d_service.assign_logger(logger=update_log)\n",
    "pause_1d_server, pause_1d_port = create_server(\n",
    "    service=pause_1d_service,\n",
    "    logger=update_log,\n",
    "    host=logger_host\n",
    ")\n",
    "update_log.update_data(data={'port': pause_1d_port})\n",
    "pause_1d_server.start()"
   ]
  },
  {
   "cell_type": "markdown",
   "metadata": {},
   "source": [
    "## Experiment"
   ]
  },
  {
   "cell_type": "markdown",
   "metadata": {},
   "source": [
    "Parameters, setup"
   ]
  },
  {
   "cell_type": "code",
   "execution_count": 5,
   "metadata": {},
   "outputs": [],
   "source": [
    "f0 = 406.693\n",
    "f1 = 406.695\n",
    "pts = 101\n",
    "exp.set_parameters(min=f0, max=f1, pts=pts)\n",
    "# counter = ni.create_timed_counter(\n",
    "#     counter_channel='Dev1/Ctr0',\n",
    "#     physical_channel='/Dev1/PFI0'\n",
    "# )"
   ]
  },
  {
   "cell_type": "markdown",
   "metadata": {},
   "source": [
    "Experiment script"
   ]
  },
  {
   "cell_type": "code",
   "execution_count": 6,
   "metadata": {},
   "outputs": [],
   "source": [
    "def experiment(frequency):\n",
    "\n",
    "    # Set frequency\n",
    "    # wm.update_parameters([{\n",
    "    #     'channel': 1, 'setpoint': frequency\n",
    "    # }])\n",
    "\n",
    "    # Activate counter\n",
    "    # ni.start_timed_counter(counter)\n",
    "    # time.sleep(0.1)\n",
    "\n",
    "    # Get counts/sec\n",
    "    # return ni.get_count(counter)*10\n",
    "    time.sleep(0.02)\n",
    "    diffusion = 0.0002*np.sin(2*np.pi*time.time()/50)\n",
    "    return 100 + 0.01/((frequency-406.694+diffusion)**2+(0.0001)**2)\n",
    "    "
   ]
  },
  {
   "cell_type": "code",
   "execution_count": 7,
   "metadata": {},
   "outputs": [],
   "source": [
    "exp.configure_experiment(experiment)"
   ]
  },
  {
   "cell_type": "code",
   "execution_count": 15,
   "metadata": {
    "scrolled": true,
    "tags": []
   },
   "outputs": [
    {
     "data": {
      "application/vnd.jupyter.widget-view+json": {
       "model_id": "fe26be8ba6c8447b8283005e3f50acad",
       "version_major": 2,
       "version_minor": 0
      },
      "text/plain": [
       "FigureWidget({\n",
       "    'data': [{'mode': 'lines',\n",
       "              'name': 'Single',\n",
       "              'type': 'scatter',…"
      ]
     },
     "metadata": {},
     "output_type": "display_data"
    },
    {
     "data": {
      "application/vnd.jupyter.widget-view+json": {
       "model_id": "ed8f01f5112f4d419e4faa8e63035a8a",
       "version_major": 2,
       "version_minor": 0
      },
      "text/plain": [
       "FigureWidget({\n",
       "    'data': [{'type': 'heatmap',\n",
       "              'uid': '34d409d8-f149-4a7f-9fb4-b2b8fc8e68c5',\n",
       " …"
      ]
     },
     "metadata": {},
     "output_type": "display_data"
    },
    {
     "data": {
      "application/vnd.jupyter.widget-view+json": {
       "model_id": "6f5d02a76d2448fcb7f76071fdc41753",
       "version_major": 2,
       "version_minor": 0
      },
      "text/plain": [
       "FigureWidget({\n",
       "    'data': [{'mode': 'lines',\n",
       "              'name': 'Single',\n",
       "              'type': 'scatter',…"
      ]
     },
     "metadata": {},
     "output_type": "display_data"
    },
    {
     "data": {
      "application/vnd.jupyter.widget-view+json": {
       "model_id": "60bca04c1af84c1fa2af04472e9526c0",
       "version_major": 2,
       "version_minor": 0
      },
      "text/plain": [
       "FigureWidget({\n",
       "    'data': [{'type': 'heatmap',\n",
       "              'uid': 'b26fbf35-0e7e-4590-a23d-24ad29b35c24',\n",
       " …"
      ]
     },
     "metadata": {},
     "output_type": "display_data"
    }
   ],
   "source": [
    "exp.set_reps(reps=1)\n",
    "exp.run(plot=True, autosave=True)"
   ]
  },
  {
   "cell_type": "markdown",
   "metadata": {},
   "source": [
    "## Multi-channel sweep"
   ]
  },
  {
   "cell_type": "code",
   "execution_count": 17,
   "metadata": {},
   "outputs": [],
   "source": [
    "mc_log = LogClient(\n",
    "    host=logger_host,\n",
    "    port=logger_port,\n",
    "    module_tag='laser_scan_closed_loop_multichannel'\n",
    ")\n",
    "\n",
    "mc_pause_log = LogClient(\n",
    "    host=logger_host,\n",
    "    port=logger_port,\n",
    "    module_tag='MultiCh1D_pause_server'\n",
    ")\n",
    "\n",
    "m_exp = MultiChSweep1D(logger=mc_log, channels=['Transmission', 'Reflection'])\n",
    "pause_m_service = sweeper.Service()\n",
    "pause_m_service.assign_module(module=exp)\n",
    "pause_m_service.assign_logger(logger=mc_pause_log)\n",
    "pause_m_server = create_server(\n",
    "    service=pause_m_service,\n",
    "    logger=mc_pause_log,\n",
    "    host=logger_host\n",
    ")"
   ]
  },
  {
   "cell_type": "code",
   "execution_count": 18,
   "metadata": {},
   "outputs": [],
   "source": [
    "m_exp.set_parameters(min=f0, max=f1, pts=pts, reps=4)"
   ]
  },
  {
   "cell_type": "code",
   "execution_count": 19,
   "metadata": {},
   "outputs": [],
   "source": [
    "def multi_experiment(frequency):\n",
    "    time.sleep(0.02)\n",
    "    diffusion = 0.0002*np.sin(2*np.pi*time.time()/50)\n",
    "    return [\n",
    "        100 + 0.01/((frequency-406.694+diffusion)**2+(0.0001)**2),\n",
    "        100 - 0.01/((frequency-406.694+diffusion)**2+(0.0001)**2)\n",
    "    ]\n",
    "m_exp.configure_experiment(multi_experiment)"
   ]
  },
  {
   "cell_type": "code",
   "execution_count": 20,
   "metadata": {},
   "outputs": [
    {
     "data": {
      "application/vnd.jupyter.widget-view+json": {
       "model_id": "88d6c408886f4f3c9e94a2a66fc61720",
       "version_major": 2,
       "version_minor": 0
      },
      "text/plain": [
       "FigureWidget({\n",
       "    'data': [{'mode': 'lines',\n",
       "              'name': 'Transmission Single',\n",
       "              'type…"
      ]
     },
     "metadata": {},
     "output_type": "display_data"
    },
    {
     "data": {
      "application/vnd.jupyter.widget-view+json": {
       "model_id": "71dce87b5b3a43cc896932420f0b785d",
       "version_major": 2,
       "version_minor": 0
      },
      "text/plain": [
       "FigureWidget({\n",
       "    'data': [{'type': 'heatmap',\n",
       "              'uid': 'a36df67b-3158-49db-a510-0af4474ca83f',\n",
       " …"
      ]
     },
     "metadata": {},
     "output_type": "display_data"
    },
    {
     "data": {
      "application/vnd.jupyter.widget-view+json": {
       "model_id": "9f47dc76e21e475c81176d2f93532c32",
       "version_major": 2,
       "version_minor": 0
      },
      "text/plain": [
       "FigureWidget({\n",
       "    'data': [{'mode': 'lines',\n",
       "              'name': 'Transmission Single',\n",
       "              'type…"
      ]
     },
     "metadata": {},
     "output_type": "display_data"
    },
    {
     "data": {
      "application/vnd.jupyter.widget-view+json": {
       "model_id": "9e90bf6ed4c84b19a29af093d8b127b8",
       "version_major": 2,
       "version_minor": 0
      },
      "text/plain": [
       "FigureWidget({\n",
       "    'data': [{'type': 'heatmap',\n",
       "              'uid': '9edc977a-61b7-4b8e-ba4b-46b5c4b7e1f6',\n",
       " …"
      ]
     },
     "metadata": {},
     "output_type": "display_data"
    },
    {
     "data": {
      "application/vnd.jupyter.widget-view+json": {
       "model_id": "a4862368b0e14374b43e85b26f0f9a4f",
       "version_major": 2,
       "version_minor": 0
      },
      "text/plain": [
       "FigureWidget({\n",
       "    'data': [{'mode': 'lines',\n",
       "              'name': 'Reflection Single',\n",
       "              'type':…"
      ]
     },
     "metadata": {},
     "output_type": "display_data"
    },
    {
     "data": {
      "application/vnd.jupyter.widget-view+json": {
       "model_id": "f988326188f040f5aba016384c08373c",
       "version_major": 2,
       "version_minor": 0
      },
      "text/plain": [
       "FigureWidget({\n",
       "    'data': [{'type': 'heatmap',\n",
       "              'uid': '1825d0c6-bb91-4049-97b0-de0e9d2c5364',\n",
       " …"
      ]
     },
     "metadata": {},
     "output_type": "display_data"
    },
    {
     "data": {
      "application/vnd.jupyter.widget-view+json": {
       "model_id": "f836b4c6075b41598bd103b2ec528ae1",
       "version_major": 2,
       "version_minor": 0
      },
      "text/plain": [
       "FigureWidget({\n",
       "    'data': [{'mode': 'lines',\n",
       "              'name': 'Reflection Single',\n",
       "              'type':…"
      ]
     },
     "metadata": {},
     "output_type": "display_data"
    },
    {
     "data": {
      "application/vnd.jupyter.widget-view+json": {
       "model_id": "1f0b8857b756476fb2233172e8b5df74",
       "version_major": 2,
       "version_minor": 0
      },
      "text/plain": [
       "FigureWidget({\n",
       "    'data': [{'type': 'heatmap',\n",
       "              'uid': 'b8187589-e1e3-46f5-ba41-4f153018ad26',\n",
       " …"
      ]
     },
     "metadata": {},
     "output_type": "display_data"
    }
   ],
   "source": [
    "m_exp.run(plot=True)"
   ]
  },
  {
   "cell_type": "markdown",
   "metadata": {},
   "source": [
    "## Close counter"
   ]
  },
  {
   "cell_type": "code",
   "execution_count": 5,
   "metadata": {},
   "outputs": [],
   "source": [
    "#ni.close_timed_counter('counter_0')"
   ]
  },
  {
   "cell_type": "code",
   "execution_count": null,
   "metadata": {},
   "outputs": [],
   "source": []
  }
 ],
 "metadata": {
  "kernelspec": {
   "display_name": "Python 3.7.4 64-bit",
   "language": "python",
   "name": "python37464bit36c48b51567b4062ba0e4920d9c486e0"
  },
  "language_info": {
   "codemirror_mode": {
    "name": "ipython",
    "version": 3
   },
   "file_extension": ".py",
   "mimetype": "text/x-python",
   "name": "python",
   "nbconvert_exporter": "python",
   "pygments_lexer": "ipython3",
   "version": "3.7.4"
  }
 },
 "nbformat": 4,
 "nbformat_minor": 2
}
