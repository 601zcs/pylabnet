{
 "cells": [
  {
   "cell_type": "markdown",
   "metadata": {},
   "source": [
    "# Closed loop laser scan with NI-DAQmx"
   ]
  },
  {
   "cell_type": "markdown",
   "metadata": {},
   "source": [
    "## Setup"
   ]
  },
  {
   "cell_type": "code",
   "execution_count": 1,
   "metadata": {},
   "outputs": [],
   "source": [
    "import time\n",
    "import numpy as np\n",
    "import socket\n",
    "\n",
    "from pylabnet.utils.logging.logger import LogClient\n",
    "from pylabnet.scripts.lasers import wlm_monitor\n",
    "from pylabnet.network.client_server import sweeper, si_tt_cnt_monitor\n",
    "from pylabnet.utils.sweeper import Sweep1D, MultiChSweep1D\n",
    "from pylabnet.utils.helper_methods import create_server"
   ]
  },
  {
   "cell_type": "markdown",
   "metadata": {},
   "source": [
    "Enter host and port parameters here:"
   ]
  },
  {
   "cell_type": "code",
   "execution_count": 17,
   "metadata": {},
   "outputs": [],
   "source": [
    "logger_host = '140.247.189.94'\n",
    "logger_port = 21379\n",
    "wavemeter_host = '140.247.189.94'\n",
    "wavemeter_port = 6668\n",
    "ctr_host = '140.247.189.82'\n",
    "ctr_port = 47717"
   ]
  },
  {
   "cell_type": "markdown",
   "metadata": {},
   "source": [
    "Instantiate all clients"
   ]
  },
  {
   "cell_type": "code",
   "execution_count": 18,
   "metadata": {
    "tags": []
   },
   "outputs": [],
   "source": [
    "exp_log = LogClient(\n",
    "    host=logger_host,\n",
    "    port=logger_port,\n",
    "    module_tag='laser_scan_closed_loop'\n",
    ")\n",
    "wm = wlm_monitor.Client(\n",
    "    host=wavemeter_host,\n",
    "    port=wavemeter_port,\n",
    ")\n",
    "ctr = si_tt_cnt_monitor.Client(\n",
    "    host=ctr_host,\n",
    "    port=ctr_port\n",
    ")\n",
    "ctr.set_channels(name='sweeper', ch_list=[1])\n",
    "ctr.init_rate_monitor(name='sweeper')\n",
    "exp = Sweep1D(logger=exp_log)"
   ]
  },
  {
   "cell_type": "code",
   "execution_count": 19,
   "metadata": {},
   "outputs": [],
   "source": [
    "update_log = LogClient(\n",
    "    host=logger_host,\n",
    "    port=logger_port,\n",
    "    module_tag='1D_update_server'\n",
    ")\n",
    "pause_1d_service = sweeper.Service()\n",
    "pause_1d_service.assign_module(module=exp)\n",
    "pause_1d_service.assign_logger(logger=update_log)\n",
    "pause_1d_server, pause_1d_port = create_server(\n",
    "    service=pause_1d_service,\n",
    "    logger=update_log,\n",
    "    host=socket.gethostbyname(socket.gethostname())\n",
    ")\n",
    "update_log.update_data(data={'port': pause_1d_port})\n",
    "pause_1d_server.start()"
   ]
  },
  {
   "cell_type": "markdown",
   "metadata": {},
   "source": [
    "## Experiment"
   ]
  },
  {
   "cell_type": "markdown",
   "metadata": {},
   "source": [
    "Parameters, setup"
   ]
  },
  {
   "cell_type": "code",
   "execution_count": 20,
   "metadata": {},
   "outputs": [],
   "source": [
    "f0 = 406.700\n",
    "f1 = 406.702\n",
    "pts = 101\n",
    "exp.set_parameters(min=f0, max=f1, pts=pts)"
   ]
  },
  {
   "cell_type": "code",
   "execution_count": 31,
   "metadata": {},
   "outputs": [
    {
     "data": {
      "text/plain": [
       "array([72623.17657325])"
      ]
     },
     "execution_count": 31,
     "metadata": {},
     "output_type": "execute_result"
    }
   ],
   "source": []
  },
  {
   "cell_type": "markdown",
   "metadata": {},
   "source": [
    "Experiment script"
   ]
  },
  {
   "cell_type": "code",
   "execution_count": 21,
   "metadata": {},
   "outputs": [],
   "source": [
    "def experiment(frequency):\n",
    "\n",
    "    # Set frequency\n",
    "    wm.update_parameters([{\n",
    "        'channel': 6, 'setpoint': frequency\n",
    "    }])\n",
    "\n",
    "    return ctr.get_count_rate(name='sweeper', integration=0.1)\n",
    "    "
   ]
  },
  {
   "cell_type": "code",
   "execution_count": 22,
   "metadata": {},
   "outputs": [],
   "source": [
    "exp.configure_experiment(experiment)"
   ]
  },
  {
   "cell_type": "code",
   "execution_count": 25,
   "metadata": {
    "scrolled": true,
    "tags": []
   },
   "outputs": [
    {
     "data": {
      "application/vnd.jupyter.widget-view+json": {
       "model_id": "8544b30a33d549ddafe90458225391ab",
       "version_major": 2,
       "version_minor": 0
      },
      "text/plain": [
       "FigureWidget({\n",
       "    'data': [{'mode': 'lines',\n",
       "              'name': 'Single',\n",
       "              'type': 'scatter',…"
      ]
     },
     "metadata": {},
     "output_type": "display_data"
    },
    {
     "data": {
      "application/vnd.jupyter.widget-view+json": {
       "model_id": "6a989acf4f52473db56631730988949a",
       "version_major": 2,
       "version_minor": 0
      },
      "text/plain": [
       "FigureWidget({\n",
       "    'data': [{'type': 'heatmap',\n",
       "              'uid': 'b33685aa-e52f-49d2-9c38-0af9917e5e14',\n",
       " …"
      ]
     },
     "metadata": {},
     "output_type": "display_data"
    },
    {
     "data": {
      "application/vnd.jupyter.widget-view+json": {
       "model_id": "b5d6f30fd5a4429b9dcde22b8ab8386e",
       "version_major": 2,
       "version_minor": 0
      },
      "text/plain": [
       "FigureWidget({\n",
       "    'data': [{'mode': 'lines',\n",
       "              'name': 'Single',\n",
       "              'type': 'scatter',…"
      ]
     },
     "metadata": {},
     "output_type": "display_data"
    },
    {
     "data": {
      "application/vnd.jupyter.widget-view+json": {
       "model_id": "ad1cd2d07ff04c1cad4b2439cb29152b",
       "version_major": 2,
       "version_minor": 0
      },
      "text/plain": [
       "FigureWidget({\n",
       "    'data': [{'type': 'heatmap',\n",
       "              'uid': 'ea42a4a0-bfd6-4dd1-b800-ae5bb94e59de',\n",
       " …"
      ]
     },
     "metadata": {},
     "output_type": "display_data"
    }
   ],
   "source": [
    "exp.set_reps(reps=3)\n",
    "exp.run(plot=True, autosave=False)"
   ]
  },
  {
   "cell_type": "markdown",
   "metadata": {},
   "source": [
    "## Multi-channel sweep"
   ]
  },
  {
   "cell_type": "code",
   "execution_count": 9,
   "metadata": {},
   "outputs": [],
   "source": [
    "mc_log = LogClient(\n",
    "    host=logger_host,\n",
    "    port=logger_port,\n",
    "    module_tag='laser_scan_closed_loop_multichannel'\n",
    ")\n",
    "\n",
    "mc_pause_log = LogClient(\n",
    "    host=logger_host,\n",
    "    port=logger_port,\n",
    "    module_tag='MultiCh1D_pause_server'\n",
    ")\n",
    "\n",
    "m_exp = MultiChSweep1D(logger=mc_log, channels=['Transmission', 'Reflection'])\n",
    "pause_m_service = sweeper.Service()\n",
    "pause_m_service.assign_module(module=exp)\n",
    "pause_m_service.assign_logger(logger=mc_pause_log)\n",
    "pause_m_server = create_server(\n",
    "    service=pause_m_service,\n",
    "    logger=mc_pause_log,\n",
    "    host=logger_host\n",
    ")"
   ]
  },
  {
   "cell_type": "code",
   "execution_count": 18,
   "metadata": {},
   "outputs": [],
   "source": [
    "m_exp.set_parameters(min=f0, max=f1, pts=pts, reps=4)"
   ]
  },
  {
   "cell_type": "code",
   "execution_count": 19,
   "metadata": {},
   "outputs": [],
   "source": [
    "def multi_experiment(frequency):\n",
    "    time.sleep(0.02)\n",
    "    diffusion = 0.0002*np.sin(2*np.pi*time.time()/50)\n",
    "    return [\n",
    "        100 + 0.01/((frequency-406.694+diffusion)**2+(0.0001)**2),\n",
    "        100 - 0.01/((frequency-406.694+diffusion)**2+(0.0001)**2)\n",
    "    ]\n",
    "m_exp.configure_experiment(multi_experiment)"
   ]
  },
  {
   "cell_type": "code",
   "execution_count": 20,
   "metadata": {},
   "outputs": [
    {
     "data": {
      "application/vnd.jupyter.widget-view+json": {
       "model_id": "88d6c408886f4f3c9e94a2a66fc61720",
       "version_major": 2,
       "version_minor": 0
      },
      "text/plain": [
       "FigureWidget({\n",
       "    'data': [{'mode': 'lines',\n",
       "              'name': 'Transmission Single',\n",
       "              'type…"
      ]
     },
     "metadata": {},
     "output_type": "display_data"
    },
    {
     "data": {
      "application/vnd.jupyter.widget-view+json": {
       "model_id": "71dce87b5b3a43cc896932420f0b785d",
       "version_major": 2,
       "version_minor": 0
      },
      "text/plain": [
       "FigureWidget({\n",
       "    'data': [{'type': 'heatmap',\n",
       "              'uid': 'a36df67b-3158-49db-a510-0af4474ca83f',\n",
       " …"
      ]
     },
     "metadata": {},
     "output_type": "display_data"
    },
    {
     "data": {
      "application/vnd.jupyter.widget-view+json": {
       "model_id": "9f47dc76e21e475c81176d2f93532c32",
       "version_major": 2,
       "version_minor": 0
      },
      "text/plain": [
       "FigureWidget({\n",
       "    'data': [{'mode': 'lines',\n",
       "              'name': 'Transmission Single',\n",
       "              'type…"
      ]
     },
     "metadata": {},
     "output_type": "display_data"
    },
    {
     "data": {
      "application/vnd.jupyter.widget-view+json": {
       "model_id": "9e90bf6ed4c84b19a29af093d8b127b8",
       "version_major": 2,
       "version_minor": 0
      },
      "text/plain": [
       "FigureWidget({\n",
       "    'data': [{'type': 'heatmap',\n",
       "              'uid': '9edc977a-61b7-4b8e-ba4b-46b5c4b7e1f6',\n",
       " …"
      ]
     },
     "metadata": {},
     "output_type": "display_data"
    },
    {
     "data": {
      "application/vnd.jupyter.widget-view+json": {
       "model_id": "a4862368b0e14374b43e85b26f0f9a4f",
       "version_major": 2,
       "version_minor": 0
      },
      "text/plain": [
       "FigureWidget({\n",
       "    'data': [{'mode': 'lines',\n",
       "              'name': 'Reflection Single',\n",
       "              'type':…"
      ]
     },
     "metadata": {},
     "output_type": "display_data"
    },
    {
     "data": {
      "application/vnd.jupyter.widget-view+json": {
       "model_id": "f988326188f040f5aba016384c08373c",
       "version_major": 2,
       "version_minor": 0
      },
      "text/plain": [
       "FigureWidget({\n",
       "    'data': [{'type': 'heatmap',\n",
       "              'uid': '1825d0c6-bb91-4049-97b0-de0e9d2c5364',\n",
       " …"
      ]
     },
     "metadata": {},
     "output_type": "display_data"
    },
    {
     "data": {
      "application/vnd.jupyter.widget-view+json": {
       "model_id": "f836b4c6075b41598bd103b2ec528ae1",
       "version_major": 2,
       "version_minor": 0
      },
      "text/plain": [
       "FigureWidget({\n",
       "    'data': [{'mode': 'lines',\n",
       "              'name': 'Reflection Single',\n",
       "              'type':…"
      ]
     },
     "metadata": {},
     "output_type": "display_data"
    },
    {
     "data": {
      "application/vnd.jupyter.widget-view+json": {
       "model_id": "1f0b8857b756476fb2233172e8b5df74",
       "version_major": 2,
       "version_minor": 0
      },
      "text/plain": [
       "FigureWidget({\n",
       "    'data': [{'type': 'heatmap',\n",
       "              'uid': 'b8187589-e1e3-46f5-ba41-4f153018ad26',\n",
       " …"
      ]
     },
     "metadata": {},
     "output_type": "display_data"
    }
   ],
   "source": [
    "m_exp.run(plot=True)"
   ]
  },
  {
   "cell_type": "markdown",
   "metadata": {},
   "source": [
    "## Close counter"
   ]
  },
  {
   "cell_type": "code",
   "execution_count": 5,
   "metadata": {},
   "outputs": [],
   "source": [
    "#ni.close_timed_counter('counter_0')"
   ]
  },
  {
   "cell_type": "code",
   "execution_count": null,
   "metadata": {},
   "outputs": [],
   "source": []
  }
 ],
 "metadata": {
  "kernelspec": {
   "display_name": "Python 3",
   "language": "python",
   "name": "python3"
  },
  "language_info": {
   "codemirror_mode": {
    "name": "ipython",
    "version": 3
   },
   "file_extension": ".py",
   "mimetype": "text/x-python",
   "name": "python",
   "nbconvert_exporter": "python",
   "pygments_lexer": "ipython3",
   "version": "3.6.5"
  }
 },
 "nbformat": 4,
 "nbformat_minor": 2
}
