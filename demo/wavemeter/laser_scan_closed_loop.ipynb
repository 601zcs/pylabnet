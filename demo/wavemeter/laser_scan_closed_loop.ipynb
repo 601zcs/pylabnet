{
 "cells": [
  {
   "cell_type": "markdown",
   "metadata": {},
   "source": [
    "# Closed loop laser scan with NI-DAQmx"
   ]
  },
  {
   "cell_type": "markdown",
   "metadata": {},
   "source": [
    "## Setup"
   ]
  },
  {
   "cell_type": "code",
   "execution_count": 1,
   "metadata": {},
   "outputs": [],
   "source": [
    "import time\n",
    "import numpy as np\n",
    "\n",
    "from pylabnet.utils.logging.logger import LogClient\n",
    "from pylabnet.scripts.wavemeter import wlm_monitor\n",
    "from pylabnet.network.client_server import nidaqmx_card\n",
    "from pylabnet.utils.sweeper import Sweep1D"
   ]
  },
  {
   "cell_type": "markdown",
   "metadata": {},
   "source": [
    "Enter host and port parameters here:"
   ]
  },
  {
   "cell_type": "code",
   "execution_count": 2,
   "metadata": {},
   "outputs": [],
   "source": [
    "logger_host = '192.168.0.106'\n",
    "logger_port = 1386\n",
    "wavemeter_host = '140.247.189.125'\n",
    "wavemeter_port = 1477\n",
    "nidaqmx_host = '140.247.189.125'\n",
    "nidaqmx_port = 3604"
   ]
  },
  {
   "cell_type": "markdown",
   "metadata": {},
   "source": [
    "Instantiate all clients"
   ]
  },
  {
   "cell_type": "code",
   "execution_count": 3,
   "metadata": {},
   "outputs": [],
   "source": [
    "log = LogClient(\n",
    "    host=logger_host,\n",
    "    port=logger_port,\n",
    "    module_tag='laser_scan_closed_loop'\n",
    ")\n",
    "# wm = wlm_monitor.Client(\n",
    "#     host=wavemeter_host,\n",
    "#     port=wavemeter_port,\n",
    "# )\n",
    "# ni = nidaqmx_card.Client(\n",
    "#     host=nidaqmx_host,\n",
    "#     port=nidaqmx_port\n",
    "# )\n",
    "exp = Sweep1D(logger=log)"
   ]
  },
  {
   "cell_type": "markdown",
   "metadata": {},
   "source": [
    "## Experiment"
   ]
  },
  {
   "cell_type": "markdown",
   "metadata": {},
   "source": [
    "Parameters, setup"
   ]
  },
  {
   "cell_type": "code",
   "execution_count": 4,
   "metadata": {},
   "outputs": [],
   "source": [
    "f0 = 406.693\n",
    "f1 = 406.695\n",
    "pts = 101\n",
    "exp.set_parameters(min=f0, max=f1, pts=pts, reps=4)\n",
    "# counter = ni.create_timed_counter(\n",
    "#     counter_channel='Dev1/Ctr0',\n",
    "#     physical_channel='/Dev1/PFI0'\n",
    "# )"
   ]
  },
  {
   "cell_type": "markdown",
   "metadata": {},
   "source": [
    "Experiment script"
   ]
  },
  {
   "cell_type": "code",
   "execution_count": 5,
   "metadata": {},
   "outputs": [],
   "source": [
    "def experiment(frequency):\n",
    "\n",
    "    # Set frequency\n",
    "    # wm.update_parameters([{\n",
    "    #     'channel': 1, 'setpoint': frequency\n",
    "    # }])\n",
    "\n",
    "    # Activate counter\n",
    "    # ni.start_timed_counter(counter)\n",
    "    # time.sleep(0.1)\n",
    "\n",
    "    # Get counts/sec\n",
    "    # return ni.get_count(counter)*10\n",
    "    time.sleep(0.02)\n",
    "    diffusion = 0.0002*np.sin(2*np.pi*time.time()/50)\n",
    "    return 100 + 0.01/((frequency-406.694+diffusion)**2+(0.0001)**2)\n",
    "    "
   ]
  },
  {
   "cell_type": "code",
   "execution_count": 6,
   "metadata": {},
   "outputs": [],
   "source": [
    "exp.configure_experiment(experiment)"
   ]
  },
  {
   "cell_type": "code",
   "execution_count": 7,
   "metadata": {
    "tags": []
   },
   "outputs": [
    {
     "output_type": "display_data",
     "data": {
      "text/plain": "FigureWidget({\n    'data': [{'mode': 'lines',\n              'name': 'Single',\n              'type': 'scatter',…",
      "application/vnd.jupyter.widget-view+json": {
       "version_major": 2,
       "version_minor": 0,
       "model_id": "2db4e913f8d745259da8c3a0e0e952be"
      }
     },
     "metadata": {}
    },
    {
     "output_type": "display_data",
     "data": {
      "text/plain": "FigureWidget({\n    'data': [{'type': 'heatmap', 'uid': '336d6a37-ae92-42e1-b0b9-fc97ff4c40ff', 'x': [], 'y': […",
      "application/vnd.jupyter.widget-view+json": {
       "version_major": 2,
       "version_minor": 0,
       "model_id": "69dd7d85a8364f21a91f2d054a369b03"
      }
     },
     "metadata": {}
    },
    {
     "output_type": "display_data",
     "data": {
      "text/plain": "FigureWidget({\n    'data': [{'mode': 'lines',\n              'name': 'Single',\n              'type': 'scatter',…",
      "application/vnd.jupyter.widget-view+json": {
       "version_major": 2,
       "version_minor": 0,
       "model_id": "d7f80d1d666641b39c41c16d8b23473c"
      }
     },
     "metadata": {}
    },
    {
     "output_type": "display_data",
     "data": {
      "text/plain": "FigureWidget({\n    'data': [{'type': 'heatmap', 'uid': '924d34cf-b725-4d43-87bf-59eb29edfe2c', 'x': [], 'y': […",
      "application/vnd.jupyter.widget-view+json": {
       "version_major": 2,
       "version_minor": 0,
       "model_id": "c46cbebde5254b0b8276b82469bf3470"
      }
     },
     "metadata": {}
    }
   ],
   "source": [
    "exp.set_parameters(reps=100)\n",
    "exp.run(plot=True)"
   ]
  },
  {
   "cell_type": "markdown",
   "metadata": {},
   "source": [
    "## Analyze data"
   ]
  },
  {
   "cell_type": "code",
   "execution_count": 9,
   "metadata": {},
   "outputs": [
    {
     "output_type": "execute_result",
     "data": {
      "text/plain": "array([1.])"
     },
     "metadata": {},
     "execution_count": 9
    }
   ],
   "source": [
    "exp.hplot_fwd._y_ar"
   ]
  },
  {
   "cell_type": "markdown",
   "metadata": {},
   "source": [
    "## Close counter"
   ]
  },
  {
   "cell_type": "code",
   "execution_count": 5,
   "metadata": {},
   "outputs": [],
   "source": [
    "#ni.close_timed_counter('counter_0')"
   ]
  },
  {
   "cell_type": "code",
   "execution_count": null,
   "metadata": {},
   "outputs": [],
   "source": []
  }
 ],
 "metadata": {
  "language_info": {
   "codemirror_mode": {
    "name": "ipython",
    "version": 3
   },
   "file_extension": ".py",
   "mimetype": "text/x-python",
   "name": "python",
   "nbconvert_exporter": "python",
   "pygments_lexer": "ipython3",
   "version": "3.7.6-final"
  },
  "orig_nbformat": 2,
  "kernelspec": {
   "name": "python37664bitdevvenv25325bfafe5d4d14943fc294a2bf516f",
   "display_name": "Python 3.7.6 64-bit ('dev': venv)"
  }
 },
 "nbformat": 4,
 "nbformat_minor": 2
}