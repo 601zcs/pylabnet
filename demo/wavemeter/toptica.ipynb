{
 "metadata": {
  "language_info": {
   "codemirror_mode": {
    "name": "ipython",
    "version": 3
   },
   "file_extension": ".py",
   "mimetype": "text/x-python",
   "name": "python",
   "nbconvert_exporter": "python",
   "pygments_lexer": "ipython3",
   "version": "3.8.3-final"
  },
  "orig_nbformat": 2,
  "kernelspec": {
   "name": "python_defaultSpec_1599241475853",
   "display_name": "Python 3.8.3 64-bit"
  }
 },
 "nbformat": 4,
 "nbformat_minor": 2,
 "cells": [
  {
   "cell_type": "code",
   "execution_count": 2,
   "metadata": {},
   "outputs": [],
   "source": [
    "from telnetlib import Telnet\n",
    "import time"
   ]
  },
  {
   "cell_type": "code",
   "execution_count": 29,
   "metadata": {
    "tags": []
   },
   "outputs": [
    {
     "output_type": "stream",
     "name": "stdout",
     "text": "21643\n"
    }
   ],
   "source": [
    "# Check laser name\n",
    "with Telnet(host='140.247.189.205', port=1998) as dlc:\n",
    "    dlc.read_until(b'>', timeout=1)\n",
    "    dlc.write(b\"(param-disp 'laser1:dl:serial-number)\\n\")\n",
    "    print(int(dlc.read_until(b'>', timeout=1).split()[-3].decode('utf')[1:-1]))"
   ]
  },
  {
   "cell_type": "code",
   "execution_count": 10,
   "metadata": {
    "tags": []
   },
   "outputs": [
    {
     "output_type": "stream",
     "name": "stdout",
     "text": "t\n"
    }
   ],
   "source": [
    "# Check whether laser is on or off\n",
    "with Telnet(host='140.247.189.205', port=1998) as dlc:\n",
    "    dlc.read_until(b'>', timeout=1)\n",
    "    dlc.write(b\"(param-disp 'laser1:dl:cc:enabled)\\n\")\n",
    "    print(dlc.read_until(b'>', timeout=1).split()[-3].decode('utf')[1])"
   ]
  },
  {
   "cell_type": "code",
   "execution_count": 9,
   "metadata": {
    "tags": []
   },
   "outputs": [
    {
     "output_type": "stream",
     "name": "stdout",
     "text": "b\" (param-set! 'laser1:dl:cc:enabled #t)\\r\\n\"\n"
    }
   ],
   "source": [
    "# Turn laser on\n",
    "with Telnet(host='140.247.189.205', port=1998) as dlc:\n",
    "    dlc.read_until(b'>', timeout=1)\n",
    "    dlc.write(b\"(param-set! 'laser1:dl:cc:enabled #t)\\n\")\n",
    "    print(dlc.read_until(b'>', timeout=1))"
   ]
  },
  {
   "cell_type": "code",
   "execution_count": 2,
   "metadata": {
    "tags": []
   },
   "outputs": [
    {
     "output_type": "stream",
     "name": "stdout",
     "text": "69.85\n"
    }
   ],
   "source": [
    "# Check status of piezo voltage\n",
    "with Telnet(host='140.247.189.205', port=1998) as dlc:\n",
    "    dlc.read_until(b'>', timeout=1)\n",
    "    dlc.write(b\"(param-disp 'laser1:dl:pc:voltage-set)\\n\")\n",
    "    print(float(dlc.read_until(b'>', timeout=1).split()[-3]))"
   ]
  },
  {
   "cell_type": "code",
   "execution_count": 12,
   "metadata": {
    "tags": []
   },
   "outputs": [
    {
     "output_type": "stream",
     "name": "stdout",
     "text": "b\" (param-set! 'laser1:dl:pc:voltage-set 69.85)\\r\\n0\\r\\n>\"\n"
    }
   ],
   "source": [
    "# Check status of piezo voltage\n",
    "with Telnet(host='140.247.189.205', port=1998) as dlc:\n",
    "    dlc.read_until(b'>', timeout=1)\n",
    "    dlc.write(b\"(param-set! 'laser1:dl:pc:voltage-set 69.85)\\n\")\n",
    "    print(dlc.read_until(b'>', timeout=1))"
   ]
  },
  {
   "cell_type": "markdown",
   "metadata": {},
   "source": [
    "Motor stuff"
   ]
  },
  {
   "cell_type": "code",
   "execution_count": 3,
   "metadata": {
    "tags": []
   },
   "outputs": [
    {
     "output_type": "stream",
     "name": "stdout",
     "text": "b\" (param-disp 'laser1:ctl)\\r\\nError: -20 unavailable on your system\\r\\n>\"\n"
    }
   ],
   "source": [
    "# Check status of piezo voltage\n",
    "with Telnet(host='140.247.189.205', port=1998) as dlc:\n",
    "    dlc.read_until(b'>', timeout=1)\n",
    "    dlc.write(b\"(param-disp 'laser1:ctl)\\n\")\n",
    "    print(dlc.read_until(b'>', timeout=1))"
   ]
  },
  {
   "cell_type": "code",
   "execution_count": 24,
   "metadata": {},
   "outputs": [],
   "source": [
    "# Check status of piezo voltage\n",
    "with Telnet(host='140.247.189.205', port=1998) as dlc:\n",
    "    dlc.read_until(b'>', timeout=1)"
   ]
  },
  {
   "cell_type": "code",
   "execution_count": 2,
   "metadata": {},
   "outputs": [],
   "source": [
    "from pylabnet.hardware.lasers.toptica import DLC_Pro\n",
    "from pylabnet.utils.logging.logger import LogClient"
   ]
  },
  {
   "cell_type": "code",
   "execution_count": 3,
   "metadata": {},
   "outputs": [],
   "source": [
    "log = LogClient(host='140.247.189.94', port='6699', module_tag='toptica')"
   ]
  },
  {
   "cell_type": "code",
   "execution_count": 4,
   "metadata": {},
   "outputs": [],
   "source": [
    "dlc = DLC_Pro(host='140.247.189.205', logger=log)"
   ]
  },
  {
   "cell_type": "code",
   "execution_count": 5,
   "metadata": {},
   "outputs": [
    {
     "output_type": "execute_result",
     "data": {
      "text/plain": "True"
     },
     "metadata": {},
     "execution_count": 5
    }
   ],
   "source": [
    "dlc.is_laser_on()"
   ]
  },
  {
   "cell_type": "code",
   "execution_count": null,
   "metadata": {},
   "outputs": [],
   "source": []
  }
 ]
}