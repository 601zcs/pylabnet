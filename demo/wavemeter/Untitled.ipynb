{
 "cells": [
  {
   "cell_type": "code",
   "execution_count": 1,
   "metadata": {},
   "outputs": [],
   "source": [
    "# Log client\n",
    "from pylabnet.utils.logging.logger import LogClient\n",
    "\n",
    "# Hardware clients\n",
    "from pylabnet.hardware.wavemeter import high_finesse_ws7\n",
    "from pylabnet.hardware.ni_daqs import nidaqmx_card\n",
    "\n",
    "# GUI client\n",
    "from pylabnet.gui.pyqt import external_gui\n",
    "\n",
    "# Script\n",
    "from pylabnet.scripts.wlm_monitor import WlmMonitor\n",
    "\n",
    "# Pause, update servers\n",
    "from pylabnet.core.generic_server import GenericServer\n",
    "from pylabnet.scripts.parameter_update import UpdateService"
   ]
  },
  {
   "cell_type": "code",
   "execution_count": 2,
   "metadata": {},
   "outputs": [],
   "source": [
    "try:\n",
    "    wavemeter_client = high_finesse_ws7.Client(host='localhost', port=5678)\n",
    "    wavemeter_client.connect()\n",
    "except ConnectionRefusedError:\n",
    "    raise Exception('Cannot connect to wavemeter server')\n",
    "try:\n",
    "    ao_client = nidaqmx_card.Client(host='localhost', port=9912)\n",
    "    ao_client.connect()\n",
    "except ConnectionRefusedError:\n",
    "    raise Exception('Cannot connect to NI DAQmx server')\n",
    "try:\n",
    "    gui_client = external_gui.Client(host='localhost', port=9)\n",
    "    gui_client.connect()\n",
    "except ConnectionRefusedError:\n",
    "    raise Exception('Cannot connect to GUI server')"
   ]
  },
  {
   "cell_type": "code",
   "execution_count": 3,
   "metadata": {},
   "outputs": [],
   "source": [
    "# Instantiate Monitor script\n",
    "wlm_monitor = WlmMonitor(\n",
    "    wlm_client=wavemeter_client,\n",
    "    ao_clients={'cDAQ1': ao_client}\n",
    ")\n",
    "wlm_monitor.assign_gui(gui_client)"
   ]
  },
  {
   "cell_type": "code",
   "execution_count": 4,
   "metadata": {},
   "outputs": [],
   "source": [
    "# Instantiate pause+update service & connect to logger\n",
    "log_client = LogClient(\n",
    "    host='localhost',\n",
    "    port=1234,\n",
    "    module_tag='Pause & Update'\n",
    ")\n",
    "update_service = UpdateService()\n",
    "update_service.assign_module(module=wlm_monitor)\n",
    "update_service.assign_logger(logger=log_client)\n",
    "update_server = GenericServer(\n",
    "    host='localhost',\n",
    "    port=111,\n",
    "    service=update_service\n",
    ")\n",
    "update_server.start()"
   ]
  },
  {
   "cell_type": "code",
   "execution_count": 5,
   "metadata": {},
   "outputs": [],
   "source": [
    "# Set parameters\n",
    "wlm_monitor.set_parameters(\n",
    "    all_parameters=[\n",
    "        {\n",
    "            \"channel\": 1,\n",
    "            \"name\": \"Velocity - 2\",\n",
    "            'AO': {'client': 'cDAQ1', 'channel': 'ao0'},\n",
    "            'PID': {'p': 0.04, 'i': 0.001, 'd': 0},\n",
    "            'memory': 100,\n",
    "            \"voltage_monitor\": True,\n",
    "            'plot_widget': 2\n",
    "        }\n",
    "    ]\n",
    ")"
   ]
  },
  {
   "cell_type": "code",
   "execution_count": null,
   "metadata": {},
   "outputs": [
    {
     "name": "stdout",
     "output_type": "stream",
     "text": [
      "GUI disconnected\n"
     ]
    }
   ],
   "source": [
    "wlm_monitor.initialize_channels()\n",
    "wlm_monitor.gui.force_update()\n",
    "\n",
    "# Run continuously\n",
    "# Note that the actual operation inside run() can be paused using the update server\n",
    "while True:\n",
    "    if not wlm_monitor.is_paused:\n",
    "        wlm_monitor.run()"
   ]
  },
  {
   "cell_type": "code",
   "execution_count": null,
   "metadata": {},
   "outputs": [],
   "source": []
  }
 ],
 "metadata": {
  "kernelspec": {
   "display_name": "Python 3",
   "language": "python",
   "name": "python3"
  },
  "language_info": {
   "codemirror_mode": {
    "name": "ipython",
    "version": 3
   },
   "file_extension": ".py",
   "mimetype": "text/x-python",
   "name": "python",
   "nbconvert_exporter": "python",
   "pygments_lexer": "ipython3",
   "version": "3.7.4"
  }
 },
 "nbformat": 4,
 "nbformat_minor": 2
}
