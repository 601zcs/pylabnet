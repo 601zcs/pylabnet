{
 "cells": [
  {
   "cell_type": "code",
   "execution_count": 1,
   "metadata": {},
   "outputs": [],
   "source": [
    "from pylabnet.utils.logging.logger import LogService\n",
    "from pylabnet.core.generic_server import GenericServer"
   ]
  },
  {
   "cell_type": "code",
   "execution_count": 2,
   "metadata": {},
   "outputs": [],
   "source": [
    "log_service = LogService()"
   ]
  },
  {
   "cell_type": "code",
   "execution_count": 3,
   "metadata": {},
   "outputs": [],
   "source": [
    "log_server = GenericServer(\n",
    "    service=log_service, \n",
    "    host='localhost', \n",
    "    port=1234\n",
    ")"
   ]
  },
  {
   "cell_type": "code",
   "execution_count": 4,
   "metadata": {},
   "outputs": [],
   "source": [
    "log_server.start()"
   ]
  },
  {
   "cell_type": "code",
   "execution_count": 5,
   "metadata": {},
   "outputs": [
    {
     "data": {
      "text/plain": [
       "True"
      ]
     },
     "execution_count": 5,
     "metadata": {},
     "output_type": "execute_result"
    }
   ],
   "source": [
    "log_server._server.active"
   ]
  },
  {
   "cell_type": "code",
   "execution_count": 6,
   "metadata": {},
   "outputs": [
    {
     "data": {
      "text/plain": [
       "set()"
      ]
     },
     "execution_count": 6,
     "metadata": {},
     "output_type": "execute_result"
    }
   ],
   "source": [
    "log_server._server.clients"
   ]
  },
  {
   "cell_type": "code",
   "execution_count": 7,
   "metadata": {
    "scrolled": true
   },
   "outputs": [
    {
     "name": "stdout",
     "output_type": "stream",
     "text": [
      "Log messages will be displayed below\n",
      "[LOG INFO] Client connected\n",
      "[INFO] High-Finesse WS7 Wavemeter: Started logging. Level: INFO\n",
      "[INFO] High-Finesse WS7 Wavemeter: Connected to High-Finesse Wavemeter WS-7\n",
      "[INFO] High-Finesse WS7 Wavemeter: Client connected\n",
      "[INFO] High-Finesse WS7 Wavemeter: Client disconnected\n",
      "[INFO] High-Finesse WS7 Wavemeter: Client connected\n",
      "[LOG INFO] Client connected\n",
      "[INFO] Pause: Started logging. Level: INFO\n",
      "[INFO] Pause: Client connected\n",
      "[INFO] Pause: Client connected\n",
      "[LOG INFO] Client disconnected[INFO] High-Finesse WS7 Wavemeter: Client disconnected\n",
      "\n",
      "[INFO] High-Finesse WS7 Wavemeter: Client connected\n",
      "[INFO] High-Finesse WS7 Wavemeter: Client disconnected\n",
      "[INFO] High-Finesse WS7 Wavemeter: Client connected\n",
      "[LOG INFO] Client connected\n",
      "[INFO] Pause: Started logging. Level: INFO\n",
      "[INFO] Pause: Client connected\n",
      "[INFO] Pause: Client connected\n",
      "[LOG INFO] Client disconnected\n",
      "[INFO] High-Finesse WS7 Wavemeter: Client disconnected\n",
      "[INFO] High-Finesse WS7 Wavemeter: Client connected\n",
      "[INFO] High-Finesse WS7 Wavemeter: Client disconnected\n",
      "[INFO] High-Finesse WS7 Wavemeter: Client connected\n",
      "[LOG INFO] Client connected\n",
      "[INFO] Pause: Started logging. Level: INFO\n",
      "[INFO] Pause: Client connected\n",
      "[INFO] Pause: Client connected\n",
      "[LOG INFO] Client disconnected\n",
      "[INFO] High-Finesse WS7 Wavemeter: Client disconnected\n",
      "[INFO] High-Finesse WS7 Wavemeter: Client connected\n",
      "[INFO] High-Finesse WS7 Wavemeter: Client disconnected\n",
      "[INFO] High-Finesse WS7 Wavemeter: Client connected\n",
      "[LOG INFO] Client connected\n",
      "[INFO] Pause: Started logging. Level: INFO\n",
      "[INFO] Pause: Client connected\n",
      "[INFO] Pause: Client connected\n"
     ]
    }
   ],
   "source": [
    "print (\"Log messages will be displayed below\")"
   ]
  },
  {
   "cell_type": "code",
   "execution_count": null,
   "metadata": {},
   "outputs": [],
   "source": []
  }
 ],
 "metadata": {
  "kernelspec": {
   "display_name": "Python 3",
   "language": "python",
   "name": "python3"
  },
  "language_info": {
   "codemirror_mode": {
    "name": "ipython",
    "version": 3
   },
   "file_extension": ".py",
   "mimetype": "text/x-python",
   "name": "python",
   "nbconvert_exporter": "python",
   "pygments_lexer": "ipython3",
   "version": "3.7.4"
  }
 },
 "nbformat": 4,
 "nbformat_minor": 2
}
