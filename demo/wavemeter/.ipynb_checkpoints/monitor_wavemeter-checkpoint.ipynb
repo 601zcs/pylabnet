{
 "cells": [
  {
   "cell_type": "code",
   "execution_count": 1,
   "metadata": {},
   "outputs": [],
   "source": [
    "# Log client\n",
    "from pylabnet.utils.logging.logger import LogClient\n",
    "\n",
    "# Hardware clients\n",
    "from pylabnet.hardware.wavemeter.high_finesse_ws7.wavemeter import Client\n",
    "\n",
    "# Script\n",
    "from pylabnet.scripts.wlm_monitor import WlmMonitor\n",
    "\n",
    "# Pause, update servers\n",
    "from pylabnet.core.generic_server import GenericServer\n",
    "from pylabnet.scripts.pause_script import PauseService\n",
    "from pylabnet.scripts.parameter_update import UpdateService"
   ]
  },
  {
   "cell_type": "markdown",
   "metadata": {},
   "source": [
    "# Connect to devices"
   ]
  },
  {
   "cell_type": "code",
   "execution_count": 2,
   "metadata": {},
   "outputs": [
    {
     "data": {
      "text/plain": [
       "0"
      ]
     },
     "execution_count": 2,
     "metadata": {},
     "output_type": "execute_result"
    }
   ],
   "source": [
    "# Connect to Wavemeter server\n",
    "wavemeter_client = Client(host='localhost', port=5678)\n",
    "wavemeter_client.connect()"
   ]
  },
  {
   "cell_type": "code",
   "execution_count": 3,
   "metadata": {},
   "outputs": [],
   "source": [
    "# Instantiate monitor script\n",
    "wlm_monitor = WlmMonitor(wavemeter_client)"
   ]
  },
  {
   "cell_type": "markdown",
   "metadata": {},
   "source": [
    "# Start servers for remote access"
   ]
  },
  {
   "cell_type": "code",
   "execution_count": 4,
   "metadata": {},
   "outputs": [],
   "source": [
    "# Pause server\n",
    "\n",
    "# Instantiate logger\n",
    "log_client = LogClient(\n",
    "    host='localhost', \n",
    "    port=1234, \n",
    "    module_tag='Pause'\n",
    ")\n",
    "\n",
    "# Instantiate Server\n",
    "pause_service = PauseService()\n",
    "pause_service.assign_module(module=wlm_monitor)\n",
    "pause_service.assign_logger(logger=log_client)\n",
    "pause_server = GenericServer(\n",
    "    host='localhost', \n",
    "    port=7, \n",
    "    service=pause_service\n",
    ")\n",
    "\n",
    "#Start server\n",
    "pause_server.start()"
   ]
  },
  {
   "cell_type": "code",
   "execution_count": 5,
   "metadata": {},
   "outputs": [
    {
     "data": {
      "text/plain": [
       "{<socket.socket fd=1188, family=AddressFamily.AF_INET, type=SocketKind.SOCK_STREAM, proto=0, laddr=('127.0.0.1', 7), raddr=('127.0.0.1', 64840)>}"
      ]
     },
     "execution_count": 5,
     "metadata": {},
     "output_type": "execute_result"
    }
   ],
   "source": [
    "pause_server._server.clients"
   ]
  },
  {
   "cell_type": "code",
   "execution_count": 6,
   "metadata": {},
   "outputs": [],
   "source": [
    "# Update server\n",
    "update_service = UpdateService()\n",
    "update_service.assign_module(module=wlm_monitor)\n",
    "update_service.assign_logger(logger=log_client)\n",
    "update_server = GenericServer(\n",
    "    host='localhost',\n",
    "    port=897,\n",
    "    service=update_service\n",
    ")\n",
    "update_server.start()"
   ]
  },
  {
   "cell_type": "code",
   "execution_count": 7,
   "metadata": {},
   "outputs": [
    {
     "data": {
      "text/plain": [
       "{<socket.socket fd=1224, family=AddressFamily.AF_INET, type=SocketKind.SOCK_STREAM, proto=0, laddr=('127.0.0.1', 897), raddr=('127.0.0.1', 64841)>}"
      ]
     },
     "execution_count": 7,
     "metadata": {},
     "output_type": "execute_result"
    }
   ],
   "source": [
    "update_server._server.clients"
   ]
  },
  {
   "cell_type": "markdown",
   "metadata": {},
   "source": [
    "# Set parameters"
   ]
  },
  {
   "cell_type": "code",
   "execution_count": 8,
   "metadata": {},
   "outputs": [],
   "source": [
    "wlm_monitor.set_params(\n",
    "    channels=[\n",
    "        {\"channel\": 1, \"setpoint\": 407.067315, \"lock\": False}\n",
    "    ],\n",
    "    update_rate=0.2,\n",
    "    display_pts=500,\n",
    "    bin_by=20\n",
    ")"
   ]
  },
  {
   "cell_type": "markdown",
   "metadata": {},
   "source": [
    "# Monitor wavelength"
   ]
  },
  {
   "cell_type": "code",
   "execution_count": 9,
   "metadata": {
    "scrolled": false
   },
   "outputs": [
    {
     "data": {
      "application/vnd.jupyter.widget-view+json": {
       "model_id": "e29b200b433449918fe209f13aa40dd7",
       "version_major": 2,
       "version_minor": 0
      },
      "text/plain": [
       "FigureWidget({\n",
       "    'data': [{'mode': 'lines',\n",
       "              'name': 'Channel 1 Frequency',\n",
       "              'type…"
      ]
     },
     "metadata": {},
     "output_type": "display_data"
    }
   ],
   "source": [
    "wlm_monitor.run()"
   ]
  },
  {
   "cell_type": "code",
   "execution_count": null,
   "metadata": {},
   "outputs": [],
   "source": []
  }
 ],
 "metadata": {
  "kernelspec": {
   "display_name": "Python 3",
   "language": "python",
   "name": "python3"
  },
  "language_info": {
   "codemirror_mode": {
    "name": "ipython",
    "version": 3
   },
   "file_extension": ".py",
   "mimetype": "text/x-python",
   "name": "python",
   "nbconvert_exporter": "python",
   "pygments_lexer": "ipython3",
   "version": "3.7.4"
  }
 },
 "nbformat": 4,
 "nbformat_minor": 2
}
