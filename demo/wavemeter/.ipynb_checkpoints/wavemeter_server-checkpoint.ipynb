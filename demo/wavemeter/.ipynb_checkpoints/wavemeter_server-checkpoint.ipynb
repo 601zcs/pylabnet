{
 "cells": [
  {
   "cell_type": "code",
   "execution_count": 1,
   "metadata": {},
   "outputs": [],
   "source": [
    "from pylabnet.hardware.wavemeter.high_finesse_ws7 import Driver, Service\n",
    "from pylabnet.utils.logging.logger import LogClient\n",
    "from pylabnet.core.generic_server import GenericServer"
   ]
  },
  {
   "cell_type": "code",
   "execution_count": 2,
   "metadata": {},
   "outputs": [],
   "source": [
    "# Instantiate Logger\n",
    "wavemeter_logger = LogClient(\n",
    "    host='localhost', \n",
    "    port=1234, \n",
    "    module_tag='High-Finesse WS7 Wavemeter'\n",
    ")"
   ]
  },
  {
   "cell_type": "code",
   "execution_count": 3,
   "metadata": {},
   "outputs": [],
   "source": [
    "# Instantiate Wavemeter object\n",
    "hf_wlm = Driver(logger=wavemeter_logger)"
   ]
  },
  {
   "cell_type": "code",
   "execution_count": 4,
   "metadata": {},
   "outputs": [],
   "source": [
    "# Instantiate Server\n",
    "wavemeter_service = Service()\n",
    "wavemeter_service.assign_module(module=hf_wlm)\n",
    "wavemeter_service.assign_logger(logger=wavemeter_logger)\n",
    "wavemeter_server = GenericServer(\n",
    "    service=wavemeter_service, \n",
    "    host='localhost', \n",
    "    port=5678\n",
    ")"
   ]
  },
  {
   "cell_type": "code",
   "execution_count": 5,
   "metadata": {},
   "outputs": [],
   "source": [
    "wavemeter_server.start()"
   ]
  },
  {
   "cell_type": "code",
   "execution_count": 6,
   "metadata": {
    "scrolled": true
   },
   "outputs": [
    {
     "data": {
      "text/plain": [
       "set()"
      ]
     },
     "execution_count": 6,
     "metadata": {},
     "output_type": "execute_result"
    }
   ],
   "source": [
    "wavemeter_server._server.clients"
   ]
  },
  {
   "cell_type": "code",
   "execution_count": null,
   "metadata": {},
   "outputs": [],
   "source": []
  }
 ],
 "metadata": {
  "kernelspec": {
   "display_name": "Python 3",
   "language": "python",
   "name": "python3"
  },
  "language_info": {
   "codemirror_mode": {
    "name": "ipython",
    "version": 3
   },
   "file_extension": ".py",
   "mimetype": "text/x-python",
   "name": "python",
   "nbconvert_exporter": "python",
   "pygments_lexer": "ipython3",
   "version": "3.7.4"
  }
 },
 "nbformat": 4,
 "nbformat_minor": 2
}
