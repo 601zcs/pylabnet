{
 "cells": [
  {
   "cell_type": "code",
   "execution_count": 1,
   "metadata": {},
   "outputs": [],
   "source": [
    "# Log client\n",
    "from pylabnet.utils.logging.logger import LogClient\n",
    "\n",
    "# Hardware clients\n",
    "from pylabnet.hardware.wavemeter import high_finesse_ws7\n",
    "\n",
    "# GUI client\n",
    "from pylabnet.gui.pyqt import gui_graph\n",
    "\n",
    "# Script\n",
    "from pylabnet.scripts.wlm_monitor import WlmMonitor\n",
    "\n",
    "# Pause, update servers\n",
    "from pylabnet.core.generic_server import GenericServer\n",
    "from pylabnet.scripts.pause_script import PauseService\n",
    "from pylabnet.scripts.parameter_update import UpdateService"
   ]
  },
  {
   "cell_type": "markdown",
   "metadata": {},
   "source": [
    "# Connect to devices"
   ]
  },
  {
   "cell_type": "code",
   "execution_count": 2,
   "metadata": {},
   "outputs": [
    {
     "data": {
      "text/plain": [
       "0"
      ]
     },
     "execution_count": 2,
     "metadata": {},
     "output_type": "execute_result"
    }
   ],
   "source": [
    "# Connect to Wavemeter server\n",
    "wavemeter_client = high_finesse_ws7.Client(host='localhost', port=5678)\n",
    "wavemeter_client.connect()"
   ]
  },
  {
   "cell_type": "code",
   "execution_count": 3,
   "metadata": {},
   "outputs": [],
   "source": [
    "# Instantiate monitor script\n",
    "wlm_monitor = WlmMonitor(wavemeter_client)"
   ]
  },
  {
   "cell_type": "markdown",
   "metadata": {},
   "source": [
    "# Start servers for remote access"
   ]
  },
  {
   "cell_type": "code",
   "execution_count": 4,
   "metadata": {},
   "outputs": [],
   "source": [
    "# Pause server\n",
    "\n",
    "# Instantiate logger\n",
    "log_client = LogClient(\n",
    "    host='localhost', \n",
    "    port=1234, \n",
    "    module_tag='Pause'\n",
    ")\n",
    "\n",
    "# Instantiate Server\n",
    "pause_service = PauseService()\n",
    "pause_service.assign_module(module=wlm_monitor)\n",
    "pause_service.assign_logger(logger=log_client)\n",
    "pause_server = GenericServer(\n",
    "    host='localhost', \n",
    "    port=7, \n",
    "    service=pause_service\n",
    ")\n",
    "\n",
    "#Start server\n",
    "pause_server.start()\n",
    "\n",
    "# Update server\n",
    "update_service = UpdateService()\n",
    "update_service.assign_module(module=wlm_monitor)\n",
    "update_service.assign_logger(logger=log_client)\n",
    "update_server = GenericServer(\n",
    "    host='localhost',\n",
    "    port=897,\n",
    "    service=update_service\n",
    ")\n",
    "update_server.start()"
   ]
  },
  {
   "cell_type": "markdown",
   "metadata": {},
   "source": [
    "## Check external connections"
   ]
  },
  {
   "cell_type": "code",
   "execution_count": 5,
   "metadata": {},
   "outputs": [
    {
     "name": "stdout",
     "output_type": "stream",
     "text": [
      "Pause server clients: {<socket.socket fd=1556, family=AddressFamily.AF_INET, type=SocketKind.SOCK_STREAM, proto=0, laddr=('127.0.0.1', 7), raddr=('127.0.0.1', 52355)>}\n",
      "Update server clients: {<socket.socket fd=1360, family=AddressFamily.AF_INET, type=SocketKind.SOCK_STREAM, proto=0, laddr=('127.0.0.1', 897), raddr=('127.0.0.1', 52356)>}\n"
     ]
    }
   ],
   "source": [
    "print(\"Pause server clients: \"+str(pause_server._server.clients))\n",
    "print(\"Update server clients: \"+str(update_server._server.clients))"
   ]
  },
  {
   "cell_type": "markdown",
   "metadata": {},
   "source": [
    "# GUI"
   ]
  },
  {
   "cell_type": "code",
   "execution_count": 6,
   "metadata": {},
   "outputs": [
    {
     "data": {
      "text/plain": [
       "0"
      ]
     },
     "execution_count": 6,
     "metadata": {},
     "output_type": "execute_result"
    }
   ],
   "source": [
    "# Instantiate GUI client\n",
    "gui_client = gui_graph.Client(host='localhost', port=9)\n",
    "gui_client.connect()"
   ]
  },
  {
   "cell_type": "markdown",
   "metadata": {},
   "source": [
    "# Set parameters"
   ]
  },
  {
   "cell_type": "code",
   "execution_count": 11,
   "metadata": {},
   "outputs": [],
   "source": [
    "wlm_monitor.set_params(\n",
    "    channels=[\n",
    "        {\"channel\": 8, \n",
    "         \"setpoint\": None, \n",
    "         \"lock\": False\n",
    "        }\n",
    "    ],\n",
    "    gui=gui_client,\n",
    "    update_rate=0.01,\n",
    "    display_pts=1000,\n",
    "    bin_by=2\n",
    ")"
   ]
  },
  {
   "cell_type": "markdown",
   "metadata": {},
   "source": [
    "# Monitor wavelength"
   ]
  },
  {
   "cell_type": "code",
   "execution_count": 12,
   "metadata": {
    "scrolled": false
   },
   "outputs": [],
   "source": [
    "wlm_monitor.run()"
   ]
  },
  {
   "cell_type": "code",
   "execution_count": null,
   "metadata": {},
   "outputs": [],
   "source": []
  }
 ],
 "metadata": {
  "kernelspec": {
   "display_name": "Python 3",
   "language": "python",
   "name": "python3"
  },
  "language_info": {
   "codemirror_mode": {
    "name": "ipython",
    "version": 3
   },
   "file_extension": ".py",
   "mimetype": "text/x-python",
   "name": "python",
   "nbconvert_exporter": "python",
   "pygments_lexer": "ipython3",
   "version": "3.7.4"
  }
 },
 "nbformat": 4,
 "nbformat_minor": 2
}
