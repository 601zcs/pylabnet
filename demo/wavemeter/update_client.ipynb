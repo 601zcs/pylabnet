{
 "cells": [
  {
   "cell_type": "code",
   "execution_count": 1,
   "metadata": {},
   "outputs": [],
   "source": [
    "from pylabnet.scripts.wavemeter.wlm_monitor import Client\n",
    "import numpy as np\n",
    "import time"
   ]
  },
  {
   "cell_type": "code",
   "execution_count": 4,
   "metadata": {},
   "outputs": [],
   "source": [
    "update_client = Client(host='140.247.189.125', port=6698)"
   ]
  },
  {
   "cell_type": "markdown",
   "metadata": {},
   "source": [
    "# Pause"
   ]
  },
  {
   "cell_type": "code",
   "execution_count": 244,
   "metadata": {},
   "outputs": [],
   "source": [
    "update_client.pause()"
   ]
  },
  {
   "cell_type": "code",
   "execution_count": 245,
   "metadata": {},
   "outputs": [],
   "source": [
    "update_client.resume()"
   ]
  },
  {
   "cell_type": "markdown",
   "metadata": {},
   "source": [
    "# Reconnect to GUI"
   ]
  },
  {
   "cell_type": "code",
   "execution_count": 49,
   "metadata": {},
   "outputs": [],
   "source": [
    "update_client.reconnect_gui()"
   ]
  },
  {
   "cell_type": "markdown",
   "metadata": {},
   "source": [
    "# Update parameters"
   ]
  },
  {
   "cell_type": "code",
   "execution_count": 6,
   "metadata": {},
   "outputs": [],
   "source": [
    "update_client.update_parameters([\n",
    "    {'channel':1, 'setpoint': 406.695}\n",
    "])"
   ]
  },
  {
   "cell_type": "code",
   "execution_count": 31,
   "metadata": {},
   "outputs": [],
   "source": [
    "update_client.clear_channel(1)"
   ]
  },
  {
   "cell_type": "code",
   "execution_count": 8,
   "metadata": {},
   "outputs": [],
   "source": [
    "update_client.update_parameters([\n",
    "    {'channel':1, 'PID':{'p': 0.05, 'i': 0.01, 'd':0}}\n",
    "])"
   ]
  },
  {
   "cell_type": "code",
   "execution_count": 9,
   "metadata": {},
   "outputs": [],
   "source": [
    "update_client.update_parameters([\n",
    "    {'channel':1, 'lock': False}\n",
    "])"
   ]
  },
  {
   "cell_type": "code",
   "execution_count": 7,
   "metadata": {},
   "outputs": [],
   "source": [
    "update_client.zero_voltage(channel=1)"
   ]
  },
  {
   "cell_type": "code",
   "execution_count": 8,
   "metadata": {},
   "outputs": [],
   "source": [
    "import numpy as np\n",
    "import time"
   ]
  },
  {
   "cell_type": "code",
   "execution_count": 42,
   "metadata": {},
   "outputs": [
    {
     "data": {
      "text/plain": [
       "{'_host': 'localhost',\n",
       " '_port': 897,\n",
       " '_connection': <rpyc.core.protocol.Connection 'conn9' object at 0x000001D5166D69C8>,\n",
       " '_service': <pylabnet.scripts.wlm_monitor.Service object at 0x000002AC380FBD48>}"
      ]
     },
     "execution_count": 42,
     "metadata": {},
     "output_type": "execute_result"
    }
   ],
   "source": [
    "vars(update_client)"
   ]
  },
  {
   "cell_type": "code",
   "execution_count": 8,
   "metadata": {
    "scrolled": true
   },
   "outputs": [],
   "source": [
    "for frequency in np.linspace(406.652240, 406.652340, 100):\n",
    "    update_client.update_parameters([\n",
    "        {'channel':1, 'setpoint':frequency}\n",
    "    ])\n",
    "    time.sleep(0.5)\n",
    "    \n"
   ]
  },
  {
   "cell_type": "code",
   "execution_count": 10,
   "metadata": {},
   "outputs": [
    {
     "data": {
      "text/plain": [
       "array([406.65234   , 406.65242469, 406.65243007, 406.65235111,\n",
       "       406.65226174, 406.65224566, 406.65231793, 406.65241086,\n",
       "       406.65243744, 406.65237277, 406.65227741, 406.65224067,\n",
       "       406.65229694, 406.65239354, 406.65244   , 406.65239282,\n",
       "       406.65229617, 406.65224057, 406.65227808, 406.65237357,\n",
       "       406.65243763, 406.65241026, 406.6523171 , 406.65224538,\n",
       "       406.65226227, 406.65235195, 406.65243044, 406.65242423,\n",
       "       406.65233915, 406.65225486, 406.6522503 , 406.65232974,\n",
       "       406.65241878, 406.65243405, 406.65236125, 406.65226854,\n",
       "       406.65224276, 406.65230803, 406.65240325, 406.65243923,\n",
       "       406.65238229, 406.65228575, 406.65224001, 406.65228791,\n",
       "       406.65238459, 406.65243951, 406.65240125, 406.65230563,\n",
       "       406.65224219, 406.65227035, 406.65236373, 406.65243489,\n",
       "       406.65241719, 406.65232721, 406.6522492 , 406.65225623,\n",
       "       406.6523417 , 406.65242558, 406.65242932, 406.65234942,\n",
       "       406.65226069, 406.65224624, 406.65231959, 406.65241205,\n",
       "       406.65243704, 406.65237116, 406.6522761 , 406.65224088,\n",
       "       406.65229848, 406.65239496, 406.65243998, 406.65239137,\n",
       "       406.65229465, 406.65224041, 406.65227942, 406.65237517,\n",
       "       406.65243798, 406.65240904, 406.65231545, 406.65224485,\n",
       "       406.65226335, 406.65235363, 406.65243115, 406.65242331,\n",
       "       406.65233745, 406.65225398, 406.65225107, 406.65233143,\n",
       "       406.65241982, 406.65243346, 406.65235958, 406.65226736,\n",
       "       406.65224317, 406.65230965, 406.65240455, 406.65243901,\n",
       "       406.65238075, 406.65228433, 406.65224004, 406.65228936])"
      ]
     },
     "execution_count": 10,
     "metadata": {},
     "output_type": "execute_result"
    }
   ],
   "source": [
    "np.sin(np.linspace(0, 100, 100))*0.0001 + 406.652340"
   ]
  },
  {
   "cell_type": "code",
   "execution_count": 14,
   "metadata": {},
   "outputs": [],
   "source": [
    "for frequency in (np.sin(np.linspace(0, 10, 100))*0.0001 + 406.652340):\n",
    "    update_client.update_parameters([\n",
    "        {'channel':1, 'setpoint':frequency}\n",
    "    ])\n",
    "    time.sleep(0.5)\n",
    "    "
   ]
  },
  {
   "cell_type": "code",
   "execution_count": null,
   "metadata": {},
   "outputs": [],
   "source": []
  }
 ],
 "metadata": {
  "kernelspec": {
   "display_name": "Python 3",
   "language": "python",
   "name": "python3"
  },
  "language_info": {
   "codemirror_mode": {
    "name": "ipython",
    "version": 3
   },
   "file_extension": ".py",
   "mimetype": "text/x-python",
   "name": "python",
   "nbconvert_exporter": "python",
   "pygments_lexer": "ipython3",
   "version": "3.7.4"
  }
 },
 "nbformat": 4,
 "nbformat_minor": 2
}
