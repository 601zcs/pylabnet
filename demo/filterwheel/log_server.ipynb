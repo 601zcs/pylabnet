{
 "cells": [
  {
   "cell_type": "code",
   "execution_count": 1,
   "metadata": {},
   "outputs": [],
   "source": [
    "from pylabnet.utils.logging.logger import LogService\n",
    "from pylabnet.core.generic_server import GenericServer"
   ]
  },
  {
   "cell_type": "markdown",
   "metadata": {},
   "source": [
    "# Start Logging Server"
   ]
  },
  {
   "cell_type": "code",
   "execution_count": 2,
   "metadata": {},
   "outputs": [],
   "source": [
    "log_service = LogService()"
   ]
  },
  {
   "cell_type": "code",
   "execution_count": 3,
   "metadata": {},
   "outputs": [],
   "source": [
    "log_server = GenericServer(\n",
    "    service=log_service, \n",
    "    host='localhost', \n",
    "    port=1239\n",
    ")"
   ]
  },
  {
   "cell_type": "code",
   "execution_count": 4,
   "metadata": {},
   "outputs": [],
   "source": [
    "log_server.start()"
   ]
  },
  {
   "cell_type": "code",
   "execution_count": 5,
   "metadata": {},
   "outputs": [
    {
     "data": {
      "text/plain": [
       "True"
      ]
     },
     "execution_count": 5,
     "metadata": {},
     "output_type": "execute_result"
    }
   ],
   "source": [
    "log_server._server.active"
   ]
  },
  {
   "cell_type": "markdown",
   "metadata": {},
   "source": [
    "# Monitor Clients and Logging Output"
   ]
  },
  {
   "cell_type": "code",
   "execution_count": 6,
   "metadata": {},
   "outputs": [
    {
     "data": {
      "text/plain": [
       "set()"
      ]
     },
     "execution_count": 6,
     "metadata": {},
     "output_type": "execute_result"
    }
   ],
   "source": [
    "log_server._server.clients"
   ]
  },
  {
   "cell_type": "code",
   "execution_count": 7,
   "metadata": {},
   "outputs": [
    {
     "name": "stdout",
     "output_type": "stream",
     "text": [
      "Log messages will be displayed below\n",
      "[LOG INFO] Client connected\n",
      "[INFO] Filterwheel Log Server: Started logging. Level: INFO\n",
      "[INFO] Filterwheel Log Server: THORLABS FW102C/FW212C Filter Wheel version 1.06\n",
      "[INFO] Filterwheel Log Server: position=6\n",
      "[INFO] Filterwheel Log Server: pcount=6\n",
      "[INFO] Filterwheel Log Server: trig=0\n",
      "[INFO] Filterwheel Log Server: speed= 1\n",
      "[INFO] Filterwheel Log Server: sensors=0\n",
      "[INFO] Filterwheel Log Server: baud= 115200\n",
      "[LOG INFO] Client disconnected\n",
      "[LOG INFO] Client connected\n",
      "[INFO] Filterwheel Log Server: Started logging. Level: INFO\n",
      "[INFO] Filterwheel Log Server: THORLABS FW102C/FW212C Filter Wheel version 1.06\n",
      "[INFO] Filterwheel Log Server: position=6\n",
      "[INFO] Filterwheel Log Server: pcount=6\n",
      "[INFO] Filterwheel Log Server: trig=0\n",
      "[INFO] Filterwheel Log Server: speed= 1\n",
      "[INFO] Filterwheel Log Server: sensors=0\n",
      "[INFO] Filterwheel Log Server: baud= 115200\n",
      "[LOG INFO] Client disconnected\n",
      "[LOG INFO] Client connected\n",
      "[INFO] Filterwheel Log Server: Started logging. Level: INFO\n",
      "[INFO] Filterwheel Log Server: THORLABS FW102C/FW212C Filter Wheel version 1.06\n",
      "[INFO] Filterwheel Log Server: position=3\n",
      "[INFO] Filterwheel Log Server: pcount=6\n",
      "[INFO] Filterwheel Log Server: trig=0\n",
      "[INFO] Filterwheel Log Server: speed= 1\n",
      "[INFO] Filterwheel Log Server: sensors=0\n",
      "[INFO] Filterwheel Log Server: baud= 115200\n",
      "[ERROR] Filterwheel Log Server: Filterwheel Filterwheel 1 connection successfully\n",
      "[LOG INFO] Client disconnected\n",
      "[LOG INFO] Client connected\n",
      "[INFO] Filterwheel Log Server: Started logging. Level: INFO\n",
      "[INFO] Filterwheel Log Server: THORLABS FW102C/FW212C Filter Wheel version 1.06\n",
      "[INFO] Filterwheel Log Server: position=1\n",
      "[INFO] Filterwheel Log Server: pcount=6\n",
      "[INFO] Filterwheel Log Server: trig=0\n",
      "[INFO] Filterwheel Log Server: speed= 1\n",
      "[INFO] Filterwheel Log Server: sensors=0\n",
      "[INFO] Filterwheel Log Server: baud= 115200\n",
      "[ERROR] Filterwheel Log Server: Filterwheel Filterwheel 1 connection successfully\n",
      "[INFO] Filterwheel Log Server: New pos 1 \n",
      "[INFO] Filterwheel Log Server: Filterwheel Filterwheel 1 changing to position failed\n",
      "[INFO] Filterwheel Log Server: New pos 1 \n",
      "[INFO] Filterwheel Log Server: Filterwheel Filterwheel 1 changing to position failed\n",
      "[INFO] Filterwheel Log Server: New pos 6 \n",
      "[INFO] Filterwheel Log Server: Filterwheel Filterwheel 1 changing to position failed\n",
      "[LOG INFO] Client disconnected\n",
      "[LOG INFO] Client connected\n",
      "[INFO] Filterwheel Log Server: Started logging. Level: INFO\n",
      "[INFO] Filterwheel Log Server: THORLABS FW102C/FW212C Filter Wheel version 1.06\n",
      "[INFO] Filterwheel Log Server: position=6\n",
      "[INFO] Filterwheel Log Server: pcount=6\n",
      "[INFO] Filterwheel Log Server: trig=0\n",
      "[INFO] Filterwheel Log Server: speed= 1\n",
      "[INFO] Filterwheel Log Server: sensors=0\n",
      "[INFO] Filterwheel Log Server: baud= 115200\n",
      "[ERROR] Filterwheel Log Server: Filterwheel Filterwheel 1 connection successfully\n",
      "[INFO] Filterwheel Log Server: New pos 4 \n",
      "[INFO] Filterwheel Log Server: Filterwheel Filterwheel 1 changed to position 4 ()\n",
      "[LOG INFO] Client disconnected\n",
      "[LOG INFO] Client connected\n",
      "[INFO] Filterwheel Log Server: Started logging. Level: INFO\n",
      "[INFO] Filterwheel Log Server: THORLABS FW102C/FW212C Filter Wheel version 1.06\n",
      "[INFO] Filterwheel Log Server: position=4\n",
      "[INFO] Filterwheel Log Server: pcount=6\n",
      "[INFO] Filterwheel Log Server: trig=0\n",
      "[INFO] Filterwheel Log Server: speed= 1\n",
      "[INFO] Filterwheel Log Server: sensors=0\n",
      "[INFO] Filterwheel Log Server: baud= 115200\n",
      "[ERROR] Filterwheel Log Server: Filterwheel Filterwheel 1 connection successfully\n",
      "[INFO] Filterwheel Log Server: Filterwheel Filterwheel 1 changed to position 4 ()\n",
      "[LOG INFO] Client disconnected\n",
      "[LOG INFO] Client connected\n",
      "[INFO] Filterwheel Log Server: Started logging. Level: INFO\n",
      "[INFO] Filterwheel Log Server: THORLABS FW102C/FW212C Filter Wheel version 1.06\n",
      "[INFO] Filterwheel Log Server: position=4\n",
      "[INFO] Filterwheel Log Server: pcount=6\n",
      "[INFO] Filterwheel Log Server: trig=0\n",
      "[INFO] Filterwheel Log Server: speed= 1\n",
      "[INFO] Filterwheel Log Server: sensors=0\n",
      "[INFO] Filterwheel Log Server: baud= 115200\n",
      "[ERROR] Filterwheel Log Server: Filterwheel Filterwheel 1 connection successfully\n",
      "[INFO] Filterwheel Log Server: Filterwheel Filterwheel 1 changed to position 1 (filter)\n",
      "[LOG INFO] Client disconnected\n",
      "[LOG INFO] Client connected\n",
      "[INFO] Filterwheel Log Server: Started logging. Level: INFO\n",
      "[INFO] Filterwheel Log Server: THORLABS FW102C/FW212C Filter Wheel version 1.06\n",
      "[INFO] Filterwheel Log Server: position=1\n",
      "[INFO] Filterwheel Log Server: pcount=6\n",
      "[INFO] Filterwheel Log Server: trig=0\n",
      "[INFO] Filterwheel Log Server: speed= 1\n",
      "[INFO] Filterwheel Log Server: sensors=0\n",
      "[INFO] Filterwheel Log Server: baud= 115200\n",
      "[INFO] Filterwheel Log Server: Filterwheel Filterwheel 1 connection successfully\n"
     ]
    }
   ],
   "source": [
    "print (\"Log messages will be displayed below\")"
   ]
  },
  {
   "cell_type": "code",
   "execution_count": null,
   "metadata": {},
   "outputs": [],
   "source": []
  }
 ],
 "metadata": {
  "kernelspec": {
   "display_name": "Python 3",
   "language": "python",
   "name": "python3"
  },
  "language_info": {
   "codemirror_mode": {
    "name": "ipython",
    "version": 3
   },
   "file_extension": ".py",
   "mimetype": "text/x-python",
   "name": "python",
   "nbconvert_exporter": "python",
   "pygments_lexer": "ipython3",
   "version": "3.7.4"
  }
 },
 "nbformat": 4,
 "nbformat_minor": 2
}
