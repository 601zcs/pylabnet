{
 "metadata": {
  "language_info": {
   "codemirror_mode": {
    "name": "ipython",
    "version": 3
   },
   "file_extension": ".py",
   "mimetype": "text/x-python",
   "name": "python",
   "nbconvert_exporter": "python",
   "pygments_lexer": "ipython3",
   "version": "3.8.2-final"
  },
  "orig_nbformat": 2,
  "kernelspec": {
   "name": "python38264bit163eab01a7b945e3aad1bbef7d8cb1f4",
   "display_name": "Python 3.8.2 64-bit"
  }
 },
 "nbformat": 4,
 "nbformat_minor": 2,
 "cells": [
  {
   "cell_type": "code",
   "execution_count": 1,
   "metadata": {},
   "outputs": [],
   "source": [
    "%matplotlib inline\n",
    "import numpy as np\n",
    "\n",
    "import matplotlib.pyplot as plt\n",
    "\n",
    "from pylabnet.network.core.generic_server import GenericServer \n",
    "from pylabnet.utils.logging.logger import LogService, LogClient"
   ]
  },
  {
   "cell_type": "code",
   "execution_count": 2,
   "metadata": {
    "tags": []
   },
   "outputs": [],
   "source": [
    "try:\n",
    "    log_server.stop()\n",
    "except NameError:\n",
    "    pass\n",
    "\n",
    "log_service = LogService(\n",
    "    log_output=True,\n",
    "    name=\"output\",\n",
    "    dir_path=\"C:/Users/Qi/Desktop/\"\n",
    ")\n",
    "\n",
    "log_server = GenericServer(\n",
    "    service=log_service, \n",
    "    host='localhost',\n",
    "    port=5520\n",
    ")\n",
    "\n",
    "log_server.start()"
   ]
  },
  {
   "cell_type": "code",
   "execution_count": 3,
   "metadata": {
    "tags": []
   },
   "outputs": [
    {
     "output_type": "stream",
     "name": "stdout",
     "text": "2020-09-23 18:44:22,783 - INFO - Client connected\n2020-09-23 18:44:22,790 - INFO -  random: Started logging\n"
    }
   ],
   "source": [
    "log_client = LogClient(\n",
    "    host='localhost', \n",
    "    port=5520, \n",
    "    module_tag='random')"
   ]
  },
  {
   "cell_type": "code",
   "execution_count": 4,
   "metadata": {
    "tags": []
   },
   "outputs": [],
   "source": [
    "from pylabnet.network.core.service_base import ServiceBase\n",
    "from pylabnet.network.core.client_base import ClientBase\n",
    "\n",
    "class AbstractDriver:\n",
    "    \"\"\"\n",
    "    Handles the \"device\" functions. This is directly interfaced by the device server.\n",
    "    \"\"\"\n",
    "\n",
    "    def __init__(self, logger, init_value):\n",
    "        self.logger = logger\n",
    "        self.value = init_value\n",
    "\n",
    "    def function(self):\n",
    "        self.value *= 2\n",
    "        self.logger.info(f\"The value is now {self.value}\")\n",
    "\n",
    "class AbstractService(ServiceBase):\n",
    "    \"\"\"\n",
    "    Interfaces with the device by directly calling the device driver functions. Listens for commands from clients that use the exposed wrapper functions.\n",
    "    \"\"\"\n",
    "    def exposed_function(self):\n",
    "        \"\"\"\n",
    "        Wrapper function that clients call. This then goes on to call the driver function that connects to the device. \"\"\"\n",
    "        return self._module.function()\n",
    "\n",
    "class AbstractClient(ClientBase):\n",
    "    \"\"\"\n",
    "    Connects to the device server. Gives commands by calling the wrapper functions that are exposed by the server, so it does not have direct access to the driver functions.\n",
    "    \"\"\"\n",
    "    def function(self):\n",
    "        \"\"\"\n",
    "        Function for client users to call. This calls a wrapper function exposed by the server which is itself also a wrapper for the driver.\n",
    "        \"\"\"\n",
    "        return self._service.exposed_function()\n"
   ]
  },
  {
   "cell_type": "code",
   "execution_count": 5,
   "metadata": {},
   "outputs": [],
   "source": [
    "# Driver sets up the device state\n",
    "abstract_driver = AbstractDriver(logger=log_client, init_value=2)\n",
    "\n",
    "# Service will hold the device driver and will be hosted by the device server\n",
    "abstract_service = AbstractService()\n",
    "abstract_service.assign_module(module=abstract_driver)\n",
    "abstract_service.assign_logger(logger=log_client)"
   ]
  },
  {
   "cell_type": "code",
   "execution_count": 6,
   "metadata": {},
   "outputs": [],
   "source": [
    "try:\n",
    "    abstract_server.stop()\n",
    "except NameError:\n",
    "    pass\n",
    "\n",
    "abstract_server = GenericServer(\n",
    "    service=abstract_service, \n",
    "    host='localhost',\n",
    "    port=1234\n",
    ")\n",
    "abstract_server.start()"
   ]
  },
  {
   "cell_type": "code",
   "execution_count": 7,
   "metadata": {
    "tags": []
   },
   "outputs": [
    {
     "output_type": "stream",
     "name": "stdout",
     "text": "2020-09-23 18:46:18,510 - INFO -  random: Client connected\n2020-09-23 18:46:18,514 - INFO -  random: The value is now 4\n"
    }
   ],
   "source": [
    "abstract_client = AbstractClient(\n",
    "    host='localhost',\n",
    "    port=1234\n",
    ")\n",
    "abstract_client.function()"
   ]
  },
  {
   "cell_type": "code",
   "execution_count": 8,
   "metadata": {
    "tags": []
   },
   "outputs": [
    {
     "output_type": "stream",
     "name": "stdout",
     "text": "2020-09-23 18:46:25,616 - INFO -  random: The value is now 8\n"
    }
   ],
   "source": [
    "abstract_client.function()"
   ]
  },
  {
   "cell_type": "code",
   "execution_count": 9,
   "metadata": {
    "tags": []
   },
   "outputs": [
    {
     "output_type": "stream",
     "name": "stdout",
     "text": "2020-09-23 18:46:31,997 - INFO -  random: The value is now 16\n2020-09-23 18:46:32,001 - INFO -  random: The value is now 32\n2020-09-23 18:46:32,005 - INFO -  random: The value is now 64\n2020-09-23 18:46:32,009 - INFO -  random: The value is now 128\n"
    }
   ],
   "source": [
    "abstract_client.function()\n",
    "abstract_client.function()\n",
    "abstract_client.function()\n",
    "abstract_client.function()"
   ]
  },
  {
   "cell_type": "code",
   "execution_count": 12,
   "metadata": {},
   "outputs": [],
   "source": [
    "abstract_server.stop()\n",
    "log_server.stop()"
   ]
  }
 ]
}