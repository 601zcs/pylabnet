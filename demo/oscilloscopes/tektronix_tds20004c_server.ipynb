{
 "cells": [
  {
   "cell_type": "code",
   "execution_count": 1,
   "source": [
    "%matplotlib inline\r\n",
    "import numpy as np\r\n",
    "\r\n",
    "import matplotlib.pyplot as plt\r\n",
    "\r\n",
    "import pyvisa\r\n",
    "from pylabnet.utils.logging.logger import LogClient\r\n",
    "from pylabnet.network.core.generic_server import GenericServer\r\n",
    "\r\n",
    "from pyvisa import VisaIOError, ResourceManager\r\n",
    "\r\n",
    "from pylabnet.hardware.oscilloscopes.tektronix_tds2004C import Driver\r\n",
    "from pylabnet.network.client_server.tektronix_tds2004C import Service"
   ],
   "outputs": [],
   "metadata": {}
  },
  {
   "cell_type": "markdown",
   "source": [
    "# Connect to Log Server"
   ],
   "metadata": {}
  },
  {
   "cell_type": "code",
   "execution_count": 3,
   "source": [
    "# Instantiate\r\n",
    "logger = LogClient(\r\n",
    "    host='192.168.50.111',\r\n",
    "    port=22217,\r\n",
    "    module_tag='Scope'\r\n",
    ")"
   ],
   "outputs": [],
   "metadata": {}
  },
  {
   "cell_type": "markdown",
   "source": [
    "# Connect to Tektronix TDS 2004C"
   ],
   "metadata": {}
  },
  {
   "cell_type": "markdown",
   "source": [
    "The scope is connected via USB to the PC. "
   ],
   "metadata": {}
  },
  {
   "cell_type": "code",
   "execution_count": 4,
   "source": [
    "# List all connected VISA ressources.\r\n",
    "rm = pyvisa.ResourceManager()\r\n",
    "rm.list_resources()"
   ],
   "outputs": [
    {
     "output_type": "execute_result",
     "data": {
      "text/plain": [
       "('USB0::0x0699::0x03A2::C013186::INSTR',\n",
       " 'TCPIP0::140.247.189.103::inst0::INSTR',\n",
       " 'TCPIP0::140.247.189.152::inst0::INSTR',\n",
       " 'GPIB0::18::INSTR')"
      ]
     },
     "metadata": {},
     "execution_count": 4
    }
   ],
   "metadata": {}
  },
  {
   "cell_type": "code",
   "execution_count": 5,
   "source": [
    "# Choose ID corresponding to the scope.\r\n",
    "gpib_address = 'USB0::0x0699::0x03A2::C013186::INSTR'"
   ],
   "outputs": [],
   "metadata": {}
  },
  {
   "cell_type": "code",
   "execution_count": 6,
   "source": [
    "# Instanciate driver. \n",
    "# If this doesn't work, go to the scope menu 'Utility', 'Options', 'GPIB Setup', and change \n",
    "# the GPIB address.\n",
    "scope = Driver(\n",
    "    gpib_address=gpib_address,\n",
    "    logger=logger\n",
    ")"
   ],
   "outputs": [],
   "metadata": {}
  },
  {
   "cell_type": "markdown",
   "source": [
    "# Start up server"
   ],
   "metadata": {}
  },
  {
   "cell_type": "code",
   "execution_count": 7,
   "source": [
    "# Spectrum analyzer server\n",
    "scope_service = Service()\n",
    "scope_service.assign_module(module=scope)\n",
    "scope_service.assign_logger(logger=None)\n",
    "scope_service_server = GenericServer(\n",
    "    service=scope_service, \n",
    "    host='localhost',\n",
    "    port=60493\n",
    ")"
   ],
   "outputs": [],
   "metadata": {}
  },
  {
   "cell_type": "code",
   "execution_count": 8,
   "source": [
    "# Start Server\n",
    "scope_service_server.start()"
   ],
   "outputs": [],
   "metadata": {}
  },
  {
   "cell_type": "code",
   "execution_count": null,
   "source": [],
   "outputs": [],
   "metadata": {}
  }
 ],
 "metadata": {
  "kernelspec": {
   "name": "python3",
   "display_name": "Python 3.8.8 64-bit ('env': venv)"
  },
  "language_info": {
   "codemirror_mode": {
    "name": "ipython",
    "version": 3
   },
   "file_extension": ".py",
   "mimetype": "text/x-python",
   "name": "python",
   "nbconvert_exporter": "python",
   "pygments_lexer": "ipython3",
   "version": "3.8.8"
  },
  "interpreter": {
   "hash": "97550c9d93cc6e1b32da7be1ecea6a700942a4304498736e1cfadb9169881455"
  }
 },
 "nbformat": 4,
 "nbformat_minor": 2
}