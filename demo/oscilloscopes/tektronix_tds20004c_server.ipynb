{
 "cells": [
  {
   "cell_type": "code",
   "execution_count": 1,
   "metadata": {},
   "outputs": [],
   "source": [
    "%matplotlib inline\n",
    "import numpy as np\n",
    "\n",
    "import matplotlib.pyplot as plt\n",
    "\n",
    "import pyvisa\n",
    "from pylabnet.utils.logging.logger import LogClient\n",
    "from pylabnet.network.core.generic_server import GenericServer\n",
    "\n",
    "from pyvisa import VisaIOError, ResourceManager\n",
    "\n",
    "from pylabnet.hardware.oscilloscopes.tektronix_tds2004C import Driver\n",
    "from pylabnet.network.client_server.tektronix_tds2004C import Service"
   ]
  },
  {
   "cell_type": "markdown",
   "metadata": {},
   "source": [
    "# Connect to Log Server"
   ]
  },
  {
   "cell_type": "code",
   "execution_count": 2,
   "metadata": {},
   "outputs": [],
   "source": [
    "# Instantiate\n",
    "logger = LogClient(\n",
    "    host='192.168.1.2',\n",
    "    port=9890,\n",
    "    module_tag='Scope'\n",
    ")"
   ]
  },
  {
   "cell_type": "markdown",
   "metadata": {},
   "source": [
    "# Connect to Tektronix TDS 2004C"
   ]
  },
  {
   "cell_type": "markdown",
   "metadata": {},
   "source": [
    "The scope is connected via USB to the PC. "
   ]
  },
  {
   "cell_type": "code",
   "execution_count": 5,
   "metadata": {},
   "outputs": [
    {
     "data": {
      "text/plain": [
       "('ASRL3::INSTR', 'GPIB0::18::INSTR', 'USB0::0x0699::0x03A2::C013186::0::INSTR')"
      ]
     },
     "execution_count": 5,
     "metadata": {},
     "output_type": "execute_result"
    }
   ],
   "source": [
    "# List all connected VISA ressources.\n",
    "rm = pyvisa.ResourceManager()\n",
    "rm.list_resources()"
   ]
  },
  {
   "cell_type": "code",
   "execution_count": 3,
   "metadata": {},
   "outputs": [],
   "source": [
    "# Choose ID corresponding to the scope.\n",
    "gpib_address = 'USB0::0x0699::0x03A2::C013186::INSTR'"
   ]
  },
  {
   "cell_type": "code",
   "execution_count": 5,
   "metadata": {},
   "outputs": [],
   "source": [
    "# Instanciate driver. \n",
    "# If this doesn't work, go to the scope menue 'Utility', 'Options', 'GPIB Setup', \n",
    "scope = Driver(\n",
    "    gpib_address=gpib_address,\n",
    "    logger=logger\n",
    ")"
   ]
  },
  {
   "cell_type": "markdown",
   "metadata": {},
   "source": [
    "# Start up server"
   ]
  },
  {
   "cell_type": "code",
   "execution_count": 6,
   "metadata": {},
   "outputs": [],
   "source": [
    "# Spectrum analyzer server\n",
    "scope_service = Service()\n",
    "scope_service.assign_module(module=scope)\n",
    "scope_service.assign_logger(logger=logger)\n",
    "scope_service_server = GenericServer(\n",
    "    service=scope_service, \n",
    "    host='192.168.0.17',\n",
    "    port=2253\n",
    ")"
   ]
  },
  {
   "cell_type": "code",
   "execution_count": 7,
   "metadata": {},
   "outputs": [],
   "source": [
    "# Start Server\n",
    "scope_service_server.start()"
   ]
  },
  {
   "cell_type": "code",
   "execution_count": null,
   "metadata": {},
   "outputs": [],
   "source": []
  }
 ],
 "metadata": {
  "kernelspec": {
   "display_name": "Python 3",
   "language": "python",
   "name": "python3"
  },
  "language_info": {
   "codemirror_mode": {
    "name": "ipython",
    "version": 3
   },
   "file_extension": ".py",
   "mimetype": "text/x-python",
   "name": "python",
   "nbconvert_exporter": "python",
   "pygments_lexer": "ipython3",
   "version": "3.7.4"
  }
 },
 "nbformat": 4,
 "nbformat_minor": 2
}
