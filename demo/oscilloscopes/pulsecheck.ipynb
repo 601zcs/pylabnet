{
 "cells": [
  {
   "cell_type": "code",
   "execution_count": 1,
   "metadata": {},
   "outputs": [],
   "source": [
    "import numpy as np\n",
    "\n",
    "import matplotlib.pyplot as plt\n",
    "\n",
    "import pyvisa\n",
    "from pylabnet.utils.logging.logger import LogClient\n",
    "import pylabnet.utils.pulseblock.pulse as po\n",
    "import pylabnet.utils.pulseblock.pulse_block as pb\n",
    "\n",
    "from pylabnet.utils.pulseblock.pb_check import PbChecker\n",
    "\n",
    "\n",
    "\n",
    "from pyvisa import VisaIOError, ResourceManager\n",
    "\n",
    "from pylabnet.hardware.oscilloscopes.tektronix_tds2004C import Driver\n",
    "from pylabnet.network.client_server.tektronix_tds2004C import Client\n",
    "\n",
    "\n"
   ]
  },
  {
   "cell_type": "code",
   "execution_count": 2,
   "metadata": {},
   "outputs": [],
   "source": [
    "\n",
    "######################HDAWG PART###################################\n",
    "# # Connect to HDAWG\n",
    "# dev_id = 'dev8040'\n",
    "\n",
    "# Instantiate logger.\n",
    "logger = LogClient(\n",
    "    host='192.168.1.2',\n",
    "    port=7502,\n",
    "    module_tag='Pulsechecker'\n",
    ")\n",
    "\n",
    "# # Instanciate HDAWG driver.\n",
    "# hd = Driver(dev_id, logger=logger)\n",
    "\n",
    "\n",
    "def rabi_element(tau=0, aom_offset=0):\n",
    "    rabi_element = pb.PulseBlock(\n",
    "        p_obj_list=[\n",
    "            po.PTrue(ch='aom', dur=1.1e-6),\n",
    "            po.PTrue(ch='ctr', t0=0.5e-6, dur=0.5e-6)\n",
    "        ]\n",
    "    )\n",
    "    temp_t = rabi_element.dur\n",
    "\n",
    "    rabi_element.insert(\n",
    "        p_obj=po.PTrue(ch='mw_gate', dur=tau, t0=temp_t+0.7e-6)\n",
    "    )\n",
    "    temp_t = rabi_element.dur\n",
    "\n",
    "    rabi_element.insert(\n",
    "        p_obj=po.PTrue(ch='aom', t0=temp_t+aom_offset, dur=2e-6)\n",
    "    )\n",
    "    rabi_element.insert(\n",
    "        p_obj=po.PTrue(ch='ctr', t0=temp_t, dur=0.5e-6)\n",
    "    )\n",
    "\n",
    "    rabi_element.dflt_dict = dict(\n",
    "        aom=po.DFalse(),\n",
    "        ctr=po.DFalse(),\n",
    "        mw_gate=po.DFalse()\n",
    "    )\n",
    "\n",
    "    return rabi_element"
   ]
  },
  {
   "cell_type": "code",
   "execution_count": 3,
   "metadata": {},
   "outputs": [],
   "source": [
    "# Let's choose a microwave duration of 1us.\n",
    "tau = 1e-6\n",
    "rabi_pulse = rabi_element(tau)"
   ]
  },
  {
   "cell_type": "code",
   "execution_count": 6,
   "metadata": {},
   "outputs": [
    {
     "ename": "AttributeError",
     "evalue": "'LogService' object has no attribute 'exposed_set_trigger_source'\n\n========= Remote Traceback (1) =========\nTraceback (most recent call last):\n  File \"C:\\Users\\Can Knaut\\anaconda3\\envs\\pylabnet\\lib\\site-packages\\rpyc\\core\\protocol.py\", line 323, in _dispatch_request\n    res = self._HANDLERS[handler](self, *args)\n  File \"C:\\Users\\Can Knaut\\anaconda3\\envs\\pylabnet\\lib\\site-packages\\rpyc\\core\\protocol.py\", line 589, in _handle_getattr\n    return self._access_attr(obj, name, (), \"_rpyc_getattr\", \"allow_getattr\", getattr)\n  File \"C:\\Users\\Can Knaut\\anaconda3\\envs\\pylabnet\\lib\\site-packages\\rpyc\\core\\protocol.py\", line 523, in _access_attr\n    return accessor(obj, name, *args)\nAttributeError: 'LogService' object has no attribute 'exposed_set_trigger_source'\n",
     "output_type": "error",
     "traceback": [
      "\u001b[1;31m---------------------------------------------------------------------------\u001b[0m",
      "\u001b[1;31mAttributeError\u001b[0m                            Traceback (most recent call last)",
      "\u001b[1;32m<ipython-input-6-4bf661060db8>\u001b[0m in \u001b[0;36m<module>\u001b[1;34m\u001b[0m\n\u001b[0;32m      6\u001b[0m \u001b[1;33m\u001b[0m\u001b[0m\n\u001b[0;32m      7\u001b[0m \u001b[1;31m# Set trigger source to CH4.\u001b[0m\u001b[1;33m\u001b[0m\u001b[1;33m\u001b[0m\u001b[1;33m\u001b[0m\u001b[0m\n\u001b[1;32m----> 8\u001b[1;33m \u001b[0mscope\u001b[0m\u001b[1;33m.\u001b[0m\u001b[0mset_trigger_source\u001b[0m\u001b[1;33m(\u001b[0m\u001b[1;34m'CH4'\u001b[0m\u001b[1;33m)\u001b[0m\u001b[1;33m\u001b[0m\u001b[1;33m\u001b[0m\u001b[0m\n\u001b[0m\u001b[0;32m      9\u001b[0m \u001b[1;33m\u001b[0m\u001b[0m\n\u001b[0;32m     10\u001b[0m \u001b[1;31m# Let's set the timebase accordingly\u001b[0m\u001b[1;33m\u001b[0m\u001b[1;33m\u001b[0m\u001b[1;33m\u001b[0m\u001b[0m\n",
      "\u001b[1;32m~\\pylabnet\\pylabnet\\network\\client_server\\tektronix_tds2004C.py\u001b[0m in \u001b[0;36mset_trigger_source\u001b[1;34m(self, trigger_source)\u001b[0m\n\u001b[0;32m     96\u001b[0m \u001b[1;33m\u001b[0m\u001b[0m\n\u001b[0;32m     97\u001b[0m     \u001b[1;32mdef\u001b[0m \u001b[0mset_trigger_source\u001b[0m\u001b[1;33m(\u001b[0m\u001b[0mself\u001b[0m\u001b[1;33m,\u001b[0m \u001b[0mtrigger_source\u001b[0m\u001b[1;33m)\u001b[0m\u001b[1;33m:\u001b[0m\u001b[1;33m\u001b[0m\u001b[1;33m\u001b[0m\u001b[0m\n\u001b[1;32m---> 98\u001b[1;33m         \u001b[1;32mreturn\u001b[0m \u001b[0mself\u001b[0m\u001b[1;33m.\u001b[0m\u001b[0m_service\u001b[0m\u001b[1;33m.\u001b[0m\u001b[0mexposed_set_trigger_source\u001b[0m\u001b[1;33m(\u001b[0m\u001b[0mtrigger_source\u001b[0m\u001b[1;33m)\u001b[0m\u001b[1;33m\u001b[0m\u001b[1;33m\u001b[0m\u001b[0m\n\u001b[0m\u001b[0;32m     99\u001b[0m \u001b[1;33m\u001b[0m\u001b[0m\n\u001b[0;32m    100\u001b[0m     \u001b[1;32mdef\u001b[0m \u001b[0mset_timing_scale\u001b[0m\u001b[1;33m(\u001b[0m\u001b[0mself\u001b[0m\u001b[1;33m,\u001b[0m \u001b[0mscale\u001b[0m\u001b[1;33m)\u001b[0m\u001b[1;33m:\u001b[0m\u001b[1;33m\u001b[0m\u001b[1;33m\u001b[0m\u001b[0m\n",
      "\u001b[1;32m~\\anaconda3\\envs\\pylabnet\\lib\\site-packages\\rpyc\\core\\netref.py\u001b[0m in \u001b[0;36m__getattr__\u001b[1;34m(self, name)\u001b[0m\n\u001b[0;32m    164\u001b[0m         \u001b[1;32mif\u001b[0m \u001b[0mname\u001b[0m \u001b[1;32min\u001b[0m \u001b[0mDELETED_ATTRS\u001b[0m\u001b[1;33m:\u001b[0m\u001b[1;33m\u001b[0m\u001b[1;33m\u001b[0m\u001b[0m\n\u001b[0;32m    165\u001b[0m             \u001b[1;32mraise\u001b[0m \u001b[0mAttributeError\u001b[0m\u001b[1;33m(\u001b[0m\u001b[1;33m)\u001b[0m\u001b[1;33m\u001b[0m\u001b[1;33m\u001b[0m\u001b[0m\n\u001b[1;32m--> 166\u001b[1;33m         \u001b[1;32mreturn\u001b[0m \u001b[0msyncreq\u001b[0m\u001b[1;33m(\u001b[0m\u001b[0mself\u001b[0m\u001b[1;33m,\u001b[0m \u001b[0mconsts\u001b[0m\u001b[1;33m.\u001b[0m\u001b[0mHANDLE_GETATTR\u001b[0m\u001b[1;33m,\u001b[0m \u001b[0mname\u001b[0m\u001b[1;33m)\u001b[0m\u001b[1;33m\u001b[0m\u001b[1;33m\u001b[0m\u001b[0m\n\u001b[0m\u001b[0;32m    167\u001b[0m \u001b[1;33m\u001b[0m\u001b[0m\n\u001b[0;32m    168\u001b[0m     \u001b[1;32mdef\u001b[0m \u001b[0m__delattr__\u001b[0m\u001b[1;33m(\u001b[0m\u001b[0mself\u001b[0m\u001b[1;33m,\u001b[0m \u001b[0mname\u001b[0m\u001b[1;33m)\u001b[0m\u001b[1;33m:\u001b[0m\u001b[1;33m\u001b[0m\u001b[1;33m\u001b[0m\u001b[0m\n",
      "\u001b[1;32m~\\anaconda3\\envs\\pylabnet\\lib\\site-packages\\rpyc\\core\\netref.py\u001b[0m in \u001b[0;36msyncreq\u001b[1;34m(proxy, handler, *args)\u001b[0m\n\u001b[0;32m     74\u001b[0m     \"\"\"\n\u001b[0;32m     75\u001b[0m     \u001b[0mconn\u001b[0m \u001b[1;33m=\u001b[0m \u001b[0mobject\u001b[0m\u001b[1;33m.\u001b[0m\u001b[0m__getattribute__\u001b[0m\u001b[1;33m(\u001b[0m\u001b[0mproxy\u001b[0m\u001b[1;33m,\u001b[0m \u001b[1;34m\"____conn__\"\u001b[0m\u001b[1;33m)\u001b[0m\u001b[1;33m\u001b[0m\u001b[1;33m\u001b[0m\u001b[0m\n\u001b[1;32m---> 76\u001b[1;33m     \u001b[1;32mreturn\u001b[0m \u001b[0mconn\u001b[0m\u001b[1;33m.\u001b[0m\u001b[0msync_request\u001b[0m\u001b[1;33m(\u001b[0m\u001b[0mhandler\u001b[0m\u001b[1;33m,\u001b[0m \u001b[0mproxy\u001b[0m\u001b[1;33m,\u001b[0m \u001b[1;33m*\u001b[0m\u001b[0margs\u001b[0m\u001b[1;33m)\u001b[0m\u001b[1;33m\u001b[0m\u001b[1;33m\u001b[0m\u001b[0m\n\u001b[0m\u001b[0;32m     77\u001b[0m \u001b[1;33m\u001b[0m\u001b[0m\n\u001b[0;32m     78\u001b[0m \u001b[1;33m\u001b[0m\u001b[0m\n",
      "\u001b[1;32m~\\anaconda3\\envs\\pylabnet\\lib\\site-packages\\rpyc\\core\\protocol.py\u001b[0m in \u001b[0;36msync_request\u001b[1;34m(self, handler, *args)\u001b[0m\n\u001b[0;32m    456\u001b[0m         \"\"\"\n\u001b[0;32m    457\u001b[0m         \u001b[0mtimeout\u001b[0m \u001b[1;33m=\u001b[0m \u001b[0mself\u001b[0m\u001b[1;33m.\u001b[0m\u001b[0m_config\u001b[0m\u001b[1;33m[\u001b[0m\u001b[1;34m\"sync_request_timeout\"\u001b[0m\u001b[1;33m]\u001b[0m\u001b[1;33m\u001b[0m\u001b[1;33m\u001b[0m\u001b[0m\n\u001b[1;32m--> 458\u001b[1;33m         \u001b[1;32mreturn\u001b[0m \u001b[0mself\u001b[0m\u001b[1;33m.\u001b[0m\u001b[0masync_request\u001b[0m\u001b[1;33m(\u001b[0m\u001b[0mhandler\u001b[0m\u001b[1;33m,\u001b[0m \u001b[1;33m*\u001b[0m\u001b[0margs\u001b[0m\u001b[1;33m,\u001b[0m \u001b[0mtimeout\u001b[0m\u001b[1;33m=\u001b[0m\u001b[0mtimeout\u001b[0m\u001b[1;33m)\u001b[0m\u001b[1;33m.\u001b[0m\u001b[0mvalue\u001b[0m\u001b[1;33m\u001b[0m\u001b[1;33m\u001b[0m\u001b[0m\n\u001b[0m\u001b[0;32m    459\u001b[0m \u001b[1;33m\u001b[0m\u001b[0m\n\u001b[0;32m    460\u001b[0m     \u001b[1;32mdef\u001b[0m \u001b[0m_async_request\u001b[0m\u001b[1;33m(\u001b[0m\u001b[0mself\u001b[0m\u001b[1;33m,\u001b[0m \u001b[0mhandler\u001b[0m\u001b[1;33m,\u001b[0m \u001b[0margs\u001b[0m\u001b[1;33m=\u001b[0m\u001b[1;33m(\u001b[0m\u001b[1;33m)\u001b[0m\u001b[1;33m,\u001b[0m \u001b[0mcallback\u001b[0m\u001b[1;33m=\u001b[0m\u001b[1;33m(\u001b[0m\u001b[1;32mlambda\u001b[0m \u001b[0ma\u001b[0m\u001b[1;33m,\u001b[0m \u001b[0mb\u001b[0m\u001b[1;33m:\u001b[0m \u001b[1;32mNone\u001b[0m\u001b[1;33m)\u001b[0m\u001b[1;33m)\u001b[0m\u001b[1;33m:\u001b[0m  \u001b[1;31m# serving\u001b[0m\u001b[1;33m\u001b[0m\u001b[1;33m\u001b[0m\u001b[0m\n",
      "\u001b[1;32m~\\anaconda3\\envs\\pylabnet\\lib\\site-packages\\rpyc\\core\\async_.py\u001b[0m in \u001b[0;36mvalue\u001b[1;34m(self)\u001b[0m\n\u001b[0;32m    100\u001b[0m         \u001b[0mself\u001b[0m\u001b[1;33m.\u001b[0m\u001b[0mwait\u001b[0m\u001b[1;33m(\u001b[0m\u001b[1;33m)\u001b[0m\u001b[1;33m\u001b[0m\u001b[1;33m\u001b[0m\u001b[0m\n\u001b[0;32m    101\u001b[0m         \u001b[1;32mif\u001b[0m \u001b[0mself\u001b[0m\u001b[1;33m.\u001b[0m\u001b[0m_is_exc\u001b[0m\u001b[1;33m:\u001b[0m\u001b[1;33m\u001b[0m\u001b[1;33m\u001b[0m\u001b[0m\n\u001b[1;32m--> 102\u001b[1;33m             \u001b[1;32mraise\u001b[0m \u001b[0mself\u001b[0m\u001b[1;33m.\u001b[0m\u001b[0m_obj\u001b[0m\u001b[1;33m\u001b[0m\u001b[1;33m\u001b[0m\u001b[0m\n\u001b[0m\u001b[0;32m    103\u001b[0m         \u001b[1;32melse\u001b[0m\u001b[1;33m:\u001b[0m\u001b[1;33m\u001b[0m\u001b[1;33m\u001b[0m\u001b[0m\n\u001b[0;32m    104\u001b[0m             \u001b[1;32mreturn\u001b[0m \u001b[0mself\u001b[0m\u001b[1;33m.\u001b[0m\u001b[0m_obj\u001b[0m\u001b[1;33m\u001b[0m\u001b[1;33m\u001b[0m\u001b[0m\n",
      "\u001b[1;31mAttributeError\u001b[0m: 'LogService' object has no attribute 'exposed_set_trigger_source'\n\n========= Remote Traceback (1) =========\nTraceback (most recent call last):\n  File \"C:\\Users\\Can Knaut\\anaconda3\\envs\\pylabnet\\lib\\site-packages\\rpyc\\core\\protocol.py\", line 323, in _dispatch_request\n    res = self._HANDLERS[handler](self, *args)\n  File \"C:\\Users\\Can Knaut\\anaconda3\\envs\\pylabnet\\lib\\site-packages\\rpyc\\core\\protocol.py\", line 589, in _handle_getattr\n    return self._access_attr(obj, name, (), \"_rpyc_getattr\", \"allow_getattr\", getattr)\n  File \"C:\\Users\\Can Knaut\\anaconda3\\envs\\pylabnet\\lib\\site-packages\\rpyc\\core\\protocol.py\", line 523, in _access_attr\n    return accessor(obj, name, *args)\nAttributeError: 'LogService' object has no attribute 'exposed_set_trigger_source'\n"
     ]
    }
   ],
   "source": [
    "# Connect to scope\n",
    "scope = Client(\n",
    "    host='192.168.1.2',\n",
    "    port=7502\n",
    ")\n",
    "\n",
    "# Set trigger source to CH4.\n",
    "scope.set_trigger_source('CH4')\n",
    "\n",
    "# Let's set the timebase accordingly\n",
    "timespan = 1e-6 # 1us per div --> total window of 10us\n",
    "scope.set_timing_scale(timespan)\n",
    "\n",
    "# Let's set the scales accordingly (we expect signal from 0 to 3.3V)\n",
    "for channel in ['CH1', 'CH2', 'CH3', 'CH4']:\n",
    "\n",
    "    # Set scale to 1V/div, with 10 divs this gives us a range of 10V.\n",
    "    scope.set_channel_scale(channel, 1)\n",
    "\n",
    "    # Set the zero horizontal position to 0V.\n",
    "    scope.set_channel_pos(channel, 0)\n",
    "\n",
    "# Let's set the trigger level to 50%.\n",
    "scope.trig_level_to_fifty()\n",
    "\n",
    "# Set timebase to 500ns / div.\n",
    "scope.set_timing_scale(500e-9 )\n",
    "\n",
    "# Let's move the trace 2.5 us to the right.\n",
    "scope.set_horizontal_position(+2.5e-6)\n"
   ]
  },
  {
   "cell_type": "code",
   "execution_count": null,
   "metadata": {},
   "outputs": [],
   "source": [
    "\n",
    "# Read out traces\n",
    "\n",
    "mw_gate_data = scope.read_out_trace('CH1', curve_res=2)\n",
    "ctr_data = scope.read_out_trace('CH2', curve_res=2)\n",
    "aom_data = scope.read_out_trace('CH3', curve_res=2)\n",
    "\n",
    "# Construct data dict\n",
    "data_dict = {\n",
    "    'mw_gate':  [mw_gate_data['ts'], mw_gate_data['trace']],\n",
    "    #'ctr':      [ctr_data['ts'], ctr_data['trace']],\n",
    "    #'aom':      [aom_data['ts'], aom_data['trace']]\n",
    "}\n"
   ]
  },
  {
   "cell_type": "code",
   "execution_count": null,
   "metadata": {},
   "outputs": [],
   "source": [
    "# Define tolerances\n",
    "\n",
    "# Allow for one sample timing tolerance in each direction\n",
    "x_tol = 1*3.33e-9  # in s\n",
    "y_tol = 0.1  # in V\n",
    "\n",
    "sampling_rate = 300e6  # 300 MHz\n",
    "\n",
    "pb_check = PbChecker(\n",
    "    pb=rabi_pulse,\n",
    "    sampling_rate=sampling_rate,\n",
    "    data_dict=data_dict,\n",
    "    x_tol=x_tol,\n",
    "    y_tol=y_tol,\n",
    "    logger=logger\n",
    ")\n",
    "\n",
    "\n",
    "pb_check.check_traces()"
   ]
  }
 ],
 "metadata": {
  "kernelspec": {
   "display_name": "Python 3.7.4 64-bit",
   "language": "python",
   "name": "python37464bit36c48b51567b4062ba0e4920d9c486e0"
  },
  "language_info": {
   "codemirror_mode": {
    "name": "ipython",
    "version": 3
   },
   "file_extension": ".py",
   "mimetype": "text/x-python",
   "name": "python",
   "nbconvert_exporter": "python",
   "pygments_lexer": "ipython3",
   "version": "3.7.4"
  }
 },
 "nbformat": 4,
 "nbformat_minor": 2
}
