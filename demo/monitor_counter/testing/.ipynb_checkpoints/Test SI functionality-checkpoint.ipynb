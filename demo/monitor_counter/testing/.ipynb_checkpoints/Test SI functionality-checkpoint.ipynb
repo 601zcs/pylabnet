{
 "cells": [
  {
   "cell_type": "code",
   "execution_count": 1,
   "metadata": {},
   "outputs": [],
   "source": [
    "import TimeTagger\n",
    "from pylabnet.gui.igui.iplot import SingleTraceFig\n",
    "\n",
    "# Set the following channel numbering scheme:\n",
    "#   rising edge channels: 1, ..., 8\n",
    "#   falling edges channels: -1, ..., -8\n",
    "#   For details see Time Tagger documentation: \"Channel Number Schema 0 and 1\"\n",
    "TimeTagger.setTimeTaggerChannelNumberScheme(\n",
    "    TimeTagger.TT_CHANNEL_NUMBER_SCHEME_ONE\n",
    ")"
   ]
  },
  {
   "cell_type": "code",
   "execution_count": 2,
   "metadata": {},
   "outputs": [],
   "source": [
    "# Instantiate TimeTagger\n",
    "tagger = TimeTagger.createTimeTagger()"
   ]
  },
  {
   "cell_type": "code",
   "execution_count": 89,
   "metadata": {},
   "outputs": [],
   "source": [
    "ctr = TimeTagger.Counter(tagger, channels=[1], binwidth=1000000000, n_values=10000)"
   ]
  },
  {
   "cell_type": "code",
   "execution_count": 63,
   "metadata": {},
   "outputs": [],
   "source": [
    "cts_display = SingleTraceFig()"
   ]
  },
  {
   "cell_type": "code",
   "execution_count": 90,
   "metadata": {},
   "outputs": [],
   "source": [
    "cts_display.set_lbls(x_str='Time (ms)', y_str='Cts/ms')\n",
    "cts_display.set_data(x_ar=ctr.getIndex()/1e9,y_ar=ctr.getData()[0])"
   ]
  },
  {
   "cell_type": "code",
   "execution_count": 69,
   "metadata": {},
   "outputs": [
    {
     "data": {
      "application/vnd.jupyter.widget-view+json": {
       "model_id": "0a7b40c08ed94127b6e00ec26339e117",
       "version_major": 2,
       "version_minor": 0
      },
      "text/plain": [
       "FigureWidget({\n",
       "    'data': [{'mode': 'lines',\n",
       "              'type': 'scatter',\n",
       "              'uid': '26625b71-…"
      ]
     },
     "metadata": {},
     "output_type": "display_data"
    }
   ],
   "source": [
    "cts_display.show()"
   ]
  },
  {
   "cell_type": "code",
   "execution_count": 82,
   "metadata": {},
   "outputs": [],
   "source": [
    "import numpy as np\n",
    "import time"
   ]
  },
  {
   "cell_type": "code",
   "execution_count": 99,
   "metadata": {},
   "outputs": [],
   "source": [
    "for i in np.arange(100000):\n",
    "    cts_display.set_data(x_ar=ctr.getIndex()/1e9,y_ar=ctr.getData()[0])\n",
    "    #time.sleep(0.001)"
   ]
  },
  {
   "cell_type": "code",
   "execution_count": null,
   "metadata": {},
   "outputs": [],
   "source": []
  }
 ],
 "metadata": {
  "kernelspec": {
   "display_name": "Python 3",
   "language": "python",
   "name": "python3"
  },
  "language_info": {
   "codemirror_mode": {
    "name": "ipython",
    "version": 3
   },
   "file_extension": ".py",
   "mimetype": "text/x-python",
   "name": "python",
   "nbconvert_exporter": "python",
   "pygments_lexer": "ipython3",
   "version": "3.7.4"
  }
 },
 "nbformat": 4,
 "nbformat_minor": 2
}
