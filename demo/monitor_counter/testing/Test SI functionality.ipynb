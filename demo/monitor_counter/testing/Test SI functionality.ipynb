{
 "cells": [
  {
   "cell_type": "code",
   "execution_count": 1,
   "metadata": {},
   "outputs": [],
   "source": [
    "import TimeTagger\n",
    "from pylabnet.gui.igui.iplot import SingleTraceFig\n",
    "\n",
    "# Set the following channel numbering scheme:\n",
    "#   rising edge channels: 1, ..., 8\n",
    "#   falling edges channels: -1, ..., -8\n",
    "#   For details see Time Tagger documentation: \"Channel Number Schema 0 and 1\"\n",
    "\n",
    "TimeTagger.setTimeTaggerChannelNumberScheme(\n",
    "    TimeTagger.TT_CHANNEL_NUMBER_SCHEME_ONE\n",
    ")"
   ]
  },
  {
   "cell_type": "code",
   "execution_count": 2,
   "metadata": {},
   "outputs": [],
   "source": [
    "# Instantiate TimeTagger\n",
    "tagger = TimeTagger.createTimeTagger()"
   ]
  },
  {
   "cell_type": "code",
   "execution_count": 4,
   "metadata": {},
   "outputs": [],
   "source": [
    "# Set the following channel numbering scheme:\n",
    "#   rising edge channels: 1, ..., 8\n",
    "#   falling edges channels: -1, ..., -8\n",
    "#   For details see Time Tagger documentation: \"Channel Number Schema 0 and 1\"\n",
    "\n",
    "#TimeTagger.setTimeTaggerChannelNumberScheme(\n",
    "#    TimeTagger.TT_CHANNEL_NUMBER_SCHEME_ONE\n",
    "#)"
   ]
  },
  {
   "cell_type": "code",
   "execution_count": 3,
   "metadata": {},
   "outputs": [],
   "source": [
    "ctr = TimeTagger.Counter(tagger, channels=[1], binwidth=1000000000, n_values = 10000)"
   ]
  },
  {
   "cell_type": "code",
   "execution_count": 3,
   "metadata": {},
   "outputs": [],
   "source": [
    "#ctr = TimeTagger.Counter(tagger, channels=[1], binwidth=1000000000, n_values=10000)"
   ]
  },
  {
   "cell_type": "code",
   "execution_count": 4,
   "metadata": {},
   "outputs": [],
   "source": [
    "#cts_display = SingleTraceFig()"
   ]
  },
  {
   "cell_type": "code",
   "execution_count": 4,
   "metadata": {},
   "outputs": [],
   "source": [
    "gui = SingleTraceFig(title_str='Counter')"
   ]
  },
  {
   "cell_type": "code",
   "execution_count": 5,
   "metadata": {},
   "outputs": [],
   "source": [
    "#cts_display.set_lbls(x_str='Time (ms)', y_str='Cts/ms')\n",
    "#cts_display.set_data(x_ar=ctr.getIndex()/1e9,y_ar=ctr.getData()[0])"
   ]
  },
  {
   "cell_type": "code",
   "execution_count": 5,
   "metadata": {},
   "outputs": [],
   "source": [
    "gui.set_lbls(\n",
    "    x_str='Time [s]',\n",
    "    y_str='Counts (Hz)'\n",
    ")"
   ]
  },
  {
   "cell_type": "code",
   "execution_count": 6,
   "metadata": {},
   "outputs": [
    {
     "data": {
      "application/vnd.jupyter.widget-view+json": {
       "model_id": "ae2c21db6bd8465a9b7fe37e70109e6d",
       "version_major": 2,
       "version_minor": 0
      },
      "text/plain": [
       "FigureWidget({\n",
       "    'data': [{'mode': 'lines', 'type': 'scatter', 'uid': '2586fb16-8266-4e69-996e-3e8eda6d240f'…"
      ]
     },
     "metadata": {},
     "output_type": "display_data"
    }
   ],
   "source": [
    "gui.show()"
   ]
  },
  {
   "cell_type": "code",
   "execution_count": 7,
   "metadata": {},
   "outputs": [],
   "source": [
    "gui.set_data(\n",
    "    x_ar=ctr.getIndex(),\n",
    "    y_ar=ctr.getData()[0]\n",
    ")"
   ]
  },
  {
   "cell_type": "code",
   "execution_count": 7,
   "metadata": {},
   "outputs": [
    {
     "data": {
      "application/vnd.jupyter.widget-view+json": {
       "model_id": "ef6b34448c5641fb997de4e4f83f6d3f",
       "version_major": 2,
       "version_minor": 0
      },
      "text/plain": [
       "FigureWidget({\n",
       "    'data': [{'mode': 'lines',\n",
       "              'type': 'scatter',\n",
       "              'uid': 'b8291b48-…"
      ]
     },
     "metadata": {},
     "output_type": "display_data"
    }
   ],
   "source": [
    "cts_display.show()"
   ]
  },
  {
   "cell_type": "code",
   "execution_count": 8,
   "metadata": {},
   "outputs": [],
   "source": [
    "import numpy as np\n",
    "import time"
   ]
  },
  {
   "cell_type": "code",
   "execution_count": 9,
   "metadata": {},
   "outputs": [],
   "source": [
    "for i in np.arange(100000):\n",
    "    cts_display.set_data(x_ar=ctr.getIndex()/1e9,y_ar=ctr.getData()[0])\n",
    "    #time.sleep(0.001)"
   ]
  },
  {
   "cell_type": "code",
   "execution_count": 109,
   "metadata": {},
   "outputs": [],
   "source": [
    "foo = [1]"
   ]
  },
  {
   "cell_type": "code",
   "execution_count": 110,
   "metadata": {},
   "outputs": [
    {
     "data": {
      "text/plain": [
       "1"
      ]
     },
     "execution_count": 110,
     "metadata": {},
     "output_type": "execute_result"
    }
   ],
   "source": [
    "len(foo)"
   ]
  },
  {
   "cell_type": "code",
   "execution_count": 111,
   "metadata": {},
   "outputs": [],
   "source": [
    "foob = 1"
   ]
  },
  {
   "cell_type": "code",
   "execution_count": 115,
   "metadata": {},
   "outputs": [
    {
     "data": {
      "text/plain": [
       "True"
      ]
     },
     "execution_count": 115,
     "metadata": {},
     "output_type": "execute_result"
    }
   ],
   "source": [
    "type(foob)==int"
   ]
  },
  {
   "cell_type": "code",
   "execution_count": 116,
   "metadata": {},
   "outputs": [
    {
     "data": {
      "text/plain": [
       "list"
      ]
     },
     "execution_count": 116,
     "metadata": {},
     "output_type": "execute_result"
    }
   ],
   "source": [
    "type(foo)"
   ]
  }
 ],
 "metadata": {
  "kernelspec": {
   "display_name": "Python 3",
   "language": "python",
   "name": "python3"
  },
  "language_info": {
   "codemirror_mode": {
    "name": "ipython",
    "version": 3
   },
   "file_extension": ".py",
   "mimetype": "text/x-python",
   "name": "python",
   "nbconvert_exporter": "python",
   "pygments_lexer": "ipython3",
   "version": "3.7.4"
  }
 },
 "nbformat": 4,
 "nbformat_minor": 2
}
