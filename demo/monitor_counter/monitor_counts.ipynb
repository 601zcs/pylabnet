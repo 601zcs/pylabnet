{
 "cells": [
  {
   "cell_type": "markdown",
   "metadata": {},
   "source": [
    "# Imports"
   ]
  },
  {
   "cell_type": "code",
   "execution_count": 1,
   "metadata": {},
   "outputs": [],
   "source": [
    "# Log client\n",
    "from pylabnet.utils.logging.logger import LogClient\n",
    "\n",
    "# Hardware clients\n",
    "from pylabnet.hardware.counter.swabian_instruments import cnt_monitor\n",
    "\n",
    "# Pause server\n",
    "from pylabnet.core.generic_server import GenericServer\n",
    "from pylabnet.scripts.pause_script import PauseService\n",
    "\n",
    "# Monitor script\n",
    "from pylabnet.scripts.count_monitor import CountMonitor\n",
    "\n",
    "# GUI\n",
    "from pylabnet.gui.igui.iplot import MultiTraceFig"
   ]
  },
  {
   "cell_type": "markdown",
   "metadata": {},
   "source": [
    "# Connect to devices"
   ]
  },
  {
   "cell_type": "code",
   "execution_count": 4,
   "metadata": {},
   "outputs": [
    {
     "data": {
      "text/plain": [
       "0"
      ]
     },
     "execution_count": 4,
     "metadata": {},
     "output_type": "execute_result"
    }
   ],
   "source": [
    "# Connect to SI counter\n",
    "monitor_client = cnt_monitor.Client(host='localhost', port=5678)\n",
    "monitor_client.connect()"
   ]
  },
  {
   "cell_type": "code",
   "execution_count": 5,
   "metadata": {},
   "outputs": [],
   "source": [
    "# Instantiate CountMonitor\n",
    "monitor = CountMonitor()\n",
    "\n",
    "# Setup hardware\n",
    "monitor.set_hardware(monitor_client)"
   ]
  },
  {
   "cell_type": "code",
   "execution_count": 6,
   "metadata": {},
   "outputs": [
    {
     "data": {
      "text/plain": [
       "set()"
      ]
     },
     "execution_count": 6,
     "metadata": {},
     "output_type": "execute_result"
    }
   ],
   "source": [
    "# Pause server\n",
    "\n",
    "# Instantiate logger\n",
    "log_client = LogClient(\n",
    "    host='localhost', \n",
    "    port=1234, \n",
    "    module_tag='Pause'\n",
    ")\n",
    "\n",
    "# Instantiate Server\n",
    "pause_service = PauseService()\n",
    "pause_service.assign_module(module=monitor)\n",
    "pause_service.assign_logger(logger=log_client)\n",
    "pause_server = GenericServer(\n",
    "    host='localhost', \n",
    "    port=7, \n",
    "    service=pause_service\n",
    ")\n",
    "\n",
    "#Start server\n",
    "pause_server.start()\n",
    "pause_server._server.clients"
   ]
  },
  {
   "cell_type": "markdown",
   "metadata": {},
   "source": [
    "# Set Parameters + GUI"
   ]
  },
  {
   "cell_type": "code",
   "execution_count": 7,
   "metadata": {},
   "outputs": [],
   "source": [
    "monitor.set_params(\n",
    "    bin_width=2e10,\n",
    "    n_bins=2.5e2,\n",
    "    ch_list=[1])\n",
    "\n",
    "# Instantiate GUI\n",
    "gui = MultiTraceFig(\n",
    "    title_str='Counter',\n",
    "    ch_names=['Ctr 1'],\n",
    "    shot_noise=True\n",
    ")\n",
    "\n",
    "# Assign to CountMonitor attribute\n",
    "monitor.set_gui(gui)"
   ]
  },
  {
   "cell_type": "markdown",
   "metadata": {},
   "source": [
    "# Run counter!"
   ]
  },
  {
   "cell_type": "code",
   "execution_count": 8,
   "metadata": {
    "scrolled": false
   },
   "outputs": [
    {
     "data": {
      "application/vnd.jupyter.widget-view+json": {
       "model_id": "cb9cf2c502bd4653a49142e16b145b46",
       "version_major": 2,
       "version_minor": 0
      },
      "text/plain": [
       "FigureWidget({\n",
       "    'data': [{'fill': 'tozerox',\n",
       "              'fillcolor': 'rgba(31, 119, 180, 0.2)',\n",
       "        …"
      ]
     },
     "metadata": {},
     "output_type": "display_data"
    }
   ],
   "source": [
    "monitor.run()"
   ]
  },
  {
   "cell_type": "code",
   "execution_count": null,
   "metadata": {},
   "outputs": [],
   "source": [
    "monitor.resume()"
   ]
  },
  {
   "cell_type": "code",
   "execution_count": null,
   "metadata": {},
   "outputs": [],
   "source": []
  }
 ],
 "metadata": {
  "kernelspec": {
   "display_name": "Python 3",
   "language": "python",
   "name": "python3"
  },
  "language_info": {
   "codemirror_mode": {
    "name": "ipython",
    "version": 3
   },
   "file_extension": ".py",
   "mimetype": "text/x-python",
   "name": "python",
   "nbconvert_exporter": "python",
   "pygments_lexer": "ipython3",
   "version": "3.7.4"
  }
 },
 "nbformat": 4,
 "nbformat_minor": 2
}
