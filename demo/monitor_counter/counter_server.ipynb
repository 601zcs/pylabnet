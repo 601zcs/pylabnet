{
 "cells": [
  {
   "cell_type": "code",
   "execution_count": 1,
   "metadata": {},
   "outputs": [],
   "source": [
    "from pylabnet.hardware.counter.swabian_instruments import cnt_monitor\n",
    "from pylabnet.utils.logging.logger import LogClient\n",
    "from pylabnet.core.generic_server import GenericServer\n",
    "import TimeTagger"
   ]
  },
  {
   "cell_type": "code",
   "execution_count": 2,
   "metadata": {},
   "outputs": [],
   "source": [
    "# Instantiate Logger\n",
    "cnt_trace_logger = LogClient(\n",
    "    host='localhost', \n",
    "    port=1234, \n",
    "    module_tag='SITT CntMonitor'\n",
    ")"
   ]
  },
  {
   "cell_type": "code",
   "execution_count": 3,
   "metadata": {},
   "outputs": [],
   "source": [
    "# Instantiate TimeTagger + wrapper\n",
    "\n",
    "# IMPORTANT: MUST SPECIFY THE NUMBERING SCHEME BEFORE INSTANTIATING TAGGER\n",
    "# Set the following channel numbering scheme:\n",
    "#   rising edge channels: 1, ..., 8\n",
    "#   falling edges channels: -1, ..., -8\n",
    "#   For details see Time Tagger documentation: \"Channel Number Schema 0 and 1\"\n",
    "\n",
    "TimeTagger.seC:\\Users\\b16lu\\pylabnet\\pylabnet\\hardware\\counter\\swabian_instruments\\cnt_monitor.pytTimeTaggerChannelNumberScheme(\n",
    "    TimeTagger.TT_CHANNEL_NUMBER_SCHEME_ONE\n",
    ")\n",
    "\n",
    "tagger = TimeTagger.createTimeTagger()\n",
    "cnt_trace_wrap = cnt_monitor.Wrap(\n",
    "    tagger=tagger, \n",
    "    ch_list=[1],\n",
    "    logger=cnt_trace_logger\n",
    ")"
   ]
  },
  {
   "cell_type": "code",
   "execution_count": 4,
   "metadata": {},
   "outputs": [],
   "source": [
    "# Instantiate Server\n",
    "cnt_trace_service = cnt_monitor.Service()\n",
    "cnt_trace_service.assign_module(module=cnt_trace_wrap)\n",
    "cnt_trace_service.assign_logger(logger=cnt_trace_logger)\n",
    "cnt_trace_server = GenericServer(\n",
    "    service=cnt_trace_service, \n",
    "    host='localhost', \n",
    "    port=5678\n",
    ")"
   ]
  },
  {
   "cell_type": "code",
   "execution_count": 5,
   "metadata": {},
   "outputs": [],
   "source": [
    "cnt_trace_server.start()"
   ]
  },
  {
   "cell_type": "code",
   "execution_count": 7,
   "metadata": {},
   "outputs": [
    {
     "data": {
      "text/plain": [
       "{<socket.socket fd=1424, family=AddressFamily.AF_INET, type=SocketKind.SOCK_STREAM, proto=0, laddr=('127.0.0.1', 5678), raddr=('127.0.0.1', 55560)>}"
      ]
     },
     "execution_count": 7,
     "metadata": {},
     "output_type": "execute_result"
    }
   ],
   "source": [
    "cnt_trace_server._server.clients"
   ]
  },
  {
   "cell_type": "code",
   "execution_count": null,
   "metadata": {},
   "outputs": [],
   "source": []
  }
 ],
 "metadata": {
  "kernelspec": {
   "display_name": "Python 3",
   "language": "python",
   "name": "python3"
  },
  "language_info": {
   "codemirror_mode": {
    "name": "ipython",
    "version": 3
   },
   "file_extension": ".py",
   "mimetype": "text/x-python",
   "name": "python",
   "nbconvert_exporter": "python",
   "pygments_lexer": "ipython3",
   "version": "3.7.4"
  }
 },
 "nbformat": 4,
 "nbformat_minor": 2
}
