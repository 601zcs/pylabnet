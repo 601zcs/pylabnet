{
 "cells": [
  {
   "cell_type": "code",
   "execution_count": 3,
   "metadata": {},
   "outputs": [],
   "source": [
    "import pylabnet.hardware.ni_daqs.nidaqmx_card as nidaqmx\n",
    "from pylabnet.utils.logging.logger import LogClient\n",
    "from pylabnet.core.generic_server import GenericServer\n",
    "\n",
    "import pylabnet.hardware.staticline.staticline as staticline"
   ]
  },
  {
   "cell_type": "markdown",
   "metadata": {},
   "source": [
    "#  Instantiate Logger"
   ]
  },
  {
   "cell_type": "code",
   "execution_count": 4,
   "metadata": {},
   "outputs": [],
   "source": [
    "logger = LogClient(\n",
    "    host='localhost', \n",
    "    port=5323, \n",
    "    module_tag='DAQ Log Server'\n",
    ")"
   ]
  },
  {
   "cell_type": "markdown",
   "metadata": {},
   "source": [
    "# Instantiate DAQ"
   ]
  },
  {
   "cell_type": "code",
   "execution_count": 6,
   "metadata": {},
   "outputs": [],
   "source": [
    "device_name = 'cDAQ1Mod1'\n",
    "\n",
    "daq = nidaqmx.Driver(device_name=device_name, logger=logger)"
   ]
  },
  {
   "cell_type": "markdown",
   "metadata": {},
   "source": [
    "# Instanciate Staticline"
   ]
  },
  {
   "cell_type": "code",
   "execution_count": 7,
   "metadata": {},
   "outputs": [],
   "source": [
    "# Let assume we have a shutter connected to the HDAWG DIO-pin 1 which \n",
    "# is open if the pin voltage is high and closed otherwise.\n",
    "\n",
    "test_staticline = staticline.Driver(\n",
    "    name='Laser Green',\n",
    "    logger=logger,\n",
    "    hardware_module=daq,\n",
    "    ao_output='ao2',\n",
    "    down_voltage=0,\n",
    "    up_voltage=3.3,\n",
    ") "
   ]
  },
  {
   "cell_type": "markdown",
   "metadata": {},
   "source": [
    "# Instantiate  Servers"
   ]
  },
  {
   "cell_type": "code",
   "execution_count": 8,
   "metadata": {},
   "outputs": [],
   "source": [
    "# DAQ Server\n",
    "daq_service = nidaqmx.Service()\n",
    "daq_service.assign_module(module=daq)\n",
    "daq_service.assign_logger(logger=logger)\n",
    "daq_service_server = GenericServer(\n",
    "    service=daq_service, \n",
    "    host='localhost', \n",
    "    port=12346\n",
    ")"
   ]
  },
  {
   "cell_type": "code",
   "execution_count": 9,
   "metadata": {},
   "outputs": [],
   "source": [
    "daq_service_server.start()"
   ]
  },
  {
   "cell_type": "code",
   "execution_count": 10,
   "metadata": {},
   "outputs": [],
   "source": [
    "# Staticline server\n",
    "staticline_service = staticline.Service()\n",
    "staticline_service.assign_module(module=test_staticline)\n",
    "staticline_service.assign_logger(logger=logger)\n",
    "staticline_service_server = GenericServer(\n",
    "    service=staticline_service, \n",
    "    host='localhost', \n",
    "    port=12348\n",
    ")"
   ]
  },
  {
   "cell_type": "code",
   "execution_count": 11,
   "metadata": {},
   "outputs": [],
   "source": [
    "staticline_service_server.start()"
   ]
  },
  {
   "cell_type": "code",
   "execution_count": null,
   "metadata": {},
   "outputs": [],
   "source": []
  }
 ],
 "metadata": {
  "kernelspec": {
   "display_name": "Python 3",
   "language": "python",
   "name": "python3"
  },
  "language_info": {
   "codemirror_mode": {
    "name": "ipython",
    "version": 3
   },
   "file_extension": ".py",
   "mimetype": "text/x-python",
   "name": "python",
   "nbconvert_exporter": "python",
   "pygments_lexer": "ipython3",
   "version": "3.7.4"
  }
 },
 "nbformat": 4,
 "nbformat_minor": 2
}
