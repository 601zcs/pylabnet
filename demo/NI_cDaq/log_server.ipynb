{
 "cells": [
  {
   "cell_type": "code",
   "execution_count": 1,
   "metadata": {},
   "outputs": [],
   "source": [
    "from pylabnet.utils.logging.logger import LogService\n",
    "from pylabnet.network.core.generic_server import GenericServer"
   ]
  },
  {
   "cell_type": "markdown",
   "metadata": {},
   "source": [
    "# Start Logging Server"
   ]
  },
  {
   "cell_type": "code",
   "execution_count": 2,
   "metadata": {},
   "outputs": [],
   "source": [
    "log_service = LogService()"
   ]
  },
  {
   "cell_type": "code",
   "execution_count": 7,
   "metadata": {},
   "outputs": [],
   "source": [
    "log_server = GenericServer(\n",
    "    service=log_service, \n",
    "    host='localhost', \n",
    "    port=14785\n",
    ")"
   ]
  },
  {
   "cell_type": "code",
   "execution_count": 8,
   "metadata": {},
   "outputs": [
    {
     "name": "stdout",
     "output_type": "stream",
     "text": [
      "2020-05-20 15:58:11,505 - INFO - server started on [127.0.0.1]:14785\n"
     ]
    }
   ],
   "source": [
    "log_server.start()"
   ]
  },
  {
   "cell_type": "code",
   "execution_count": 9,
   "metadata": {},
   "outputs": [
    {
     "data": {
      "text/plain": [
       "True"
      ]
     },
     "execution_count": 9,
     "metadata": {},
     "output_type": "execute_result"
    }
   ],
   "source": [
    "log_server._server.active"
   ]
  },
  {
   "cell_type": "markdown",
   "metadata": {},
   "source": [
    "# Monitor Clients and Logging Output"
   ]
  },
  {
   "cell_type": "code",
   "execution_count": 10,
   "metadata": {},
   "outputs": [
    {
     "data": {
      "text/plain": [
       "set()"
      ]
     },
     "execution_count": 10,
     "metadata": {},
     "output_type": "execute_result"
    }
   ],
   "source": [
    "log_server._server.clients"
   ]
  },
  {
   "cell_type": "code",
   "execution_count": 11,
   "metadata": {},
   "outputs": [
    {
     "name": "stdout",
     "output_type": "stream",
     "text": [
      "Log messages will be displayed below\n",
      "2020-05-20 15:58:27,627 - INFO - accepted ('127.0.0.1', 52684) with fd 1372\n",
      "2020-05-20 15:58:27,629 - INFO - welcome ('127.0.0.1', 52684)\n",
      "2020-05-20 15:58:27,634 - INFO - Client connected\n",
      "2020-05-20 15:58:27,641 - INFO -  DAQ Log Server: Started logging\n",
      "2020-05-20 15:58:30,015 - INFO -  DAQ Log Server: Successfully connected to NI DAQ 'cDAQ1Mod1' (type: NI 9264) \n",
      "\n",
      "2020-05-20 15:58:36,635 - INFO -  DAQ Log Server: NiDaq cDAQ1Mod1 output ao2 successfully assigned to staticline Laser Green.\n",
      "2020-05-20 15:58:36,636 - INFO -  DAQ Log Server: Setup of staticline Laser Green using module nidaqmx_card successful.\n",
      "2020-05-20 15:59:25,579 - INFO - accepted ('127.0.0.1', 52776) with fd 1432\n",
      "2020-05-20 15:59:25,581 - INFO - welcome ('127.0.0.1', 52776)\n",
      "2020-05-20 15:59:25,585 - INFO - Client connected\n",
      "2020-05-20 15:59:26,206 - DEBUG - Client disconnected\n",
      "2020-05-20 15:59:26,208 - INFO - goodbye ('127.0.0.1', 52776)\n",
      "2020-05-20 15:59:26,209 - INFO - accepted ('127.0.0.1', 52779) with fd 1456\n",
      "2020-05-20 15:59:26,216 - INFO - welcome ('127.0.0.1', 52779)\n",
      "2020-05-20 15:59:26,221 - INFO - Client connected\n",
      "2020-05-20 15:59:38,546 - INFO -  DAQ Log Server: Client connected\n",
      "2020-05-20 15:59:39,254 - DEBUG - Client disconnected\n",
      "2020-05-20 15:59:39,256 - INFO - goodbye ('127.0.0.1', 52779)\n",
      "2020-05-20 15:59:39,257 - INFO -  DAQ Log Server: Client disconnected\n",
      "2020-05-20 15:59:39,264 - INFO -  DAQ Log Server: Client connected\n",
      "2020-05-20 15:59:45,544 - INFO -  DAQ Log Server: Client disconnected\n",
      "2020-05-20 15:59:45,549 - INFO -  DAQ Log Server: Client connected\n",
      "2020-05-20 16:00:23,362 - INFO -  DAQ Log Server: Client connected\n",
      "2020-05-20 16:00:24,063 - INFO -  DAQ Log Server: Client disconnected\n",
      "2020-05-20 16:00:24,067 - INFO -  DAQ Log Server: Client connected\n",
      "2020-05-20 16:04:07,791 - INFO -  DAQ Log Server: Client connected\n",
      "2020-05-20 16:04:08,484 - INFO -  DAQ Log Server: Client disconnected\n",
      "2020-05-20 16:04:08,490 - INFO -  DAQ Log Server: Client connected\n",
      "2020-05-20 16:04:25,183 - INFO -  DAQ Log Server: Client disconnected\n",
      "2020-05-20 16:04:25,184 - INFO -  DAQ Log Server: Client disconnected\n",
      "2020-05-20 16:05:10,638 - INFO -  DAQ Log Server: Client connected\n",
      "2020-05-20 16:05:11,271 - INFO -  DAQ Log Server: Client disconnected\n",
      "2020-05-20 16:05:11,277 - INFO -  DAQ Log Server: Client connected\n",
      "2020-05-20 16:21:53,920 - DEBUG - Client disconnected\n",
      "2020-05-20 16:21:53,924 - INFO - goodbye ('127.0.0.1', 52684)\n",
      "2020-05-20 16:21:59,849 - INFO - accepted ('127.0.0.1', 53310) with fd 1384\n",
      "2020-05-20 16:21:59,851 - INFO - welcome ('127.0.0.1', 53310)\n",
      "2020-05-20 16:21:59,856 - INFO - Client connected\n",
      "2020-05-20 16:21:59,865 - INFO -  DAQ Log Server: Started logging\n",
      "2020-05-20 16:22:02,501 - INFO -  DAQ Log Server: Successfully connected to NI DAQ 'cDAQ1Mod1' (type: NI 9264) \n",
      "\n",
      "2020-05-20 16:22:03,816 - INFO -  DAQ Log Server: NiDaq cDAQ1Mod1 output ao2 successfully assigned to staticline Laser Green.\n",
      "2020-05-20 16:22:03,818 - INFO -  DAQ Log Server: Setup of staticline Laser Green using module nidaqmx_card successful.\n",
      "2020-05-20 16:27:03,810 - INFO - accepted ('127.0.0.1', 53414) with fd 1424\n",
      "2020-05-20 16:27:03,814 - INFO - welcome ('127.0.0.1', 53414)\n",
      "2020-05-20 16:27:03,822 - INFO - Client connected\n",
      "2020-05-20 16:27:03,836 - INFO -  DAQ Log Server: Started logging\n",
      "2020-05-20 16:27:04,510 - INFO -  DAQ Log Server: Successfully connected to NI DAQ 'cDAQ1Mod1' (type: NI 9264) \n",
      "\n",
      "2020-05-20 16:27:05,509 - INFO -  DAQ Log Server: NiDaq cDAQ1Mod1 output ao2 successfully assigned to staticline Laser Green.\n",
      "2020-05-20 16:27:05,511 - INFO -  DAQ Log Server: Setup of staticline Laser Green using module nidaqmx_card successful.\n",
      "2020-05-20 16:28:05,093 - INFO -  DAQ Log Server: Client connected\n",
      "2020-05-20 16:28:05,691 - INFO -  DAQ Log Server: Client disconnected\n",
      "2020-05-20 16:28:05,696 - INFO -  DAQ Log Server: Client connected\n",
      "2020-05-20 16:28:23,111 - INFO -  DAQ Log Server: Client connected\n",
      "2020-05-20 16:28:24,194 - INFO -  DAQ Log Server: Client disconnected\n",
      "2020-05-20 16:28:24,198 - INFO -  DAQ Log Server: Client connected\n",
      "2020-05-20 16:28:24,964 - INFO -  DAQ Log Server: Staticline Laser Green set to high.\n",
      "2020-05-20 16:28:28,994 - INFO -  DAQ Log Server: Staticline Laser Green set to low.\n",
      "2020-05-20 16:28:30,799 - INFO -  DAQ Log Server: Staticline Laser Green set to high.\n"
     ]
    }
   ],
   "source": [
    "print (\"Log messages will be displayed below\")"
   ]
  },
  {
   "cell_type": "code",
   "execution_count": null,
   "metadata": {},
   "outputs": [],
   "source": []
  }
 ],
 "metadata": {
  "kernelspec": {
   "display_name": "Python 3",
   "language": "python",
   "name": "python3"
  },
  "language_info": {
   "codemirror_mode": {
    "name": "ipython",
    "version": 3
   },
   "file_extension": ".py",
   "mimetype": "text/x-python",
   "name": "python",
   "nbconvert_exporter": "python",
   "pygments_lexer": "ipython3",
   "version": "3.7.4"
  }
 },
 "nbformat": 4,
 "nbformat_minor": 2
}
