{
 "cells": [
  {
   "cell_type": "code",
   "execution_count": 1,
   "metadata": {},
   "outputs": [],
   "source": [
    "from pylabnet.utils.logging.logger import LogService\n",
    "from pylabnet.core.generic_server import GenericServer"
   ]
  },
  {
   "cell_type": "markdown",
   "metadata": {},
   "source": [
    "# Start Logging Server"
   ]
  },
  {
   "cell_type": "code",
   "execution_count": 2,
   "metadata": {},
   "outputs": [],
   "source": [
    "log_service = LogService()"
   ]
  },
  {
   "cell_type": "code",
   "execution_count": 3,
   "metadata": {},
   "outputs": [],
   "source": [
    "log_server = GenericServer(\n",
    "    service=log_service, \n",
    "    host='localhost', \n",
    "    port=12345\n",
    ")"
   ]
  },
  {
   "cell_type": "code",
   "execution_count": 4,
   "metadata": {},
   "outputs": [
    {
     "name": "stderr",
     "output_type": "stream",
     "text": [
      "2020-04-15 17:49:28,705 - INFO - server started on [127.0.0.1]:12345\n"
     ]
    }
   ],
   "source": [
    "log_server.start()"
   ]
  },
  {
   "cell_type": "code",
   "execution_count": 5,
   "metadata": {},
   "outputs": [
    {
     "data": {
      "text/plain": [
       "True"
      ]
     },
     "execution_count": 5,
     "metadata": {},
     "output_type": "execute_result"
    }
   ],
   "source": [
    "log_server._server.active"
   ]
  },
  {
   "cell_type": "markdown",
   "metadata": {},
   "source": [
    "# Monitor Clients and Logging Output"
   ]
  },
  {
   "cell_type": "code",
   "execution_count": 6,
   "metadata": {},
   "outputs": [
    {
     "data": {
      "text/plain": [
       "set()"
      ]
     },
     "execution_count": 6,
     "metadata": {},
     "output_type": "execute_result"
    }
   ],
   "source": [
    "log_server._server.clients"
   ]
  },
  {
   "cell_type": "code",
   "execution_count": 7,
   "metadata": {},
   "outputs": [
    {
     "name": "stdout",
     "output_type": "stream",
     "text": [
      "Log messages will be displayed below\n"
     ]
    },
    {
     "name": "stderr",
     "output_type": "stream",
     "text": [
      "2020-04-15 17:49:59,900 - INFO - accepted ('127.0.0.1', 51287) with fd 1372\n",
      "2020-04-15 17:49:59,903 - INFO - welcome ('127.0.0.1', 51287)\n",
      "2020-04-15 17:49:59,909 - INFO - Client connected\n",
      "2020-04-15 17:49:59,914 - INFO -  DAQ Log Server: Started logging\n",
      "2020-04-15 17:50:10,925 - INFO -  DAQ Log Server: Successfully connected to NI DAQ 'cDAQ1Mod1' (type: NI 9264) \n",
      "\n",
      "2020-04-15 17:51:55,466 - DEBUG - Client disconnected\n",
      "2020-04-15 17:51:55,467 - INFO - goodbye ('127.0.0.1', 51287)\n",
      "2020-04-15 17:52:00,515 - INFO - accepted ('127.0.0.1', 51435) with fd 1380\n",
      "2020-04-15 17:52:00,518 - INFO - welcome ('127.0.0.1', 51435)\n",
      "2020-04-15 17:52:00,523 - INFO - Client connected\n",
      "2020-04-15 17:52:00,528 - INFO -  DAQ Log Server: Started logging\n",
      "2020-04-15 17:52:01,622 - INFO -  DAQ Log Server: Successfully connected to NI DAQ 'cDAQ1Mod1' (type: NI 9264) \n",
      "\n",
      "2020-04-15 17:54:16,443 - DEBUG - Client disconnected\n",
      "2020-04-15 17:54:16,444 - INFO - goodbye ('127.0.0.1', 51435)\n",
      "2020-04-15 17:54:25,718 - INFO - accepted ('127.0.0.1', 51519) with fd 1420\n",
      "2020-04-15 17:54:25,720 - INFO - welcome ('127.0.0.1', 51519)\n",
      "2020-04-15 17:54:25,725 - INFO - Client connected\n",
      "2020-04-15 17:54:25,732 - INFO -  DAQ Log Server: Started logging\n",
      "2020-04-15 17:54:27,403 - INFO -  DAQ Log Server: Successfully connected to NI DAQ 'cDAQ1Mod1' (type: NI 9264) \n",
      "\n",
      "2020-04-15 17:54:28,766 - INFO -  DAQ Log Server: NiDaq cDAQ1Mod1 output ao2 successfully assigned to staticline Laser Green.\n",
      "2020-04-15 17:54:28,768 - INFO -  DAQ Log Server: Setup of staticline Laser Green using module NiDaqMxDriver successful.\n",
      "2020-04-15 17:54:43,972 - INFO -  DAQ Log Server: Staticline Laser Green set to high.\n",
      "2020-04-15 17:55:43,037 - INFO -  DAQ Log Server: Staticline Laser Green set to low.\n",
      "2020-04-15 17:56:00,492 - INFO -  DAQ Log Server: Staticline Laser Green set to high.\n",
      "2020-04-15 17:56:13,756 - INFO -  DAQ Log Server: Staticline Laser Green set to low.\n",
      "2020-04-15 17:56:17,218 - INFO -  DAQ Log Server: Staticline Laser Green set to high.\n",
      "2020-04-15 17:56:36,461 - INFO -  DAQ Log Server: Staticline Laser Green set to low.\n",
      "2020-04-15 17:56:39,755 - INFO -  DAQ Log Server: Staticline Laser Green set to high.\n",
      "2020-04-15 17:56:56,523 - INFO -  DAQ Log Server: Staticline Laser Green set to low.\n",
      "2020-04-15 17:57:08,826 - INFO -  DAQ Log Server: Staticline Laser Green set to high.\n"
     ]
    }
   ],
   "source": [
    "print (\"Log messages will be displayed below\")"
   ]
  },
  {
   "cell_type": "code",
   "execution_count": null,
   "metadata": {},
   "outputs": [],
   "source": []
  }
 ],
 "metadata": {
  "kernelspec": {
   "display_name": "Python 3",
   "language": "python",
   "name": "python3"
  },
  "language_info": {
   "codemirror_mode": {
    "name": "ipython",
    "version": 3
   },
   "file_extension": ".py",
   "mimetype": "text/x-python",
   "name": "python",
   "nbconvert_exporter": "python",
   "pygments_lexer": "ipython3",
   "version": "3.7.4"
  }
 },
 "nbformat": 4,
 "nbformat_minor": 2
}
