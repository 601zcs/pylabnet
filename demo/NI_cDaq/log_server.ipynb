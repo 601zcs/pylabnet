{
 "cells": [
  {
   "cell_type": "code",
   "execution_count": 2,
   "metadata": {},
   "outputs": [],
   "source": [
    "from pylabnet.utils.logging.logger import LogService\n",
    "from pylabnet.core.generic_server import GenericServer"
   ]
  },
  {
   "cell_type": "markdown",
   "metadata": {},
   "source": [
    "# Start Logging Server"
   ]
  },
  {
   "cell_type": "code",
   "execution_count": 3,
   "metadata": {},
   "outputs": [],
   "source": [
    "log_service = LogService()"
   ]
  },
  {
   "cell_type": "code",
   "execution_count": 4,
   "metadata": {},
   "outputs": [],
   "source": [
    "log_server = GenericServer(\n",
    "    service=log_service, \n",
    "    host='localhost', \n",
    "    port=12345\n",
    ")"
   ]
  },
  {
   "cell_type": "code",
   "execution_count": 5,
   "metadata": {},
   "outputs": [],
   "source": [
    "log_server.start()"
   ]
  },
  {
   "cell_type": "code",
   "execution_count": 6,
   "metadata": {},
   "outputs": [
    {
     "data": {
      "text/plain": [
       "True"
      ]
     },
     "execution_count": 6,
     "metadata": {},
     "output_type": "execute_result"
    }
   ],
   "source": [
    "log_server._server.active"
   ]
  },
  {
   "cell_type": "markdown",
   "metadata": {},
   "source": [
    "# Monitor Clients and Logging Output"
   ]
  },
  {
   "cell_type": "code",
   "execution_count": 9,
   "metadata": {},
   "outputs": [
    {
     "data": {
      "text/plain": [
       "{<socket.socket fd=1216, family=AddressFamily.AF_INET, type=SocketKind.SOCK_STREAM, proto=0, laddr=('127.0.0.1', 12345), raddr=('127.0.0.1', 52339)>}"
      ]
     },
     "execution_count": 9,
     "metadata": {},
     "output_type": "execute_result"
    },
    {
     "name": "stdout",
     "output_type": "stream",
     "text": [
      "[ERROR] Shutter Log Server: NI DAQ card cDAQ11 not found. \n",
      "There are 2 NI DAQs available: \n",
      "     ['cDAQ1', 'cDAQ1Mod1']\n",
      "Traceback (most recent call last):\n",
      "  File \"C:\\Users\\Can Knaut\\pylabnet\\pylabnet\\hardware\\ni_daqs\\nidaqmx_card.py\", line 40, in __init__\n",
      "    product_type=ni_daq_device.product_type\n",
      "  File \"C:\\Users\\Can Knaut\\anaconda3\\envs\\pylabnet\\lib\\site-packages\\nidaqmx\\system\\device.py\", line 2004, in product_type\n",
      "    check_for_error(size_or_code)\n",
      "  File \"C:\\Users\\Can Knaut\\anaconda3\\envs\\pylabnet\\lib\\site-packages\\nidaqmx\\errors.py\", line 127, in check_for_error\n",
      "    raise DaqError(error_buffer.value.decode(\"utf-8\"), error_code)\n",
      "nidaqmx.errors.DaqError: Device identifier is invalid.\n",
      "Device Specified: cDAQ11\n",
      "Suggested Device(s): cDAQ1, cDAQ1Mod1\n",
      "\n",
      "Status Code: -200220\n",
      "\n",
      "[ERROR] Shutter Log Server: NI DAQ card cDAQMod1 not found. \n",
      "There are 2 NI DAQs available: \n",
      "     ['cDAQ1', 'cDAQ1Mod1']\n",
      "Traceback (most recent call last):\n",
      "  File \"C:\\Users\\Can Knaut\\pylabnet\\pylabnet\\hardware\\ni_daqs\\nidaqmx_card.py\", line 40, in __init__\n",
      "    product_type=ni_daq_device.product_type\n",
      "  File \"C:\\Users\\Can Knaut\\anaconda3\\envs\\pylabnet\\lib\\site-packages\\nidaqmx\\system\\device.py\", line 2004, in product_type\n",
      "    check_for_error(size_or_code)\n",
      "  File \"C:\\Users\\Can Knaut\\anaconda3\\envs\\pylabnet\\lib\\site-packages\\nidaqmx\\errors.py\", line 127, in check_for_error\n",
      "    raise DaqError(error_buffer.value.decode(\"utf-8\"), error_code)\n",
      "nidaqmx.errors.DaqError: Device identifier is invalid.\n",
      "Device Specified: cDAQMod1\n",
      "Suggested Device(s): cDAQ1, cDAQ1Mod1\n",
      "\n",
      "Status Code: -200220\n",
      "\n",
      "[INFO] Shutter Log Server: Successfully connected to NI DAQ 'cDAQ1' (type: cDAQ-9171) \n",
      "\n",
      "[INFO] Shutter Log Server: Successfully connected to NI DAQ 'cDAQ1Mod1' (type: NI 9264) \n",
      "\n",
      "[INFO] Shutter Log Server: Client connected\n",
      "[INFO] Shutter Log Server: Client disconnected\n",
      "[INFO] Shutter Log Server: Client connected\n",
      "[INFO] Shutter Log Server: Opened shutter Laser Green  \n",
      "\n",
      "[INFO] Shutter Log Server: Closed shutter Laser Green  \n",
      "\n",
      "[INFO] Shutter Log Server: Opened shutter Laser Green  \n",
      "\n",
      "[INFO] Shutter Log Server: Closed shutter Laser Green  \n",
      "\n",
      "[LOG INFO] Client connected\n",
      "[INFO] Shutter Log Server: Started logging at 2020-03-26, 06:47:29\n",
      "[INFO] Shutter Log Server: Successfully connected to NI DAQ 'cDAQ1Mod1' (type: NI 9264) \n",
      "\n",
      "[INFO] Shutter Log Server: Client connected\n",
      "[INFO] Shutter Log Server: Client disconnected\n",
      "[INFO] Shutter Log Server: Client connected\n",
      "[INFO] Shutter Log Server: Client disconnected\n",
      "[INFO] Shutter Log Server: Client connected\n",
      "[INFO] Shutter Log Server: Client connected\n",
      "[INFO] Shutter Log Server: Client disconnected\n",
      "[INFO] Shutter Log Server: Client connected\n",
      "[INFO] Shutter Log Server: Client disconnected\n"
     ]
    }
   ],
   "source": [
    "log_server._server.clients"
   ]
  },
  {
   "cell_type": "code",
   "execution_count": 8,
   "metadata": {},
   "outputs": [
    {
     "name": "stdout",
     "output_type": "stream",
     "text": [
      "Log messages will be displayed below\n",
      "[LOG INFO] Client connected\n",
      "[INFO] Shutter Log Server: Started logging at 2020-03-26, 06:41:37\n"
     ]
    }
   ],
   "source": [
    "print (\"Log messages will be displayed below\")"
   ]
  },
  {
   "cell_type": "code",
   "execution_count": null,
   "metadata": {},
   "outputs": [],
   "source": []
  }
 ],
 "metadata": {
  "kernelspec": {
   "display_name": "Python 3",
   "language": "python",
   "name": "python3"
  },
  "language_info": {
   "codemirror_mode": {
    "name": "ipython",
    "version": 3
   },
   "file_extension": ".py",
   "mimetype": "text/x-python",
   "name": "python",
   "nbconvert_exporter": "python",
   "pygments_lexer": "ipython3",
   "version": "3.7.4"
  }
 },
 "nbformat": 4,
 "nbformat_minor": 2
}
