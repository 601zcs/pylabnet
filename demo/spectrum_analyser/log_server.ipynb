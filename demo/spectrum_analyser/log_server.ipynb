{
 "cells": [
  {
   "cell_type": "code",
   "execution_count": 8,
   "metadata": {},
   "outputs": [
    {
     "name": "stdout",
     "output_type": "stream",
     "text": [
      "2020-07-02 12:16:25,770 - INFO -  Spectrum Analyser: Successfully connected to Hewlett-Packard, E4405B, MY44220484, A.14.01\n",
      ".\n",
      "2020-07-02 12:16:25,776 - INFO -  Spectrum Analyser: Reset to factory settings successfull.\n",
      "2020-07-02 12:17:57,787 - DEBUG - Client disconnected\n",
      "2020-07-02 12:17:57,789 - INFO -  Spectrum Analyser: Client disconnected\n"
     ]
    }
   ],
   "source": [
    "from pylabnet.utils.logging.logger import LogService\n",
    "from pylabnet.network.core.generic_server import GenericServer\n",
    "import os\n",
    "import sys"
   ]
  },
  {
   "cell_type": "markdown",
   "metadata": {},
   "source": [
    "# Start Logging Server"
   ]
  },
  {
   "cell_type": "code",
   "execution_count": 2,
   "metadata": {},
   "outputs": [],
   "source": [
    "log_service_name = 'Logger'\n",
    "log_folder = 'logs'\n",
    "\n",
    "dir_path = os.path.join(os.path.abspath(''), log_folder)\n",
    "\n",
    "log_service = LogService(\n",
    "    log_output=False,\n",
    "    name=log_service_name,\n",
    "    dir_path=dir_path,\n",
    ")"
   ]
  },
  {
   "cell_type": "code",
   "execution_count": 3,
   "metadata": {},
   "outputs": [],
   "source": [
    "log_server = GenericServer(\n",
    "    service=log_service, \n",
    "    host='localhost', \n",
    "    port=12351\n",
    ")"
   ]
  },
  {
   "cell_type": "code",
   "execution_count": 4,
   "metadata": {},
   "outputs": [],
   "source": [
    "log_server.start()"
   ]
  },
  {
   "cell_type": "code",
   "execution_count": 5,
   "metadata": {},
   "outputs": [
    {
     "data": {
      "text/plain": [
       "True"
      ]
     },
     "execution_count": 5,
     "metadata": {},
     "output_type": "execute_result"
    },
    {
     "name": "stdout",
     "output_type": "stream",
     "text": [
      "2020-07-02 11:56:41,653 - INFO - Client connected\n",
      "2020-07-02 11:56:41,716 - INFO -  ZI HDAWG dev8227: Started logging\n"
     ]
    }
   ],
   "source": [
    "log_server._server.active"
   ]
  },
  {
   "cell_type": "markdown",
   "metadata": {},
   "source": [
    "# Monitor Clients and Logging Output"
   ]
  },
  {
   "cell_type": "code",
   "execution_count": 6,
   "metadata": {},
   "outputs": [
    {
     "data": {
      "text/plain": [
       "{<socket.socket fd=932, family=AddressFamily.AF_INET, type=SocketKind.SOCK_STREAM, proto=0, laddr=('127.0.0.1', 12351), raddr=('127.0.0.1', 52927)>}"
      ]
     },
     "execution_count": 6,
     "metadata": {},
     "output_type": "execute_result"
    }
   ],
   "source": [
    "log_server._server.clients"
   ]
  },
  {
   "cell_type": "code",
   "execution_count": 7,
   "metadata": {
    "scrolled": true
   },
   "outputs": [
    {
     "name": "stdout",
     "output_type": "stream",
     "text": [
      "Log messages will be displayed below\n",
      "2020-07-02 11:58:01,134 - DEBUG - Client disconnected\n",
      "2020-07-02 12:03:12,508 - INFO - Client connected\n",
      "2020-07-02 12:03:12,521 - INFO -  ZI HDAWG dev8227: Started logging\n",
      "2020-07-02 12:03:15,769 - INFO -  ZI HDAWG dev8227: Discovered device `dev8227`: HDAWG8 with options CNT, ME.\n",
      "2020-07-02 12:03:15,772 - INFO -  ZI HDAWG dev8227: Creating an API session for device `dev8227` on `127.0.0.1`, `8004` with apilevel `6`.\n",
      "2020-07-02 12:03:16,397 - INFO -  ZI HDAWG dev8227: Disabled everything.\n",
      "2020-07-02 12:03:16,400 - INFO -  ZI HDAWG dev8227: Set all DIO outputs to low.\n",
      "2020-07-02 12:06:54,108 - INFO - Client connected\n",
      "2020-07-02 12:06:54,117 - INFO -  Spectrum Analyser: Started logging\n",
      "2020-07-02 12:07:06,585 - INFO -  Spectrum Analyser: Successfully connected to Hewlett-Packard, E4405B, MY44220484, A.14.01\n",
      ".\n",
      "2020-07-02 12:07:06,589 - INFO -  Spectrum Analyser: Reset to factory settings successfull.\n",
      "2020-07-02 12:07:42,354 - INFO -  Spectrum Analyser: Client connected\n",
      "2020-07-02 12:07:49,289 - INFO -  ZI HDAWG dev8227: Enabled wave output 0.\n",
      "2020-07-02 12:07:49,297 - INFO -  ZI HDAWG dev8227: Enabled wave output 1.\n",
      "2020-07-02 12:07:56,611 - INFO -  Spectrum Analyser: Center frequency set to 12000000000.0 Hz\n",
      "2020-07-02 12:07:56,617 - INFO -  Spectrum Analyser: Frequency span set 1800000000.0 Hz\n",
      "2020-07-02 12:11:32,543 - DEBUG - Client disconnected\n",
      "2020-07-02 12:11:32,545 - INFO -  Spectrum Analyser: Client disconnected\n",
      "2020-07-02 12:11:41,972 - INFO - Client connected\n",
      "2020-07-02 12:11:41,984 - INFO -  ZI HDAWG dev8227: Started logging\n",
      "2020-07-02 12:11:44,452 - INFO -  ZI HDAWG dev8227: Discovered device `dev8227`: HDAWG8 with options CNT, ME.\n",
      "2020-07-02 12:11:44,455 - INFO -  ZI HDAWG dev8227: Creating an API session for device `dev8227` on `127.0.0.1`, `8004` with apilevel `6`.\n",
      "2020-07-02 12:11:44,965 - INFO -  ZI HDAWG dev8227: Disabled everything.\n",
      "2020-07-02 12:11:44,970 - INFO -  ZI HDAWG dev8227: Set all DIO outputs to low.\n",
      "2020-07-02 12:14:29,319 - INFO -  ZI HDAWG dev8227: Discovered device `dev8227`: HDAWG8 with options CNT, ME.\n",
      "2020-07-02 12:14:29,322 - INFO -  ZI HDAWG dev8227: Creating an API session for device `dev8227` on `127.0.0.1`, `8004` with apilevel `6`.\n",
      "2020-07-02 12:14:29,851 - INFO -  ZI HDAWG dev8227: Disabled everything.\n",
      "2020-07-02 12:14:29,854 - INFO -  ZI HDAWG dev8227: Set all DIO outputs to low.\n",
      "2020-07-02 12:14:33,670 - INFO -  Spectrum Analyser: Client connected\n",
      "2020-07-02 12:14:42,924 - INFO -  ZI HDAWG dev8227: Enabled wave output 0.\n",
      "2020-07-02 12:14:42,930 - INFO -  ZI HDAWG dev8227: Enabled wave output 1.\n",
      "2020-07-02 12:14:50,395 - INFO -  Spectrum Analyser: Center frequency set to 12000000000.0 Hz\n",
      "2020-07-02 12:14:50,402 - INFO -  Spectrum Analyser: Frequency span set 1800000000.0 Hz\n"
     ]
    }
   ],
   "source": [
    "print (\"Log messages will be displayed below\")"
   ]
  },
  {
   "cell_type": "code",
   "execution_count": null,
   "metadata": {},
   "outputs": [],
   "source": []
  }
 ],
 "metadata": {
  "kernelspec": {
   "display_name": "Python 3",
   "language": "python",
   "name": "python3"
  },
  "language_info": {
   "codemirror_mode": {
    "name": "ipython",
    "version": 3
   },
   "file_extension": ".py",
   "mimetype": "text/x-python",
   "name": "python",
   "nbconvert_exporter": "python",
   "pygments_lexer": "ipython3",
   "version": "3.7.8"
  }
 },
 "nbformat": 4,
 "nbformat_minor": 2
}
