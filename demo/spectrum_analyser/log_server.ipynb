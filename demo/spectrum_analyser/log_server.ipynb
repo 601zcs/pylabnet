{
 "cells": [
  {
   "cell_type": "code",
   "execution_count": 1,
   "metadata": {},
   "outputs": [],
   "source": [
    "from pylabnet.utils.logging.logger import LogService\n",
    "from pylabnet.core.generic_server import GenericServer\n",
    "import os\n",
    "import sys"
   ]
  },
  {
   "cell_type": "markdown",
   "metadata": {},
   "source": [
    "# Start Logging Server"
   ]
  },
  {
   "cell_type": "code",
   "execution_count": 2,
   "metadata": {},
   "outputs": [],
   "source": [
    "log_service_name = 'Logger'\n",
    "log_folder = 'logs'\n",
    "\n",
    "dir_path = os.path.join(os.path.abspath(''), log_folder)\n",
    "\n",
    "log_service = LogService(\n",
    "    log_output=False,\n",
    "    name=log_service_name,\n",
    "    dir_path=dir_path,\n",
    ")"
   ]
  },
  {
   "cell_type": "code",
   "execution_count": 3,
   "metadata": {},
   "outputs": [],
   "source": [
    "log_server = GenericServer(\n",
    "    service=log_service, \n",
    "    host='localhost', \n",
    "    port=12351\n",
    ")"
   ]
  },
  {
   "cell_type": "code",
   "execution_count": 4,
   "metadata": {},
   "outputs": [],
   "source": [
    "log_server.start()"
   ]
  },
  {
   "cell_type": "code",
   "execution_count": 5,
   "metadata": {},
   "outputs": [
    {
     "data": {
      "text/plain": [
       "True"
      ]
     },
     "execution_count": 5,
     "metadata": {},
     "output_type": "execute_result"
    }
   ],
   "source": [
    "log_server._server.active"
   ]
  },
  {
   "cell_type": "markdown",
   "metadata": {},
   "source": [
    "# Monitor Clients and Logging Output"
   ]
  },
  {
   "cell_type": "code",
   "execution_count": 6,
   "metadata": {},
   "outputs": [
    {
     "data": {
      "text/plain": [
       "set()"
      ]
     },
     "execution_count": 6,
     "metadata": {},
     "output_type": "execute_result"
    }
   ],
   "source": [
    "log_server._server.clients"
   ]
  },
  {
   "cell_type": "code",
   "execution_count": 7,
   "metadata": {
    "scrolled": true
   },
   "outputs": [
    {
     "name": "stdout",
     "output_type": "stream",
     "text": [
      "Log messages will be displayed below\n"
     ]
    },
    {
     "name": "stderr",
     "output_type": "stream",
     "text": [
      "2020-04-22 20:05:58,276 - INFO - Client connected\n",
      "2020-04-22 20:05:58,286 - INFO -  Spectrum Analyser: Started logging\n",
      "2020-04-22 20:07:00,059 - INFO -  Spectrum Analyser: Successfully connected to Hewlett-Packard, E4405B, MY44220484, A.14.01\n",
      ".\n",
      "2020-04-22 20:09:08,137 - DEBUG - Client disconnected\n",
      "2020-04-22 20:09:11,494 - INFO - Client connected\n",
      "2020-04-22 20:09:11,503 - INFO -  Spectrum Analyser: Started logging\n",
      "2020-04-22 20:09:16,336 - ERROR -  Spectrum Analyser: Connection to GPvIB0::12::INSTR failed.\n",
      "2020-04-22 20:09:34,492 - INFO -  Spectrum Analyser: Successfully connected to Hewlett-Packard, E4405B, MY44220484, A.14.01\n",
      ".\n",
      "2020-04-22 20:25:27,622 - DEBUG - Client disconnected\n",
      "2020-04-22 20:25:31,345 - INFO - Client connected\n",
      "2020-04-22 20:25:31,353 - INFO -  Spectrum Analyser: Started logging\n",
      "2020-04-22 20:25:33,342 - INFO -  Spectrum Analyser: Successfully connected to Hewlett-Packard, E4405B, MY44220484, A.14.01\n",
      ".\n",
      "2020-04-22 20:26:46,293 - ERROR -  Spectrum Analyser: Invalid attenuation (100). Attenuation must be between 0dB and 75dB\n",
      "2020-04-22 20:56:31,893 - DEBUG - Client disconnected\n",
      "2020-04-22 20:56:35,140 - INFO - Client connected\n",
      "2020-04-22 20:56:35,149 - INFO -  Spectrum Analyser: Started logging\n",
      "2020-04-22 20:56:36,990 - INFO -  Spectrum Analyser: Successfully connected to Hewlett-Packard, E4405B, MY44220484, A.14.01\n",
      ".\n",
      "2020-04-22 20:56:36,994 - INFO -  Spectrum Analyser: Reset to factory settings successfull.\n",
      "2020-04-22 20:56:49,369 - INFO -  Spectrum Analyser: Display on.\n",
      "2020-04-22 20:56:50,805 - INFO -  Spectrum Analyser: Display on.\n",
      "2020-04-22 20:59:19,732 - INFO -  Spectrum Analyser: Successfully connected to Hewlett-Packard, E4405B, MY44220484, A.14.01\n",
      ".\n",
      "2020-04-22 20:59:19,736 - INFO -  Spectrum Analyser: Reset to factory settings successfull.\n",
      "2020-04-22 21:12:10,627 - DEBUG - Client disconnected\n",
      "2020-04-22 21:12:43,199 - INFO - Client connected\n",
      "2020-04-22 21:12:43,207 - INFO -  Spectrum Analyser: Started logging\n",
      "2020-04-22 21:12:44,355 - INFO -  Spectrum Analyser: Successfully connected to Hewlett-Packard, E4405B, MY44220484, A.14.01\n",
      ".\n",
      "2020-04-22 21:12:44,359 - INFO -  Spectrum Analyser: Reset to factory settings successfull.\n",
      "2020-04-22 21:12:47,543 - INFO -  Spectrum Analyser: Display off.\n",
      "2020-04-22 21:12:47,917 - INFO -  Spectrum Analyser: Display on.\n",
      "2020-04-22 21:12:53,086 - INFO -  Spectrum Analyser: Center frequency set to 10000000000.0 Hz\n",
      "2020-04-22 21:17:16,517 - INFO - Client connected\n",
      "2020-04-22 21:17:16,526 - INFO -  ZI HDAWG dev8040: Started logging\n",
      "2020-04-22 21:17:19,900 - INFO -  ZI HDAWG dev8040: Discovered device `dev8040`: HDAWG8 with options MF, CNT, ME, PC, SKW.\n",
      "2020-04-22 21:17:19,903 - INFO -  ZI HDAWG dev8040: Creating an API session for device `dev8040` on `127.0.0.1`, `8004` with apilevel `6`.\n",
      "2020-04-22 21:17:20,620 - INFO -  ZI HDAWG dev8040: Disabled everything.\n",
      "2020-04-22 21:17:20,629 - INFO -  ZI HDAWG dev8040: Set all DIO outputs to low.\n",
      "2020-04-22 21:17:25,778 - INFO -  ZI HDAWG dev8040: Enabled wave output 0.\n",
      "2020-04-22 21:17:25,786 - INFO -  ZI HDAWG dev8040: Enabled wave output 1.\n",
      "2020-04-22 21:17:41,975 - INFO -  Spectrum Analyser: Center frequency set to 12000000000.0 Hz\n",
      "2020-04-22 21:18:32,088 - DEBUG - Client disconnected\n",
      "2020-04-22 21:18:34,743 - INFO - Client connected\n",
      "2020-04-22 21:18:34,752 - INFO -  Spectrum Analyser: Started logging\n",
      "2020-04-22 21:18:36,528 - INFO -  Spectrum Analyser: Successfully connected to Hewlett-Packard, E4405B, MY44220484, A.14.01\n",
      ".\n",
      "2020-04-22 21:18:36,532 - INFO -  Spectrum Analyser: Reset to factory settings successfull.\n",
      "2020-04-22 21:18:46,275 - INFO -  Spectrum Analyser: Display off.\n",
      "2020-04-22 21:18:48,217 - INFO -  Spectrum Analyser: Display on.\n",
      "2020-04-22 21:19:00,031 - INFO -  Spectrum Analyser: Center frequency set to 12000000000.0 Hz\n",
      "2020-04-22 21:19:22,379 - DEBUG - Client disconnected\n",
      "2020-04-22 21:19:27,011 - INFO - Client connected\n",
      "2020-04-22 21:19:27,019 - INFO -  Spectrum Analyser: Started logging\n",
      "2020-04-22 21:19:29,614 - INFO -  Spectrum Analyser: Successfully connected to Hewlett-Packard, E4405B, MY44220484, A.14.01\n",
      ".\n",
      "2020-04-22 21:19:29,618 - INFO -  Spectrum Analyser: Reset to factory settings successfull.\n",
      "2020-04-22 21:19:30,246 - INFO -  Spectrum Analyser: Display off.\n",
      "2020-04-22 21:19:30,757 - INFO -  Spectrum Analyser: Display on.\n",
      "2020-04-22 21:19:31,296 - INFO -  Spectrum Analyser: Center frequency set to 12000000000.0 Hz\n",
      "2020-04-22 21:19:31,900 - INFO -  Spectrum Analyser: Frequency span set 2600000000.0 Hz\n",
      "2020-04-22 21:19:41,067 - INFO -  Spectrum Analyser: Frequency span set 3000000000.0 Hz\n",
      "2020-04-22 21:19:47,514 - INFO -  Spectrum Analyser: Frequency span set 2600000000.0 Hz\n",
      "2020-04-22 21:20:13,630 - INFO -  Spectrum Analyser: Successfully connected to Hewlett-Packard, E4405B, MY44220484, A.14.01\n",
      ".\n",
      "2020-04-22 21:20:13,634 - INFO -  Spectrum Analyser: Reset to factory settings successfull.\n",
      "2020-04-22 21:20:27,417 - INFO -  Spectrum Analyser: Display off.\n",
      "2020-04-22 21:20:29,681 - INFO -  Spectrum Analyser: Display on.\n",
      "2020-04-22 21:20:33,025 - INFO -  Spectrum Analyser: Center frequency set to 12000000000.0 Hz\n",
      "2020-04-22 21:20:38,509 - INFO -  Spectrum Analyser: Center frequency set to 5000000000.0 Hz\n",
      "2020-04-22 21:21:45,682 - INFO -  Spectrum Analyser: Center frequency set to 10000000000.0 Hz\n",
      "2020-04-22 21:21:49,729 - INFO -  Spectrum Analyser: Center frequency set to 12000000000.0 Hz\n",
      "2020-04-22 21:37:27,410 - INFO -  Spectrum Analyser: Successfully connected to Hewlett-Packard, E4405B, MY44220484, A.14.01\n",
      ".\n",
      "2020-04-22 21:37:27,414 - INFO -  Spectrum Analyser: Reset to factory settings successfull.\n",
      "2020-04-22 21:43:23,705 - INFO -  Spectrum Analyser: Successfully connected to Hewlett-Packard, E4405B, MY44220484, A.14.01\n",
      ".\n",
      "2020-04-22 21:43:23,709 - INFO -  Spectrum Analyser: Reset to factory settings successfull.\n",
      "2020-04-22 21:46:56,824 - INFO -  Spectrum Analyser: Successfully connected to Hewlett-Packard, E4405B, MY44220484, A.14.01\n",
      ".\n",
      "2020-04-22 21:46:56,828 - INFO -  Spectrum Analyser: Reset to factory settings successfull.\n",
      "2020-04-22 21:50:46,120 - DEBUG - Client disconnected\n",
      "2020-04-22 21:50:50,366 - INFO - Client connected\n",
      "2020-04-22 21:50:50,375 - INFO -  Spectrum Analyser: Started logging\n",
      "2020-04-22 21:50:51,345 - INFO -  Spectrum Analyser: Successfully connected to Hewlett-Packard, E4405B, MY44220484, A.14.01\n",
      ".\n",
      "2020-04-22 21:50:51,348 - INFO -  Spectrum Analyser: Reset to factory settings successfull.\n",
      "2020-04-22 21:50:52,564 - INFO -  Spectrum Analyser: Display off.\n",
      "2020-04-22 21:50:53,054 - INFO -  Spectrum Analyser: Display on.\n",
      "2020-04-22 21:50:53,517 - INFO -  Spectrum Analyser: Center frequency set to 12000000000.0 Hz\n",
      "2020-04-22 21:50:54,286 - INFO -  Spectrum Analyser: Frequency span set 2600000000.0 Hz\n",
      "2020-04-22 21:51:54,885 - DEBUG - Client disconnected\n",
      "2020-04-22 21:52:04,539 - INFO - Client connected\n",
      "2020-04-22 21:52:04,545 - INFO -  Spectrum Analyser: Started logging\n",
      "2020-04-22 21:52:06,929 - INFO -  Spectrum Analyser: Successfully connected to Hewlett-Packard, E4405B, MY44220484, A.14.01\n",
      ".\n",
      "2020-04-22 21:52:06,932 - INFO -  Spectrum Analyser: Reset to factory settings successfull.\n",
      "2020-04-22 21:52:11,429 - INFO -  Spectrum Analyser: Display off.\n",
      "2020-04-22 21:52:11,980 - INFO -  Spectrum Analyser: Display on.\n",
      "2020-04-22 21:52:14,180 - INFO -  Spectrum Analyser: Center frequency set to 12000000000.0 Hz\n",
      "2020-04-22 21:52:15,973 - INFO -  Spectrum Analyser: Frequency span set 2600000000.0 Hz\n",
      "2020-04-22 21:52:45,790 - DEBUG - Client disconnected\n",
      "2020-04-22 21:52:49,375 - INFO - Client connected\n",
      "2020-04-22 21:52:49,383 - INFO -  Spectrum Analyser: Started logging\n",
      "2020-04-22 21:52:51,142 - INFO -  Spectrum Analyser: Successfully connected to Hewlett-Packard, E4405B, MY44220484, A.14.01\n",
      ".\n",
      "2020-04-22 21:52:51,146 - INFO -  Spectrum Analyser: Reset to factory settings successfull.\n",
      "2020-04-22 21:52:52,092 - INFO -  Spectrum Analyser: Display off.\n",
      "2020-04-22 21:52:52,922 - INFO -  Spectrum Analyser: Display on.\n",
      "2020-04-22 21:52:53,395 - INFO -  Spectrum Analyser: Center frequency set to 12000000000.0 Hz\n",
      "2020-04-22 21:52:53,848 - INFO -  Spectrum Analyser: Frequency span set 2600000000.0 Hz\n",
      "2020-04-22 21:58:19,723 - DEBUG - Client disconnected\n"
     ]
    },
    {
     "name": "stderr",
     "output_type": "stream",
     "text": [
      "2020-04-22 21:58:23,047 - INFO - Client connected\n",
      "2020-04-22 21:58:23,057 - INFO -  Spectrum Analyser: Started logging\n",
      "2020-04-22 21:58:25,126 - INFO -  Spectrum Analyser: Successfully connected to Hewlett-Packard, E4405B, MY44220484, A.14.01\n",
      ".\n",
      "2020-04-22 21:58:25,130 - INFO -  Spectrum Analyser: Reset to factory settings successfull.\n",
      "2020-04-22 21:58:28,008 - INFO -  Spectrum Analyser: Center frequency set to 12000000000.0 Hz\n",
      "2020-04-22 21:58:28,497 - INFO -  Spectrum Analyser: Frequency span set 2600000000.0 Hz\n",
      "2020-04-22 22:05:49,182 - DEBUG - Client disconnected\n",
      "2020-04-22 22:06:26,328 - INFO - Client connected\n",
      "2020-04-22 22:06:26,337 - INFO -  Spectrum Analyser: Started logging\n",
      "2020-04-22 22:06:27,680 - INFO -  Spectrum Analyser: Successfully connected to Hewlett-Packard, E4405B, MY44220484, A.14.01\n",
      ".\n",
      "2020-04-22 22:06:27,684 - INFO -  Spectrum Analyser: Reset to factory settings successfull.\n",
      "2020-04-22 22:06:29,499 - INFO -  Spectrum Analyser: Center frequency set to 12000000000.0 Hz\n",
      "2020-04-22 22:06:29,922 - INFO -  Spectrum Analyser: Frequency span set 2600000000.0 Hz\n",
      "2020-04-22 22:08:49,271 - DEBUG - Client disconnected\n",
      "2020-04-22 22:08:52,416 - INFO - Client connected\n",
      "2020-04-22 22:08:52,424 - INFO -  Spectrum Analyser: Started logging\n",
      "2020-04-22 22:08:53,332 - INFO -  Spectrum Analyser: Successfully connected to Hewlett-Packard, E4405B, MY44220484, A.14.01\n",
      ".\n",
      "2020-04-22 22:08:53,335 - INFO -  Spectrum Analyser: Reset to factory settings successfull.\n",
      "2020-04-22 22:08:53,976 - INFO -  Spectrum Analyser: Display off.\n",
      "2020-04-22 22:08:54,400 - INFO -  Spectrum Analyser: Display on.\n",
      "2020-04-22 22:08:54,802 - INFO -  Spectrum Analyser: Center frequency set to 12000000000.0 Hz\n",
      "2020-04-22 22:08:55,220 - INFO -  Spectrum Analyser: Frequency span set 2600000000.0 Hz\n",
      "2020-04-22 22:09:38,770 - DEBUG - Client disconnected\n",
      "2020-04-22 22:09:43,805 - INFO - Client connected\n",
      "2020-04-22 22:09:43,813 - INFO -  Spectrum Analyser: Started logging\n",
      "2020-04-22 22:09:45,576 - INFO -  Spectrum Analyser: Successfully connected to Hewlett-Packard, E4405B, MY44220484, A.14.01\n",
      ".\n",
      "2020-04-22 22:09:45,580 - INFO -  Spectrum Analyser: Reset to factory settings successfull.\n",
      "2020-04-22 22:09:45,905 - INFO -  Spectrum Analyser: Display off.\n",
      "2020-04-22 22:09:46,296 - INFO -  Spectrum Analyser: Display on.\n",
      "2020-04-22 22:09:46,711 - INFO -  Spectrum Analyser: Center frequency set to 12000000000.0 Hz\n",
      "2020-04-22 22:09:47,119 - INFO -  Spectrum Analyser: Frequency span set 2600000000.0 Hz\n",
      "2020-04-22 22:10:05,807 - DEBUG - Client disconnected\n",
      "2020-04-22 22:10:13,994 - INFO - Client connected\n",
      "2020-04-22 22:10:14,001 - INFO -  Spectrum Analyser: Started logging\n",
      "2020-04-22 22:10:15,589 - INFO -  Spectrum Analyser: Successfully connected to Hewlett-Packard, E4405B, MY44220484, A.14.01\n",
      ".\n",
      "2020-04-22 22:10:15,593 - INFO -  Spectrum Analyser: Reset to factory settings successfull.\n",
      "2020-04-22 22:10:15,849 - INFO -  Spectrum Analyser: Display off.\n",
      "2020-04-22 22:10:16,192 - INFO -  Spectrum Analyser: Display on.\n",
      "2020-04-22 22:10:16,567 - INFO -  Spectrum Analyser: Center frequency set to 12000000000.0 Hz\n",
      "2020-04-22 22:10:16,926 - INFO -  Spectrum Analyser: Frequency span set 2600000000.0 Hz\n",
      "2020-04-22 22:10:45,133 - DEBUG - Client disconnected\n",
      "2020-04-22 22:10:49,062 - INFO - Client connected\n",
      "2020-04-22 22:10:49,071 - INFO -  Spectrum Analyser: Started logging\n",
      "2020-04-22 22:10:50,133 - INFO -  Spectrum Analyser: Successfully connected to Hewlett-Packard, E4405B, MY44220484, A.14.01\n",
      ".\n",
      "2020-04-22 22:10:50,137 - INFO -  Spectrum Analyser: Reset to factory settings successfull.\n",
      "2020-04-22 22:10:50,745 - INFO -  Spectrum Analyser: Display off.\n",
      "2020-04-22 22:10:51,174 - INFO -  Spectrum Analyser: Display on.\n",
      "2020-04-22 22:10:51,583 - INFO -  Spectrum Analyser: Center frequency set to 12000000000.0 Hz\n",
      "2020-04-22 22:10:51,974 - INFO -  Spectrum Analyser: Frequency span set 2600000000.0 Hz\n",
      "2020-04-22 22:11:10,722 - DEBUG - Client disconnected\n",
      "2020-04-22 22:11:14,853 - INFO - Client connected\n",
      "2020-04-22 22:11:14,861 - INFO -  Spectrum Analyser: Started logging\n",
      "2020-04-22 22:11:15,787 - INFO -  Spectrum Analyser: Successfully connected to Hewlett-Packard, E4405B, MY44220484, A.14.01\n",
      ".\n",
      "2020-04-22 22:11:15,790 - INFO -  Spectrum Analyser: Reset to factory settings successfull.\n",
      "2020-04-22 22:11:15,801 - INFO -  Spectrum Analyser: Display off.\n",
      "2020-04-22 22:11:15,814 - INFO -  Spectrum Analyser: Display on.\n",
      "2020-04-22 22:11:16,251 - INFO -  Spectrum Analyser: Center frequency set to 12000000000.0 Hz\n",
      "2020-04-22 22:11:16,773 - INFO -  Spectrum Analyser: Frequency span set 2600000000.0 Hz\n",
      "2020-04-22 22:11:50,853 - DEBUG - Client disconnected\n",
      "2020-04-22 22:11:54,027 - INFO - Client connected\n",
      "2020-04-22 22:11:54,034 - INFO -  Spectrum Analyser: Started logging\n",
      "2020-04-22 22:11:55,684 - INFO -  Spectrum Analyser: Successfully connected to Hewlett-Packard, E4405B, MY44220484, A.14.01\n",
      ".\n",
      "2020-04-22 22:11:55,689 - INFO -  Spectrum Analyser: Reset to factory settings successfull.\n",
      "2020-04-22 22:11:55,702 - INFO -  Spectrum Analyser: Display off.\n",
      "2020-04-22 22:11:55,721 - INFO -  Spectrum Analyser: Display on.\n",
      "2020-04-22 22:11:55,974 - INFO -  Spectrum Analyser: Center frequency set to 12000000000.0 Hz\n",
      "2020-04-22 22:11:56,404 - INFO -  Spectrum Analyser: Frequency span set 2600000000.0 Hz\n"
     ]
    }
   ],
   "source": [
    "print (\"Log messages will be displayed below\")"
   ]
  },
  {
   "cell_type": "code",
   "execution_count": null,
   "metadata": {},
   "outputs": [],
   "source": []
  },
  {
   "cell_type": "code",
   "execution_count": null,
   "metadata": {},
   "outputs": [],
   "source": []
  },
  {
   "cell_type": "code",
   "execution_count": null,
   "metadata": {},
   "outputs": [],
   "source": []
  }
 ],
 "metadata": {
  "kernelspec": {
   "display_name": "Python 3",
   "language": "python",
   "name": "python3"
  },
  "language_info": {
   "codemirror_mode": {
    "name": "ipython",
    "version": 3
   },
   "file_extension": ".py",
   "mimetype": "text/x-python",
   "name": "python",
   "nbconvert_exporter": "python",
   "pygments_lexer": "ipython3",
   "version": "3.7.4"
  }
 },
 "nbformat": 4,
 "nbformat_minor": 2
}
