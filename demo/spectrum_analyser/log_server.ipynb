{
 "cells": [
  {
   "cell_type": "code",
   "execution_count": 1,
   "metadata": {},
   "outputs": [],
   "source": [
    "from pylabnet.utils.logging.logger import LogService\n",
    "from pylabnet.network.core.generic_server import GenericServer\n",
    "import os\n",
    "import sys"
   ]
  },
  {
   "cell_type": "markdown",
   "metadata": {},
   "source": [
    "# Start Logging Server"
   ]
  },
  {
   "cell_type": "code",
   "execution_count": 2,
   "metadata": {},
   "outputs": [],
   "source": [
    "log_service_name = 'Logger'\n",
    "log_folder = 'logs'\n",
    "\n",
    "dir_path = os.path.join(os.path.abspath(''), log_folder)\n",
    "\n",
    "log_service = LogService(\n",
    "    log_output=False,\n",
    "    name=log_service_name,\n",
    "    dir_path=dir_path,\n",
    ")"
   ]
  },
  {
   "cell_type": "code",
   "execution_count": 3,
   "metadata": {},
   "outputs": [],
   "source": [
    "log_server = GenericServer(\n",
    "    service=log_service, \n",
    "    host='localhost', \n",
    "    port=12351\n",
    ")"
   ]
  },
  {
   "cell_type": "code",
   "execution_count": 4,
   "metadata": {},
   "outputs": [],
   "source": [
    "log_server.start()"
   ]
  },
  {
   "cell_type": "code",
   "execution_count": 5,
   "metadata": {},
   "outputs": [
    {
     "data": {
      "text/plain": [
       "True"
      ]
     },
     "execution_count": 5,
     "metadata": {},
     "output_type": "execute_result"
    }
   ],
   "source": [
    "log_server._server.active"
   ]
  },
  {
   "cell_type": "markdown",
   "metadata": {},
   "source": [
    "# Monitor Clients and Logging Output"
   ]
  },
  {
   "cell_type": "code",
   "execution_count": 6,
   "metadata": {},
   "outputs": [
    {
     "data": {
      "text/plain": [
       "set()"
      ]
     },
     "execution_count": 6,
     "metadata": {},
     "output_type": "execute_result"
    }
   ],
   "source": [
    "log_server._server.clients"
   ]
  },
  {
   "cell_type": "code",
   "execution_count": 7,
   "metadata": {
    "scrolled": true
   },
   "outputs": [
    {
     "name": "stdout",
     "output_type": "stream",
     "text": [
      "Log messages will be displayed below\n",
      "2020-05-20 20:43:08,274 - INFO - Client connected\n",
      "2020-05-20 20:43:08,284 - INFO -  Spectrum Analyser: Started logging\n",
      "2020-05-20 20:43:18,237 - INFO -  Spectrum Analyser: Successfully connected to Hewlett-Packard, E4405B, MY44220484, A.14.01\n",
      ".\n",
      "2020-05-20 20:43:18,240 - INFO -  Spectrum Analyser: Reset to factory settings successfull.\n",
      "2020-05-20 20:44:01,298 - INFO -  Spectrum Analyser: Client connected\n",
      "2020-05-20 20:44:03,209 - INFO -  Spectrum Analyser: Display off.\n",
      "2020-05-20 20:44:04,224 - INFO -  Spectrum Analyser: Display on.\n",
      "2020-05-20 20:44:06,424 - WARNING -  Spectrum Analyser: No background acquired. Run acquire_background_spectrum() to acquire background.\n",
      "2020-05-20 20:44:25,855 - WARNING -  Spectrum Analyser: No background acquired. Run acquire_background_spectrum() to acquire background.\n",
      "2020-05-20 20:45:10,905 - INFO -  Spectrum Analyser: Client disconnected\n",
      "2020-05-20 20:45:16,074 - INFO -  Spectrum Analyser: Client connected\n",
      "2020-05-20 20:45:17,584 - INFO -  Spectrum Analyser: Display off.\n",
      "2020-05-20 20:45:18,005 - INFO -  Spectrum Analyser: Display on.\n",
      "2020-05-20 20:45:21,014 - WARNING -  Spectrum Analyser: No background acquired. Run acquire_background_spectrum() to acquire background.\n",
      "2020-05-20 20:45:23,990 - INFO -  Spectrum Analyser: Center frequency set to 12000000000.0 Hz\n",
      "2020-05-20 20:45:23,996 - INFO -  Spectrum Analyser: Frequency span set 1000000000.0 Hz\n",
      "2020-05-20 20:47:08,636 - INFO -  Spectrum Analyser: Client disconnected\n",
      "2020-05-20 20:47:13,619 - INFO -  Spectrum Analyser: Client connected\n",
      "2020-05-20 20:47:14,869 - INFO -  Spectrum Analyser: Display off.\n",
      "2020-05-20 20:47:15,311 - INFO -  Spectrum Analyser: Display on.\n",
      "2020-05-20 20:47:18,788 - WARNING -  Spectrum Analyser: No background acquired. Run acquire_background_spectrum() to acquire background.\n",
      "2020-05-20 20:47:21,215 - INFO -  Spectrum Analyser: Center frequency set to 12000000000.0 Hz\n",
      "2020-05-20 20:47:21,222 - INFO -  Spectrum Analyser: Frequency span set 1000000000.0 Hz\n",
      "2020-05-20 20:47:28,075 - INFO -  Spectrum Analyser: Display off.\n",
      "2020-05-20 20:48:01,807 - INFO -  Spectrum Analyser: Display on.\n"
     ]
    }
   ],
   "source": [
    "print (\"Log messages will be displayed below\")"
   ]
  }
 ],
 "metadata": {
  "kernelspec": {
   "display_name": "Python 3",
   "language": "python",
   "name": "python3"
  },
  "language_info": {
   "codemirror_mode": {
    "name": "ipython",
    "version": 3
   },
   "file_extension": ".py",
   "mimetype": "text/x-python",
   "name": "python",
   "nbconvert_exporter": "python",
   "pygments_lexer": "ipython3",
   "version": "3.7.6"
  }
 },
 "nbformat": 4,
 "nbformat_minor": 2
}
