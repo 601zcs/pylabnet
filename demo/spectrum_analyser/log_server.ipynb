{
 "cells": [
  {
   "cell_type": "code",
   "execution_count": 1,
   "metadata": {},
   "outputs": [],
   "source": [
    "from pylabnet.utils.logging.logger import LogService\n",
    "from pylabnet.network.core.generic_server import GenericServer\n",
    "import os\n",
    "import sys"
   ]
  },
  {
   "cell_type": "markdown",
   "metadata": {},
   "source": [
    "# Start Logging Server"
   ]
  },
  {
   "cell_type": "code",
   "execution_count": 2,
   "metadata": {},
   "outputs": [],
   "source": [
    "log_service_name = 'Logger'\n",
    "log_folder = 'logs'\n",
    "\n",
    "dir_path = os.path.join(os.path.abspath(''), log_folder)\n",
    "\n",
    "log_service = LogService(\n",
    "    log_output=False,\n",
    "    name=log_service_name,\n",
    "    dir_path=dir_path,\n",
    ")"
   ]
  },
  {
   "cell_type": "code",
   "execution_count": 3,
   "metadata": {},
   "outputs": [],
   "source": [
    "log_server = GenericServer(\n",
    "    service=log_service, \n",
    "    host='localhost', \n",
    "    port=12351\n",
    ")"
   ]
  },
  {
   "cell_type": "code",
   "execution_count": 4,
   "metadata": {},
   "outputs": [],
   "source": [
    "log_server.start()"
   ]
  },
  {
   "cell_type": "code",
   "execution_count": 5,
   "metadata": {},
   "outputs": [
    {
     "data": {
      "text/plain": [
       "True"
      ]
     },
     "execution_count": 5,
     "metadata": {},
     "output_type": "execute_result"
    },
    {
     "name": "stdout",
     "output_type": "stream",
     "text": [
      "2020-08-07 13:51:56,247 - INFO - Client connected\n",
      "2020-08-07 13:51:56,277 - INFO -  Hittite T2220: Started logging\n",
      "2020-08-07 13:54:19,458 - INFO -  Hittite T2220: Successfully connected to Hittite,HMC-T2220,000924,2.5 5.3\n",
      ".\n",
      "2020-08-07 13:54:19,461 - INFO -  Hittite T2220: Reset to factory settings successfull.\n",
      "2020-08-07 13:55:53,614 - ERROR -  Hittite T2220: Frequency must be between 10 MHz and 20 GHz\n",
      "2020-08-07 14:09:23,789 - DEBUG - Client disconnected\n",
      "2020-08-07 14:10:44,676 - INFO - Client connected\n",
      "2020-08-07 14:10:44,689 - INFO -  Hittite T2220: Started logging\n",
      "2020-08-07 14:10:46,580 - INFO -  Hittite T2220: Successfully connected to Hittite,HMC-T2220,000924,2.5 5.3\n",
      ".\n",
      "2020-08-07 14:10:46,582 - INFO -  Hittite T2220: Reset to factory settings successfull.\n",
      "2020-08-07 14:11:07,520 - DEBUG - Client disconnected\n",
      "2020-08-07 14:11:11,196 - INFO - Client connected\n",
      "2020-08-07 14:11:11,212 - INFO -  Hittite T2220: Started logging\n",
      "2020-08-07 14:11:12,636 - INFO -  Hittite T2220: Successfully connected to Hittite,HMC-T2220,000924,2.5 5.3\n",
      ".\n",
      "2020-08-07 14:11:12,638 - INFO -  Hittite T2220: Reset to factory settings successfull.\n",
      "2020-08-07 15:22:17,772 - DEBUG - Client disconnected\n",
      "2020-08-07 15:22:47,260 - INFO - Client connected\n",
      "2020-08-07 15:22:47,272 - INFO -  Hittite T2220: Started logging\n",
      "2020-08-07 15:22:47,776 - INFO -  Hittite T2220: Successfully connected to Hittite,HMC-T2220,000924,2.5 5.3\n",
      ".\n",
      "2020-08-07 15:22:47,778 - INFO -  Hittite T2220: Reset to factory settings successfull.\n",
      "2020-08-07 15:23:22,785 - DEBUG - Client disconnected\n",
      "2020-08-07 15:23:26,337 - INFO - Client connected\n",
      "2020-08-07 15:23:26,348 - INFO -  Hittite T2220: Started logging\n",
      "2020-08-07 15:23:26,767 - INFO -  Hittite T2220: Successfully connected to Hittite,HMC-T2220,000924,2.5 5.3\n",
      ".\n",
      "2020-08-07 15:23:26,769 - INFO -  Hittite T2220: Reset to factory settings successfull.\n",
      "2020-08-07 15:23:58,764 - DEBUG - Client disconnected\n",
      "2020-08-07 15:24:02,745 - INFO - Client connected\n",
      "2020-08-07 15:24:02,759 - INFO -  Hittite T2220: Started logging\n",
      "2020-08-07 15:24:03,183 - INFO -  Hittite T2220: Successfully connected to Hittite,HMC-T2220,000924,2.5 5.3\n",
      ".\n",
      "2020-08-07 15:24:03,186 - INFO -  Hittite T2220: Reset to factory settings successfull.\n",
      "2020-08-07 15:24:06,983 - INFO -  Hittite T2220: Frequency of Hittite,HMC-T2220,000924,2.5 5.3\n",
      " set to 12000000000.0 Hz.\n",
      "2020-08-07 15:24:11,247 - INFO -  Hittite T2220: Frequency of Hittite,HMC-T2220,000924,2.5 5.3\n",
      " set to 13000000000.0 Hz.\n",
      "2020-08-07 15:25:38,653 - DEBUG - Client disconnected\n",
      "2020-08-07 15:25:41,522 - INFO - Client connected\n",
      "2020-08-07 15:25:41,532 - INFO -  Hittite T2220: Started logging\n",
      "2020-08-07 15:25:41,918 - INFO -  Hittite T2220: Successfully connected to Hittite,HMC-T2220,000924,2.5 5.3\n",
      ".\n",
      "2020-08-07 15:25:41,920 - INFO -  Hittite T2220: Reset to factory settings successfull.\n",
      "2020-08-07 15:25:43,774 - ERROR -  Hittite T2220: Frequency must be between 10000000.0 Hz and 20000000000.0 Hz\n",
      "2020-08-07 15:25:49,015 - INFO -  Hittite T2220: Frequency of Hittite,HMC-T2220,000924,2.5 5.3\n",
      " set to 20000000000.0 Hz.\n",
      "2020-08-07 15:25:53,564 - INFO -  Hittite T2220: Frequency of Hittite,HMC-T2220,000924,2.5 5.3\n",
      " set to 10000000.0 Hz.\n",
      "2020-08-07 15:25:57,432 - ERROR -  Hittite T2220: Frequency must be between 10000000.0 Hz and 20000000000.0 Hz\n",
      "2020-08-07 15:26:09,277 - INFO -  Hittite T2220: Ouput power of Hittite,HMC-T2220,000924,2.5 5.3\n",
      " set to -50 dBm.\n",
      "2020-08-07 15:26:14,156 - ERROR -  Hittite T2220: Power must be between -60.0 dBm and 30.0 dBm\n",
      "2020-08-07 15:26:18,157 - INFO -  Hittite T2220: Ouput power of Hittite,HMC-T2220,000924,2.5 5.3\n",
      " set to -60 dBm.\n",
      "2020-08-07 15:26:21,211 - ERROR -  Hittite T2220: Power must be between -60.0 dBm and 30.0 dBm\n",
      "2020-08-07 15:26:26,502 - INFO -  Hittite T2220: Ouput power of Hittite,HMC-T2220,000924,2.5 5.3\n",
      " set to -30 dBm.\n",
      "2020-08-07 15:26:29,067 - INFO -  Hittite T2220: Ouput power of Hittite,HMC-T2220,000924,2.5 5.3\n",
      " set to 30 dBm.\n",
      "2020-08-07 15:26:31,604 - ERROR -  Hittite T2220: Power must be between -60.0 dBm and 30.0 dBm\n",
      "2020-08-07 15:30:30,112 - INFO -  Hittite T2220: Output of Hittite,HMC-T2220,000924,2.5 5.3\n",
      " turned on.\n",
      "2020-08-07 15:30:37,261 - INFO -  Hittite T2220: Output of Hittite,HMC-T2220,000924,2.5 5.3\n",
      " turned off.\n",
      "2020-08-07 15:32:24,595 - INFO -  Hittite T2220: Output of Hittite,HMC-T2220,000924,2.5 5.3\n",
      " turned on.\n",
      "2020-08-07 15:41:54,508 - INFO -  Hittite T2220: Ouput power of Hittite,HMC-T2220,000924,2.5 5.3\n",
      " set to 20 dBm.\n",
      "2020-08-07 15:42:24,810 - INFO -  Hittite T2220: Ouput power of Hittite,HMC-T2220,000924,2.5 5.3\n",
      " set to 25 dBm.\n",
      "2020-08-07 15:47:36,922 - INFO -  Hittite T2220: Ouput power of Hittite,HMC-T2220,000924,2.5 5.3\n",
      " set to 2 dBm.\n",
      "2020-08-07 15:48:01,923 - INFO -  Hittite T2220: Ouput power of Hittite,HMC-T2220,000924,2.5 5.3\n",
      " set to 30 dBm.\n",
      "2020-08-07 15:54:03,954 - DEBUG - Client disconnected\n",
      "2020-08-07 15:54:08,453 - INFO - Client connected\n",
      "2020-08-07 15:54:08,466 - INFO -  Hittite T2220: Started logging\n",
      "2020-08-07 15:54:10,733 - INFO -  Hittite T2220: Successfully connected to Hittite,HMC-T2220,000924,2.5 5.3\n",
      ".\n",
      "2020-08-07 15:54:10,735 - INFO -  Hittite T2220: Reset to factory settings successfull.\n",
      "2020-08-07 15:54:14,693 - ERROR -  Hittite T2220: Frequency must be between 10000000.0 Hz and 20000000000.0 Hz\n",
      "2020-08-07 15:54:19,847 - INFO -  Hittite T2220: Frequency of Hittite,HMC-T2220,000924,2.5 5.3\n",
      " set to 10000000.0 Hz.\n",
      "2020-08-07 15:54:22,759 - INFO -  Hittite T2220: Ouput power of Hittite,HMC-T2220,000924,2.5 5.3\n",
      " set to 30 dBm.\n",
      "2020-08-07 15:54:26,126 - INFO -  Hittite T2220: Ouput power of Hittite,HMC-T2220,000924,2.5 5.3\n",
      " set to 30 dBm.\n",
      "2020-08-07 15:54:42,087 - INFO -  Hittite T2220: Frequency of Hittite,HMC-T2220,000924,2.5 5.3\n",
      " set to 12000000.0 Hz.\n",
      "2020-08-07 15:54:43,203 - INFO -  Hittite T2220: Ouput power of Hittite,HMC-T2220,000924,2.5 5.3\n",
      " set to 30 dBm.\n",
      "2020-08-07 15:54:54,885 - INFO -  Hittite T2220: Frequency of Hittite,HMC-T2220,000924,2.5 5.3\n",
      " set to 12000000000.0 Hz.\n",
      "2020-08-07 15:54:58,399 - INFO -  Hittite T2220: Ouput power of Hittite,HMC-T2220,000924,2.5 5.3\n",
      " set to 30 dBm.\n",
      "2020-08-07 15:55:11,045 - INFO -  Hittite T2220: Ouput power of Hittite,HMC-T2220,000924,2.5 5.3\n",
      " set to 30 dBm.\n",
      "2020-08-07 15:55:15,063 - DEBUG - Client disconnected\n",
      "2020-08-07 15:55:18,909 - INFO - Client connected\n",
      "2020-08-07 15:55:18,920 - INFO -  Hittite T2220: Started logging\n",
      "2020-08-07 15:55:20,093 - INFO -  Hittite T2220: Successfully connected to Hittite,HMC-T2220,000924,2.5 5.3\n",
      ".\n",
      "2020-08-07 15:55:20,095 - INFO -  Hittite T2220: Reset to factory settings successfull.\n",
      "2020-08-07 15:55:22,084 - INFO -  Hittite T2220: Frequency of Hittite,HMC-T2220,000924,2.5 5.3\n",
      " set to 12000000000.0 Hz.\n",
      "2020-08-07 15:55:23,527 - INFO -  Hittite T2220: Ouput power of Hittite,HMC-T2220,000924,2.5 5.3\n",
      " set to 30 dBm.\n",
      "2020-08-07 16:03:45,486 - ERROR -  Hittite T2220: Power must be between -60.0 dBm and 30.0 dBm\n",
      "2020-08-07 16:03:51,972 - INFO -  Hittite T2220: Ouput power of Hittite,HMC-T2220,000924,2.5 5.3\n",
      " set to -60 dBm.\n",
      "2020-08-07 16:04:55,385 - DEBUG - Client disconnected\n",
      "2020-08-07 16:04:59,198 - INFO - Client connected\n",
      "2020-08-07 16:04:59,209 - INFO -  Hittite T2220: Started logging\n",
      "2020-08-07 16:05:00,418 - INFO -  Hittite T2220: Successfully connected to Hittite,HMC-T2220,000924,2.5 5.3\n",
      ".\n",
      "2020-08-07 16:05:00,420 - INFO -  Hittite T2220: Reset to factory settings successfull.\n",
      "2020-08-07 16:06:12,031 - INFO -  Hittite T2220: Output of Hittite,HMC-T2220,000924,2.5 5.3\n",
      " turned on.\n",
      "2020-08-07 16:06:57,823 - INFO -  Hittite T2220: Output of Hittite,HMC-T2220,000924,2.5 5.3\n",
      " turned off.\n",
      "2020-08-07 16:09:20,269 - INFO -  Hittite T2220: Ouput power of Hittite,HMC-T2220,000924,2.5 5.3\n",
      " set to -5 dBm.\n",
      "2020-08-07 16:10:44,276 - DEBUG - Client disconnected\n",
      "2020-08-07 16:10:48,216 - INFO - Client connected\n",
      "2020-08-07 16:10:48,225 - INFO -  Hittite T2220: Started logging\n",
      "2020-08-07 16:10:49,414 - INFO -  Hittite T2220: Successfully connected to Hittite,HMC-T2220,000924,2.5 5.3\n",
      ".\n",
      "2020-08-07 16:10:49,415 - INFO -  Hittite T2220: Reset to factory settings successfull.\n",
      "2020-08-07 16:10:52,232 - INFO -  Hittite T2220: Frequency of Hittite,HMC-T2220,000924,2.5 5.3\n",
      " set to 12000000000.0 Hz.\n"
     ]
    },
    {
     "name": "stdout",
     "output_type": "stream",
     "text": [
      "2020-08-07 16:10:54,263 - INFO -  Hittite T2220: Ouput power of Hittite,HMC-T2220,000924,2.5 5.3\n",
      " set to -5 dBm.\n",
      "2020-08-07 16:10:57,872 - INFO -  Hittite T2220: Ouput power of Hittite,HMC-T2220,000924,2.5 5.3\n",
      " set to -30 dBm.\n",
      "2020-08-07 16:12:08,464 - INFO -  Hittite T2220: Ouput power of Hittite,HMC-T2220,000924,2.5 5.3\n",
      " set to -30 dBm.\n",
      "2020-08-07 16:12:13,401 - INFO -  Hittite T2220: Ouput power of Hittite,HMC-T2220,000924,2.5 5.3\n",
      " set to 30 dBm.\n",
      "2020-08-07 17:32:02,108 - DEBUG - Client disconnected\n",
      "2020-08-07 17:34:07,417 - INFO - Client connected\n",
      "2020-08-07 17:34:07,432 - INFO -  Hittite T2220: Started logging\n",
      "2020-08-07 17:34:08,455 - INFO -  Hittite T2220: Successfully connected to Hittite,HMC-T2220,000924,2.5 5.3\n",
      ".\n",
      "2020-08-07 17:34:08,457 - INFO -  Hittite T2220: Reset to factory settings successfull.\n",
      "2020-08-07 17:34:14,457 - INFO -  Hittite T2220: Frequency of Hittite,HMC-T2220,000924,2.5 5.3\n",
      " set to 12000000000.0 Hz.\n",
      "2020-08-07 17:34:50,013 - DEBUG - Client disconnected\n",
      "2020-08-07 17:34:52,996 - INFO - Client connected\n",
      "2020-08-07 17:34:53,010 - INFO -  Hittite T2220: Started logging\n",
      "2020-08-07 17:34:54,294 - INFO -  Hittite T2220: Successfully connected to Hittite,HMC-T2220,000924,2.5 5.3\n",
      ".\n",
      "2020-08-07 17:34:54,296 - INFO -  Hittite T2220: Reset to factory settings successfull.\n",
      "2020-08-07 17:34:59,451 - INFO -  Hittite T2220: Frequency of Hittite,HMC-T2220,000924,2.5 5.3\n",
      " set to 12000000000.0 Hz.\n",
      "2020-08-07 17:35:19,262 - INFO -  Hittite T2220: Ouput power of Hittite,HMC-T2220,000924,2.5 5.3\n",
      " set to 25 dBm.\n",
      "2020-08-07 17:36:35,797 - WARNING -  Hittite T2220: Choosen power level of 25.0 lies outside of calibration range.\n",
      "2020-08-07 17:36:35,800 - INFO -  Hittite T2220: Output of Hittite,HMC-T2220,000924,2.5 5.3\n",
      " turned on.\n",
      "2020-08-07 17:36:44,360 - INFO -  Hittite T2220: Ouput power of Hittite,HMC-T2220,000924,2.5 5.3\n",
      " set to 30 dBm.\n",
      "2020-08-07 17:36:52,653 - INFO -  Hittite T2220: Output of Hittite,HMC-T2220,000924,2.5 5.3\n",
      " turned on.\n",
      "2020-08-07 17:40:50,691 - DEBUG - Client disconnected\n",
      "2020-08-07 17:40:53,974 - INFO - Client connected\n",
      "2020-08-07 17:40:53,984 - INFO -  Hittite T2220: Started logging\n",
      "2020-08-07 17:40:55,074 - INFO -  Hittite T2220: Successfully connected to Hittite,HMC-T2220,000924,2.5 5.3\n",
      ".\n",
      "2020-08-07 17:40:55,077 - INFO -  Hittite T2220: Reset to factory settings successfull.\n",
      "2020-08-07 17:40:56,408 - INFO -  Hittite T2220: Frequency of Hittite,HMC-T2220,000924,2.5 5.3\n",
      " set to 12000000000.0 Hz.\n",
      "2020-08-07 17:40:59,339 - INFO -  Hittite T2220: Ouput power of Hittite,HMC-T2220,000924,2.5 5.3\n",
      " set to 30 dBm.\n",
      "2020-08-07 17:41:04,562 - WARNING -  Hittite T2220: Choosen power level of 30.0 lies outside of calibration range.\n",
      "2020-08-07 17:41:04,564 - INFO -  Hittite T2220: Output of Hittite,HMC-T2220,000924,2.5 5.3\n",
      " turned on.\n",
      "2020-08-07 17:41:19,173 - WARNING -  Hittite T2220: Choosen power level of 30.0 lies outside of calibration range.\n",
      "2020-08-07 17:41:19,176 - INFO -  Hittite T2220: Output of Hittite,HMC-T2220,000924,2.5 5.3\n",
      " turned on.\n",
      "2020-08-07 17:41:26,695 - INFO -  Hittite T2220: Ouput power of Hittite,HMC-T2220,000924,2.5 5.3\n",
      " set to 25 dBm.\n",
      "2020-08-07 17:41:26,703 - WARNING -  Hittite T2220: Choosen power level of 25.0 lies outside of calibration range.\n",
      "2020-08-07 17:41:30,391 - WARNING -  Hittite T2220: Choosen power level of 25.0 lies outside of calibration range.\n",
      "2020-08-07 17:41:30,393 - INFO -  Hittite T2220: Output of Hittite,HMC-T2220,000924,2.5 5.3\n",
      " turned on.\n",
      "2020-08-07 17:43:22,309 - DEBUG - Client disconnected\n",
      "2020-08-07 17:43:26,186 - INFO - Client connected\n",
      "2020-08-07 17:43:26,196 - INFO -  Hittite T2220: Started logging\n",
      "2020-08-07 17:43:27,192 - INFO -  Hittite T2220: Successfully connected to Hittite,HMC-T2220,000924,2.5 5.3\n",
      ".\n",
      "2020-08-07 17:43:27,194 - INFO -  Hittite T2220: Reset to factory settings successfull.\n",
      "2020-08-07 17:43:27,511 - INFO -  Hittite T2220: Frequency of Hittite,HMC-T2220,000924,2.5 5.3\n",
      " set to 12000000000.0 Hz.\n",
      "2020-08-07 17:43:28,942 - INFO -  Hittite T2220: Ouput power of Hittite,HMC-T2220,000924,2.5 5.3\n",
      " set to 25 dBm.\n"
     ]
    }
   ],
   "source": [
    "log_server._server.active"
   ]
  },
  {
   "cell_type": "markdown",
   "metadata": {},
   "source": [
    "# Monitor Clients and Logging Output"
   ]
  },
  {
   "cell_type": "code",
   "execution_count": 6,
   "metadata": {},
   "outputs": [
    {
     "data": {
      "text/plain": [
       "{<socket.socket fd=932, family=AddressFamily.AF_INET, type=SocketKind.SOCK_STREAM, proto=0, laddr=('127.0.0.1', 12351), raddr=('127.0.0.1', 52927)>}"
      ]
     },
     "execution_count": 6,
     "metadata": {},
     "output_type": "execute_result"
    }
   ],
   "source": [
    "log_server._server.clients"
   ]
  },
  {
   "cell_type": "code",
   "execution_count": 7,
   "metadata": {
    "scrolled": true
   },
   "outputs": [
    {
     "name": "stdout",
     "output_type": "stream",
     "text": [
      "Log messages will be displayed below\n",
      "2020-07-02 11:58:01,134 - DEBUG - Client disconnected\n",
      "2020-07-02 12:03:12,508 - INFO - Client connected\n",
      "2020-07-02 12:03:12,521 - INFO -  ZI HDAWG dev8227: Started logging\n",
      "2020-07-02 12:03:15,769 - INFO -  ZI HDAWG dev8227: Discovered device `dev8227`: HDAWG8 with options CNT, ME.\n",
      "2020-07-02 12:03:15,772 - INFO -  ZI HDAWG dev8227: Creating an API session for device `dev8227` on `127.0.0.1`, `8004` with apilevel `6`.\n",
      "2020-07-02 12:03:16,397 - INFO -  ZI HDAWG dev8227: Disabled everything.\n",
      "2020-07-02 12:03:16,400 - INFO -  ZI HDAWG dev8227: Set all DIO outputs to low.\n",
      "2020-07-02 12:06:54,108 - INFO - Client connected\n",
      "2020-07-02 12:06:54,117 - INFO -  Spectrum Analyser: Started logging\n",
      "2020-07-02 12:07:06,585 - INFO -  Spectrum Analyser: Successfully connected to Hewlett-Packard, E4405B, MY44220484, A.14.01\n",
      ".\n",
      "2020-07-02 12:07:06,589 - INFO -  Spectrum Analyser: Reset to factory settings successfull.\n",
      "2020-07-02 12:07:42,354 - INFO -  Spectrum Analyser: Client connected\n",
      "2020-07-02 12:07:49,289 - INFO -  ZI HDAWG dev8227: Enabled wave output 0.\n",
      "2020-07-02 12:07:49,297 - INFO -  ZI HDAWG dev8227: Enabled wave output 1.\n",
      "2020-07-02 12:07:56,611 - INFO -  Spectrum Analyser: Center frequency set to 12000000000.0 Hz\n",
      "2020-07-02 12:07:56,617 - INFO -  Spectrum Analyser: Frequency span set 1800000000.0 Hz\n",
      "2020-07-02 12:11:32,543 - DEBUG - Client disconnected\n",
      "2020-07-02 12:11:32,545 - INFO -  Spectrum Analyser: Client disconnected\n",
      "2020-07-02 12:11:41,972 - INFO - Client connected\n",
      "2020-07-02 12:11:41,984 - INFO -  ZI HDAWG dev8227: Started logging\n",
      "2020-07-02 12:11:44,452 - INFO -  ZI HDAWG dev8227: Discovered device `dev8227`: HDAWG8 with options CNT, ME.\n",
      "2020-07-02 12:11:44,455 - INFO -  ZI HDAWG dev8227: Creating an API session for device `dev8227` on `127.0.0.1`, `8004` with apilevel `6`.\n",
      "2020-07-02 12:11:44,965 - INFO -  ZI HDAWG dev8227: Disabled everything.\n",
      "2020-07-02 12:11:44,970 - INFO -  ZI HDAWG dev8227: Set all DIO outputs to low.\n",
      "2020-07-02 12:14:29,319 - INFO -  ZI HDAWG dev8227: Discovered device `dev8227`: HDAWG8 with options CNT, ME.\n",
      "2020-07-02 12:14:29,322 - INFO -  ZI HDAWG dev8227: Creating an API session for device `dev8227` on `127.0.0.1`, `8004` with apilevel `6`.\n",
      "2020-07-02 12:14:29,851 - INFO -  ZI HDAWG dev8227: Disabled everything.\n",
      "2020-07-02 12:14:29,854 - INFO -  ZI HDAWG dev8227: Set all DIO outputs to low.\n",
      "2020-07-02 12:14:33,670 - INFO -  Spectrum Analyser: Client connected\n",
      "2020-07-02 12:14:42,924 - INFO -  ZI HDAWG dev8227: Enabled wave output 0.\n",
      "2020-07-02 12:14:42,930 - INFO -  ZI HDAWG dev8227: Enabled wave output 1.\n",
      "2020-07-02 12:14:50,395 - INFO -  Spectrum Analyser: Center frequency set to 12000000000.0 Hz\n",
      "2020-07-02 12:14:50,402 - INFO -  Spectrum Analyser: Frequency span set 1800000000.0 Hz\n"
     ]
    }
   ],
   "source": [
    "print (\"Log messages will be displayed below\")"
   ]
  },
  {
   "cell_type": "code",
   "execution_count": null,
   "metadata": {},
   "outputs": [],
   "source": []
  }
 ],
 "metadata": {
  "kernelspec": {
   "display_name": "Python 3",
   "language": "python",
   "name": "python3"
  },
  "language_info": {
   "codemirror_mode": {
    "name": "ipython",
    "version": 3
   },
   "file_extension": ".py",
   "mimetype": "text/x-python",
   "name": "python",
   "nbconvert_exporter": "python",
   "pygments_lexer": "ipython3",
   "version": "3.7.8-final"
  }
 },
 "nbformat": 4,
 "nbformat_minor": 2
}