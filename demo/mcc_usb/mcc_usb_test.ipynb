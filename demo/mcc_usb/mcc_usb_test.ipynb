{
 "cells": [
  {
   "cell_type": "code",
   "execution_count": 1,
   "metadata": {},
   "outputs": [],
   "source": [
    "import time\n",
    "import numpy as np"
   ]
  },
  {
   "cell_type": "code",
   "execution_count": 2,
   "metadata": {},
   "outputs": [],
   "source": [
    "from mcculw import ul\n",
    "from mcculw.enums import ULRange\n",
    "from mcculw.ul import ULError"
   ]
  },
  {
   "cell_type": "code",
   "execution_count": 64,
   "metadata": {},
   "outputs": [],
   "source": [
    "from mcculw.enums import InterfaceType\n",
    "from mcculw.enums import DigitalPortType"
   ]
  },
  {
   "cell_type": "code",
   "execution_count": 5,
   "metadata": {},
   "outputs": [
    {
     "name": "stdout",
     "output_type": "stream",
     "text": [
      "Found 1 DAQ device(s):\n",
      "  USB-3114 (216B18D) - Device ID = 164\n"
     ]
    }
   ],
   "source": [
    "ul.ignore_instacal()\n",
    "devices = ul.get_daq_device_inventory(InterfaceType.ANY)\n",
    "if not devices:\n",
    "    raise Exception('Error: No DAQ devices found')\n",
    "\n",
    "print('Found', len(devices), 'DAQ device(s):')\n",
    "for device in devices:\n",
    "    print('  ', device.product_name, ' (', device.unique_id, ') - ',\n",
    "            'Device ID = ', device.product_id, sep='')"
   ]
  },
  {
   "cell_type": "code",
   "execution_count": 13,
   "metadata": {},
   "outputs": [],
   "source": [
    "ul.ignore_instacal()\n",
    "ul.create_daq_device(6, device)"
   ]
  },
  {
   "cell_type": "code",
   "execution_count": 14,
   "metadata": {},
   "outputs": [
    {
     "ename": "ULError",
     "evalue": "Error 1: Invalid board number.",
     "output_type": "error",
     "traceback": [
      "\u001b[1;31m---------------------------------------------------------------------------\u001b[0m",
      "\u001b[1;31mULError\u001b[0m                                   Traceback (most recent call last)",
      "\u001b[1;32mc:\\Users\\Smeagol\\pylabnet\\demo\\mcc_usb\\mcc_usb_test.ipynb Cell 7\u001b[0m line \u001b[0;36m1\n\u001b[1;32m----> <a href='vscode-notebook-cell:/c%3A/Users/Smeagol/pylabnet/demo/mcc_usb/mcc_usb_test.ipynb#W6sZmlsZQ%3D%3D?line=0'>1</a>\u001b[0m ul\u001b[39m.\u001b[39;49mflash_led(\u001b[39m12\u001b[39;49m)\n",
      "File \u001b[1;32mc:\\Users\\Smeagol\\pylabnet\\env\\lib\\site-packages\\mcculw\\ul.py:3333\u001b[0m, in \u001b[0;36mflash_led\u001b[1;34m(board_num)\u001b[0m\n\u001b[0;32m   3319\u001b[0m \u001b[39mdef\u001b[39;00m \u001b[39mflash_led\u001b[39m(board_num):\n\u001b[0;32m   3320\u001b[0m     \u001b[39m\"\"\"Causes the LED on a USB device to flash.\u001b[39;00m\n\u001b[0;32m   3321\u001b[0m \n\u001b[0;32m   3322\u001b[0m \u001b[39m    Parameters\u001b[39;00m\n\u001b[1;32m   (...)\u001b[0m\n\u001b[0;32m   3331\u001b[0m \u001b[39m    execution of the next function may fail.\u001b[39;00m\n\u001b[0;32m   3332\u001b[0m \u001b[39m    \"\"\"\u001b[39;00m\n\u001b[1;32m-> 3333\u001b[0m     _check_err(_cbw\u001b[39m.\u001b[39;49mcbFlashLED(board_num))\n",
      "File \u001b[1;32mc:\\Users\\Smeagol\\pylabnet\\env\\lib\\site-packages\\mcculw\\ul.py:6128\u001b[0m, in \u001b[0;36m_check_err\u001b[1;34m(errcode)\u001b[0m\n\u001b[0;32m   6126\u001b[0m \u001b[39mdef\u001b[39;00m \u001b[39m_check_err\u001b[39m(errcode):\n\u001b[0;32m   6127\u001b[0m     \u001b[39mif\u001b[39;00m errcode:\n\u001b[1;32m-> 6128\u001b[0m         \u001b[39mraise\u001b[39;00m ULError(errcode)\n",
      "\u001b[1;31mULError\u001b[0m: Error 1: Invalid board number."
     ]
    }
   ],
   "source": [
    "ul.flash_led(6)"
   ]
  },
  {
   "cell_type": "code",
   "execution_count": 28,
   "metadata": {},
   "outputs": [
    {
     "data": {
      "text/plain": [
       "6"
      ]
     },
     "execution_count": 28,
     "metadata": {},
     "output_type": "execute_result"
    }
   ],
   "source": [
    "ul.get_board_number(device)"
   ]
  },
  {
   "cell_type": "code",
   "execution_count": 62,
   "metadata": {},
   "outputs": [],
   "source": [
    "ul.a_out(6, 0, ULRange(5), 0)\n"
   ]
  },
  {
   "cell_type": "code",
   "execution_count": 81,
   "metadata": {},
   "outputs": [],
   "source": [
    "ul.d_bit_out(6, DigitalPortType.AUXPORT, 0, 0)"
   ]
  },
  {
   "cell_type": "code",
   "execution_count": 76,
   "metadata": {},
   "outputs": [],
   "source": [
    "from mcculw.enums import DigitalIODirection\n",
    "ul.d_config_port(6, DigitalPortType.AUXPORT, DigitalIODirection.OUT)"
   ]
  },
  {
   "cell_type": "code",
   "execution_count": null,
   "metadata": {},
   "outputs": [],
   "source": []
  }
 ],
 "metadata": {
  "kernelspec": {
   "display_name": "env",
   "language": "python",
   "name": "python3"
  },
  "language_info": {
   "codemirror_mode": {
    "name": "ipython",
    "version": 3
   },
   "file_extension": ".py",
   "mimetype": "text/x-python",
   "name": "python",
   "nbconvert_exporter": "python",
   "pygments_lexer": "ipython3",
   "version": "3.8.10"
  },
  "orig_nbformat": 4
 },
 "nbformat": 4,
 "nbformat_minor": 2
}
