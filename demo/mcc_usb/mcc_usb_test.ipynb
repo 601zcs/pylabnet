{
 "cells": [
  {
   "cell_type": "code",
   "execution_count": 1,
   "metadata": {},
   "outputs": [],
   "source": [
    "import time\n",
    "import numpy as np"
   ]
  },
  {
   "cell_type": "code",
   "execution_count": 2,
   "metadata": {},
   "outputs": [],
   "source": [
    "from mcculw import ul\n",
    "from mcculw.enums import ULRange\n",
    "from mcculw.ul import ULError"
   ]
  },
  {
   "cell_type": "code",
   "execution_count": 3,
   "metadata": {},
   "outputs": [],
   "source": [
    "from mcculw.enums import InterfaceType"
   ]
  },
  {
   "cell_type": "code",
   "execution_count": 4,
   "metadata": {},
   "outputs": [
    {
     "name": "stdout",
     "output_type": "stream",
     "text": [
      "Found 1 DAQ device(s):\n",
      "  USB-3114 (216B18D) - Device ID = 164\n"
     ]
    }
   ],
   "source": [
    "ul.ignore_instacal()\n",
    "devices = ul.get_daq_device_inventory(InterfaceType.ANY)\n",
    "if not devices:\n",
    "    raise Exception('Error: No DAQ devices found')\n",
    "\n",
    "print('Found', len(devices), 'DAQ device(s):')\n",
    "for device in devices:\n",
    "    print('  ', device.product_name, ' (', device.unique_id, ') - ',\n",
    "            'Device ID = ', device.product_id, sep='')"
   ]
  },
  {
   "cell_type": "code",
   "execution_count": 7,
   "metadata": {},
   "outputs": [],
   "source": [
    "ul.create_daq_device(12, device)"
   ]
  },
  {
   "cell_type": "code",
   "execution_count": 8,
   "metadata": {},
   "outputs": [],
   "source": [
    "ul.flash_led(12)"
   ]
  },
  {
   "cell_type": "code",
   "execution_count": null,
   "metadata": {},
   "outputs": [],
   "source": []
  }
 ],
 "metadata": {
  "kernelspec": {
   "display_name": "env",
   "language": "python",
   "name": "python3"
  },
  "language_info": {
   "codemirror_mode": {
    "name": "ipython",
    "version": 3
   },
   "file_extension": ".py",
   "mimetype": "text/x-python",
   "name": "python",
   "nbconvert_exporter": "python",
   "pygments_lexer": "ipython3",
   "version": "3.11.5"
  },
  "orig_nbformat": 4
 },
 "nbformat": 4,
 "nbformat_minor": 2
}
