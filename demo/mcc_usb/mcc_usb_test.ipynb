{
 "cells": [
  {
   "cell_type": "code",
   "execution_count": 10,
   "metadata": {},
   "outputs": [],
   "source": [
    "import time\n",
    "import numpy as np"
   ]
  },
  {
   "cell_type": "code",
   "execution_count": 11,
   "metadata": {},
   "outputs": [],
   "source": [
    "from mcculw import ul\n",
    "from mcculw.enums import ULRange\n",
    "from mcculw.ul import ULError"
   ]
  },
  {
   "cell_type": "code",
   "execution_count": 12,
   "metadata": {},
   "outputs": [],
   "source": [
    "from mcculw.enums import InterfaceType"
   ]
  },
  {
   "cell_type": "code",
   "execution_count": 6,
   "metadata": {},
   "outputs": [
    {
     "ename": "AttributeError",
     "evalue": "module 'mcculw.ul' has no attribute 'InstaCal'",
     "output_type": "error",
     "traceback": [
      "\u001b[1;31m---------------------------------------------------------------------------\u001b[0m",
      "\u001b[1;31mAttributeError\u001b[0m                            Traceback (most recent call last)",
      "\u001b[1;32mc:\\Users\\Smeagol\\pylabnet\\demo\\mcc_usb\\mcc_usb_test.ipynb Cell 4\u001b[0m line \u001b[0;36m1\n\u001b[1;32m----> <a href='vscode-notebook-cell:/c%3A/Users/Smeagol/pylabnet/demo/mcc_usb/mcc_usb_test.ipynb#X10sZmlsZQ%3D%3D?line=0'>1</a>\u001b[0m ul\u001b[39m.\u001b[39;49mInstaCal()\n",
      "\u001b[1;31mAttributeError\u001b[0m: module 'mcculw.ul' has no attribute 'InstaCal'"
     ]
    }
   ],
   "source": [
    "ul.InstaCal()"
   ]
  },
  {
   "cell_type": "code",
   "execution_count": 19,
   "metadata": {},
   "outputs": [
    {
     "ename": "Exception",
     "evalue": "Error: No DAQ devices found",
     "output_type": "error",
     "traceback": [
      "\u001b[1;31m---------------------------------------------------------------------------\u001b[0m",
      "\u001b[1;31mException\u001b[0m                                 Traceback (most recent call last)",
      "\u001b[1;32mc:\\Users\\Smeagol\\pylabnet\\demo\\mcc_usb\\mcc_usb_test.ipynb Cell 5\u001b[0m line \u001b[0;36m4\n\u001b[0;32m      <a href='vscode-notebook-cell:/c%3A/Users/Smeagol/pylabnet/demo/mcc_usb/mcc_usb_test.ipynb#W3sZmlsZQ%3D%3D?line=1'>2</a>\u001b[0m devices \u001b[39m=\u001b[39m ul\u001b[39m.\u001b[39mget_daq_device_inventory(InterfaceType\u001b[39m.\u001b[39mANY)\n\u001b[0;32m      <a href='vscode-notebook-cell:/c%3A/Users/Smeagol/pylabnet/demo/mcc_usb/mcc_usb_test.ipynb#W3sZmlsZQ%3D%3D?line=2'>3</a>\u001b[0m \u001b[39mif\u001b[39;00m \u001b[39mnot\u001b[39;00m devices:\n\u001b[1;32m----> <a href='vscode-notebook-cell:/c%3A/Users/Smeagol/pylabnet/demo/mcc_usb/mcc_usb_test.ipynb#W3sZmlsZQ%3D%3D?line=3'>4</a>\u001b[0m     \u001b[39mraise\u001b[39;00m \u001b[39mException\u001b[39;00m(\u001b[39m'\u001b[39m\u001b[39mError: No DAQ devices found\u001b[39m\u001b[39m'\u001b[39m)\n\u001b[0;32m      <a href='vscode-notebook-cell:/c%3A/Users/Smeagol/pylabnet/demo/mcc_usb/mcc_usb_test.ipynb#W3sZmlsZQ%3D%3D?line=5'>6</a>\u001b[0m \u001b[39mprint\u001b[39m(\u001b[39m'\u001b[39m\u001b[39mFound\u001b[39m\u001b[39m'\u001b[39m, \u001b[39mlen\u001b[39m(devices), \u001b[39m'\u001b[39m\u001b[39mDAQ device(s):\u001b[39m\u001b[39m'\u001b[39m)\n\u001b[0;32m      <a href='vscode-notebook-cell:/c%3A/Users/Smeagol/pylabnet/demo/mcc_usb/mcc_usb_test.ipynb#W3sZmlsZQ%3D%3D?line=6'>7</a>\u001b[0m \u001b[39mfor\u001b[39;00m device \u001b[39min\u001b[39;00m devices:\n",
      "\u001b[1;31mException\u001b[0m: Error: No DAQ devices found"
     ]
    }
   ],
   "source": [
    "ul.ignore_instacal()\n",
    "devices = ul.get_daq_device_inventory(InterfaceType.ANY)\n",
    "if not devices:\n",
    "    raise Exception('Error: No DAQ devices found')\n",
    "\n",
    "print('Found', len(devices), 'DAQ device(s):')\n",
    "for device in devices:\n",
    "    print('  ', device.product_name, ' (', device.unique_id, ') - ',\n",
    "            'Device ID = ', device.product_id, sep='')"
   ]
  },
  {
   "cell_type": "code",
   "execution_count": 7,
   "metadata": {},
   "outputs": [],
   "source": [
    "ul.create_daq_device(12, device)"
   ]
  },
  {
   "cell_type": "code",
   "execution_count": 8,
   "metadata": {},
   "outputs": [],
   "source": [
    "ul.flash_led(12)"
   ]
  },
  {
   "cell_type": "code",
   "execution_count": null,
   "metadata": {},
   "outputs": [],
   "source": []
  }
 ],
 "metadata": {
  "kernelspec": {
   "display_name": "env",
   "language": "python",
   "name": "python3"
  },
  "language_info": {
   "codemirror_mode": {
    "name": "ipython",
    "version": 3
   },
   "file_extension": ".py",
   "mimetype": "text/x-python",
   "name": "python",
   "nbconvert_exporter": "python",
   "pygments_lexer": "ipython3",
   "version": "3.8.10"
  },
  "orig_nbformat": 4
 },
 "nbformat": 4,
 "nbformat_minor": 2
}
