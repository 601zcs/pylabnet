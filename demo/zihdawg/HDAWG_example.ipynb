{
 "cells": [
  {
   "cell_type": "code",
   "execution_count": 5,
   "metadata": {},
   "outputs": [],
   "source": [
    "from pylabnet.hardware.zi_hdawg.zi_hdawg import HDAWG_Driver\n",
    "from pylabnet.utils.logging.logger import LogClient\n",
    "\n",
    "%matplotlib inline\n",
    "\n",
    "import matplotlib\n",
    "import numpy as np\n",
    "import textwrap\n",
    "import matplotlib.pyplot as plt"
   ]
  },
  {
   "cell_type": "code",
   "execution_count": 3,
   "metadata": {},
   "outputs": [],
   "source": [
    "dev_id = 'dev8040'\n",
    "\n",
    "# Instantiate\n",
    "logger = LogClient(\n",
    "    host='localhost',\n",
    "    port=12345,\n",
    "    module_tag=f'ZI HDAWG {dev_id}'\n",
    ")"
   ]
  },
  {
   "cell_type": "code",
   "execution_count": 4,
   "metadata": {},
   "outputs": [],
   "source": [
    "# Instanciate Hardware class\n",
    "hd = HDAWG_Driver(dev_id, logger)\n",
    "\n",
    "# Select channel grouping\n",
    "hd.set_channel_grouping(0)\n",
    "\n",
    "\n",
    "outputs = [0, 1]\n",
    "\n",
    "# Enable the outputs and set corresponding ranges\n",
    "hd.enable_output(outputs)\n",
    "for output in outputs:\n",
    "    hd.set_output_range(output, 0.2)\n",
    "\n",
    "    \n",
    "\n",
    "hd.disable_everything()"
   ]
  },
  {
   "cell_type": "code",
   "execution_count": 14,
   "metadata": {},
   "outputs": [
    {
     "data": {
      "image/png": "[encoded data removed]",
      "text/plain": [
       "<Figure size 432x288 with 1 Axes>"
      ]
     },
     "metadata": {
      "needs_background": "light"
     },
     "output_type": "display_data"
    }
   ],
   "source": [
    "# Now let's try to output something cool, how about the following Lissajou figure?\n",
    "a =3 \n",
    "b = 4 \n",
    "delta = np.pi/2\n",
    "num_samples = 16*100 # Should be multiples of 16\n",
    "t = np.linspace(-np.pi, np.pi, num_samples)\n",
    "\n",
    "\n",
    "x = np.sin(a * t + delta)\n",
    "y = np.sin(b * t)\n",
    "plt.subplot(2, 2, i+1)\n",
    "plt.plot(x, y)\n",
    "\n",
    "plt.show()"
   ]
  },
  {
   "cell_type": "code",
   "execution_count": 11,
   "metadata": {},
   "outputs": [
    {
     "data": {
      "text/plain": [
       "array([-1.        , -0.99993052, -0.99972208, ..., -0.99972208,\n",
       "       -0.99993052, -1.        ])"
      ]
     },
     "execution_count": 11,
     "metadata": {},
     "output_type": "execute_result"
    }
   ],
   "source": [
    "# We will use the dynamic waveform upload"
   ]
  },
  {
   "cell_type": "code",
   "execution_count": 15,
   "metadata": {},
   "outputs": [
    {
     "ename": "NameError",
     "evalue": "name 'textwrap' is not defined",
     "output_type": "error",
     "traceback": [
      "\u001b[1;31m---------------------------------------------------------------------------\u001b[0m",
      "\u001b[1;31mNameError\u001b[0m                                 Traceback (most recent call last)",
      "\u001b[1;32m<ipython-input-15-6bb5a279b859>\u001b[0m in \u001b[0;36m<module>\u001b[1;34m\u001b[0m\n\u001b[1;32m----> 1\u001b[1;33m awg_program = textwrap.dedent(\"\"\"\\\n\u001b[0m\u001b[0;32m      2\u001b[0m        \u001b[0mconst\u001b[0m \u001b[0mAWG_N\u001b[0m \u001b[1;33m=\u001b[0m \u001b[0m_c1_\u001b[0m\u001b[1;33m;\u001b[0m\u001b[1;33m\u001b[0m\u001b[1;33m\u001b[0m\u001b[0m\n\u001b[0;32m      3\u001b[0m        \u001b[0mwave\u001b[0m \u001b[0mx\u001b[0m \u001b[1;33m=\u001b[0m \u001b[0mzeros\u001b[0m\u001b[1;33m(\u001b[0m\u001b[0mAWG_N\u001b[0m\u001b[1;33m)\u001b[0m\u001b[1;33m;\u001b[0m\u001b[1;33m\u001b[0m\u001b[1;33m\u001b[0m\u001b[0m\n\u001b[0;32m      4\u001b[0m        \u001b[0mwave\u001b[0m \u001b[0my\u001b[0m \u001b[1;33m=\u001b[0m \u001b[0mzeros\u001b[0m\u001b[1;33m(\u001b[0m\u001b[0mAWG_N\u001b[0m\u001b[1;33m)\u001b[0m\u001b[1;33m;\u001b[0m\u001b[1;33m\u001b[0m\u001b[1;33m\u001b[0m\u001b[0m\n\u001b[0;32m      5\u001b[0m \u001b[1;33m\u001b[0m\u001b[0m\n",
      "\u001b[1;31mNameError\u001b[0m: name 'textwrap' is not defined"
     ]
    }
   ],
   "source": [
    "AWG_N = num_samples\n",
    "sequence = textwrap.dedent(\"\"\"\\\n",
    "        const AWG_N = _c1_;\n",
    "        wave x = zeros(AWG_N);\n",
    "        wave y = zeros(AWG_N);\n",
    "\n",
    "        while(1){\n",
    "            setTrigger(1);\n",
    "            setTrigger(0);\n",
    "            playWave(1, x);\n",
    "            playWave(2, y);\n",
    "        }\n",
    "        \"\"\")\n",
    "\n",
    "# Fill in the integer constant AWG_N\n",
    "sequence = sequence.replace('_c1_', str(AWG_N))\n",
    "\n"
   ]
  },
  {
   "cell_type": "code",
   "execution_count": null,
   "metadata": {},
   "outputs": [],
   "source": [
    "\n",
    "hd.set_channel_grouping(0)\n",
    "\n",
    "\n",
    "# Create an instance of the AWG Module\n",
    "awgModule = hd.daq.awgModule()\n",
    "awgModule.set('device', hd.device_id)\n",
    "awgModule.execute()\n",
    "\n",
    "hd.compile_upload_sequence(awgModule, sequence)"
   ]
  }
 ],
 "metadata": {
  "kernelspec": {
   "display_name": "Python 3",
   "language": "python",
   "name": "python3"
  },
  "language_info": {
   "codemirror_mode": {
    "name": "ipython",
    "version": 3
   },
   "file_extension": ".py",
   "mimetype": "text/x-python",
   "name": "python",
   "nbconvert_exporter": "python",
   "pygments_lexer": "ipython3",
   "version": "3.7.4"
  }
 },
 "nbformat": 4,
 "nbformat_minor": 2
}
