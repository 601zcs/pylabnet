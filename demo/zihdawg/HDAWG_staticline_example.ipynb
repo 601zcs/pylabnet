{
 "cells": [
  {
   "cell_type": "code",
   "execution_count": 1,
   "metadata": {},
   "outputs": [],
   "source": [
    "import pylabnet.hardware.zi_hdawg.zi_hdawg as zi_hdawg\n",
    "from pylabnet.utils.logging.logger import LogClient\n",
    "import pylabnet.hardware.staticline.staticline as staticline\n",
    "import time\n",
    "from IPython.display import HTML"
   ]
  },
  {
   "cell_type": "markdown",
   "metadata": {},
   "source": [
    "# Demonstration of StaticLine class usage for the ZI HDAWG"
   ]
  },
  {
   "cell_type": "code",
   "execution_count": 2,
   "metadata": {},
   "outputs": [],
   "source": [
    "dev_id = 'dev8040'\n",
    "\n",
    "# Instantiate LogClient.\n",
    "logger = LogClient(\n",
    "    host='localhost',\n",
    "    port=5323,\n",
    "    module_tag=f'ZI HDAWG {dev_id}'\n",
    ")"
   ]
  },
  {
   "cell_type": "code",
   "execution_count": 3,
   "metadata": {},
   "outputs": [],
   "source": [
    "# Instanciate Hardware class.\n",
    "hd = zi_hdawg.Driver(dev_id, logger)"
   ]
  },
  {
   "cell_type": "code",
   "execution_count": 4,
   "metadata": {},
   "outputs": [],
   "source": [
    "# Let assume we have a shutter connected to the HDAWG DIO-pin 1 which \n",
    "# is open if the pin voltage is high and closed otherwise.\n",
    "\n",
    "shutter = staticline.Driver(\n",
    "    name='Shutter',\n",
    "    logger=logger,\n",
    "    hardware_module=hd,\n",
    "    DIO_bit=1,\n",
    ") "
   ]
  },
  {
   "cell_type": "code",
   "execution_count": null,
   "metadata": {},
   "outputs": [],
   "source": [
    "# Now let's try to create a very slow TTL signal and verify the signal on the oscilloscope.\n",
    "n_reps = 10000\n",
    "t_wait = 100 # in ms\n",
    "for i in range(n_reps):\n",
    "    \n",
    "    # Set DIO pin to high\n",
    "    shutter.up()\n",
    "    \n",
    "    # Wait 100 ms\n",
    "    time.sleep(t_wait * 1e-3)\n",
    "    \n",
    "    # Set DIO pin to low\n",
    "    shutter.down()\n",
    "    \n",
    "    # Wait 200 ms\n",
    "    time.sleep(2 * t_wait * 1e-3)"
   ]
  },
  {
   "cell_type": "markdown",
   "metadata": {},
   "source": [
    "Let's connect DIO pin 1 to the oscilloscope and look at the output. In general, we have reproduced a digital waveform with approximately the desired timing. Since this waveform is generated software-side, the timing is not as accurate as if it were to be generated on the AWG istself."
   ]
  },
  {
   "cell_type": "markdown",
   "metadata": {},
   "source": [
    "![alt text](pictures/TEK0005.bmp \"Title\")"
   ]
  },
  {
   "cell_type": "markdown",
   "metadata": {},
   "source": [
    "![alt text](pictures/TEK0006.bmp \"Title\")"
   ]
  },
  {
   "cell_type": "markdown",
   "metadata": {},
   "source": [
    "Let's now verify that we can independently toggle all DIO inputs:"
   ]
  },
  {
   "cell_type": "code",
   "execution_count": 17,
   "metadata": {},
   "outputs": [],
   "source": [
    "# Reset all DIO outputs to 0.\n",
    "hd.reset_DIO_outputs()\n",
    "\n",
    "# Generate one StaticLine instance for every DIO output.\n",
    "all_DIOs =  [StaticLine(\n",
    "    name=f'DIO-{i} HDAWG',\n",
    "    logger=logger,\n",
    "    hardware_module=hd,\n",
    "    DIO_bit=i,\n",
    ") for i in range(32)]\n",
    "\n",
    "\n",
    "# Loop through bits 0 to 31 and set them to 1.\n",
    "for dio_staticline in all_DIOs:\n",
    "    dio_staticline.up()\n",
    "    time.sleep(0.3)\n",
    "\n",
    "# Loop back from bit 31 to 0 and toggle bits from 1 to 0 to 1\n",
    "for dio_staticline in all_DIOs[::-1]:\n",
    "    dio_staticline.down()\n",
    "    time.sleep(0.3)\n",
    "    dio_staticline.up()\n",
    "    time.sleep(0.3)\n",
    "    \n",
    "hd.reset_DIO_outputs()\n",
    "hd.disable_everything()"
   ]
  },
  {
   "cell_type": "markdown",
   "metadata": {},
   "source": [
    "As demonstrated on the screen video below, we can verify the correct toggling on the LabOne web interface (look at the DIO output tab)."
   ]
  },
  {
   "cell_type": "code",
   "execution_count": 19,
   "metadata": {},
   "outputs": [
    {
     "data": {
      "text/html": [
       "\n",
       "<div align=\"middle\">\n",
       "<video width=\"80%\" controls>\n",
       "      <source src=\"pictures/DIOtoggle.mp4\" type=\"video/mp4\">\n",
       "</video></div>"
      ],
      "text/plain": [
       "<IPython.core.display.HTML object>"
      ]
     },
     "execution_count": 19,
     "metadata": {},
     "output_type": "execute_result"
    }
   ],
   "source": [
    "HTML(\"\"\"\n",
    "<div align=\"middle\">\n",
    "<video width=\"80%\" controls>\n",
    "      <source src=\"pictures/DIOtoggle.mp4\" type=\"video/mp4\">\n",
    "</video></div>\"\"\")"
   ]
  }
 ],
 "metadata": {
  "kernelspec": {
   "display_name": "Python 3",
   "language": "python",
   "name": "python3"
  },
  "language_info": {
   "codemirror_mode": {
    "name": "ipython",
    "version": 3
   },
   "file_extension": ".py",
   "mimetype": "text/x-python",
   "name": "python",
   "nbconvert_exporter": "python",
   "pygments_lexer": "ipython3",
   "version": "3.7.4"
  }
 },
 "nbformat": 4,
 "nbformat_minor": 2
}
