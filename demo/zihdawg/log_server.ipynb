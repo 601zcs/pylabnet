{
 "cells": [
  {
   "cell_type": "code",
   "execution_count": 8,
   "metadata": {},
   "outputs": [],
   "source": [
    "from pylabnet.utils.logging.logger import LogService\n",
    "from pylabnet.core.generic_server import GenericServer"
   ]
  },
  {
   "cell_type": "markdown",
   "metadata": {},
   "source": [
    "# Start Logging Server"
   ]
  },
  {
   "cell_type": "code",
   "execution_count": 9,
   "metadata": {},
   "outputs": [],
   "source": [
    "log_service = LogService()"
   ]
  },
  {
   "cell_type": "code",
   "execution_count": 12,
   "metadata": {},
   "outputs": [],
   "source": [
    "log_server = GenericServer(\n",
    "    service=log_service, \n",
    "    host='localhost', \n",
    "    port=12347\n",
    ")"
   ]
  },
  {
   "cell_type": "code",
   "execution_count": 13,
   "metadata": {},
   "outputs": [],
   "source": [
    "log_server.start()"
   ]
  },
  {
   "cell_type": "code",
   "execution_count": 14,
   "metadata": {},
   "outputs": [
    {
     "data": {
      "text/plain": [
       "True"
      ]
     },
     "execution_count": 14,
     "metadata": {},
     "output_type": "execute_result"
    }
   ],
   "source": [
    "log_server._server.active"
   ]
  },
  {
   "cell_type": "markdown",
   "metadata": {},
   "source": [
    "# Monitor Clients and Logging Output"
   ]
  },
  {
   "cell_type": "code",
   "execution_count": 15,
   "metadata": {},
   "outputs": [
    {
     "data": {
      "text/plain": [
       "set()"
      ]
     },
     "execution_count": 15,
     "metadata": {},
     "output_type": "execute_result"
    }
   ],
   "source": [
    "log_server._server.clients"
   ]
  },
  {
   "cell_type": "code",
   "execution_count": 16,
   "metadata": {
    "scrolled": true
   },
   "outputs": [
    {
     "name": "stdout",
     "output_type": "stream",
     "text": [
      "Log messages will be displayed below\n",
      "[LOG INFO] Client connected\n",
      "[INFO] ZI HDAWG dev8040: Started logging at 2020-03-28, 23:58:36\n",
      "[INFO] ZI HDAWG dev8040: Discovered device `dev8040`: HDAWG8 with options MF, CNT, ME, PC, SKW.\n",
      "[INFO] ZI HDAWG dev8040: Creating an API session for device `dev8040` on `127.0.0.1`, `8004` with apilevel `6`.\n",
      "[INFO] ZI HDAWG dev8040: Disabled all wave outputs.\n",
      "[INFO] ZI HDAWG dev8040: Enabled wave output 0.\n",
      "[INFO] ZI HDAWG dev8040: Enabled wave output 1.\n",
      "[INFO] ZI HDAWG dev8040: Changed range of wave output 0                             to 0.2 V.\n",
      "[INFO] ZI HDAWG dev8040: Changed range of wave output 1                             to 0.2 V.\n",
      "[INFO] ZI HDAWG dev8040: AWG 0: Module created.\n",
      "[INFO] ZI HDAWG dev8040: AWG 0: Changed sampling rate to 2.4 GHz.\n",
      "[INFO] ZI HDAWG dev8040: Compilation successful with no warnings, will upload the program to the instrument.\n",
      "[INFO] ZI HDAWG dev8040: 0 progress: 1.00\n",
      "[INFO] ZI HDAWG dev8040: Upload to the instrument successful.\n",
      "[ERROR] ZI HDAWG dev8040: AWG 0: Invalid sampling rate'2.4 Gz', possible choices are ['2.4 GHz', '1.2 GHz', '600 MHz', '300 MHz', '150 MHz', '75 MHz', '37.5 MHz', '18.75 MHz', '9.37 MHz', '4.68 MHz', '2.34 MHz', '1.17 MHz', '585.93 kHz', '292.96 kHz']\n",
      "[LOG INFO] Client disconnected\n",
      "[LOG INFO] Client disconnected\n",
      "[LOG INFO] Client connected\n",
      "[INFO] ZI HDAWG dev8040: Started logging at 2020-03-29, 00:00:18\n",
      "[INFO] ZI HDAWG dev8040: Discovered device `dev8040`: HDAWG8 with options MF, CNT, ME, PC, SKW.\n",
      "[INFO] ZI HDAWG dev8040: Creating an API session for device `dev8040` on `127.0.0.1`, `8004` with apilevel `6`.\n",
      "[INFO] ZI HDAWG dev8040: Disabled all wave outputs.\n",
      "[INFO] ZI HDAWG dev8040: Enabled wave output 0.\n",
      "[INFO] ZI HDAWG dev8040: Enabled wave output 1.\n",
      "[INFO] ZI HDAWG dev8040: Changed range of wave output 0 to 0.2 V.\n",
      "[INFO] ZI HDAWG dev8040: Changed range of wave output 1 to 0.2 V.\n",
      "[INFO] ZI HDAWG dev8040: AWG 0: Module created.\n",
      "[INFO] ZI HDAWG dev8040: AWG 0: Changed sampling rate to 2.4 GHz.\n",
      "[INFO] ZI HDAWG dev8040: Compilation successful with no warnings, will upload the program to the instrument.\n",
      "[INFO] ZI HDAWG dev8040: 0 progress: 1.00\n",
      "[INFO] ZI HDAWG dev8040: Upload to the instrument successful.\n",
      "[ERROR] ZI HDAWG dev8040: AWG 0: Invalid sampling rate '2.4 Gz', possible choices are ['2.4 GHz', '1.2 GHz', '600 MHz', '300 MHz', '150 MHz', '75 MHz', '37.5 MHz', '18.75 MHz', '9.37 MHz', '4.68 MHz', '2.34 MHz', '1.17 MHz', '585.93 kHz', '292.96 kHz']\n"
     ]
    }
   ],
   "source": [
    "print (\"Log messages will be displayed below\")"
   ]
  }
 ],
 "metadata": {
  "kernelspec": {
   "display_name": "Python 3",
   "language": "python",
   "name": "python3"
  },
  "language_info": {
   "codemirror_mode": {
    "name": "ipython",
    "version": 3
   },
   "file_extension": ".py",
   "mimetype": "text/x-python",
   "name": "python",
   "nbconvert_exporter": "python",
   "pygments_lexer": "ipython3",
   "version": "3.7.4"
  }
 },
 "nbformat": 4,
 "nbformat_minor": 2
}
