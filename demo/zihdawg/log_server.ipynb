{
 "cells": [
  {
   "cell_type": "code",
   "execution_count": 1,
   "metadata": {},
   "outputs": [],
   "source": [
    "from pylabnet.utils.logging.logger import LogService\n",
    "from pylabnet.core.generic_server import GenericServer\n",
    "import os\n",
    "import sys"
   ]
  },
  {
   "cell_type": "markdown",
   "metadata": {},
   "source": [
    "# Start Logging Server"
   ]
  },
  {
   "cell_type": "code",
   "execution_count": 2,
   "metadata": {},
   "outputs": [],
   "source": [
    "log_service_name = 'Global Logger'\n",
    "log_folder = 'logs'\n",
    "\n",
    "dir_path = os.path.join(os.path.abspath(''), log_folder)\n",
    "\n",
    "log_service = LogService(\n",
    "    name=log_service_name,\n",
    "    log_output=True,\n",
    "    dir_path=dir_path,\n",
    ")"
   ]
  },
  {
   "cell_type": "code",
   "execution_count": 4,
   "metadata": {},
   "outputs": [],
   "source": [
    "log_server = GenericServer(\n",
    "    service=log_service, \n",
    "    host='localhost', \n",
    "    port=12350\n",
    ")"
   ]
  },
  {
   "cell_type": "code",
   "execution_count": 5,
   "metadata": {},
   "outputs": [],
   "source": [
    "log_server.start()"
   ]
  },
  {
   "cell_type": "code",
   "execution_count": 6,
   "metadata": {},
   "outputs": [
    {
     "data": {
      "text/plain": [
       "True"
      ]
     },
     "execution_count": 6,
     "metadata": {},
     "output_type": "execute_result"
    }
   ],
   "source": [
    "log_server._server.active"
   ]
  },
  {
   "cell_type": "markdown",
   "metadata": {},
   "source": [
    "# Monitor Clients and Logging Output"
   ]
  },
  {
   "cell_type": "code",
   "execution_count": 7,
   "metadata": {},
   "outputs": [
    {
     "data": {
      "text/plain": [
       "set()"
      ]
     },
     "execution_count": 7,
     "metadata": {},
     "output_type": "execute_result"
    }
   ],
   "source": [
    "log_server._server.clients"
   ]
  },
  {
   "cell_type": "code",
   "execution_count": 8,
   "metadata": {
    "scrolled": true
   },
   "outputs": [
    {
     "name": "stdout",
     "output_type": "stream",
     "text": [
      "Log messages will be displayed below\n"
     ]
    },
    {
     "name": "stderr",
     "output_type": "stream",
     "text": [
      "2020-04-01 17:07:32,479 - INFO - Client connected\n",
      "2020-04-01 17:07:32,489 - INFO -  ZI HDAWG dev8040: Started logging\n",
      "2020-04-01 17:07:51,328 - INFO -  ZI HDAWG dev8040: Discovered device `dev8040`: HDAWG8 with options MF, CNT, ME, PC, SKW.\n",
      "2020-04-01 17:07:51,331 - INFO -  ZI HDAWG dev8040: Creating an API session for device `dev8040` on `127.0.0.1`, `8004` with apilevel `6`.\n",
      "2020-04-01 17:07:52,011 - INFO -  ZI HDAWG dev8040: Disabled all wave outputs.\n",
      "2020-04-01 17:07:54,308 - INFO -  ZI HDAWG dev8040: Enabled wave output 0.\n",
      "2020-04-01 17:07:54,316 - INFO -  ZI HDAWG dev8040: Enabled wave output 1.\n",
      "2020-04-01 17:07:58,424 - INFO -  ZI HDAWG dev8040: Changed range of wave output 0 to 0.2 V.\n",
      "2020-04-01 17:07:58,441 - INFO -  ZI HDAWG dev8040: Changed range of wave output 1 to 0.2 V.\n",
      "2020-04-01 17:08:05,831 - INFO -  ZI HDAWG dev8040: AWG 0: Module created.\n",
      "2020-04-01 17:08:05,838 - INFO -  ZI HDAWG dev8040: AWG 0: Changed sampling rate to 2.4 GHz.\n",
      "2020-04-01 17:08:06,338 - INFO -  ZI HDAWG dev8040: Compilation successful with no warnings, will upload the program to the instrument.\n",
      "2020-04-01 17:08:06,545 - INFO -  ZI HDAWG dev8040: 0 progress: 0.00\n",
      "2020-04-01 17:08:06,748 - INFO -  ZI HDAWG dev8040: 1 progress: 1.00\n",
      "2020-04-01 17:08:06,751 - INFO -  ZI HDAWG dev8040: Upload to the instrument successful.\n",
      "2020-04-01 17:08:16,992 - INFO -  ZI HDAWG dev8040: AWG 0: Stopped.\n",
      "2020-04-01 17:08:17,462 - INFO -  ZI HDAWG dev8040: Compilation successful with no warnings, will upload the program to the instrument.\n",
      "2020-04-01 17:08:17,667 - INFO -  ZI HDAWG dev8040: 0 progress: 1.00\n",
      "2020-04-01 17:08:17,669 - INFO -  ZI HDAWG dev8040: Upload to the instrument successful.\n",
      "2020-04-01 17:10:01,615 - INFO -  ZI HDAWG dev8040: AWG 0: Started.\n",
      "2020-04-01 17:10:10,205 - INFO -  ZI HDAWG dev8040: AWG 0: Stopped.\n",
      "2020-04-01 17:10:15,122 - WARNING -  ZI HDAWG dev8040: Compilation successful with warnings, will upload the program to the instrument.\n",
      "2020-04-01 17:10:15,126 - WARNING -  ZI HDAWG dev8040: Compiler warning: Compilation started\n",
      "Detected 1 devices with a total of 1 AWG cores.\n",
      "Compiling source string\n",
      "Warning (line: 2): using vect with more that 100 arguments is discouraged, use CSV files to define your waveforms instead\n",
      "Warning (line: 3): using vect with more that 100 arguments is discouraged, use CSV files to define your waveforms instead\n",
      "\n",
      "Uploading ELF file to device dev8040\n",
      "2020-04-01 17:10:15,330 - INFO -  ZI HDAWG dev8040: 0 progress: 0.00\n",
      "2020-04-01 17:10:15,534 - INFO -  ZI HDAWG dev8040: 1 progress: 1.00\n",
      "2020-04-01 17:10:15,540 - INFO -  ZI HDAWG dev8040: Upload to the instrument successful.\n",
      "2020-04-01 17:10:15,547 - INFO -  ZI HDAWG dev8040: AWG 0: Started.\n"
     ]
    }
   ],
   "source": [
    "print (\"Log messages will be displayed below\")"
   ]
  },
  {
   "cell_type": "code",
   "execution_count": null,
   "metadata": {},
   "outputs": [],
   "source": []
  }
 ],
 "metadata": {
  "kernelspec": {
   "display_name": "Python 3",
   "language": "python",
   "name": "python3"
  },
  "language_info": {
   "codemirror_mode": {
    "name": "ipython",
    "version": 3
   },
   "file_extension": ".py",
   "mimetype": "text/x-python",
   "name": "python",
   "nbconvert_exporter": "python",
   "pygments_lexer": "ipython3",
   "version": "3.7.4"
  }
 },
 "nbformat": 4,
 "nbformat_minor": 2
}
