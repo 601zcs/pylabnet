{
 "cells": [
  {
   "cell_type": "code",
   "execution_count": 1,
   "metadata": {},
   "outputs": [],
   "source": [
    "from pylabnet.utils.logging.logger import LogService\n",
    "from pylabnet.core.generic_server import GenericServer\n",
    "import os\n",
    "import sys"
   ]
  },
  {
   "cell_type": "markdown",
   "metadata": {},
   "source": [
    "# Start Logging Server"
   ]
  },
  {
   "cell_type": "code",
   "execution_count": 3,
   "metadata": {},
   "outputs": [],
   "source": [
    "log_service_name = 'G12 Logger'\n",
    "log_folder = 'logs'\n",
    "\n",
    "dir_path = os.path.join(os.path.abspath(''), log_folder)\n",
    "\n",
    "log_service = LogService(\n",
    "    log_output=True,\n",
    "    name=log_service_name,\n",
    "    dir_path=dir_path,\n",
    ")"
   ]
  },
  {
   "cell_type": "code",
   "execution_count": 4,
   "metadata": {},
   "outputs": [],
   "source": [
    "log_server = GenericServer(\n",
    "    service=log_service, \n",
    "    host='localhost', \n",
    "    port=12351\n",
    ")"
   ]
  },
  {
   "cell_type": "code",
   "execution_count": 5,
   "metadata": {},
   "outputs": [],
   "source": [
    "log_server.start()"
   ]
  },
  {
   "cell_type": "code",
   "execution_count": 6,
   "metadata": {},
   "outputs": [
    {
     "data": {
      "text/plain": [
       "True"
      ]
     },
     "execution_count": 6,
     "metadata": {},
     "output_type": "execute_result"
    }
   ],
   "source": [
    "log_server._server.active"
   ]
  },
  {
   "cell_type": "markdown",
   "metadata": {},
   "source": [
    "# Monitor Clients and Logging Output"
   ]
  },
  {
   "cell_type": "code",
   "execution_count": 7,
   "metadata": {},
   "outputs": [
    {
     "data": {
      "text/plain": [
       "set()"
      ]
     },
     "execution_count": 7,
     "metadata": {},
     "output_type": "execute_result"
    }
   ],
   "source": [
    "log_server._server.clients"
   ]
  },
  {
   "cell_type": "code",
   "execution_count": 8,
   "metadata": {
    "scrolled": true
   },
   "outputs": [
    {
     "name": "stdout",
     "output_type": "stream",
     "text": [
      "Log messages will be displayed below\n"
     ]
    },
    {
     "name": "stderr",
     "output_type": "stream",
     "text": [
      "2020-04-01 19:23:57,104 - INFO - Client connected\n",
      "2020-04-01 19:23:57,104 - INFO - Client connected\n",
      "2020-04-01 19:23:57,115 - INFO -  ZI HDAWG dev8040: Started logging\n",
      "2020-04-01 19:23:57,115 - INFO -  ZI HDAWG dev8040: Started logging\n",
      "2020-04-01 19:24:01,504 - INFO -  ZI HDAWG dev8040: Discovered device `dev8040`: HDAWG8 with options MF, CNT, ME, PC, SKW.\n",
      "2020-04-01 19:24:01,504 - INFO -  ZI HDAWG dev8040: Discovered device `dev8040`: HDAWG8 with options MF, CNT, ME, PC, SKW.\n",
      "2020-04-01 19:24:01,515 - INFO -  ZI HDAWG dev8040: Creating an API session for device `dev8040` on `127.0.0.1`, `8004` with apilevel `6`.\n",
      "2020-04-01 19:24:01,515 - INFO -  ZI HDAWG dev8040: Creating an API session for device `dev8040` on `127.0.0.1`, `8004` with apilevel `6`.\n",
      "2020-04-01 19:24:01,525 - INFO -  ZI HDAWG dev8040: Will try to connect device `DEV8040` on interface 1GbE.\n",
      "2020-04-01 19:24:01,525 - INFO -  ZI HDAWG dev8040: Will try to connect device `DEV8040` on interface 1GbE.\n",
      "2020-04-01 19:24:02,268 - INFO -  ZI HDAWG dev8040: Disabled all wave outputs.\n",
      "2020-04-01 19:24:02,268 - INFO -  ZI HDAWG dev8040: Disabled all wave outputs.\n",
      "2020-04-01 19:24:04,281 - INFO -  ZI HDAWG dev8040: Enabled wave output 0.\n",
      "2020-04-01 19:24:04,281 - INFO -  ZI HDAWG dev8040: Enabled wave output 0.\n",
      "2020-04-01 19:24:04,296 - INFO -  ZI HDAWG dev8040: Enabled wave output 1.\n",
      "2020-04-01 19:24:04,296 - INFO -  ZI HDAWG dev8040: Enabled wave output 1.\n",
      "2020-04-01 19:24:08,418 - INFO -  ZI HDAWG dev8040: Changed range of wave output 0 to 0.2 V.\n",
      "2020-04-01 19:24:08,418 - INFO -  ZI HDAWG dev8040: Changed range of wave output 0 to 0.2 V.\n",
      "2020-04-01 19:24:11,112 - INFO -  ZI HDAWG dev8040: Changed range of wave output 1 to 0.2 V.\n",
      "2020-04-01 19:24:11,112 - INFO -  ZI HDAWG dev8040: Changed range of wave output 1 to 0.2 V.\n",
      "2020-04-01 19:24:11,598 - INFO -  ZI HDAWG dev8040: AWG 0: Module created.\n",
      "2020-04-01 19:24:11,598 - INFO -  ZI HDAWG dev8040: AWG 0: Module created.\n",
      "2020-04-01 19:24:11,609 - INFO -  ZI HDAWG dev8040: AWG 0: Changed sampling rate to 2.4 GHz.\n",
      "2020-04-01 19:24:11,609 - INFO -  ZI HDAWG dev8040: AWG 0: Changed sampling rate to 2.4 GHz.\n",
      "2020-04-01 19:24:12,107 - INFO -  ZI HDAWG dev8040: Compilation successful with no warnings, will upload the program to the instrument.\n",
      "2020-04-01 19:24:12,107 - INFO -  ZI HDAWG dev8040: Compilation successful with no warnings, will upload the program to the instrument.\n",
      "2020-04-01 19:24:12,316 - INFO -  ZI HDAWG dev8040: 0 progress: 0.00\n",
      "2020-04-01 19:24:12,316 - INFO -  ZI HDAWG dev8040: 0 progress: 0.00\n",
      "2020-04-01 19:24:12,523 - INFO -  ZI HDAWG dev8040: 1 progress: 1.00\n",
      "2020-04-01 19:24:12,523 - INFO -  ZI HDAWG dev8040: 1 progress: 1.00\n",
      "2020-04-01 19:24:12,531 - INFO -  ZI HDAWG dev8040: Upload to the instrument successful.\n",
      "2020-04-01 19:24:12,531 - INFO -  ZI HDAWG dev8040: Upload to the instrument successful.\n",
      "2020-04-01 19:24:12,579 - INFO -  ZI HDAWG dev8040: AWG 0: Started.\n",
      "2020-04-01 19:24:12,579 - INFO -  ZI HDAWG dev8040: AWG 0: Started.\n",
      "2020-04-01 19:24:12,594 - INFO -  ZI HDAWG dev8040: AWG 0: Stopped.\n",
      "2020-04-01 19:24:12,594 - INFO -  ZI HDAWG dev8040: AWG 0: Stopped.\n",
      "2020-04-01 19:24:13,089 - INFO -  ZI HDAWG dev8040: Compilation successful with no warnings, will upload the program to the instrument.\n",
      "2020-04-01 19:24:13,089 - INFO -  ZI HDAWG dev8040: Compilation successful with no warnings, will upload the program to the instrument.\n",
      "2020-04-01 19:24:13,295 - INFO -  ZI HDAWG dev8040: 0 progress: 1.00\n",
      "2020-04-01 19:24:13,295 - INFO -  ZI HDAWG dev8040: 0 progress: 1.00\n",
      "2020-04-01 19:24:13,304 - INFO -  ZI HDAWG dev8040: Upload to the instrument successful.\n",
      "2020-04-01 19:24:13,304 - INFO -  ZI HDAWG dev8040: Upload to the instrument successful.\n",
      "2020-04-01 19:24:13,338 - INFO -  ZI HDAWG dev8040: AWG 0: Started.\n",
      "2020-04-01 19:24:13,338 - INFO -  ZI HDAWG dev8040: AWG 0: Started.\n"
     ]
    }
   ],
   "source": [
    "print (\"Log messages will be displayed below\")"
   ]
  },
  {
   "cell_type": "code",
   "execution_count": null,
   "metadata": {},
   "outputs": [],
   "source": []
  }
 ],
 "metadata": {
  "kernelspec": {
   "display_name": "Python 3",
   "language": "python",
   "name": "python3"
  },
  "language_info": {
   "codemirror_mode": {
    "name": "ipython",
    "version": 3
   },
   "file_extension": ".py",
   "mimetype": "text/x-python",
   "name": "python",
   "nbconvert_exporter": "python",
   "pygments_lexer": "ipython3",
   "version": "3.7.4"
  }
 },
 "nbformat": 4,
 "nbformat_minor": 2
}
