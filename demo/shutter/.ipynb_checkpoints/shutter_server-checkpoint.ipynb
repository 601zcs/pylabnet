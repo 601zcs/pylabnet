{
 "cells": [
  {
   "cell_type": "code",
   "execution_count": 1,
   "metadata": {},
   "outputs": [],
   "source": [
    "from pylabnet.hardware.shutters.sc20shutter import SC20Shutter\n",
    "from pylabnet.utils.logging.logger import LogClient\n",
    "from pylabnet.core.generic_server import GenericServer"
   ]
  },
  {
   "cell_type": "code",
   "execution_count": 2,
   "metadata": {},
   "outputs": [],
   "source": [
    "# Instantiate Logger\n",
    "shutter_logger = LogClient(\n",
    "    host='localhost', \n",
    "    port=1238, \n",
    "    module_tag='Shutter Log Server'\n",
    ")"
   ]
  },
  {
   "cell_type": "code",
   "execution_count": 3,
   "metadata": {},
   "outputs": [],
   "source": [
    "# Instantiate DAQ Connection\n",
    "device_name = 'cDAQ1Mod1'\n",
    "output = 'ao2'\n",
    "name = 'testshutter'\n",
    "\n",
    "shutter = SC20Shutter(device_name=device_name, output_channel=output, shutter_name=name, logger=shutter_logger)"
   ]
  },
  {
   "cell_type": "code",
   "execution_count": 4,
   "metadata": {},
   "outputs": [],
   "source": [
    "# Instantiate Server\n",
    "shutter_service = shutter.Service()\n",
    "shutter_service.assign_module(module=shutter)\n",
    "shutter_service.assign_logger(logger=shutter_logger)\n",
    "shutter_service_server = GenericServer(\n",
    "    service=shutter_service, \n",
    "    host='localhost', \n",
    "    port=5679\n",
    ")"
   ]
  },
  {
   "cell_type": "code",
   "execution_count": 5,
   "metadata": {},
   "outputs": [],
   "source": [
    "shutter_service_server.start()"
   ]
  },
  {
   "cell_type": "code",
   "execution_count": 6,
   "metadata": {},
   "outputs": [
    {
     "data": {
      "text/plain": [
       "set()"
      ]
     },
     "execution_count": 6,
     "metadata": {},
     "output_type": "execute_result"
    }
   ],
   "source": [
    "shutter_service_server._server.clients"
   ]
  },
  {
   "cell_type": "code",
   "execution_count": null,
   "metadata": {},
   "outputs": [],
   "source": []
  }
 ],
 "metadata": {
  "kernelspec": {
   "display_name": "Python 3",
   "language": "python",
   "name": "python3"
  },
  "language_info": {
   "codemirror_mode": {
    "name": "ipython",
    "version": 3
   },
   "file_extension": ".py",
   "mimetype": "text/x-python",
   "name": "python",
   "nbconvert_exporter": "python",
   "pygments_lexer": "ipython3",
   "version": "3.7.4"
  }
 },
 "nbformat": 4,
 "nbformat_minor": 2
}
