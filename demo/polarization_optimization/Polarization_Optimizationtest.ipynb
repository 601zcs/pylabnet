{
 "cells": [
  {
   "cell_type": "code",
   "execution_count": 12,
   "metadata": {},
   "outputs": [],
   "source": [
    "import pyvisa\n",
    "from pylabnet.utils.logging.logger import LogClient\n",
    "from pylabnet.network.core.generic_server import GenericServer\n",
    "from pylabnet.hardware.power_meter.thorlabs_pm320e import Driver\n",
    "from pylabnet.hardware.polarization.polarization_control import MPC320, paddle1, paddle2, paddle3\n",
    "import time\n",
    "import numpy as np\n",
    "import matplotlib.pyplot as plt\n",
    "%matplotlib inline\n"
   ]
  },
  {
   "cell_type": "code",
   "execution_count": 13,
   "metadata": {},
   "outputs": [],
   "source": [
    "gpib_addres = 'USB0::0x1313::0x8022::M00579698::INSTR'\n",
    "\n",
    "# Instantiate\n",
    "logger = LogClient(\n",
    "    host='139.180.129.96',\n",
    "    port=28161,\n",
    "    module_tag='Polarization Optimizer'\n",
    ")\n",
    "\n",
    "power_meter = Driver(\n",
    "    gpib_address=gpib_addres, \n",
    "    logger=logger\n",
    ")\n"
   ]
  },
  {
   "cell_type": "code",
   "execution_count": 14,
   "metadata": {},
   "outputs": [
    {
     "output_type": "stream",
     "name": "stdout",
     "text": [
      "There are 1 devices connected\nDevice list created succesfully\nConnected to device 38154354,\nDescription:  b'Polarization Controller'\nSerial No:  b'38154354'\nMotor Type:  6553856\nUSB PID:  1727607224\nMax Number of Paddles:  1\nInitial power is 1.09385248e-08 W.\n"
     ]
    }
   ],
   "source": [
    "power_meter.set_range(2,'R100NW')\n",
    "\n",
    "pol_paddle = MPC320()\n",
    "\n",
    "# Output of pol. paddle is connected to output 2 of powermeter\n",
    "channel = 2\n",
    "init_power = power_meter.get_power(channel)\n",
    "\n",
    "print(f\"Initial power is {init_power} W.\")"
   ]
  },
  {
   "cell_type": "code",
   "execution_count": 15,
   "metadata": {},
   "outputs": [
    {
     "output_type": "stream",
     "name": "stdout",
     "text": [
      "Connected succesfully to device\n"
     ]
    }
   ],
   "source": [
    "paddles = [paddle1, paddle3, paddle2]\n",
    "device = pol_paddle.device_info.serialNo\n",
    "\n",
    "pol_paddle.open(device)\n",
    "\n",
    "#optimize pol for max power\n",
    "home1 = pol_paddle.home(device, paddle1)\n",
    "home2 = pol_paddle.home(device, paddle2)\n",
    "home3 = pol_paddle.home(device, paddle3)\n",
    "\n",
    "for paddle in paddles:\n",
    "    move = pol_paddle.move(device, paddle, 85)\n"
   ]
  },
  {
   "cell_type": "code",
   "execution_count": 16,
   "metadata": {},
   "outputs": [],
   "source": [
    "stepnum = 25 #number of dtep angles within range\n",
    "count = 0\n",
    "itercount = 0\n",
    "ang = [] \n",
    "angle = []\n",
    "power = []\n",
    "pos = []\n",
    "iterationnum = 40\n",
    "ang_paddles = []\n",
    "power_paddles = []\n",
    "\n"
   ]
  },
  {
   "cell_type": "code",
   "execution_count": 10,
   "metadata": {
    "tags": []
   },
   "outputs": [
    {
     "output_type": "error",
     "ename": "NameError",
     "evalue": "name 'pol_paddle' is not defined",
     "traceback": [
      "\u001b[1;31m---------------------------------------------------------------------------\u001b[0m",
      "\u001b[1;31mNameError\u001b[0m                                 Traceback (most recent call last)",
      "\u001b[1;32m<ipython-input-10-c6d2f8ab09bb>\u001b[0m in \u001b[0;36m<module>\u001b[1;34m\u001b[0m\n\u001b[0;32m      2\u001b[0m     \u001b[0mdeviate\u001b[0m \u001b[1;33m=\u001b[0m \u001b[1;36m170\u001b[0m \u001b[1;31m#range of angle to scan\u001b[0m\u001b[1;33m\u001b[0m\u001b[1;33m\u001b[0m\u001b[0m\n\u001b[0;32m      3\u001b[0m     \u001b[0mstepsize\u001b[0m \u001b[1;33m=\u001b[0m \u001b[0mdeviate\u001b[0m\u001b[1;33m/\u001b[0m\u001b[0mstepnum\u001b[0m\u001b[1;33m\u001b[0m\u001b[1;33m\u001b[0m\u001b[0m\n\u001b[1;32m----> 4\u001b[1;33m     \u001b[0mmove_in\u001b[0m \u001b[1;33m=\u001b[0m \u001b[0mpol_paddle\u001b[0m\u001b[1;33m.\u001b[0m\u001b[0mmove_rel\u001b[0m\u001b[1;33m(\u001b[0m\u001b[0mdevice\u001b[0m\u001b[1;33m,\u001b[0m \u001b[0mpaddle\u001b[0m\u001b[1;33m,\u001b[0m \u001b[1;33m-\u001b[0m\u001b[0mdeviate\u001b[0m\u001b[1;33m/\u001b[0m\u001b[1;36m2\u001b[0m\u001b[1;33m)\u001b[0m\u001b[1;33m\u001b[0m\u001b[1;33m\u001b[0m\u001b[0m\n\u001b[0m\u001b[0;32m      5\u001b[0m     \u001b[1;32mwhile\u001b[0m \u001b[0mitercount\u001b[0m \u001b[1;33m<\u001b[0m \u001b[0miterationnum\u001b[0m\u001b[1;33m:\u001b[0m\u001b[1;33m\u001b[0m\u001b[1;33m\u001b[0m\u001b[0m\n\u001b[0;32m      6\u001b[0m \u001b[1;33m\u001b[0m\u001b[0m\n",
      "\u001b[1;31mNameError\u001b[0m: name 'pol_paddle' is not defined"
     ]
    }
   ],
   "source": [
    "for paddle in paddles:\n",
    "    deviate = 170 #range of angle to scan\n",
    "    stepsize = deviate/stepnum\n",
    "    move_in = pol_paddle.move_rel(device, paddle, -deviate/2)\n",
    "    while itercount < iterationnum:\n",
    "        \n",
    "        if itercount >= 1:\n",
    "            move = pol_paddle.move(device, paddle, ang[itercount-1]-deviate/2)\n",
    "        while count < stepnum:\n",
    "            mover = pol_paddle.move_rel(device, paddle, stepsize)\n",
    "            PosF = pol_paddle.get_angle(device, paddle)\n",
    "            print(f\"itercount = {itercount} count = {count}\")\n",
    "            print(f\"Position after move relative is {PosF}\") \n",
    "            current_power = power_meter.get_power(channel)\n",
    "            print(f\"Current power is {current_power} W.\")\n",
    "            power.extend([current_power])\n",
    "            angle.extend([PosF])\n",
    "            count += 1\n",
    "        \n",
    "        plt.title(f\"paddle # {paddle} , iteration # {itercount}.\")\n",
    "        plt.plot(angle, power, \"or\")\n",
    "        plt.show()\n",
    "        maxindex = np.argmax(power)\n",
    "        ang.extend([angle[maxindex]]) \n",
    "        if itercount >= 1:\n",
    "            if abs(ang[itercount] - ang[itercount-1]) < 0.05:\n",
    "                print(f\"converged to max power.\")\n",
    "                move = pol_paddle.move(device, paddle, angle[maxindex])\n",
    "                count = 0\n",
    "                itercount = 0\n",
    "                power = []\n",
    "                angle = []\n",
    "                break\n",
    "\n",
    "        deviate = deviate/2\n",
    "        stepsize = deviate/stepnum\n",
    "        itercount += 1\n",
    "        count = 0\n",
    "\n",
    "    ang_paddles.extend(ang)\n",
    "    power_paddles.extend(power)\n",
    "    ang = []\n",
    "    itercount = 0\n",
    "    \n",
    "PosF1 = pol_paddle.get_angle(device, paddles[0])\n",
    "print(f\"paddle = {paddles[0]} final_angle = {PosF1}\")\n",
    "PosF2 = pol_paddle.get_angle(device, paddles[1])\n",
    "print(f\"paddle = {paddles[1]} final_angle = {PosF2}\")\n",
    "PosF3 = pol_paddle.get_angle(device, paddles[2])\n",
    "print(f\"paddle = {paddles[2]} final_angle = {PosF3}\")\n"
   ]
  },
  {
   "cell_type": "code",
   "execution_count": null,
   "metadata": {},
   "outputs": [],
   "source": [
    "pol_paddle.close(device)\n"
   ]
  },
  {
   "cell_type": "code",
   "execution_count": null,
   "metadata": {},
   "outputs": [],
   "source": []
  }
 ],
 "metadata": {
  "kernelspec": {
   "display_name": "Python 3",
   "language": "python",
   "name": "python3"
  },
  "language_info": {
   "codemirror_mode": {
    "name": "ipython",
    "version": 3
   },
   "file_extension": ".py",
   "mimetype": "text/x-python",
   "name": "python",
   "nbconvert_exporter": "python",
   "pygments_lexer": "ipython3",
   "version": "3.7.6-final"
  }
 },
 "nbformat": 4,
 "nbformat_minor": 4
}