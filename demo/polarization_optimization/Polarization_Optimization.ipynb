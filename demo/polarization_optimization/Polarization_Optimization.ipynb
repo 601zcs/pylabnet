{
 "cells": [
  {
   "cell_type": "code",
   "execution_count": 20,
   "metadata": {},
   "outputs": [],
   "source": [
    "import pyvisa\n",
    "from pylabnet.utils.logging.logger import LogClient\n",
    "from pylabnet.network.core.generic_server import GenericServer\n",
    "from pylabnet.hardware.power_meter.thorlabs_pm320e import Driver\n",
    "from pylabnet.hardware.polarization.polarization_control import MPC320, paddle2\n",
    "import time"
   ]
  },
  {
   "cell_type": "code",
   "execution_count": 2,
   "metadata": {},
   "outputs": [],
   "source": [
    "gpib_addres = 'USB0::0x1313::0x8022::M00579698::INSTR'\n",
    "\n",
    "# Instantiate\n",
    "logger = LogClient(\n",
    "    host='139.180.129.96',\n",
    "    port=12087,\n",
    "    module_tag='Polarization Optimizer'\n",
    ")"
   ]
  },
  {
   "cell_type": "code",
   "execution_count": 3,
   "metadata": {},
   "outputs": [],
   "source": [
    "power_meter = Driver(\n",
    "    gpib_address=gpib_addres, \n",
    "    logger=logger\n",
    ")"
   ]
  },
  {
   "cell_type": "code",
   "execution_count": 50,
   "metadata": {},
   "outputs": [],
   "source": [
    "power_meter.set_range(2, 'R100UW')"
   ]
  },
  {
   "cell_type": "code",
   "execution_count": 4,
   "metadata": {},
   "outputs": [
    {
     "name": "stdout",
     "output_type": "stream",
     "text": [
      "There are 1 devices connected\n",
      "Device list created succesfully\n",
      "Connected to device 38154354,\n",
      "Description:  b'Polarization Controller'\n",
      "Serial No:  b'38154354'\n",
      "Motor Type:  6553856\n",
      "USB PID:  2397516216\n",
      "Max Number of Paddles:  1\n",
      "Connected succesfully to device\n"
     ]
    }
   ],
   "source": [
    "pol_paddle = MPC320()"
   ]
  },
  {
   "cell_type": "code",
   "execution_count": 5,
   "metadata": {},
   "outputs": [],
   "source": [
    "# Output of pol. paddle is connected to output 2 of powermeter\n",
    "channel = 2\n",
    "init_power = power_meter.get_power(channel)"
   ]
  },
  {
   "cell_type": "code",
   "execution_count": 10,
   "metadata": {},
   "outputs": [
    {
     "name": "stdout",
     "output_type": "stream",
     "text": [
      "Initial power is 6.80 uW.\n"
     ]
    }
   ],
   "source": [
    "print(f\"Initial power is {init_power*1e6:.2f} uW.\")"
   ]
  },
  {
   "cell_type": "code",
   "execution_count": 51,
   "metadata": {},
   "outputs": [
    {
     "name": "stdout",
     "output_type": "stream",
     "text": [
      "Position before move is 45.54014598540146\n",
      "Initial power is 3.65 uW.\n",
      "Moved to final position: 85.0\n",
      "Power after move is 1.35 uW.\n"
     ]
    }
   ],
   "source": [
    "# Changing Polarization\n",
    "paddle = paddle2\n",
    "\n",
    "\n",
    "maxtravel = pol_paddle._polarizationdll.MPC_GetMaxTravel(pol_paddle.device_info.serialNo)\n",
    "initialpos = maxtravel/4-1\n",
    "\n",
    "home = pol_paddle._polarizationdll.MPC_Home(pol_paddle.device_info.serialNo, paddle)\n",
    "pol_paddle.PosI = pol_paddle._polarizationdll.MPC_GetPosition(pol_paddle.device_info.serialNo, paddle)\n",
    "\n",
    "print(f\"Position before move is {pol_paddle.PosI}\")\n",
    "init_power = power_meter.get_power(channel)\n",
    "print(f\"Initial power is {init_power*1e6:.2f} uW.\")\n",
    "\n",
    "move = pol_paddle._polarizationdll.MPC_MoveToPosition(pol_paddle.device_info.serialNo, paddle, initialpos) \n",
    "time.sleep(10)\n",
    "pol_paddle.PosIn = pol_paddle._polarizationdll.MPC_GetPosition(pol_paddle.device_info.serialNo, paddle)\n",
    "\n",
    "\n",
    "print(f\"Moved to final position: {pol_paddle.PosIn}\") \n",
    "final_power = power_meter.get_power(channel)\n",
    "print(f\"Power after move is {final_power*1e6:.2f} uW.\")"
   ]
  },
  {
   "cell_type": "code",
   "execution_count": null,
   "metadata": {},
   "outputs": [],
   "source": []
  }
 ],
 "metadata": {
  "kernelspec": {
   "display_name": "Python 3",
   "language": "python",
   "name": "python3"
  },
  "language_info": {
   "codemirror_mode": {
    "name": "ipython",
    "version": 3
   },
   "file_extension": ".py",
   "mimetype": "text/x-python",
   "name": "python",
   "nbconvert_exporter": "python",
   "pygments_lexer": "ipython3",
   "version": "3.7.6"
  }
 },
 "nbformat": 4,
 "nbformat_minor": 4
}
