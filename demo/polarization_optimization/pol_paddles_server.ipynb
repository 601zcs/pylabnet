{
 "metadata": {
  "language_info": {
   "codemirror_mode": {
    "name": "ipython",
    "version": 3
   },
   "file_extension": ".py",
   "mimetype": "text/x-python",
   "name": "python",
   "nbconvert_exporter": "python",
   "pygments_lexer": "ipython3",
   "version": "3.7.6-final"
  },
  "orig_nbformat": 2,
  "kernelspec": {
   "name": "python3",
   "display_name": "Python 3",
   "language": "python"
  }
 },
 "nbformat": 4,
 "nbformat_minor": 2,
 "cells": [
  {
   "cell_type": "code",
   "execution_count": 23,
   "metadata": {},
   "outputs": [],
   "source": [
    "import pyvisa\n",
    "import numpy as np\n",
    "from pylabnet.utils.logging.logger import LogClient\n",
    "from pylabnet.hardware.polarization.polarization_control import Driver, paddle1\n",
    "from pylabnet.network.client_server.pol_paddles import Service\n",
    "from pylabnet.network.core.generic_server import GenericServer\n",
    "\n"
   ]
  },
  {
   "cell_type": "code",
   "execution_count": 24,
   "metadata": {},
   "outputs": [],
   "source": [
    "# Instantiate\n",
    "logger = LogClient(\n",
    "    host='139.180.129.96',\n",
    "    port=35691,\n",
    "    module_tag='Polarization paddles'\n",
    ")\n"
   ]
  },
  {
   "cell_type": "code",
   "execution_count": 18,
   "metadata": {},
   "outputs": [],
   "source": [
    "# device number out of devices connected via USB\n",
    "device_num = 1"
   ]
  },
  {
   "cell_type": "code",
   "execution_count": 25,
   "metadata": {},
   "outputs": [],
   "source": [
    "pol_paddle = Driver(\n",
    "    device_num=device_num, \n",
    "    logger=logger) \n"
   ]
  },
  {
   "cell_type": "code",
   "execution_count": null,
   "metadata": {},
   "outputs": [],
   "source": [
    "# Spectrum analyzer server\n",
    "pol_paddle_service = Service()\n",
    "pol_paddle_service.assign_module(module=pol_paddle)\n",
    "pol_paddle_service.assign_logger(logger=logger)\n",
    "pol_paddle_service_server = GenericServer(\n",
    "    service=pol_paddle_service, \n",
    "    host='139.180.129.96',\n",
    "    port=35691\n",
    ")"
   ]
  }
 ]
}