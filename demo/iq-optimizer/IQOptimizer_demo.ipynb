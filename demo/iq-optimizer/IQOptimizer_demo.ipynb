{
 "cells": [
  {
   "cell_type": "code",
   "execution_count": null,
   "metadata": {},
   "outputs": [],
   "source": [
    "import pylabnet.hardware.awg.zi_hdawg as zi_hdawg\n",
    "from pylabnet.utils.logging.logger import LogClient\n",
    "\n",
    "%matplotlib inline\n",
    "\n",
    "import matplotlib\n",
    "import numpy as np\n",
    "import matplotlib.pyplot as plt\n",
    "import time\n",
    "\n",
    "from IPython.display import clear_output, display\n",
    "\n",
    "import pyvisa\n",
    "from pylabnet.utils.logging.logger import LogClient\n",
    "from pylabnet.network.client_server import agilent_e4405B\n",
    "import pylabnet.hardware.spectrum_analyzer.agilent_e4405B as sa_hardware\n",
    "\n",
    "\n",
    "import itertools as it\n",
    "import pandas as pd\n",
    "import seaborn as sns\n",
    "\n",
    "from pylabnet.utils.logging.logger import LogService\n",
    "from pylabnet.network.core.generic_server import GenericServer\n",
    "import os\n",
    "import sys\n",
    "from pylabnet.utils.optimizer import IQOptimizer\n",
    "from pylabnet.network.client_server import HMC_T2220"
   ]
  },
  {
   "cell_type": "markdown",
   "metadata": {},
   "source": [
    "# Instantiante HDAWG"
   ]
  },
  {
   "cell_type": "code",
   "execution_count": null,
   "metadata": {},
   "outputs": [],
   "source": [
    "dev_id = 'dev8227'\n",
    "\n",
    "# Instantiate\n",
    "logger = LogClient(\n",
    "    host='localhost',\n",
    "    port=12351,\n",
    "    module_tag=f'ZI HDAWG {dev_id}'\n",
    ")"
   ]
  },
  {
   "cell_type": "code",
   "execution_count": null,
   "metadata": {},
   "outputs": [],
   "source": [
    "# Instantiate Hardware class\n",
    "hd = zi_hdawg.Driver(dev_id, logger)\n",
    "\n",
    "# Select channel grouping\n",
    "hd.set_channel_grouping(0)\n",
    "\n",
    "hd.enable_output(0)\n",
    "hd.enable_output(1)"
   ]
  },
  {
   "cell_type": "markdown",
   "metadata": {},
   "source": [
    "# MW client"
   ]
  },
  {
   "cell_type": "code",
   "execution_count": null,
   "metadata": {},
   "outputs": [],
   "source": [
    "# Connect to MW source client\n",
    "mw_client = HMC_T2220.Client(\n",
    "    host='localhost',\n",
    "    port=12378\n",
    ")"
   ]
  },
  {
   "cell_type": "code",
   "execution_count": null,
   "metadata": {},
   "outputs": [],
   "source": [
    "#mw_client.output_on()\n",
    "pow = 20  # -20 dBm\n",
    "mw_client.set_power(pow)\n",
    "mw_client.is_output_on()\n",
    "mw_client.get_power()"
   ]
  },
  {
   "cell_type": "markdown",
   "metadata": {},
   "source": [
    "# Connect to Spectrum Analyzer"
   ]
  },
  {
   "cell_type": "code",
   "execution_count": null,
   "metadata": {},
   "outputs": [],
   "source": [
    "sa = agilent_e4405B.Client(\n",
    "    host='localhost',\n",
    "    port=12356\n",
    ")\n",
    "\n",
    "# Reset spectrum analzyer\n",
    "sa.write('*RST')"
   ]
  },
  {
   "cell_type": "markdown",
   "metadata": {},
   "source": [
    "# Optimize"
   ]
  },
  {
   "cell_type": "code",
   "execution_count": null,
   "metadata": {},
   "outputs": [],
   "source": [
    "opt1 = IQOptimizer(mw_client, hd, sa, 11.4e9, 300e6, max_lower_sideband_pow = -55, max_carrier_pow = -55, param_guess = ([70, 0.7, 0.65, 0.01, 0.01]), phase_window = 22, q_window = 0.4, dc_i_window = 0.1, dc_q_window = 0.1)\n",
    "#opt1.opt()"
   ]
  },
  {
   "cell_type": "code",
   "execution_count": null,
   "metadata": {
    "scrolled": false
   },
   "outputs": [],
   "source": [
    "#opt1.sa.plot_trace()\n",
    "#opt1.opt_lower_sideband()\n",
    "#opt1.opt_carrier()\n",
    "opt1.opt()"
   ]
  },
  {
   "cell_type": "code",
   "execution_count": null,
   "metadata": {},
   "outputs": [],
   "source": [
    "#opt1.opt_carrier()"
   ]
  },
  {
   "cell_type": "code",
   "execution_count": null,
   "metadata": {},
   "outputs": [],
   "source": [
    "#opt1.opt_lower_sideband()\n",
    "# opt1.initialize_reopt_params()\n",
    "# opt1.opt()"
   ]
  },
  {
   "cell_type": "code",
   "execution_count": null,
   "metadata": {},
   "outputs": [],
   "source": [
    "#opt1.opt_phase"
   ]
  },
  {
   "cell_type": "code",
   "execution_count": null,
   "metadata": {},
   "outputs": [],
   "source": [
    "#opt1.opt_q"
   ]
  },
  {
   "cell_type": "code",
   "execution_count": null,
   "metadata": {},
   "outputs": [],
   "source": []
  }
 ],
 "metadata": {
  "kernelspec": {
   "display_name": "Python 3",
   "language": "python",
   "name": "python3"
  },
  "language_info": {
   "codemirror_mode": {
    "name": "ipython",
    "version": 3
   },
   "file_extension": ".py",
   "mimetype": "text/x-python",
   "name": "python",
   "nbconvert_exporter": "python",
   "pygments_lexer": "ipython3",
   "version": "3.7.8"
  }
 },
 "nbformat": 4,
 "nbformat_minor": 4
}
