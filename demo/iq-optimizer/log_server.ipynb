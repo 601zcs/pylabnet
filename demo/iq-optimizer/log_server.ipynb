{
 "cells": [
  {
   "cell_type": "code",
   "execution_count": 1,
   "metadata": {},
   "outputs": [],
   "source": [
    "from pylabnet.utils.logging.logger import LogService\n",
    "from pylabnet.network.core.generic_server import GenericServer\n",
    "import os\n",
    "import sys"
   ]
  },
  {
   "cell_type": "markdown",
   "metadata": {},
   "source": [
    "# Start Logging Server"
   ]
  },
  {
   "cell_type": "code",
   "execution_count": 2,
   "metadata": {},
   "outputs": [],
   "source": [
    "log_service_name = 'Logger'\n",
    "log_folder = 'logs'\n",
    "\n",
    "dir_path = os.path.join(os.path.abspath(''), log_folder)\n",
    "\n",
    "log_service = LogService(\n",
    "    log_output=False,\n",
    "    name=log_service_name,\n",
    "    dir_path=dir_path,\n",
    ")"
   ]
  },
  {
   "cell_type": "code",
   "execution_count": 3,
   "metadata": {},
   "outputs": [],
   "source": [
    "log_server = GenericServer(\n",
    "    service=log_service, \n",
    "    host='localhost', \n",
    "    port=12351\n",
    ")"
   ]
  },
  {
   "cell_type": "code",
   "execution_count": 4,
   "metadata": {},
   "outputs": [],
   "source": [
    "log_server.start()"
   ]
  },
  {
   "cell_type": "code",
   "execution_count": 5,
   "metadata": {},
   "outputs": [
    {
     "data": {
      "text/plain": [
       "True"
      ]
     },
     "execution_count": 5,
     "metadata": {},
     "output_type": "execute_result"
    }
   ],
   "source": [
    "log_server._server.active"
   ]
  },
  {
   "cell_type": "markdown",
   "metadata": {},
   "source": [
    "# Monitor Clients and Logging Output"
   ]
  },
  {
   "cell_type": "code",
   "execution_count": 6,
   "metadata": {},
   "outputs": [
    {
     "data": {
      "text/plain": [
       "set()"
      ]
     },
     "execution_count": 6,
     "metadata": {},
     "output_type": "execute_result"
    }
   ],
   "source": [
    "log_server._server.clients"
   ]
  },
  {
   "cell_type": "code",
   "execution_count": 7,
   "metadata": {
    "scrolled": true
   },
   "outputs": [
    {
     "name": "stdout",
     "output_type": "stream",
     "text": [
      "Log messages will be displayed below\n",
      "2020-10-31 15:39:30,962 - INFO - Client connected\n",
      "2020-10-31 15:39:30,975 - INFO -  Spectrum Analyser: Started logging\n",
      "2020-10-31 15:39:37,191 - INFO -  Spectrum Analyser: Successfully connected to Hewlett-Packard, E4405B, MY44220484, A.14.01\n",
      ".\n",
      "2020-10-31 15:39:37,198 - INFO -  Spectrum Analyser: Reset to factory settings successfull.\n",
      "2020-10-31 15:39:55,337 - INFO - Client connected\n",
      "2020-10-31 15:39:55,351 - INFO -  Hittite T2220: Started logging\n",
      "2020-10-31 15:39:55,781 - INFO -  Hittite T2220: Successfully connected to Hittite,HMC-T2220,000924,2.5 5.3\n",
      ".\n",
      "2020-10-31 15:39:55,784 - INFO -  Hittite T2220: Reset to factory settings successfull.\n",
      "2020-10-31 15:42:27,774 - INFO - Client connected\n",
      "2020-10-31 15:42:27,790 - INFO -  ZI HDAWG dev8227: Started logging\n",
      "2020-10-31 15:42:30,016 - INFO -  ZI HDAWG dev8227: Discovered device `dev8227`: HDAWG8 with options CNT, ME.\n",
      "2020-10-31 15:42:30,018 - INFO -  ZI HDAWG dev8227: Creating an API session for device `dev8227` on `192.168.1.85`, `8004` with apilevel `6`.\n",
      "2020-10-31 15:42:32,050 - INFO -  ZI HDAWG dev8227: Enabled wave output 0.\n",
      "2020-10-31 15:42:32,058 - INFO -  ZI HDAWG dev8227: Enabled wave output 1.\n",
      "2020-10-31 15:42:32,268 - INFO -  Hittite T2220: Client connected\n",
      "2020-10-31 15:42:32,416 - INFO -  Hittite T2220: Output power of Hittite,HMC-T2220,000924,2.5 5.3\n",
      " set to 20 dBm.\n",
      "2020-10-31 15:42:32,557 - INFO -  Spectrum Analyser: Client connected\n",
      "2020-10-31 15:42:32,655 - INFO -  Hittite T2220: Output of Hittite,HMC-T2220,000924,2.5 5.3\n",
      " turned on.\n",
      "2020-10-31 15:42:32,669 - INFO -  Hittite T2220: Frequency of Hittite,HMC-T2220,000924,2.5 5.3\n",
      " set to 12000000000.0 Hz.\n",
      "2020-10-31 15:42:32,682 - INFO -  Spectrum Analyser: Center frequency set to 12000000000.0 Hz\n",
      "2020-10-31 15:42:32,690 - INFO -  Spectrum Analyser: Frequency span set 1800000000.0 Hz\n",
      "2020-10-31 15:47:56,563 - DEBUG - Client disconnected\n",
      "2020-10-31 15:47:56,567 - INFO -  Spectrum Analyser: Client disconnected\n",
      "2020-10-31 15:47:56,568 - INFO -  Hittite T2220: Client disconnected\n",
      "2020-10-31 15:48:08,188 - INFO - Client connected\n",
      "2020-10-31 15:48:08,198 - INFO -  ZI HDAWG dev8227: Started logging\n",
      "2020-10-31 15:48:10,466 - INFO -  ZI HDAWG dev8227: Discovered device `dev8227`: HDAWG8 with options CNT, ME.\n",
      "2020-10-31 15:48:10,471 - INFO -  ZI HDAWG dev8227: Creating an API session for device `dev8227` on `192.168.1.85`, `8004` with apilevel `6`.\n",
      "2020-10-31 15:48:12,502 - INFO -  ZI HDAWG dev8227: Enabled wave output 0.\n",
      "2020-10-31 15:48:12,510 - INFO -  ZI HDAWG dev8227: Enabled wave output 1.\n",
      "2020-10-31 15:48:12,744 - INFO -  Hittite T2220: Client connected\n",
      "2020-10-31 15:48:12,865 - INFO -  Hittite T2220: Output power of Hittite,HMC-T2220,000924,2.5 5.3\n",
      " set to 20 dBm.\n",
      "2020-10-31 15:48:13,001 - INFO -  Spectrum Analyser: Client connected\n",
      "2020-10-31 15:48:13,125 - INFO -  Hittite T2220: Output of Hittite,HMC-T2220,000924,2.5 5.3\n",
      " turned on.\n",
      "2020-10-31 15:48:13,129 - INFO -  Hittite T2220: Frequency of Hittite,HMC-T2220,000924,2.5 5.3\n",
      " set to 12000000000.0 Hz.\n",
      "2020-10-31 15:48:13,134 - INFO -  Spectrum Analyser: Center frequency set to 12000000000.0 Hz\n",
      "2020-10-31 15:48:13,138 - INFO -  Spectrum Analyser: Frequency span set 1800000000.0 Hz\n",
      "2020-10-31 15:55:18,324 - DEBUG - Client disconnected\n",
      "2020-10-31 15:55:18,327 - INFO -  Hittite T2220: Client disconnected\n",
      "2020-10-31 15:55:18,329 - INFO -  Spectrum Analyser: Client disconnected\n",
      "2020-10-31 15:55:53,703 - INFO - Client connected\n",
      "2020-10-31 15:55:53,716 - INFO -  ZI HDAWG dev8227: Started logging\n",
      "2020-10-31 15:55:56,031 - INFO -  ZI HDAWG dev8227: Discovered device `dev8227`: HDAWG8 with options CNT, ME.\n",
      "2020-10-31 15:55:56,036 - INFO -  ZI HDAWG dev8227: Creating an API session for device `dev8227` on `192.168.1.85`, `8004` with apilevel `6`.\n",
      "2020-10-31 15:55:58,071 - INFO -  ZI HDAWG dev8227: Enabled wave output 0.\n",
      "2020-10-31 15:55:58,079 - INFO -  ZI HDAWG dev8227: Enabled wave output 1.\n",
      "2020-10-31 15:55:58,240 - INFO -  Hittite T2220: Client connected\n",
      "2020-10-31 15:55:58,356 - INFO -  Hittite T2220: Output power of Hittite,HMC-T2220,000924,2.5 5.3\n",
      " set to 20 dBm.\n",
      "2020-10-31 15:55:58,533 - INFO -  Spectrum Analyser: Client connected\n",
      "2020-10-31 15:55:58,679 - INFO -  Hittite T2220: Output of Hittite,HMC-T2220,000924,2.5 5.3\n",
      " turned on.\n",
      "2020-10-31 15:55:58,690 - INFO -  Hittite T2220: Frequency of Hittite,HMC-T2220,000924,2.5 5.3\n",
      " set to 12000000000.0 Hz.\n",
      "2020-10-31 15:55:58,703 - INFO -  Spectrum Analyser: Center frequency set to 12000000000.0 Hz\n",
      "2020-10-31 15:55:58,715 - INFO -  Spectrum Analyser: Frequency span set 1800000000.0 Hz\n",
      "2020-10-31 15:56:53,543 - DEBUG - Client disconnected\n",
      "2020-10-31 15:56:53,544 - INFO -  Hittite T2220: Client disconnected\n",
      "2020-10-31 15:56:53,545 - INFO -  Spectrum Analyser: Client disconnected\n",
      "2020-10-31 15:57:09,377 - INFO - Client connected\n",
      "2020-10-31 15:57:09,396 - INFO -  ZI HDAWG dev8227: Started logging\n",
      "2020-10-31 15:57:11,674 - INFO -  ZI HDAWG dev8227: Discovered device `dev8227`: HDAWG8 with options CNT, ME.\n",
      "2020-10-31 15:57:11,679 - INFO -  ZI HDAWG dev8227: Creating an API session for device `dev8227` on `192.168.1.85`, `8004` with apilevel `6`.\n",
      "2020-10-31 15:57:13,705 - INFO -  ZI HDAWG dev8227: Enabled wave output 0.\n",
      "2020-10-31 15:57:13,719 - INFO -  ZI HDAWG dev8227: Enabled wave output 1.\n",
      "2020-10-31 15:57:14,152 - INFO -  Hittite T2220: Client connected\n",
      "2020-10-31 15:57:14,551 - INFO -  Hittite T2220: Output power of Hittite,HMC-T2220,000924,2.5 5.3\n",
      " set to 20 dBm.\n",
      "2020-10-31 15:57:14,919 - INFO -  Spectrum Analyser: Client connected\n",
      "2020-10-31 15:57:15,152 - INFO -  Hittite T2220: Output of Hittite,HMC-T2220,000924,2.5 5.3\n",
      " turned on.\n",
      "2020-10-31 15:57:15,156 - INFO -  Hittite T2220: Frequency of Hittite,HMC-T2220,000924,2.5 5.3\n",
      " set to 12000000000.0 Hz.\n",
      "2020-10-31 15:57:15,162 - INFO -  Spectrum Analyser: Center frequency set to 12000000000.0 Hz\n",
      "2020-10-31 15:57:15,166 - INFO -  Spectrum Analyser: Frequency span set 1800000000.0 Hz\n"
     ]
    }
   ],
   "source": [
    "print (\"Log messages will be displayed below\")"
   ]
  },
  {
   "cell_type": "code",
   "execution_count": null,
   "metadata": {},
   "outputs": [],
   "source": []
  }
 ],
 "metadata": {
  "kernelspec": {
   "display_name": "Python 3",
   "language": "python",
   "name": "python3"
  },
  "language_info": {
   "codemirror_mode": {
    "name": "ipython",
    "version": 3
   },
   "file_extension": ".py",
   "mimetype": "text/x-python",
   "name": "python",
   "nbconvert_exporter": "python",
   "pygments_lexer": "ipython3",
   "version": "3.7.8"
  }
 },
 "nbformat": 4,
 "nbformat_minor": 2
}
