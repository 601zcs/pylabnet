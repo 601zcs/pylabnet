{
 "cells": [
  {
   "cell_type": "code",
   "execution_count": 1,
   "metadata": {},
   "outputs": [],
   "source": [
    "from pylabnet.utils.logging.logger import LogService\n",
    "from pylabnet.network.core.generic_server import GenericServer\n",
    "import os\n",
    "import sys"
   ]
  },
  {
   "cell_type": "markdown",
   "metadata": {},
   "source": [
    "# Start Logging Server"
   ]
  },
  {
   "cell_type": "code",
   "execution_count": 2,
   "metadata": {},
   "outputs": [],
   "source": [
    "log_service_name = 'Logger'\n",
    "log_folder = 'logs'\n",
    "\n",
    "dir_path = os.path.join(os.path.abspath(''), log_folder)\n",
    "\n",
    "log_service = LogService(\n",
    "    log_output=False,\n",
    "    name=log_service_name,\n",
    "    dir_path=dir_path,\n",
    ")"
   ]
  },
  {
   "cell_type": "code",
   "execution_count": 3,
   "metadata": {},
   "outputs": [],
   "source": [
    "log_server = GenericServer(\n",
    "    service=log_service, \n",
    "    host='localhost', \n",
    "    port=12351\n",
    ")"
   ]
  },
  {
   "cell_type": "code",
   "execution_count": 4,
   "metadata": {},
   "outputs": [],
   "source": [
    "log_server.start()"
   ]
  },
  {
   "cell_type": "code",
   "execution_count": 5,
   "metadata": {},
   "outputs": [
    {
     "data": {
      "text/plain": [
       "True"
      ]
     },
     "execution_count": 5,
     "metadata": {},
     "output_type": "execute_result"
    }
   ],
   "source": [
    "log_server._server.active"
   ]
  },
  {
   "cell_type": "markdown",
   "metadata": {},
   "source": [
    "# Monitor Clients and Logging Output"
   ]
  },
  {
   "cell_type": "code",
   "execution_count": 6,
   "metadata": {},
   "outputs": [
    {
     "data": {
      "text/plain": [
       "set()"
      ]
     },
     "execution_count": 6,
     "metadata": {},
     "output_type": "execute_result"
    }
   ],
   "source": [
    "log_server._server.clients"
   ]
  },
  {
   "cell_type": "code",
   "execution_count": 7,
   "metadata": {
    "scrolled": true
   },
   "outputs": [
    {
     "name": "stdout",
     "output_type": "stream",
     "text": [
      "Log messages will be displayed below\n",
      "2020-11-01 22:40:48,583 - INFO - Client connected\n",
      "2020-11-01 22:40:48,595 - INFO -  Spectrum Analyser: Started logging\n",
      "2020-11-01 22:40:49,352 - INFO -  Spectrum Analyser: Successfully connected to Hewlett-Packard, E4405B, MY44220484, A.14.01\n",
      ".\n",
      "2020-11-01 22:40:49,356 - INFO -  Spectrum Analyser: Reset to factory settings successfull.\n",
      "2020-11-01 22:40:53,704 - INFO - Client connected\n",
      "2020-11-01 22:40:53,717 - INFO -  Hittite T2220: Started logging\n",
      "2020-11-01 22:40:54,098 - INFO -  Hittite T2220: Successfully connected to Hittite,HMC-T2220,000924,2.5 5.3\n",
      ".\n",
      "2020-11-01 22:40:54,101 - INFO -  Hittite T2220: Reset to factory settings successfull.\n",
      "2020-11-01 22:50:09,463 - INFO - Client connected\n",
      "2020-11-01 22:50:09,481 - INFO -  ZI HDAWG dev8227: Started logging\n",
      "2020-11-01 22:50:11,810 - INFO -  ZI HDAWG dev8227: Discovered device `dev8227`: HDAWG8 with options CNT, ME.\n",
      "2020-11-01 22:50:11,816 - INFO -  ZI HDAWG dev8227: Creating an API session for device `dev8227` on `192.168.1.85`, `8004` with apilevel `6`.\n",
      "2020-11-01 22:50:13,843 - INFO -  ZI HDAWG dev8227: Enabled wave output 0.\n",
      "2020-11-01 22:50:13,850 - INFO -  ZI HDAWG dev8227: Enabled wave output 1.\n",
      "2020-11-01 22:50:14,051 - INFO -  Hittite T2220: Client connected\n",
      "2020-11-01 22:50:14,169 - INFO -  Hittite T2220: Output power of Hittite,HMC-T2220,000924,2.5 5.3\n",
      " set to 20 dBm.\n",
      "2020-11-01 22:50:14,341 - INFO -  Spectrum Analyser: Client connected\n",
      "2020-11-01 22:50:14,560 - INFO -  Hittite T2220: Output of Hittite,HMC-T2220,000924,2.5 5.3\n",
      " turned on.\n",
      "2020-11-01 22:50:14,572 - INFO -  Hittite T2220: Frequency of Hittite,HMC-T2220,000924,2.5 5.3\n",
      " set to 11300000000.0 Hz.\n",
      "2020-11-01 22:50:14,585 - INFO -  Spectrum Analyser: Center frequency set to 11300000000.0 Hz\n",
      "2020-11-01 22:50:14,593 - INFO -  Spectrum Analyser: Frequency span set 1800000000.0 Hz\n"
     ]
    }
   ],
   "source": [
    "print (\"Log messages will be displayed below\")"
   ]
  },
  {
   "cell_type": "code",
   "execution_count": null,
   "metadata": {},
   "outputs": [],
   "source": []
  }
 ],
 "metadata": {
  "kernelspec": {
   "display_name": "Python 3",
   "language": "python",
   "name": "python3"
  },
  "language_info": {
   "codemirror_mode": {
    "name": "ipython",
    "version": 3
   },
   "file_extension": ".py",
   "mimetype": "text/x-python",
   "name": "python",
   "nbconvert_exporter": "python",
   "pygments_lexer": "ipython3",
   "version": "3.7.8"
  }
 },
 "nbformat": 4,
 "nbformat_minor": 2
}
