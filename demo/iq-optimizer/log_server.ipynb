{
 "cells": [
  {
   "cell_type": "code",
   "execution_count": 1,
   "metadata": {},
   "outputs": [],
   "source": [
    "from pylabnet.utils.logging.logger import LogService\n",
    "from pylabnet.network.core.generic_server import GenericServer\n",
    "import os\n",
    "import sys"
   ]
  },
  {
   "cell_type": "markdown",
   "metadata": {},
   "source": [
    "# Start Logging Server"
   ]
  },
  {
   "cell_type": "code",
   "execution_count": 2,
   "metadata": {},
   "outputs": [],
   "source": [
    "log_service_name = 'Logger'\n",
    "log_folder = 'logs'\n",
    "\n",
    "dir_path = os.path.join(os.path.abspath(''), log_folder)\n",
    "\n",
    "log_service = LogService(\n",
    "    log_output=False,\n",
    "    name=log_service_name,\n",
    "    dir_path=dir_path,\n",
    ")"
   ]
  },
  {
   "cell_type": "code",
   "execution_count": 3,
   "metadata": {},
   "outputs": [],
   "source": [
    "log_server = GenericServer(\n",
    "    service=log_service, \n",
    "    host='localhost', \n",
    "    port=12351\n",
    ")"
   ]
  },
  {
   "cell_type": "code",
   "execution_count": 4,
   "metadata": {},
   "outputs": [],
   "source": [
    "log_server.start()"
   ]
  },
  {
   "cell_type": "code",
   "execution_count": 5,
   "metadata": {},
   "outputs": [
    {
     "data": {
      "text/plain": [
       "True"
      ]
     },
     "execution_count": 5,
     "metadata": {},
     "output_type": "execute_result"
    }
   ],
   "source": [
    "log_server._server.active"
   ]
  },
  {
   "cell_type": "markdown",
   "metadata": {},
   "source": [
    "# Monitor Clients and Logging Output"
   ]
  },
  {
   "cell_type": "code",
   "execution_count": 6,
   "metadata": {},
   "outputs": [
    {
     "data": {
      "text/plain": [
       "set()"
      ]
     },
     "execution_count": 6,
     "metadata": {},
     "output_type": "execute_result"
    }
   ],
   "source": [
    "log_server._server.clients"
   ]
  },
  {
   "cell_type": "code",
   "execution_count": 7,
   "metadata": {
    "scrolled": true
   },
   "outputs": [
    {
     "name": "stdout",
     "output_type": "stream",
     "text": [
      "Log messages will be displayed below\n",
      "2020-11-09 21:49:53,200 - INFO - Client connected\n",
      "2020-11-09 21:49:53,209 - INFO -  Spectrum Analyser: Started logging\n",
      "2020-11-09 21:49:54,259 - INFO -  Spectrum Analyser: Successfully connected to Hewlett-Packard, E4405B, MY44220484, A.14.01\n",
      ".\n",
      "2020-11-09 21:49:54,262 - INFO -  Spectrum Analyser: Reset to factory settings successfull.\n",
      "2020-11-09 21:49:59,150 - INFO - Client connected\n",
      "2020-11-09 21:49:59,167 - INFO -  Hittite T2220: Started logging\n",
      "2020-11-09 21:49:59,592 - INFO -  Hittite T2220: Successfully connected to Hittite,HMC-T2220,000924,2.5 5.3\n",
      ".\n",
      "2020-11-09 21:49:59,594 - INFO -  Hittite T2220: Reset to factory settings successfull.\n",
      "2020-11-09 21:52:54,926 - INFO - Client connected\n",
      "2020-11-09 21:52:54,948 - INFO -  ZI HDAWG dev8227: Started logging\n",
      "2020-11-09 21:52:57,260 - INFO -  ZI HDAWG dev8227: Discovered device `dev8227`: HDAWG8 with options CNT, ME.\n",
      "2020-11-09 21:52:57,266 - INFO -  ZI HDAWG dev8227: Creating an API session for device `dev8227` on `192.168.1.85`, `8004` with apilevel `6`.\n",
      "2020-11-09 21:52:59,296 - INFO -  ZI HDAWG dev8227: Enabled wave output 0.\n",
      "2020-11-09 21:52:59,304 - INFO -  ZI HDAWG dev8227: Enabled wave output 1.\n",
      "2020-11-09 21:52:59,319 - INFO -  Hittite T2220: Client connected\n",
      "2020-11-09 21:52:59,409 - INFO -  Hittite T2220: Output power of Hittite,HMC-T2220,000924,2.5 5.3\n",
      " set to 20 dBm.\n",
      "2020-11-09 21:52:59,513 - INFO -  Spectrum Analyser: Client connected\n",
      "2020-11-09 21:52:59,629 - INFO -  Hittite T2220: Output of Hittite,HMC-T2220,000924,2.5 5.3\n",
      " turned on.\n",
      "2020-11-09 21:52:59,640 - INFO -  Hittite T2220: Frequency of Hittite,HMC-T2220,000924,2.5 5.3\n",
      " set to 11000000000.0 Hz.\n",
      "2020-11-09 21:52:59,652 - INFO -  Spectrum Analyser: Center frequency set to 11000000000.0 Hz\n",
      "2020-11-09 21:52:59,657 - INFO -  Spectrum Analyser: Frequency span set 2400000000.0 Hz\n",
      "2020-11-09 22:19:28,822 - INFO -  Hittite T2220: Output of Hittite,HMC-T2220,000924,2.5 5.3\n",
      " turned on.\n",
      "2020-11-09 22:19:28,825 - INFO -  Hittite T2220: Frequency of Hittite,HMC-T2220,000924,2.5 5.3\n",
      " set to 11100000000.0 Hz.\n",
      "2020-11-09 22:19:28,832 - INFO -  Spectrum Analyser: Center frequency set to 11100000000.0 Hz\n",
      "2020-11-09 22:19:28,840 - INFO -  Spectrum Analyser: Frequency span set 3300000000.0 Hz\n",
      "2020-11-09 22:19:56,784 - DEBUG - Client disconnected\n",
      "2020-11-09 22:19:56,787 - INFO -  Hittite T2220: Client disconnected\n",
      "2020-11-09 22:19:56,787 - INFO -  Spectrum Analyser: Client disconnected\n",
      "2020-11-09 22:20:11,570 - DEBUG - Client disconnected\n",
      "2020-11-09 22:20:13,381 - INFO - Client connected\n",
      "2020-11-09 22:20:13,394 - INFO -  Hittite T2220: Started logging\n",
      "2020-11-09 22:20:13,748 - INFO -  Hittite T2220: Successfully connected to Hittite,HMC-T2220,000924,2.5 5.3\n",
      ".\n",
      "2020-11-09 22:20:13,751 - INFO -  Hittite T2220: Reset to factory settings successfull.\n",
      "2020-11-09 22:20:32,950 - INFO - Client connected\n",
      "2020-11-09 22:20:32,962 - INFO -  ZI HDAWG dev8227: Started logging\n",
      "2020-11-09 22:20:35,276 - INFO -  ZI HDAWG dev8227: Discovered device `dev8227`: HDAWG8 with options CNT, ME.\n",
      "2020-11-09 22:20:35,281 - INFO -  ZI HDAWG dev8227: Creating an API session for device `dev8227` on `192.168.1.85`, `8004` with apilevel `6`.\n",
      "2020-11-09 22:20:37,306 - INFO -  ZI HDAWG dev8227: Enabled wave output 0.\n",
      "2020-11-09 22:20:37,315 - INFO -  ZI HDAWG dev8227: Enabled wave output 1.\n",
      "2020-11-09 22:20:37,345 - INFO -  Hittite T2220: Client connected\n",
      "2020-11-09 22:20:37,489 - INFO -  Hittite T2220: Output power of Hittite,HMC-T2220,000924,2.5 5.3\n",
      " set to 20 dBm.\n",
      "2020-11-09 22:20:37,591 - INFO -  Spectrum Analyser: Client connected\n",
      "2020-11-09 22:20:43,732 - INFO -  Hittite T2220: Output of Hittite,HMC-T2220,000924,2.5 5.3\n",
      " turned on.\n",
      "2020-11-09 22:20:43,736 - INFO -  Hittite T2220: Frequency of Hittite,HMC-T2220,000924,2.5 5.3\n",
      " set to 11100000000.0 Hz.\n",
      "2020-11-09 22:20:43,743 - INFO -  Spectrum Analyser: Center frequency set to 11100000000.0 Hz\n",
      "2020-11-09 22:20:43,748 - INFO -  Spectrum Analyser: Frequency span set 3300000000.0 Hz\n",
      "2020-11-09 22:26:54,466 - DEBUG - Client disconnected\n",
      "2020-11-09 22:26:56,467 - INFO - Client connected\n",
      "2020-11-09 22:26:56,480 - INFO -  Hittite T2220: Started logging\n",
      "2020-11-09 22:26:56,839 - INFO -  Hittite T2220: Successfully connected to Hittite,HMC-T2220,000924,2.5 5.3\n",
      ".\n",
      "2020-11-09 22:26:56,841 - INFO -  Hittite T2220: Reset to factory settings successfull.\n",
      "2020-11-09 22:27:04,427 - DEBUG - Client disconnected\n",
      "2020-11-09 22:27:04,430 - INFO -  Spectrum Analyser: Client disconnected\n",
      "2020-11-09 22:27:20,234 - INFO - Client connected\n",
      "2020-11-09 22:27:20,249 - INFO -  ZI HDAWG dev8227: Started logging\n",
      "2020-11-09 22:27:22,742 - INFO -  ZI HDAWG dev8227: Discovered device `dev8227`: HDAWG8 with options CNT, ME.\n",
      "2020-11-09 22:27:22,748 - INFO -  ZI HDAWG dev8227: Creating an API session for device `dev8227` on `192.168.1.85`, `8004` with apilevel `6`.\n",
      "2020-11-09 22:27:24,779 - INFO -  ZI HDAWG dev8227: Enabled wave output 0.\n",
      "2020-11-09 22:27:24,787 - INFO -  ZI HDAWG dev8227: Enabled wave output 1.\n",
      "2020-11-09 22:27:24,816 - INFO -  Hittite T2220: Client connected\n",
      "2020-11-09 22:27:24,924 - INFO -  Hittite T2220: Output power of Hittite,HMC-T2220,000924,2.5 5.3\n",
      " set to 20 dBm.\n",
      "2020-11-09 22:27:25,026 - INFO -  Spectrum Analyser: Client connected\n",
      "2020-11-09 22:27:30,373 - INFO -  Hittite T2220: Output of Hittite,HMC-T2220,000924,2.5 5.3\n",
      " turned on.\n",
      "2020-11-09 22:27:30,376 - INFO -  Hittite T2220: Frequency of Hittite,HMC-T2220,000924,2.5 5.3\n",
      " set to 11100000000.0 Hz.\n",
      "2020-11-09 22:27:30,383 - INFO -  Spectrum Analyser: Center frequency set to 11100000000.0 Hz\n",
      "2020-11-09 22:27:30,388 - INFO -  Spectrum Analyser: Frequency span set 3300000000.0 Hz\n",
      "2020-11-09 23:08:33,338 - DEBUG - Client disconnected\n",
      "2020-11-09 23:08:35,230 - INFO - Client connected\n",
      "2020-11-09 23:08:35,241 - INFO -  Hittite T2220: Started logging\n",
      "2020-11-09 23:08:36,034 - INFO -  Hittite T2220: Successfully connected to Hittite,HMC-T2220,000924,2.5 5.3\n",
      ".\n",
      "2020-11-09 23:08:36,036 - INFO -  Hittite T2220: Reset to factory settings successfull.\n",
      "2020-11-09 23:09:42,290 - DEBUG - Client disconnected\n",
      "2020-11-09 23:09:42,293 - INFO -  Spectrum Analyser: Client disconnected\n",
      "2020-11-09 23:09:45,450 - INFO - Client connected\n",
      "2020-11-09 23:09:45,461 - INFO -  ZI HDAWG dev8227: Started logging\n",
      "2020-11-09 23:09:47,779 - INFO -  ZI HDAWG dev8227: Discovered device `dev8227`: HDAWG8 with options CNT, ME.\n",
      "2020-11-09 23:09:47,784 - INFO -  ZI HDAWG dev8227: Creating an API session for device `dev8227` on `192.168.1.85`, `8004` with apilevel `6`.\n",
      "2020-11-09 23:09:49,814 - INFO -  ZI HDAWG dev8227: Enabled wave output 0.\n",
      "2020-11-09 23:09:49,822 - INFO -  ZI HDAWG dev8227: Enabled wave output 1.\n",
      "2020-11-09 23:09:49,849 - INFO -  Hittite T2220: Client connected\n",
      "2020-11-09 23:09:49,969 - INFO -  Hittite T2220: Output power of Hittite,HMC-T2220,000924,2.5 5.3\n",
      " set to 20 dBm.\n",
      "2020-11-09 23:09:50,081 - INFO -  Spectrum Analyser: Client connected\n",
      "2020-11-09 23:09:50,226 - INFO -  Hittite T2220: Output of Hittite,HMC-T2220,000924,2.5 5.3\n",
      " turned on.\n",
      "2020-11-09 23:09:50,230 - INFO -  Hittite T2220: Frequency of Hittite,HMC-T2220,000924,2.5 5.3\n",
      " set to 11200000000.0 Hz.\n",
      "2020-11-09 23:09:50,236 - INFO -  Spectrum Analyser: Center frequency set to 11200000000.0 Hz\n",
      "2020-11-09 23:09:50,240 - INFO -  Spectrum Analyser: Frequency span set 2520000000.0 Hz\n"
     ]
    }
   ],
   "source": [
    "print (\"Log messages will be displayed below\")"
   ]
  },
  {
   "cell_type": "code",
   "execution_count": null,
   "metadata": {},
   "outputs": [],
   "source": []
  }
 ],
 "metadata": {
  "kernelspec": {
   "display_name": "Python 3",
   "language": "python",
   "name": "python3"
  },
  "language_info": {
   "codemirror_mode": {
    "name": "ipython",
    "version": 3
   },
   "file_extension": ".py",
   "mimetype": "text/x-python",
   "name": "python",
   "nbconvert_exporter": "python",
   "pygments_lexer": "ipython3",
   "version": "3.7.8"
  }
 },
 "nbformat": 4,
 "nbformat_minor": 2
}
