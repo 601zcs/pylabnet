{
 "cells": [
  {
   "cell_type": "code",
   "execution_count": 18,
   "metadata": {},
   "outputs": [],
   "source": [
    "from pylabnet.utils.logging.logger import LogClient\n",
    "from pylabnet.utils.logging.logger import LogHandler\n",
    "import time"
   ]
  },
  {
   "cell_type": "markdown",
   "metadata": {},
   "source": [
    "This code does replicate the logger crashing. It does not seem to be connected with a memory issue, as the memory usage seems to be low.\n",
    "\n",
    "\n",
    "![Alt text](image.png)\n",
    "\n",
    "It does not look like the crashing can be mitigated by increaseing the waitime between two consecutive logging statements. Interestingly, if the logger crashed, it can be force-quit and restarted. After restarting, the log-messages appear (if the DoS code is still running). This is indicative with the filling up of the textbox being the issue. \n",
    "\n",
    "\n",
    "Let's log the number of logged chars before crashing occurs for different parameters:\n",
    "\n",
    "| n_sleep      | num_sentence | n_lgs       | max_chars before crash    |\n",
    "| -----------  | -----------  |-----------  |-----------  |\n",
    "| 0.01       | 10000        |100        |18Mio        |\n",
    "| 0.1     | 10000         | 100        | 15Mio        | \n",
    "| 0.5     | 10000         | 100        | 18Mio        | \n",
    "| 0.01     | 1000         | 10000        | 80Mio        | \n",
    "\n"
   ]
  },
  {
   "cell_type": "code",
   "execution_count": 19,
   "metadata": {},
   "outputs": [],
   "source": [
    "# Instantiate\n",
    "logger = LogClient(\n",
    "    host='192.168.50.101',\n",
    "    port=38967,\n",
    "    module_tag='DoS Attack'\n",
    ")\n",
    "\n",
    "\n",
    "log = LogHandler(logger=logger)"
   ]
  },
  {
   "cell_type": "code",
   "execution_count": 20,
   "metadata": {},
   "outputs": [],
   "source": [
    "num_sentence = 100000\n",
    "sentence = \"I can definitly make you crash, let's find out how!\" * num_sentence\n",
    "end = \"####################################\" * 20"
   ]
  },
  {
   "cell_type": "code",
   "execution_count": 27,
   "metadata": {},
   "outputs": [],
   "source": [
    "n_lgs = 100\n",
    "n_sleep = 0.01\n"
   ]
  },
  {
   "cell_type": "code",
   "execution_count": 28,
   "metadata": {},
   "outputs": [],
   "source": [
    "len_sentence = len(sentence) + len(end)\n",
    "char_counter = 0"
   ]
  },
  {
   "cell_type": "code",
   "execution_count": 29,
   "metadata": {},
   "outputs": [
    {
     "name": "stdout",
     "output_type": "stream",
     "text": [
      "DEBUG: no connection. Trying to reconnect to log server\n",
      "DEBUG: no connection. Trying to reconnect to log server\n",
      "DEBUG: no connection. Trying to reconnect to log server\n",
      "DEBUG: no connection. Trying to reconnect to log server\n",
      "DEBUG: no connection. Trying to reconnect to log server\n",
      "DEBUG: no connection. Trying to reconnect to log server\n"
     ]
    }
   ],
   "source": [
    "for i in range(int(n_lgs)):\n",
    "\n",
    "    char_log__msg = f\"{char_counter} chars since start.\"\n",
    "\n",
    "    time.sleep(n_sleep)\n",
    "    log.info(sentence)\n",
    "    time.sleep(n_sleep)\n",
    "    log.info(end)\n",
    "    time.sleep(n_sleep)\n",
    "    log.info(char_log__msg)\n",
    "\n",
    "\n",
    "    char_counter += len_sentence\n",
    "    char_counter += len(char_log__msg)\n",
    "\n",
    "\n"
   ]
  },
  {
   "cell_type": "code",
   "execution_count": 25,
   "metadata": {},
   "outputs": [],
   "source": [
    "char_log__msg = f\"{char_counter} chars since start.\"\n",
    "\n",
    "time.sleep(n_sleep)\n",
    "log.info(sentence)\n",
    "time.sleep(n_sleep)\n",
    "log.info(end)\n",
    "time.sleep(n_sleep)\n",
    "log.info(char_log__msg)\n",
    "\n",
    "\n",
    "char_counter += len_sentence\n",
    "char_counter += len(char_log__msg)"
   ]
  }
 ],
 "metadata": {
  "kernelspec": {
   "display_name": "env",
   "language": "python",
   "name": "python3"
  },
  "language_info": {
   "codemirror_mode": {
    "name": "ipython",
    "version": 3
   },
   "file_extension": ".py",
   "mimetype": "text/x-python",
   "name": "python",
   "nbconvert_exporter": "python",
   "pygments_lexer": "ipython3",
   "version": "3.8.8"
  },
  "orig_nbformat": 4
 },
 "nbformat": 4,
 "nbformat_minor": 2
}
