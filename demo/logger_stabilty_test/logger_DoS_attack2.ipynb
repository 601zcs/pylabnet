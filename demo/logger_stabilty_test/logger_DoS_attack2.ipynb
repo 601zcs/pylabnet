{
 "cells": [
  {
   "cell_type": "code",
   "execution_count": 1,
   "metadata": {},
   "outputs": [],
   "source": [
    "from pylabnet.utils.logging.logger import LogClient\n",
    "from pylabnet.utils.logging.logger import LogHandler\n",
    "import time"
   ]
  },
  {
   "cell_type": "markdown",
   "metadata": {},
   "source": [
    "This code does replicate the logger crashing. It does not seem to be connected with a memory issue, as the memory usage seems to be low.\n",
    "\n",
    "\n",
    "![Alt text](image.png)\n",
    "\n",
    "It does not look like the crashing can be mitigated by increaseing the waitime between two consecutive logging statements. Interestingly, if the logger crashed, it can be force-quit and restarted. After restarting, the log-messages appear (if the DoS code is still running). This is indicative with the filling up of the textbox being the issue. \n",
    "\n",
    "\n",
    "Let's log the number of logged chars before crashing occurs for different parameters:\n",
    "\n",
    "| n_sleep      | num_sentence | n_lgs       | max_chars before crash    |\n",
    "| -----------  | -----------  |-----------  |-----------  |\n",
    "| 0.01       | 10000        |100        |18Mio        |\n",
    "| 0.1     | 10000         | 100        | 15Mio        | \n",
    "| 0.5     | 10000         | 100        | 18Mio        | \n",
    "| 0.01     | 1000         | 10000        | 80Mio        | \n",
    "\n",
    "\n",
    "Some progress: After changing the window type of the \"terminal\" and \"buffer_terminal\" from `QTextBrowser` to `QPlainTextEdit` (which is optimized for plain text), we can spam the logger much more without crashing:\n",
    "\n",
    "| n_sleep      | num_sentence | n_lgs       | crash yes no| number of chars     |\n",
    "| -----------  | -----------  |-----------  |-----------  | ----------- |\n",
    "| 0.01         | 100000       |100          | no          | 500Mio       |\n",
    "| 0.01         | 10000000     |100          |  yes             |        |\n",
    "| 0.01         | 1000000      |100          |  yes             |        |\n",
    "| 0.01         | 1000000      |1000          |  yes             | after logfile was ~1GB --> 1000Mio chars      |\n",
    "\n",
    "For log messages > 100000, we get this error: `terminate called after throwing an instance of 'std::bad_alloc'` --> We're actually running into a memory allocation problem. SHould be no problem though, since our single messages rarely will be > a couple 1000s of chars.\n",
    "\n",
    "\n",
    "Maximium textsize in logger expanded from ~20Mio to 1000 Mio. \n",
    "\n",
    "Testing some other cases\n",
    "\n",
    "| n_sleep      | num_sentence | n_lgs       | crash yes no| number of chars     |\n",
    "| -----------  | -----------  |-----------  |-----------  | ----------- |\n",
    "| 0.01         | 10       |100000          |     no but got impations      |  40Mio     |\n"
   ]
  },
  {
   "cell_type": "code",
   "execution_count": 2,
   "metadata": {},
   "outputs": [],
   "source": [
    "# Instantiate\n",
    "logger = LogClient(\n",
    "    host='192.168.50.101',\n",
    "    port=38967,\n",
    "    module_tag='DoS Attack'\n",
    ")\n",
    "\n",
    "\n",
    "log = LogHandler(logger=logger)"
   ]
  },
  {
   "cell_type": "code",
   "execution_count": 6,
   "metadata": {},
   "outputs": [],
   "source": [
    "num_sentence = 10\n",
    "sentence = \"I can definitly make you crash, let's find out how!\" * num_sentence\n",
    "end = \"####################################\" * 20"
   ]
  },
  {
   "cell_type": "code",
   "execution_count": 7,
   "metadata": {},
   "outputs": [],
   "source": [
    "n_lgs = 100000\n",
    "n_sleep = 0.01\n"
   ]
  },
  {
   "cell_type": "code",
   "execution_count": 8,
   "metadata": {},
   "outputs": [],
   "source": [
    "len_sentence = len(sentence) + len(end)\n",
    "char_counter = 0"
   ]
  },
  {
   "cell_type": "code",
   "execution_count": 9,
   "metadata": {},
   "outputs": [
    {
     "ename": "KeyboardInterrupt",
     "evalue": "",
     "output_type": "error",
     "traceback": [
      "\u001b[1;31m---------------------------------------------------------------------------\u001b[0m",
      "\u001b[1;31mKeyboardInterrupt\u001b[0m                         Traceback (most recent call last)",
      "\u001b[1;32m~\\AppData\\Local\\Temp/ipykernel_26696/3296281903.py\u001b[0m in \u001b[0;36m<module>\u001b[1;34m\u001b[0m\n\u001b[0;32m      7\u001b[0m     \u001b[0mtime\u001b[0m\u001b[1;33m.\u001b[0m\u001b[0msleep\u001b[0m\u001b[1;33m(\u001b[0m\u001b[0mn_sleep\u001b[0m\u001b[1;33m)\u001b[0m\u001b[1;33m\u001b[0m\u001b[1;33m\u001b[0m\u001b[0m\n\u001b[0;32m      8\u001b[0m     \u001b[0mlog\u001b[0m\u001b[1;33m.\u001b[0m\u001b[0minfo\u001b[0m\u001b[1;33m(\u001b[0m\u001b[0mend\u001b[0m\u001b[1;33m)\u001b[0m\u001b[1;33m\u001b[0m\u001b[1;33m\u001b[0m\u001b[0m\n\u001b[1;32m----> 9\u001b[1;33m     \u001b[0mtime\u001b[0m\u001b[1;33m.\u001b[0m\u001b[0msleep\u001b[0m\u001b[1;33m(\u001b[0m\u001b[0mn_sleep\u001b[0m\u001b[1;33m)\u001b[0m\u001b[1;33m\u001b[0m\u001b[1;33m\u001b[0m\u001b[0m\n\u001b[0m\u001b[0;32m     10\u001b[0m     \u001b[0mlog\u001b[0m\u001b[1;33m.\u001b[0m\u001b[0minfo\u001b[0m\u001b[1;33m(\u001b[0m\u001b[0mchar_log__msg\u001b[0m\u001b[1;33m)\u001b[0m\u001b[1;33m\u001b[0m\u001b[1;33m\u001b[0m\u001b[0m\n\u001b[0;32m     11\u001b[0m \u001b[1;33m\u001b[0m\u001b[0m\n",
      "\u001b[1;31mKeyboardInterrupt\u001b[0m: "
     ]
    }
   ],
   "source": [
    "for i in range(int(n_lgs)):\n",
    "\n",
    "    char_log__msg = f\"{char_counter} chars since start.\"\n",
    "\n",
    "    time.sleep(n_sleep)\n",
    "    log.info(sentence)\n",
    "    time.sleep(n_sleep)\n",
    "    log.info(end)\n",
    "    time.sleep(n_sleep)\n",
    "    log.info(char_log__msg)\n",
    "\n",
    "\n",
    "    char_counter += len_sentence\n",
    "    char_counter += len(char_log__msg)\n",
    "\n",
    "\n"
   ]
  },
  {
   "cell_type": "code",
   "execution_count": 30,
   "metadata": {},
   "outputs": [],
   "source": [
    "char_log__msg = f\"{char_counter} chars since start.\"\n",
    "\n",
    "time.sleep(n_sleep)\n",
    "log.info(sentence)\n",
    "time.sleep(n_sleep)\n",
    "log.info(end)\n",
    "time.sleep(n_sleep)\n",
    "log.info(char_log__msg)\n",
    "\n",
    "\n",
    "char_counter += len_sentence\n",
    "char_counter += len(char_log__msg)"
   ]
  }
 ],
 "metadata": {
  "kernelspec": {
   "display_name": "env",
   "language": "python",
   "name": "python3"
  },
  "language_info": {
   "codemirror_mode": {
    "name": "ipython",
    "version": 3
   },
   "file_extension": ".py",
   "mimetype": "text/x-python",
   "name": "python",
   "nbconvert_exporter": "python",
   "pygments_lexer": "ipython3",
   "version": "3.8.8"
  },
  "orig_nbformat": 4
 },
 "nbformat": 4,
 "nbformat_minor": 2
}
