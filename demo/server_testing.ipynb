{
 "metadata": {
  "language_info": {
   "codemirror_mode": {
    "name": "ipython",
    "version": 3
   },
   "file_extension": ".py",
   "mimetype": "text/x-python",
   "name": "python",
   "nbconvert_exporter": "python",
   "pygments_lexer": "ipython3",
   "version": 3
  },
  "orig_nbformat": 2,
  "kernelspec": {
   "name": "python_defaultSpec_1596191571655",
   "display_name": "Python 3.7.6 64-bit"
  }
 },
 "nbformat": 4,
 "nbformat_minor": 2,
 "cells": [
  {
   "cell_type": "code",
   "execution_count": 1,
   "metadata": {},
   "outputs": [],
   "source": [
    "from pylabnet.network.core.generic_server import GenericServer\n",
    "from pylabnet.network.core.service_base import ServiceBase\n",
    "from pylabnet.network.core.client_base import ClientBase"
   ]
  },
  {
   "cell_type": "code",
   "execution_count": 2,
   "metadata": {},
   "outputs": [],
   "source": [
    "service = ServiceBase()"
   ]
  },
  {
   "cell_type": "code",
   "execution_count": 3,
   "metadata": {},
   "outputs": [],
   "source": [
    "server = GenericServer(\n",
    "    service=service,\n",
    "    port=1234,\n",
    "    host='localhost'\n",
    ")"
   ]
  },
  {
   "cell_type": "code",
   "execution_count": 4,
   "metadata": {},
   "outputs": [],
   "source": [
    "server.start()"
   ]
  },
  {
   "cell_type": "code",
   "execution_count": 5,
   "metadata": {
    "tags": []
   },
   "outputs": [
    {
     "output_type": "stream",
     "name": "stdout",
     "text": "Failed to authenticate the connection.\nPlease check that you have the correct keyfile\nException in thread Thread-5:\nTraceback (most recent call last):\n  File \"C:\\Users\\mbhas\\anaconda3\\lib\\threading.py\", line 926, in _bootstrap_inner\n    self.run()\n  File \"C:\\Users\\mbhas\\anaconda3\\lib\\threading.py\", line 870, in run\n    self._target(*self._args, **self._kwargs)\n  File \"c:\\Users\\mbhas\\pylabnet\\venv\\dev\\lib\\site-packages\\rpyc-4.1.5-py3.7.egg\\rpyc\\utils\\server.py\", line 174, in _authenticate_and_serve_client\n    sock2, credentials = self.authenticator(sock)\n  File \"c:\\Users\\mbhas\\pylabnet\\venv\\dev\\lib\\site-packages\\rpyc-4.1.5-py3.7.egg\\rpyc\\utils\\authenticators.py\", line 85, in __call__\n    sock2 = ssl.wrap_socket(sock, **kwargs)\n  File \"C:\\Users\\mbhas\\anaconda3\\lib\\ssl.py\", line 1238, in wrap_socket\n    suppress_ragged_eofs=suppress_ragged_eofs\n  File \"C:\\Users\\mbhas\\anaconda3\\lib\\ssl.py\", line 423, in wrap_socket\n    session=session\n  File \"C:\\Users\\mbhas\\anaconda3\\lib\\ssl.py\", line 870, in _create\n    self.do_handshake()\n  File \"C:\\Users\\mbhas\\anaconda3\\lib\\ssl.py\", line 1139, in do_handshake\n    self._sslobj.do_handshake()\nOSError: [Errno 0] Error\n\n"
    }
   ],
   "source": [
    "client = ClientBase(\n",
    "    host='localhost',\n",
    "    port=1234,\n",
    "    key='test_key.pem'\n",
    ")"
   ]
  },
  {
   "cell_type": "code",
   "execution_count": null,
   "metadata": {},
   "outputs": [],
   "source": []
  }
 ]
}