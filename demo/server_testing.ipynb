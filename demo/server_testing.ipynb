{
 "metadata": {
  "language_info": {
   "codemirror_mode": {
    "name": "ipython",
    "version": 3
   },
   "file_extension": ".py",
   "mimetype": "text/x-python",
   "name": "python",
   "nbconvert_exporter": "python",
   "pygments_lexer": "ipython3",
   "version": 3
  },
  "orig_nbformat": 2,
  "kernelspec": {
   "name": "python_defaultSpec_1596193859904",
   "display_name": "Python 3.7.6 64-bit"
  }
 },
 "nbformat": 4,
 "nbformat_minor": 2,
 "cells": [
  {
   "cell_type": "code",
   "execution_count": 1,
   "metadata": {},
   "outputs": [],
   "source": [
    "from pylabnet.network.core.generic_server import GenericServer\n",
    "from pylabnet.network.core.service_base import ServiceBase\n",
    "from pylabnet.network.core.client_base import ClientBase"
   ]
  },
  {
   "cell_type": "code",
   "execution_count": 2,
   "metadata": {},
   "outputs": [],
   "source": [
    "service = ServiceBase()"
   ]
  },
  {
   "cell_type": "code",
   "execution_count": 4,
   "metadata": {},
   "outputs": [
    {
     "output_type": "error",
     "ename": "OSError",
     "evalue": "[WinError 10048] Only one usage of each socket address (protocol/network address/port) is normally permitted",
     "traceback": [
      "\u001b[1;31m---------------------------------------------------------------------------\u001b[0m",
      "\u001b[1;31mOSError\u001b[0m                                   Traceback (most recent call last)",
      "\u001b[1;32m<ipython-input-4-43a32111c247>\u001b[0m in \u001b[0;36m<module>\u001b[1;34m\u001b[0m\n\u001b[0;32m      2\u001b[0m     \u001b[0mservice\u001b[0m\u001b[1;33m=\u001b[0m\u001b[0mservice\u001b[0m\u001b[1;33m,\u001b[0m\u001b[1;33m\u001b[0m\u001b[1;33m\u001b[0m\u001b[0m\n\u001b[0;32m      3\u001b[0m     \u001b[0mport\u001b[0m\u001b[1;33m=\u001b[0m\u001b[1;36m1234\u001b[0m\u001b[1;33m,\u001b[0m\u001b[1;33m\u001b[0m\u001b[1;33m\u001b[0m\u001b[0m\n\u001b[1;32m----> 4\u001b[1;33m     \u001b[0mhost\u001b[0m\u001b[1;33m=\u001b[0m\u001b[1;34m'localhost'\u001b[0m\u001b[1;33m\u001b[0m\u001b[1;33m\u001b[0m\u001b[0m\n\u001b[0m\u001b[0;32m      5\u001b[0m )\n",
      "\u001b[1;32mc:\\users\\mbhas\\pylabnet\\pylabnet\\network\\core\\generic_server.py\u001b[0m in \u001b[0;36m__init__\u001b[1;34m(self, service, host, port, key)\u001b[0m\n\u001b[0;32m     66\u001b[0m                 },\n\u001b[0;32m     67\u001b[0m                 authenticator=rpyc.utils.authenticators.SSLAuthenticator(\n\u001b[1;32m---> 68\u001b[1;33m                     \u001b[0mkey\u001b[0m\u001b[1;33m,\u001b[0m \u001b[0mkey\u001b[0m\u001b[1;33m\u001b[0m\u001b[1;33m\u001b[0m\u001b[0m\n\u001b[0m\u001b[0;32m     69\u001b[0m                 )\n\u001b[0;32m     70\u001b[0m             )\n",
      "\u001b[1;32mc:\\Users\\mbhas\\pylabnet\\venv\\dev\\lib\\site-packages\\rpyc-4.1.5-py3.7.egg\\rpyc\\utils\\server.py\u001b[0m in \u001b[0;36m__init__\u001b[1;34m(self, service, hostname, ipv6, port, backlog, reuse_addr, authenticator, registrar, auto_register, protocol_config, logger, listener_timeout, socket_path)\u001b[0m\n\u001b[0;32m     90\u001b[0m                 \u001b[0mself\u001b[0m\u001b[1;33m.\u001b[0m\u001b[0mlistener\u001b[0m\u001b[1;33m.\u001b[0m\u001b[0msetsockopt\u001b[0m\u001b[1;33m(\u001b[0m\u001b[0msocket\u001b[0m\u001b[1;33m.\u001b[0m\u001b[0mSOL_SOCKET\u001b[0m\u001b[1;33m,\u001b[0m \u001b[0msocket\u001b[0m\u001b[1;33m.\u001b[0m\u001b[0mSO_REUSEADDR\u001b[0m\u001b[1;33m,\u001b[0m \u001b[1;36m1\u001b[0m\u001b[1;33m)\u001b[0m\u001b[1;33m\u001b[0m\u001b[1;33m\u001b[0m\u001b[0m\n\u001b[0;32m     91\u001b[0m \u001b[1;33m\u001b[0m\u001b[0m\n\u001b[1;32m---> 92\u001b[1;33m             \u001b[0mself\u001b[0m\u001b[1;33m.\u001b[0m\u001b[0mlistener\u001b[0m\u001b[1;33m.\u001b[0m\u001b[0mbind\u001b[0m\u001b[1;33m(\u001b[0m\u001b[1;33m(\u001b[0m\u001b[0mhostname\u001b[0m\u001b[1;33m,\u001b[0m \u001b[0mport\u001b[0m\u001b[1;33m)\u001b[0m\u001b[1;33m)\u001b[0m\u001b[1;33m\u001b[0m\u001b[1;33m\u001b[0m\u001b[0m\n\u001b[0m\u001b[0;32m     93\u001b[0m             \u001b[0mself\u001b[0m\u001b[1;33m.\u001b[0m\u001b[0mlistener\u001b[0m\u001b[1;33m.\u001b[0m\u001b[0msettimeout\u001b[0m\u001b[1;33m(\u001b[0m\u001b[0mlistener_timeout\u001b[0m\u001b[1;33m)\u001b[0m\u001b[1;33m\u001b[0m\u001b[1;33m\u001b[0m\u001b[0m\n\u001b[0;32m     94\u001b[0m \u001b[1;33m\u001b[0m\u001b[0m\n",
      "\u001b[1;31mOSError\u001b[0m: [WinError 10048] Only one usage of each socket address (protocol/network address/port) is normally permitted"
     ]
    }
   ],
   "source": [
    "server = GenericServer(\n",
    "    service=service,\n",
    "    port=1234,\n",
    "    host='localhost'\n",
    ")"
   ]
  },
  {
   "cell_type": "code",
   "execution_count": 4,
   "metadata": {},
   "outputs": [],
   "source": [
    "server.start()"
   ]
  },
  {
   "cell_type": "code",
   "execution_count": 5,
   "metadata": {
    "tags": []
   },
   "outputs": [
    {
     "output_type": "stream",
     "name": "stdout",
     "text": "Failed to authenticate the connection.\nPlease check that you have the correct keyfile\nException in thread Thread-5:\nTraceback (most recent call last):\n  File \"C:\\Users\\mbhas\\anaconda3\\lib\\threading.py\", line 926, in _bootstrap_inner\n    self.run()\n  File \"C:\\Users\\mbhas\\anaconda3\\lib\\threading.py\", line 870, in run\n    self._target(*self._args, **self._kwargs)\n  File \"c:\\Users\\mbhas\\pylabnet\\venv\\dev\\lib\\site-packages\\rpyc-4.1.5-py3.7.egg\\rpyc\\utils\\server.py\", line 174, in _authenticate_and_serve_client\n    sock2, credentials = self.authenticator(sock)\n  File \"c:\\Users\\mbhas\\pylabnet\\venv\\dev\\lib\\site-packages\\rpyc-4.1.5-py3.7.egg\\rpyc\\utils\\authenticators.py\", line 85, in __call__\n    sock2 = ssl.wrap_socket(sock, **kwargs)\n  File \"C:\\Users\\mbhas\\anaconda3\\lib\\ssl.py\", line 1238, in wrap_socket\n    suppress_ragged_eofs=suppress_ragged_eofs\n  File \"C:\\Users\\mbhas\\anaconda3\\lib\\ssl.py\", line 423, in wrap_socket\n    session=session\n  File \"C:\\Users\\mbhas\\anaconda3\\lib\\ssl.py\", line 870, in _create\n    self.do_handshake()\n  File \"C:\\Users\\mbhas\\anaconda3\\lib\\ssl.py\", line 1139, in do_handshake\n    self._sslobj.do_handshake()\nOSError: [Errno 0] Error\n\n"
    }
   ],
   "source": [
    "client = ClientBase(\n",
    "    host='localhost',\n",
    "    port=1234,\n",
    "    key='test_key.pem'\n",
    ")"
   ]
  },
  {
   "cell_type": "code",
   "execution_count": null,
   "metadata": {},
   "outputs": [],
   "source": []
  }
 ]
}